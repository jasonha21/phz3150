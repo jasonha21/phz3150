{
 "cells": [
  {
   "cell_type": "code",
   "execution_count": 19,
   "id": "e4e92189",
   "metadata": {},
   "outputs": [],
   "source": [
    "def kepler_3rd(period):\n",
    "    a1**3=((period**2)*(1**3)/(1**2))**(1/3)#uses the given period in earth years to calculate the distance in AU using keplers 3rd law equation\n",
    "    return print(\"This planet's orbital distance is \",a1,\" AU.\")"
   ]
  },
  {
   "cell_type": "code",
   "execution_count": null,
   "id": "2e773c1c",
   "metadata": {},
   "outputs": [],
   "source": [
    "def piston(V,P0,V0,T0,gamma)\n",
    "    "
   ]
  }
 ],
 "metadata": {
  "kernelspec": {
   "display_name": "Python 3 (ipykernel)",
   "language": "python",
   "name": "python3"
  },
  "language_info": {
   "codemirror_mode": {
    "name": "ipython",
    "version": 3
   },
   "file_extension": ".py",
   "mimetype": "text/x-python",
   "name": "python",
   "nbconvert_exporter": "python",
   "pygments_lexer": "ipython3",
   "version": "3.7.11"
  }
 },
 "nbformat": 4,
 "nbformat_minor": 5
}
