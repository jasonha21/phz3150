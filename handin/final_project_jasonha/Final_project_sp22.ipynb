{
 "cells": [
  {
   "cell_type": "markdown",
   "id": "65e0c239",
   "metadata": {},
   "source": [
    "# The last ray of sunshine"
   ]
  },
  {
   "cell_type": "markdown",
   "id": "46c11fd4",
   "metadata": {},
   "source": [
    "### You are one of the most renowned investigators in the world. An email arrives asking your help:"
   ]
  },
  {
   "cell_type": "markdown",
   "id": "66cc4fc9",
   "metadata": {},
   "source": [
    "<img src=\"the_email.png\" width=600 height=400 />"
   ]
  },
  {
   "cell_type": "markdown",
   "id": "a454e763",
   "metadata": {},
   "source": [
    "### You book the first ticket to the North of Canada and drive to the far north. The place is desolate and icy. In front of you there is a weird looking cave. You get out of the car and approach the entrance of the cave. Before you know it there is noise behind you and evil Dr. Cane and helpers are charging toward you with their bear cavalry. You get arrested and thrown in a dungeon deep in the cave. \n",
    "\n",
    "\n",
    "<img src=\"evil_dr_storm.png\" width=200 height=200 />\n"
   ]
  },
  {
   "cell_type": "markdown",
   "id": "c4de933e",
   "metadata": {},
   "source": [
    "### A screen lights up and a video starts playing. Dr. Cane appears on the screen laughing his evil laugh."
   ]
  },
  {
   "cell_type": "code",
   "execution_count": 1,
   "id": "97a88712",
   "metadata": {},
   "outputs": [
    {
     "name": "stdout",
     "output_type": "stream",
     "text": [
      "Please give me your name: Jason\n"
     ]
    }
   ],
   "source": [
    "your_name = input('Please give me your name: ')"
   ]
  },
  {
   "cell_type": "code",
   "execution_count": 2,
   "id": "7915b9a5",
   "metadata": {},
   "outputs": [
    {
     "name": "stdout",
     "output_type": "stream",
     "text": [
      "\n",
      " Welcome Jason. You really think that you can save summers from me??? Dr. Cane? Dr. HARRY Cane!? Muahahaha!\n",
      "Just to prove you wrong I left some hints for you around the room.\n",
      "They could help you escape and find my weather machine. But you will never make it on time! Muahahaha!\n",
      "I will release the eternal storms on April 28 at 12pm. Hope you like swimming!\n"
     ]
    }
   ],
   "source": [
    "print('\\n Welcome '+ your_name + \n",
    "      \"\"\". You really think that you can save summers from me??? Dr. Cane? Dr. HARRY Cane!? Muahahaha!\"\"\")\n",
    "print(\"\"\"Just to prove you wrong I left some hints for you around the room.\n",
    "They could help you escape and find my weather machine. But you will never make it on time! Muahahaha!\"\"\")\n",
    "print(\"\"\"I will release the eternal storms on April 28 at 12pm. Hope you like swimming!\"\"\")"
   ]
  },
  {
   "cell_type": "markdown",
   "id": "9739946a",
   "metadata": {},
   "source": [
    "## Problem 1. <br> Looking for a way out ( **10 points** ) "
   ]
  },
  {
   "cell_type": "code",
   "execution_count": 3,
   "id": "41b0a6d6",
   "metadata": {},
   "outputs": [
    {
     "name": "stdout",
     "output_type": "stream",
     "text": [
      "Jason, let's save the summers together. To escape from this \n",
      "      room you will need to use the coding knowledge you got this semester.\n",
      "\n",
      "\n",
      "Don't forget that a good log is part of a successful mission! Start your log please! (3 points)\n",
      "\n",
      "\n",
      "You will need to import the necesary packages to do numerical problems and plot images. Start \n",
      "      by doing all your imports here. (5 points)\n"
     ]
    }
   ],
   "source": [
    "print( your_name + \"\"\", let's save the summers together. To escape from this \n",
    "      room you will need to use the coding knowledge you got this semester.\"\"\")\n",
    "print('\\n')\n",
    "print(\"\"\"Don't forget that a good log is part of a successful mission! Start your log please! (3 points)\"\"\")\n",
    "print('\\n')\n",
    "print(\"\"\"You will need to import the necesary packages to do numerical problems and plot images. Start \n",
    "      by doing all your imports here. (5 points)\"\"\")"
   ]
  },
  {
   "cell_type": "code",
   "execution_count": 4,
   "id": "f2a7d17a",
   "metadata": {},
   "outputs": [],
   "source": [
    "#import your modules here:\n",
    "import numpy as np\n",
    "import matplotlib.pyplot as plt\n",
    "from mpl_toolkits import mplot3d\n",
    "import math"
   ]
  },
  {
   "cell_type": "code",
   "execution_count": 5,
   "id": "f9ca70c9",
   "metadata": {},
   "outputs": [
    {
     "name": "stdout",
     "output_type": "stream",
     "text": [
      "You also need to create an empty list named *key_code* that you will slowly populate \n",
      "with the keys you get as you solve the puzzles (2 points)\n"
     ]
    }
   ],
   "source": [
    "print(\"\"\"You also need to create an empty list named *key_code* that you will slowly populate \n",
    "with the keys you get as you solve the puzzles (2 points)\"\"\")"
   ]
  },
  {
   "cell_type": "code",
   "execution_count": 6,
   "id": "e2a59742",
   "metadata": {},
   "outputs": [],
   "source": [
    "key_code= []"
   ]
  },
  {
   "cell_type": "code",
   "execution_count": 7,
   "id": "e838e4cf",
   "metadata": {},
   "outputs": [
    {
     "name": "stdout",
     "output_type": "stream",
     "text": [
      "Let's find our way out of here! \n"
     ]
    }
   ],
   "source": [
    "print(\"\"\"Let's find our way out of here! \"\"\")"
   ]
  },
  {
   "cell_type": "code",
   "execution_count": null,
   "id": "9212c238",
   "metadata": {},
   "outputs": [],
   "source": []
  },
  {
   "cell_type": "markdown",
   "id": "78112420",
   "metadata": {},
   "source": [
    "### You take a look around the dungeon. \n",
    "<img src=\"the_escape_room.png\" width=500 height=300 />\n",
    "\n",
    "### At the other side you see the door. Next to it there is something that looks like a key pad. The hints that evil Dr. Cane left all around the room are needed to get the code and escape out of this room...\n",
    "\n",
    "<img src=\"the_door.png\" width=300 height=300 />"
   ]
  },
  {
   "cell_type": "markdown",
   "id": "6d5a2f97",
   "metadata": {},
   "source": [
    "### Desks, books, paintings, chests, chairs are all over the place. This room is so full of possible hiding places. Where to start? "
   ]
  },
  {
   "cell_type": "code",
   "execution_count": null,
   "id": "b2ce86f1",
   "metadata": {},
   "outputs": [],
   "source": []
  },
  {
   "cell_type": "markdown",
   "id": "26a1eab8",
   "metadata": {},
   "source": [
    "## Problem 2.   <br> The encrypted note ( **15 points** ) "
   ]
  },
  {
   "cell_type": "markdown",
   "id": "c339c560",
   "metadata": {},
   "source": [
    "### Walking across the dungeon you notice a weird looking painting. It smells of fresh paint. Dr. Cane must have just made this for some reason! You take a closer look. It depicts the dungeon you are in, but it looks slightly different. There is an open book on the floor. At first glance the book contains a weird collection of numbers. What could this mean? You suddenly realize it's a code. \n",
    "\n",
    "- Make a list *message* that contains all the numbers on the note (3 points). \n",
    "- Write a dictionary *letters_to_numbers* that has as keys letters of the alphabet and as values numbers 1 to 26 (5 points). \n",
    "- Make a code that loops over the numbers in the note and uses the dictionary to decode the message (5 points). Print the message out (2 points)."
   ]
  },
  {
   "cell_type": "code",
   "execution_count": 8,
   "id": "75c2774e",
   "metadata": {},
   "outputs": [
    {
     "name": "stdout",
     "output_type": "stream",
     "text": [
      "This is what is written on the book:\n",
      " 20 9 3 11  20 15 3 11 20 9 3 11  20 15 3 11 20 9 13 5 9  19 18 21 14 14 9 14 9 7  15 21 20 \n"
     ]
    }
   ],
   "source": [
    "print( 'This is what is written on the book:')\n",
    "print(\"\"\" 20 9 3 11  20 15 3 11 20 9 3 11  20 15 3 11 20 9 13 5 9  19 18 21 14 14 9 14 9 7  15 21 20 \"\"\")"
   ]
  },
  {
   "cell_type": "code",
   "execution_count": 9,
   "id": "3af471f7",
   "metadata": {},
   "outputs": [],
   "source": [
    "message = [20 ,9, 3, 11,  20, 15,3 ,11,20,9, 3, 11,  20, 15, 3 ,11 ,20,9 ,13,5, 9,  19, 18 ,21, 14, 14 ,9 ,14, 9 ,7,  15, 21, 20]"
   ]
  },
  {
   "cell_type": "code",
   "execution_count": 10,
   "id": "65b6c566",
   "metadata": {},
   "outputs": [
    {
     "name": "stdout",
     "output_type": "stream",
     "text": [
      "['t', 'i', 'c', 'k', 't', 'o', 'c', 'k', 't', 'i', 'c', 'k', 't', 'o', 'c', 'k', 't', 'i', 'm', 'e', 'i', 's', 'r', 'u', 'n', 'n', 'i', 'n', 'i', 'g', 'o', 'u', 't']\n"
     ]
    }
   ],
   "source": [
    "letters_to_numbers = {\n",
    "    'a' : 1,\n",
    "    'b' : 2,\n",
    "    'c' : 3,\n",
    "    'd' : 4,\n",
    "    'e' : 5,\n",
    "    'f' : 6,\n",
    "    'g' : 7,\n",
    "    'h' : 8,\n",
    "    'i' : 9,\n",
    "    'j' : 10,\n",
    "    'k' : 11,\n",
    "    'l' : 12,\n",
    "    'm' : 13,\n",
    "    'n' : 14,\n",
    "    'o' : 15,\n",
    "    'p' : 16,\n",
    "    'q' : 17,\n",
    "    'r' : 18,\n",
    "    's' : 19,\n",
    "    't' : 20,\n",
    "    'u' : 21,\n",
    "    'v' : 22,\n",
    "    'w' : 23,\n",
    "    'x' : 24,\n",
    "    'y' : 25,\n",
    "    'z' : 26,\n",
    "}\n",
    "msg_decoded = []\n",
    "for num in message:\n",
    "    for key in letters_to_numbers:\n",
    "        if num == letters_to_numbers[key]:\n",
    "            msg_decoded.append(key)\n",
    "print(msg_decoded)\n",
    "        "
   ]
  },
  {
   "cell_type": "code",
   "execution_count": null,
   "id": "82a41e13",
   "metadata": {},
   "outputs": [],
   "source": []
  },
  {
   "cell_type": "markdown",
   "id": "fbbccbb7",
   "metadata": {},
   "source": [
    "## Problem 3. <br> The clock on the wall ( 15 points)"
   ]
  },
  {
   "cell_type": "markdown",
   "id": "8368a6e2",
   "metadata": {},
   "source": [
    "### Just as you decode the message a cuckoo clock goes off  somewhere in the room. The time is ticking indeed....You walk toward the clock. It looks old, and has a big mirror at the bottom part. The cuckoo wears glasses?!?! You look around and notice a pair of glasses on the floor that looks exactly like the one the cuckoo wears. Can it be part of the solution? You put the glasses on and look at the clock. There is a secret message painted on the mirror of the clock!"
   ]
  },
  {
   "cell_type": "markdown",
   "id": "2715bee1",
   "metadata": {},
   "source": [
    "- Use your favorite numpy routine to read in the data from 'the_clock_mirror.dat' (3 points) \n",
    "- Make a contour plot using contouring levels 0, 1, 2. (4 points) \n",
    "- Make the plot publication ready. (3 points)\n",
    "\n",
    "- Populate your *key_code* with the number you see on the mirror (2 points).  Print the *key_code* (1 points)."
   ]
  },
  {
   "cell_type": "code",
   "execution_count": 11,
   "id": "7ffd5130",
   "metadata": {},
   "outputs": [
    {
     "data": {
      "text/plain": [
       "Text(0.5, 1.0, 'The clock mirror contour graph')"
      ]
     },
     "execution_count": 11,
     "metadata": {},
     "output_type": "execute_result"
    },
    {
     "data": {
      "image/png": "[encoded data removed]",
      "text/plain": [
       "<Figure size 864x576 with 1 Axes>"
      ]
     },
     "metadata": {
      "needs_background": "light"
     },
     "output_type": "display_data"
    }
   ],
   "source": [
    "the_clock_mirror = np.loadtxt('the_clock_mirror.dat')\n",
    "plt.figure( figsize = ( 12, 8 ) )\n",
    "plt.contour(the_clock_mirror,1,cmap = 'RdYlBu')\n",
    "plt.contour(the_clock_mirror,2,cmap = 'Reds')\n",
    "plt.contour(the_clock_mirror,3,cmap = 'Reds')\n",
    "plt.title('The clock mirror contour graph',size=20)"
   ]
  },
  {
   "cell_type": "code",
   "execution_count": 12,
   "id": "986131de",
   "metadata": {},
   "outputs": [
    {
     "name": "stdout",
     "output_type": "stream",
     "text": [
      "[3]\n"
     ]
    }
   ],
   "source": [
    "key_code.append(3)\n",
    "print(key_code)"
   ]
  },
  {
   "cell_type": "code",
   "execution_count": null,
   "id": "901af42d",
   "metadata": {},
   "outputs": [],
   "source": []
  },
  {
   "cell_type": "markdown",
   "id": "db07d76a",
   "metadata": {},
   "source": [
    "## Problem 4. <br> The wooden chest ( 20 points)"
   ]
  },
  {
   "cell_type": "markdown",
   "id": "e6fbcebf",
   "metadata": {},
   "source": [
    "### You feel excited! You got the first number. However, you have no idea where to look at next...did you miss something? You put on the glasses again and look around. On the opposite wall you see another hidden message written."
   ]
  },
  {
   "cell_type": "markdown",
   "id": "3857f3bd",
   "metadata": {},
   "source": [
    "- Read the data from 'the_secret_message.dat' (1 point) \n",
    "- Make a contour plot using contouring levels 0, 1, 2 and 3. (2 points) \n",
    "- The message is flipped. Use the appropriate plt command to flip the y-axis (2 points)."
   ]
  },
  {
   "cell_type": "code",
   "execution_count": 13,
   "id": "87ba83d9",
   "metadata": {},
   "outputs": [
    {
     "data": {
      "text/plain": [
       "<function matplotlib.pyplot.show(close=None, block=None)>"
      ]
     },
     "execution_count": 13,
     "metadata": {},
     "output_type": "execute_result"
    },
    {
     "data": {
      "image/png": "[encoded data removed]",
      "text/plain": [
       "<Figure size 432x288 with 1 Axes>"
      ]
     },
     "metadata": {
      "needs_background": "light"
     },
     "output_type": "display_data"
    }
   ],
   "source": [
    "the_secret_message=np.loadtxt('the_secret_message.dat')\n",
    "#plt.contour(the_secret_message,0)\n",
    "plt.contour(the_secret_message,1)\n",
    "plt.contour(the_secret_message,2)\n",
    "plt.contour(the_secret_message,3)\n",
    "plt.contour(the_secret_message,4)\n",
    "axis = plt.gca()\n",
    "axis.invert_yaxis()\n",
    "plt.show"
   ]
  },
  {
   "cell_type": "markdown",
   "id": "0318e047",
   "metadata": {},
   "source": [
    "### You look up. There is a big wooden chest on an elevated floor. You go running to the ladder and climb it. You approach the chest and open it. It is full of torn pages from a book. You remove them from the box and see a picture of Dr. Cane laughing his evil laughter. Interestingly, the first page has a hand-written 'muahaha' at the top. Can this be the next clue?"
   ]
  },
  {
   "cell_type": "markdown",
   "id": "00425798",
   "metadata": {},
   "source": [
    "- Write a code that reads the the_torn_book.dat line by line (5 points), and counts how many many times the word 'muahaha' appears in it (5 points). \n",
    "- The code should then print an informative statement to let you know  how many evil laughters it found (2 points). \n",
    "\n",
    "### This is the next number you need for the key pad. \n",
    "- Populate your *key_code* (2 points) and print the current *key_code* out (1 point) !\n",
    "\n",
    "#### Warning: DO NOT change the lower/upper case of the words in the book; you might get a wrong answer!"
   ]
  },
  {
   "cell_type": "code",
   "execution_count": 14,
   "id": "440d78c4",
   "metadata": {
    "scrolled": false
   },
   "outputs": [
    {
     "name": "stdout",
     "output_type": "stream",
     "text": [
      "Dr. Cane laughed in an evil fashion 7 times.\n",
      "[3, 7]\n"
     ]
    }
   ],
   "source": [
    "import io\n",
    "laughcount = 0\n",
    "with io.open('the_torn_book.dat',mode='r',encoding='utf-8') as f:\n",
    "    for line in f:\n",
    "        s = line.split()\n",
    "        for i in s:\n",
    "            if (i==\"muahaha\"):\n",
    "                laughcount = laughcount + 1\n",
    "f.close()\n",
    "print('Dr. Cane laughed in an evil fashion', laughcount, 'times.')\n",
    "key_code.append(laughcount)\n",
    "print(key_code)"
   ]
  },
  {
   "cell_type": "code",
   "execution_count": null,
   "id": "6fb91cd2",
   "metadata": {},
   "outputs": [],
   "source": []
  },
  {
   "cell_type": "code",
   "execution_count": null,
   "id": "a175424b",
   "metadata": {},
   "outputs": [],
   "source": []
  },
  {
   "cell_type": "markdown",
   "id": "72e5cbe0",
   "metadata": {},
   "source": [
    "## Problem 5. <br> But wait, there is more. (15 points)"
   ]
  },
  {
   "cell_type": "markdown",
   "id": "b5c9aa4a",
   "metadata": {},
   "source": [
    "### Dr. Cane left you a message on the last line of the book\n",
    "- Adapt your previous code to print it out (4 points). "
   ]
  },
  {
   "cell_type": "code",
   "execution_count": 15,
   "id": "ab3a4368",
   "metadata": {},
   "outputs": [
    {
     "name": "stdout",
     "output_type": "stream",
     "text": [
      "I love me some math! what is the integer of: Sigma( n= 1 ) / Sigma (n=7 )+ Sigma (n=2) / Sigma(n = 3) ?\n",
      "\n"
     ]
    }
   ],
   "source": [
    "with io.open('the_torn_book.dat',mode='r',encoding='utf-8') as f:\n",
    "    line=f.readlines()\n",
    "print(line[-1])\n",
    "f.close()"
   ]
  },
  {
   "cell_type": "code",
   "execution_count": null,
   "id": "e3569bac",
   "metadata": {},
   "outputs": [],
   "source": []
  },
  {
   "cell_type": "markdown",
   "id": "1fcac140",
   "metadata": {},
   "source": [
    "### What could this mean? You look at the book contents and suddenly it all makes sense! The text is full of numbers. You just need to add the counts of each number equal to one, two, three and seven, and then use the equation Dr. Storm gave you to calculate the next key.\n",
    "\n",
    "- Make a code that reads all the book (2 points) and counts how many 'one's, 'two's,'three's and 'seven's the book has (4 points). \n",
    "- Use these sums in the equation Dr. Cane gave you (2 point). \n",
    "- The integer part is the next number you need for the key pad (1 point).\n",
    "\n",
    "- Populate your *key_code* with this number (1 points).  \n",
    "- Print the *key_code* (1 points)."
   ]
  },
  {
   "cell_type": "code",
   "execution_count": 16,
   "id": "56003593",
   "metadata": {
    "scrolled": false
   },
   "outputs": [
    {
     "name": "stdout",
     "output_type": "stream",
     "text": [
      "124 91 51 19\n"
     ]
    }
   ],
   "source": [
    "onecount = 0\n",
    "twocount = 0\n",
    "threecount = 0\n",
    "sevencount = 0\n",
    "with io.open('the_torn_book.dat',mode='r',encoding='utf-8') as f:\n",
    "    for line in f:\n",
    "        #linenopunctuation = re.sub(\"[^\\w\\s]\", \"\", line)    \n",
    "        #s = linenopunctuation.split()\n",
    "        s = line.split()\n",
    "        for i in s:\n",
    "            if (i==\"one\"):\n",
    "                onecount = onecount + 1\n",
    "            elif (i==\"two\"):\n",
    "                twocount = twocount + 1\n",
    "            elif (i=='three'):\n",
    "                threecount = threecount + 1\n",
    "            elif (i=='seven'):\n",
    "                sevencount = sevencount + 1\n",
    "f.close()\n",
    "print(onecount,twocount,threecount,sevencount)"
   ]
  },
  {
   "cell_type": "code",
   "execution_count": 17,
   "id": "70eb88ad",
   "metadata": {},
   "outputs": [
    {
     "name": "stdout",
     "output_type": "stream",
     "text": [
      "7.931642832571626\n"
     ]
    }
   ],
   "source": [
    "int= sum(1*i for i in range(1, 125)) / sum(7*i for i in range(1, 20)) + sum(2*i for i in range(1, 92)) / sum(3*i for i in range(1, 52)) \n",
    "print(int)"
   ]
  },
  {
   "cell_type": "code",
   "execution_count": 18,
   "id": "a918a45b",
   "metadata": {},
   "outputs": [
    {
     "name": "stdout",
     "output_type": "stream",
     "text": [
      "[3, 7, 8]\n"
     ]
    }
   ],
   "source": [
    "key_code.append(8)\n",
    "print(key_code)"
   ]
  },
  {
   "cell_type": "markdown",
   "id": "6f3ebe6c",
   "metadata": {},
   "source": [
    "## Problem 6 <br> Around, around spins the world (10 points) "
   ]
  },
  {
   "cell_type": "markdown",
   "id": "1d0d9645",
   "metadata": {},
   "source": [
    "### At the bottom of the chest there is a little holographic machine with a big red button. You feel the urge to press it. This ***must*** be the clue about where to look next.\n",
    "\n",
    "- Read data from file the_holograph.dat and assign the three columns to variables x1, y1, z1 (2 points). \n",
    "- Make a 3D scatter plot with your x1,y1,z1 data (5 points). \n",
    "- Save the 3D plot with an appropriate name (2 points).\n",
    "- What does it look like? Where is your next clue in the room? Print an informative statement with your answer. (1 point)"
   ]
  },
  {
   "cell_type": "code",
   "execution_count": 42,
   "id": "6d24b7fd",
   "metadata": {},
   "outputs": [
    {
     "data": {
      "image/png": "[encoded data removed]",
      "text/plain": [
       "<Figure size 432x288 with 1 Axes>"
      ]
     },
     "metadata": {
      "needs_background": "light"
     },
     "output_type": "display_data"
    }
   ],
   "source": [
    "the_holograph = np.loadtxt('the_holograph.dat')\n",
    "x1 = the_holograph[:,0]\n",
    "y1 = the_holograph[:,1]\n",
    "z1 = the_holograph[:,2]\n",
    "fig = plt.figure()\n",
    "ax = plt.axes(projection ='3d')\n",
    "ax.plot3D(x1, y1, z1)\n",
    "plt.savefig( 'Holograph 3D plot', format = 'pdf', \n",
    "            dpi = 1200, bbox_inches = 'tight', pad_inches = 0.3 )\n",
    "plt.show()"
   ]
  },
  {
   "cell_type": "code",
   "execution_count": 20,
   "id": "a7220f82",
   "metadata": {},
   "outputs": [
    {
     "name": "stdout",
     "output_type": "stream",
     "text": [
      "The holograph looks like a tornado or hurricane, my next clue in the room is to look for that.\n"
     ]
    }
   ],
   "source": [
    "print(\"The holograph looks like a tornado or hurricane, my next clue in the room is to look for that.\")"
   ]
  },
  {
   "cell_type": "code",
   "execution_count": null,
   "id": "8e817235",
   "metadata": {},
   "outputs": [],
   "source": []
  },
  {
   "cell_type": "markdown",
   "id": "6c9b8c13",
   "metadata": {},
   "source": [
    "## Problem 7 <br> The puzzles (24 points)"
   ]
  },
  {
   "cell_type": "markdown",
   "id": "1bf5ca39",
   "metadata": {},
   "source": [
    "### You look around the room. There are some nature pictures, but none with a tornado or a hurricane. Nothing makes sense...As you wander around the room you notice something is odd. Vermeer's girl with the pearl earring is odd? You approach and see the girls face is replaced with Dr. Harry Cane's... Can this be it? You turn the painting around and find a paper with two puzzles:"
   ]
  },
  {
   "cell_type": "markdown",
   "id": "6161d41e",
   "metadata": {},
   "source": [
    "### The first puzzle: \n",
    "- The original of this painting was made in what year? Google it! Sum the numbers of the year up. (so if was made in 1111 the answer is 1 + 1+1 +1 = 4) (1 point) \n",
    "- Use the appropriate numpy function to calculate the mean (2 points), median (2 points) and trace (2 points) of the what_is_the_key array (see below). Which one matches your previous sum? \n",
    "- If the mean : u = 2, if the median: u = 9, if the trace: u = 3 (1 point)"
   ]
  },
  {
   "cell_type": "markdown",
   "id": "3f3e6f5b",
   "metadata": {},
   "source": [
    "### The second puzzle:\n",
    "- An alien at Proxima Centauri b looks toward our Sun with their telescope and records a transit (a planet crosses in front of the Sun disk). The planet caused a dip in the light the alien saw of $\\Delta$f=0.007456. The event repeated after 10,740 days. Using Doppler spectroscopy the alien found that the planet causes the Sun to wobble with a velocity semi-amplitude of 2.76m/s. Which planet did the alien see? If Mercury is 1, Venus is 2, this planet is N. \n",
    "\n",
    "    - Find the Radius and Mass of the planet using the information from above and these tips:\n",
    "      - Tip for the transit: you know that $\\Delta$f $\\sim \\frac{R^2_{planet}}{R^2_{star}}$. Use this to find the radius of the planet in km, if you know that the Sun has a radius of 696,000km (5 points)\n",
    "      - Tip for the wobbling: you know that the velocity semi-amplitude is given by $K = \\frac{28.43 [m/s]}{\\sqrt{1-e^2}} \\frac{m_{planet}\\sin i}{m_{Jupiter}}(\\frac{m_{planet}+m_{Sun}}{m_{Sun}})^{-2/3} (\\frac{P}{1 year})^{-1/3}$. Use this to find the mass of the planet. You can assume that e = 0 and sini = 1. Also, note that $m_{planet} << m_{Sun}$ (5 points)\n",
    "      \n",
    "    - Now that you now the Radius, Mass and Period of the planet, compare against this NASA database: https://nssdc.gsfc.nasa.gov/planetary/factsheet/ \n",
    "    - Which is the planet the alien saw? (3 points)\n",
    "    - What is the number N of the planet (if Mercury=1, Venus =2, etc)? Print an informative statement. (1 point)\n",
    "    - Remember that the Moon is *not* a planet!\n",
    "    \n",
    "    \n",
    "### The next key:\n",
    "- What is the number that is equal to N/u ? Populate your *key_code* with the number (1 points).  \n",
    "- Print the *key_code* (1 points)."
   ]
  },
  {
   "cell_type": "code",
   "execution_count": 21,
   "id": "e6ca85eb",
   "metadata": {},
   "outputs": [
    {
     "data": {
      "text/plain": [
       "'The first puzzle'"
      ]
     },
     "execution_count": 21,
     "metadata": {},
     "output_type": "execute_result"
    }
   ],
   "source": [
    "\"\"\"The first puzzle\"\"\""
   ]
  },
  {
   "cell_type": "code",
   "execution_count": 22,
   "id": "14984e71",
   "metadata": {},
   "outputs": [
    {
     "name": "stdout",
     "output_type": "stream",
     "text": [
      "The original painting was painted in 1665, therefore the sum is  18 .\n"
     ]
    }
   ],
   "source": [
    "firstpuzsum = 1 + 6 + 6 + 5\n",
    "print(\"The original painting was painted in 1665, therefore the sum is \",firstpuzsum,'.')"
   ]
  },
  {
   "cell_type": "code",
   "execution_count": 23,
   "id": "1dc49091",
   "metadata": {},
   "outputs": [],
   "source": [
    "what_is_the_key = np.array( ([ 7, 23, 45, 37, -2, 12, 34 ], \n",
    "                         [ 22, 1, 34, 18, 54, 33, 9  ],\n",
    "                         [  8, 19, 2, 42, 32, 2, 17 ],\n",
    "                         [ 98, 9, 14,  2, 12, 33, 7 ], \n",
    "                         [ 12, 10, 4,  54, 2, -8, 7 ],\n",
    "                         [ 77, 22, -2,  24, -8, 3, 7 ],\n",
    "                         [ 122, 33, 3,  3,  4, 33, 1 ] ) )"
   ]
  },
  {
   "cell_type": "code",
   "execution_count": 24,
   "id": "14343e76",
   "metadata": {},
   "outputs": [
    {
     "name": "stdout",
     "output_type": "stream",
     "text": [
      "3\n"
     ]
    }
   ],
   "source": [
    "if np.mean(what_is_the_key) == firstpuzsum:\n",
    "    u = 2\n",
    "elif np.median(what_is_the_key) == firstpuzsum:\n",
    "    u = 9\n",
    "elif np.trace(what_is_the_key) == firstpuzsum:\n",
    "    u=3\n",
    "print(u)"
   ]
  },
  {
   "cell_type": "code",
   "execution_count": 25,
   "id": "07e834b9",
   "metadata": {},
   "outputs": [
    {
     "data": {
      "text/plain": [
       "'The second puzzle'"
      ]
     },
     "execution_count": 25,
     "metadata": {},
     "output_type": "execute_result"
    }
   ],
   "source": [
    "\"\"\"The second puzzle\"\"\""
   ]
  },
  {
   "cell_type": "code",
   "execution_count": 26,
   "id": "3787de82",
   "metadata": {},
   "outputs": [
    {
     "name": "stdout",
     "output_type": "stream",
     "text": [
      "60098.300275465364\n"
     ]
    }
   ],
   "source": [
    "deltaf = 0.007456\n",
    "rstar= 696000\n",
    "rplanet= (deltaf * rstar**2)**(1/2)\n",
    "print(rplanet)"
   ]
  },
  {
   "cell_type": "code",
   "execution_count": null,
   "id": "3008aec5",
   "metadata": {},
   "outputs": [],
   "source": []
  },
  {
   "cell_type": "code",
   "execution_count": null,
   "id": "687c3a05",
   "metadata": {},
   "outputs": [],
   "source": []
  },
  {
   "cell_type": "markdown",
   "id": "86423628",
   "metadata": {},
   "source": [
    "Compared to the Nasa database, the planet has a period of 10740 and a radius of 60098 km which is equal to a diameter of 120196, therefore the planet the alien saw is Saturn."
   ]
  },
  {
   "cell_type": "code",
   "execution_count": 27,
   "id": "342ace0e",
   "metadata": {},
   "outputs": [
    {
     "name": "stdout",
     "output_type": "stream",
     "text": [
      "Saturn is the 6th planet from the sun. So N = 6 while u = 3. Therefore the number is  2.0 .\n"
     ]
    }
   ],
   "source": [
    "N=6\n",
    "print(\"Saturn is the 6th planet from the sun. So N = 6 while u = 3. Therefore the number is \",N/u,'.')"
   ]
  },
  {
   "cell_type": "code",
   "execution_count": 28,
   "id": "d7f6cd49",
   "metadata": {},
   "outputs": [
    {
     "name": "stdout",
     "output_type": "stream",
     "text": [
      "[3, 7, 8, 2]\n"
     ]
    }
   ],
   "source": [
    "key_code.append(2)\n",
    "print(key_code)"
   ]
  },
  {
   "cell_type": "markdown",
   "id": "e3f141cf",
   "metadata": {},
   "source": [
    "## Problem 8. <br> The bug exterminator (15 points)"
   ]
  },
  {
   "cell_type": "markdown",
   "id": "3c8c4e50",
   "metadata": {},
   "source": [
    "On the other side of the room you see a chair in front of a computer. The chair has an 8 scratched on it. This must be where the next clue lies. You walk to the chair and look at the computer screen. There is some code, but it is full of bugs. Does Dr. Cane think that this can stop you?\n",
    "\n",
    "Debug the code to find the next number(s). (8 points)\n",
    "\n",
    "Run the code for wheel radii: r1 = 0.5 m , r2 = 0.8 m, times the cars moved: t1 = 12 s, t2 = 8 s, and wheel rotations of N1 = 8 rotations and N2 = 5 rotations. The integer part of the speed that the code returns is the next part of the key. (2 points)\n",
    "\n",
    "If you get 2 digit speed make a code that will split it in two numbers: e.g., if you get a speed of 42 m/s the code will append to the key a 4, and then a 2. Don't split it manually. (3 points) \n",
    "\n",
    "Populate your key_code with the number(s) (1 points). \n",
    "\n",
    "Print the key_code (1 points)."
   ]
  },
  {
   "cell_type": "code",
   "execution_count": 29,
   "id": "55f18512",
   "metadata": {},
   "outputs": [
    {
     "name": "stdout",
     "output_type": "stream",
     "text": [
      "Give me the first radius please0.5\n",
      "Give me the second radius please0.8\n",
      "How much time did the first car move?12\n",
      "How much time did the second car move?8\n",
      "How many circles did the wheels of car 1 turn?8\n",
      "How many circles did the wheels of car 1 turn?5\n",
      "Car 1 moved further than Car 2\n",
      "Car 1 moved with a speed of:  25.132741228718345 m/s.\n"
     ]
    }
   ],
   "source": [
    "# Code that calculates the distance traveled by a car knowing how much time it moves and\n",
    "# how many rotations its wheels, with a known perimeter, made. \n",
    "# Code then will compare the distance that two cars moved based on the time they move \n",
    "# and their wheels perimeters and tells you which one moved further and for that car \n",
    "# at what speed it moved. \n",
    "\n",
    "\n",
    "\n",
    "# Ask the user for the two radii of the car wheels:\n",
    "\n",
    "radius1 = float(input( 'Give me the first radius please'  ))\n",
    "radius2 = float(input( 'Give me the second radius please' )) #this variable was named radius1\n",
    "\n",
    "# calculate the perimeter of the two wheels:\n",
    "\n",
    "perimeter1 = radius1 * 2 * np.pi # remember to multiply by pi\n",
    "perimeter2 = radius2 * 2 * np.pi\n",
    "\n",
    "# Ask the user for how much time the two cars move:\n",
    "\n",
    "time1 = float(input( 'How much time did the first car move?' ))\n",
    "time2 = float(input( 'How much time did the second car move?' ))\n",
    " \n",
    "    \n",
    "# Ask the user how many full circles did their wheels turnL\n",
    "\n",
    "N1 = float(input( 'How many circles did the wheels of car 1 turn?' ))\n",
    "N2 = float(input( 'How many circles did the wheels of car 1 turn?' ))\n",
    "\n",
    "\n",
    "# Calculate the total distance each car moved:\n",
    "\n",
    "distance1 = N1 * perimeter1 *time1\n",
    "distance2 = N2 * perimeter2 *time2\n",
    "\n",
    "# Compare the two distances and for the one that moved further print which one\n",
    "# it is and what its speed is:\n",
    "\n",
    "if distance1 > distance2:\n",
    "    print( 'Car 1 moved further than Car 2' )\n",
    "    \n",
    "    speed = distance1 / time1\n",
    "    \n",
    "    print( 'Car 1 moved with a speed of: ', speed , 'm/s.' )\n",
    "\n",
    "elif distance2 > distance1:\n",
    "    print( 'Car 2 moved further than Car 1' )\n",
    "    \n",
    "    speed = distance2 / time2\n",
    "    \n",
    "    print( 'Car 2 moved with a speed of: ', speed , 'm/s.' )\n",
    "\n",
    "else:\n",
    "    print( 'Car 1 and two moved an equal distance with Car 1' )\n",
    "    speed1 = distance1 / time1\n",
    "    speed2 = distance2 / time2\n",
    "    \n",
    "    print( 'Car 1 moved with a speed of: ', speed1 , 'm/s' \n",
    "         'and Car 2 moved with a speed of: ', speed2  , 'm/s.')"
   ]
  },
  {
   "cell_type": "code",
   "execution_count": 30,
   "id": "1e06c855",
   "metadata": {},
   "outputs": [
    {
     "name": "stdout",
     "output_type": "stream",
     "text": [
      "[2, 5]\n"
     ]
    }
   ],
   "source": [
    "n = 25\n",
    "import math\n",
    "splitting = [(n//(10**i))%10 for i in range(math.ceil(math.log(n, 10))-1, -1, -1)]\n",
    "print(splitting)"
   ]
  },
  {
   "cell_type": "code",
   "execution_count": 31,
   "id": "5179714d",
   "metadata": {},
   "outputs": [
    {
     "name": "stdout",
     "output_type": "stream",
     "text": [
      "[3, 7, 8, 2, 2, 5]\n"
     ]
    }
   ],
   "source": [
    "key_code.append(splitting[0])\n",
    "key_code.append(splitting[1])\n",
    "print(key_code)"
   ]
  },
  {
   "cell_type": "markdown",
   "id": "b2c017c5",
   "metadata": {},
   "source": [
    "## Problem 9. <br> The model derivation (35 points)"
   ]
  },
  {
   "cell_type": "markdown",
   "id": "afca59e2",
   "metadata": {},
   "source": [
    "### Looking across the room you see a big 9 next to a usb stick. This must be the next thing to look at. You plug the stick into the computer in the room. There is a single file with GPS data: timestamps, distances from some location and GPS errors.  (10 points total)\n",
    "\n",
    "- Get the data from the table and assign them to numpy arrays named gps_time, gps_distance and gps_error. (3 points) \n",
    "- Plot the distance of the object as a function of time making a publication-ready plot *with errorbars*, axis labels and plot title. (5 points)\n",
    "- Use the appropriate python command to store the plot as a pdf. (2 points)"
   ]
  },
  {
   "cell_type": "markdown",
   "id": "43814558",
   "metadata": {},
   "source": [
    "time | distance     | error\n",
    "--|:---------:|:-----------:\n",
    "12.00 | 1137.61    | 45.0\n",
    "12.54 | 1174.34    | 42.1\n",
    "13.07 | 1209.87    | 34.0\n",
    "13.61 | 1244.19    | 44.0\n",
    "14.15 | 1277.31    | 48.0\n",
    "14.68 | 1309.21    | 35.0\n",
    "15.22 | 1339.93    | 25.0\n",
    "15.76 | 1369.39    | 35.0\n",
    "16.29 | 1397.67    | 41.0\n",
    "16.83 | 1424.74    | 42.0\n",
    "17.37 | 1450.61    | 45.0\n",
    "17.90 | 1475.25    | 35.0\n",
    "18.44 | 1498.69    | 45.0\n",
    "18.98 | 1520.90    | 45.0\n",
    "19.51 | 1541.94    | 45.0\n",
    "20.05 | 1561.75    | 45.0\n",
    "20.58 | 1580.35    | 35.0\n",
    "21.12 | 1597.72    | 25.0\n",
    "21.66 | 1613.93    | 15.0\n",
    "22.21 | 1628.91    | 45.0\n",
    "22.73 | 1642.67    | 35.0\n",
    "23.27 | 1655.22    | 25.0\n",
    "23.80 | 1666.57    | 41.0\n",
    "24.34 | 1676.71    | 42.0\n",
    "24.88 | 1685.63    | 45.0\n",
    "25.41 | 1693.35    | 45.0\n",
    "25.95 | 1699.92    | 45.0\n",
    "26.48 | 1705.16    | 45.0\n",
    "27.02 | 1709.25    | 45.0 \n",
    "27.56 | 1712.14    | 45.0\n",
    "28.11 | 1713.81    | 45.0\n",
    "28.63 | 1714.27    | 45.0\n",
    "29.17 | 1713.48    | 45.0\n",
    "29.71 | 1711.57    | 45.0\n",
    "30.24 | 1708.41    | 45.0\n",
    "30.78 | 1704.04    | 45.0\n",
    "31.32 | 1698.45    | 45.0\n",
    "31.85 | 1691.66    | 45.0\n",
    "32.39 | 1683.66    | 45.0\n",
    "32.93 | 1674.44    | 25.0\n",
    "33.46 | 1664.02    | 45.0\n",
    "34.00 | 1652.40    | 15.0"
   ]
  },
  {
   "cell_type": "code",
   "execution_count": 32,
   "id": "ff1e60c5",
   "metadata": {},
   "outputs": [],
   "source": [
    "p9table_array = np.array( ([12.00 , 1137.61    , 45.0],\n",
    "                           [12.54 , 1174.34    , 42.1],\n",
    "                           [13.07 , 1209.87    , 34.0],\n",
    "                           [13.61 , 1244.19    , 44.0],\n",
    "                           [14.15 , 1277.31    , 48.0],\n",
    "                           [14.68 , 1309.21    , 35.0],\n",
    "                           [15.22 , 1339.93    , 25.0],\n",
    "                           [15.76 , 1369.39    , 35.0],\n",
    "                           [16.29 , 1397.67    , 41.0],\n",
    "                           [16.83 , 1424.74    , 42.0],\n",
    "                           [17.37 , 1450.61    , 45.0],\n",
    "                           [17.90 , 1475.25    , 35.0],\n",
    "                           [18.44 , 1498.69    , 45.0],\n",
    "                           [18.98 , 1520.90    , 45.0],\n",
    "                           [19.51 , 1541.94    , 45.0],\n",
    "                           [20.05 , 1561.75    , 45.0],\n",
    "                           [20.58 , 1580.35    , 35.0],\n",
    "                           [21.12 , 1597.72    , 25.0],\n",
    "                           [21.66 , 1613.93    , 15.0],\n",
    "                           [22.21 , 1628.91    , 45.0],\n",
    "                           [22.73 , 1642.67    , 35.0],\n",
    "                           [23.27 , 1655.22    , 25.0],\n",
    "                           [23.80 , 1666.57    , 41.0],\n",
    "                           [24.34 , 1676.71    , 42.0],\n",
    "                           [24.88 , 1685.63    , 45.0],\n",
    "                           [25.41 , 1693.35    , 45.0],\n",
    "                           [25.95 , 1699.92    , 45.0],\n",
    "                           [26.48 , 1705.16    , 45.0],\n",
    "                           [27.02 , 1709.25    , 45.0],\n",
    "                           [27.56 , 1712.14    , 45.0],\n",
    "                           [28.11 , 1713.81    , 45.0],\n",
    "                           [28.63 , 1714.27    , 45.0],\n",
    "                           [29.17 , 1713.48    , 45.0],\n",
    "                           [29.71 , 1711.57    , 45.0],\n",
    "                           [30.24 , 1708.41    , 45.0],\n",
    "                           [30.78 , 1704.04    , 45.0],\n",
    "                           [31.32 , 1698.45    , 45.0],\n",
    "                           [31.85 , 1691.66    , 45.0],\n",
    "                           [32.39 , 1683.66    , 45.0],\n",
    "                           [32.93 , 1674.44    , 25.0],\n",
    "                           [33.46 , 1664.02    , 45.0]) )"
   ]
  },
  {
   "cell_type": "code",
   "execution_count": 33,
   "id": "9d19f815",
   "metadata": {},
   "outputs": [
    {
     "data": {
      "image/png": "[encoded data removed]",
      "text/plain": [
       "<Figure size 864x576 with 1 Axes>"
      ]
     },
     "metadata": {
      "needs_background": "light"
     },
     "output_type": "display_data"
    }
   ],
   "source": [
    "gps_time = p9table_array[:,0]\n",
    "gps_distance = p9table_array[:,1]\n",
    "gps_err= p9table_array[:,2]\n",
    "plt.figure( figsize = (12, 8 ) )\n",
    "plt.scatter( gps_time, gps_distance  )\n",
    "plt.xticks( fontsize = 20 )\n",
    "plt.yticks( fontsize = 20 )\n",
    "plt.errorbar( gps_time, gps_distance, yerr = gps_err)\n",
    "plt.title('GPS time versus distance',size=25)\n",
    "plt.xlabel('Time',size=20)\n",
    "plt.ylabel('Distance',size=20)\n",
    "plt.savefig('GPS Time versus Distance Graph',format='pdf')"
   ]
  },
  {
   "cell_type": "code",
   "execution_count": null,
   "id": "5f0c748c",
   "metadata": {},
   "outputs": [],
   "source": []
  },
  {
   "cell_type": "code",
   "execution_count": null,
   "id": "0ca6243f",
   "metadata": {},
   "outputs": [],
   "source": []
  },
  {
   "cell_type": "markdown",
   "id": "79663d3a",
   "metadata": {},
   "source": [
    "### The model (25 points total):\n",
    "\n",
    "- Use the data to fit a model of the form $s = u * t$  and a model of the form $s = 0.5 * a * t^2 + u_o * t$. Print an informative statement informing the user about which model best describes the data (11 points) and why (3 points)? \n",
    "\n",
    "   - tip: limit your scan of the u parameter in the 0.1 to 150 space for the first model with a step of 2; and the a in the -10 to +10 with a step of 0.1 and u0 in the 0.1 to 140 with a step of 10 for the second model \n",
    "\n",
    "- Is the object moving with a constant speed, or accelerating? (1 point) \n",
    "- What is the speed u or acceleration a of the best-fit model (8 points)?\n",
    "- Populate your *key_code* with the integer part of this number (best-fit speed or best-fit acceleration) (1 points).  \n",
    "- Print the *key_code* (1 points)."
   ]
  },
  {
   "cell_type": "code",
   "execution_count": 34,
   "id": "cc68dfb4",
   "metadata": {},
   "outputs": [
    {
     "name": "stdout",
     "output_type": "stream",
     "text": [
      "The best fit model for the model s = u * t is with u =  70.1  which gives us an r squared value of  2210.9524559698025 .\n",
      "The best fit model for the model 𝑠=0.5∗𝑎∗𝑡^2+𝑢𝑜∗𝑡 is with a =  -4.5000000000000195  and u0 =  124.45555555555555  which gives us a r squared value of 16.023567139309293\n"
     ]
    }
   ],
   "source": [
    "u = np.arange( 0.1, 150, 2 )\n",
    "a = np.arange( -10, 10 ,0.1 )\n",
    "u0 = np.linspace( 0.1, 140 , 10 )\n",
    "r_square1 = np.zeros( len( u ) )\n",
    "r_sq_min1= 10000000000000000000000\n",
    "\n",
    "for i in range( len( u ) ):\n",
    "    s_theory = u[ i ] * gps_time\n",
    "    r_square1[ i ] = np.sum( ( gps_distance - s_theory )**2 / s_theory )\n",
    "    if r_square1[ i ] < r_sq_min1:\n",
    "        r_sq_min1 = r_square1[ i ]\n",
    "        flag_1 = i\n",
    "print(\"The best fit model for the model s = u * t is with u = \", u[flag_1], \" which gives us an r squared value of \",r_sq_min1,'.')\n",
    "r_square2= np.zeros( ( len( a ), len( u0 ) ) )\n",
    "r_sq_min2= 10000000000000000000000\n",
    "for i in range( len ( a ) ):\n",
    "    for j in range( len ( u0 ) ):\n",
    "        s_theory = (0.5 * a[ i ] * (gps_time**2)) + (u0 [ j ] * gps_time)\n",
    "        r_square2[ i, j ] = np.sum( ( gps_distance - s_theory )**2 / s_theory )\n",
    "        if abs(r_square2[ i, j ]) < r_sq_min2:\n",
    "            r_sq_min2 = abs(r_square2[ i, j ])\n",
    "            flag_2 = i\n",
    "            flag_3 = j\n",
    "print(\"The best fit model for the model 𝑠=0.5∗𝑎∗𝑡^2+𝑢𝑜∗𝑡 is with a = \", a[flag_2], \" and u0 = \",u0[flag_3],' which gives us a r squared value of', r_sq_min2)"
   ]
  },
  {
   "cell_type": "markdown",
   "id": "7d1d7ec5",
   "metadata": {},
   "source": [
    "the best model must be the acceleration model, as the least squared error value of the model is much lower than the constant speed model. therefore the a value is about -4.5"
   ]
  },
  {
   "cell_type": "code",
   "execution_count": 35,
   "id": "e49d9c65",
   "metadata": {},
   "outputs": [
    {
     "name": "stdout",
     "output_type": "stream",
     "text": [
      "[3, 7, 8, 2, 2, 5, 4]\n"
     ]
    }
   ],
   "source": [
    "key_code.append(4)\n",
    "print(key_code)"
   ]
  },
  {
   "cell_type": "markdown",
   "id": "147288af",
   "metadata": {},
   "source": [
    "## Problem 10. <br>  The data is the truth (15 points)"
   ]
  },
  {
   "cell_type": "markdown",
   "id": "7ff66adb",
   "metadata": {},
   "source": [
    "### You are getting close to the end. This is getting exciting! Where can the final clue be? You look around. What else is there? Dr. Cane sure has a fascination with nature....On the floor there is a nature painting showing waves and a Sun..But wait! There is something wrong. This is not just a painting. There are numbers across the 'waves'."
   ]
  },
  {
   "cell_type": "markdown",
   "id": "12976e92",
   "metadata": {},
   "source": [
    "- Read in the data from the_data.dat (1 point) \n",
    "  The data contain the numbers you see on the painting. Years and some value associated with them.\n",
    "  \n",
    "- What is the period of the data (i.e., the time it takes to go from one peak to the next)? Make a code that scans the data and checks a window of 6 values at a time. If a value is larger than 3 points before it and 3 points after it, it is stored as a peak.   (12 points)\n",
    "    - Tip: start your scanning from point 3 so that the edge of the window is at point 0\n",
    "\n",
    "\n",
    "- Populate your *key_code* with the number (1 points).  \n",
    "- Print the *key_code* (1 points)."
   ]
  },
  {
   "cell_type": "code",
   "execution_count": 36,
   "id": "f142c0f3",
   "metadata": {},
   "outputs": [],
   "source": [
    "the_data=np.loadtxt('the_data.dat')"
   ]
  },
  {
   "cell_type": "code",
   "execution_count": 37,
   "id": "b7320ef7",
   "metadata": {},
   "outputs": [
    {
     "data": {
      "image/png": "[encoded data removed]",
      "text/plain": [
       "<Figure size 432x288 with 1 Axes>"
      ]
     },
     "metadata": {
      "needs_background": "light"
     },
     "output_type": "display_data"
    }
   ],
   "source": [
    "plt.plot(the_data[:,0],the_data[:,1])\n",
    "years=the_data[:,0]\n",
    "somedata= the_data[:,1]"
   ]
  },
  {
   "cell_type": "code",
   "execution_count": 38,
   "id": "c4356bee",
   "metadata": {},
   "outputs": [
    {
     "name": "stdout",
     "output_type": "stream",
     "text": [
      "5\n"
     ]
    }
   ],
   "source": [
    "peakcount = 0\n",
    "i=3\n",
    "while i < 43:\n",
    "    if somedata[i] > somedata[i-1] and somedata[i] > somedata[i-2] and somedata[i] > somedata[i-3] and somedata[i] > somedata[i+1] and somedata[i] > somedata[i+2] and somedata[i] > somedata[i+3]:\n",
    "        peakcount = peakcount + 1\n",
    "    i = i + 1\n",
    "print(peakcount)"
   ]
  },
  {
   "cell_type": "code",
   "execution_count": 39,
   "id": "7518ba2b",
   "metadata": {},
   "outputs": [
    {
     "name": "stdout",
     "output_type": "stream",
     "text": [
      "[3, 7, 8, 2, 2, 5, 4, 5]\n"
     ]
    }
   ],
   "source": [
    "key_code.append(5)\n",
    "print(key_code)"
   ]
  },
  {
   "cell_type": "markdown",
   "id": "6cdc8982",
   "metadata": {},
   "source": [
    "## Problem 11. <br>  Escape the room! (3 points)\n",
    "\n",
    "### You did it! You have the 8 digits that you need to exit the room! You run to the key pad and enter the code. Did it work? Open the pdf ***summer_saved.pdf*** using the 8 digits you got (no spaces or commas in between). "
   ]
  },
  {
   "cell_type": "markdown",
   "id": "bcd5e95a",
   "metadata": {},
   "source": [
    "It did not work."
   ]
  },
  {
   "cell_type": "markdown",
   "id": "0678abc7",
   "metadata": {},
   "source": [
    "## Problem 12. <br> The final push (10 points)\n",
    "\n",
    "### You run around the cave and see the weather machine! You did it! You quickly open a terminal and access its main code. Dr. Cane is not that smart after all....You delete the running program and stop the eternal hurricane season from ever starting! \n",
    "\n",
    "\n",
    "### Now prepare and submit your homework. Write what you will do to make and submit the zip file into your log. Don’t forget to also commit your finalized log and push it to GitHub. When satisfied, close the log, copy it to your homework directory, and run the commands to make and submit the zip file. Turn the file in on WebCourses."
   ]
  },
  {
   "cell_type": "markdown",
   "id": "9d9f97f4",
   "metadata": {},
   "source": [
    "# Have a great summer!\n",
    "<img src=\"congrats_summer.gif\" width=200 height=200 />"
   ]
  },
  {
   "cell_type": "code",
   "execution_count": null,
   "id": "44b96cdf",
   "metadata": {},
   "outputs": [],
   "source": []
  }
 ],
 "metadata": {
  "kernelspec": {
   "display_name": "Python 3 (ipykernel)",
   "language": "python",
   "name": "python3"
  },
  "language_info": {
   "codemirror_mode": {
    "name": "ipython",
    "version": 3
   },
   "file_extension": ".py",
   "mimetype": "text/x-python",
   "name": "python",
   "nbconvert_exporter": "python",
   "pygments_lexer": "ipython3",
   "version": "3.7.11"
  }
 },
 "nbformat": 4,
 "nbformat_minor": 5
}
