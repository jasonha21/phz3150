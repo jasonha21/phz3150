{
 "cells": [
  {
   "cell_type": "markdown",
   "id": "b6e94c8d",
   "metadata": {},
   "source": [
    "Jason Ha Hw 5 2/10/22"
   ]
  },
  {
   "cell_type": "code",
   "execution_count": 1,
   "id": "433968df",
   "metadata": {},
   "outputs": [],
   "source": [
    "import numpy as np"
   ]
  },
  {
   "cell_type": "markdown",
   "id": "ae1614c3",
   "metadata": {},
   "source": [
    "Problem 2:"
   ]
  },
  {
   "cell_type": "code",
   "execution_count": 43,
   "id": "4df8fd87",
   "metadata": {},
   "outputs": [
    {
     "name": "stdout",
     "output_type": "stream",
     "text": [
      "Problem 2:\n"
     ]
    },
    {
     "data": {
      "text/plain": [
       "[(-5+0j), (-3+0j)]"
      ]
     },
     "execution_count": 43,
     "metadata": {},
     "output_type": "execute_result"
    }
   ],
   "source": [
    "import math\n",
    "#it looks like to use the square root function i have to import cmath\n",
    "a=1\n",
    "b=8\n",
    "c=15\n",
    "def Quadratic_Equation(a,b,c): #We have to use two functions, 1 for root 1 where the discriminant is added and Root 2 where it is subtracted\n",
    "    Root1=(-b-cmath.sqrt((b**2) - (4*a*c)))/(2*a)\n",
    "    Root2=(-b+cmath.sqrt((b**2) - (4*a*c)))/(2*a)\n",
    "    list=[]\n",
    "    list.append(Root1)\n",
    "    list.append(Root2)\n",
    "    return list\n",
    "print('Problem 2:')\n",
    "Quadratic_Equation(1,8,15)\n",
    "    \n",
    "    \n",
    "    "
   ]
  },
  {
   "cell_type": "markdown",
   "id": "5832ea1f",
   "metadata": {},
   "source": [
    "Problem 3"
   ]
  },
  {
   "cell_type": "code",
   "execution_count": 21,
   "id": "fe907120",
   "metadata": {},
   "outputs": [
    {
     "name": "stdout",
     "output_type": "stream",
     "text": [
      "The solution are (-5+0j) and (-3+0j)\n"
     ]
    }
   ],
   "source": [
    "student_h=[5.01,4.10,6.02,5.07,6.11]\n",
    "def ft_to_m_cm"
   ]
  },
  {
   "cell_type": "code",
   "execution_count": null,
   "id": "f8f4853d",
   "metadata": {},
   "outputs": [],
   "source": []
  }
 ],
 "metadata": {
  "kernelspec": {
   "display_name": "Python 3 (ipykernel)",
   "language": "python",
   "name": "python3"
  },
  "language_info": {
   "codemirror_mode": {
    "name": "ipython",
    "version": 3
   },
   "file_extension": ".py",
   "mimetype": "text/x-python",
   "name": "python",
   "nbconvert_exporter": "python",
   "pygments_lexer": "ipython3",
   "version": "3.7.11"
  }
 },
 "nbformat": 4,
 "nbformat_minor": 5
}
