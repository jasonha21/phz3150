{
 "cells": [
  {
   "cell_type": "code",
   "execution_count": 24,
   "id": "e1dc5131",
   "metadata": {
    "scrolled": true
   },
   "outputs": [
    {
     "data": {
      "text/plain": [
       "[<matplotlib.lines.Line2D at 0x196c386f908>]"
      ]
     },
     "execution_count": 24,
     "metadata": {},
     "output_type": "execute_result"
    },
    {
     "data": {
      "image/png": "[encoded data removed]",
      "text/plain": [
       "<Figure size 432x288 with 1 Axes>"
      ]
     },
     "metadata": {
      "needs_background": "light"
     },
     "output_type": "display_data"
    }
   ],
   "source": [
    "import numpy as np\n",
    "import matplotlib.pyplot as plt\n",
    "y1arr= np.zeros(201)\n",
    "y2arr= np.zeros(201)\n",
    "def circle(x,x0,y0,r):\n",
    "    for i in range(0,201):\n",
    "        y1=y0-(((-(x0)**2) + (2*x0*x[i]) + (r**2) - (x[i]**2))**(1/2))\n",
    "        y2=y0+(((-(x0)**2) + (2*x0*x[i]) + (r**2) - (x[i]**2))**(1/2))\n",
    "        y1arr[i]=y1\n",
    "        y2arr[i]=y2\n",
    "    return y1arr,y2arr\n",
    "x= -8.+0.1*np.arange(220)\n",
    "circle(x,2,2,10)\n",
    "plt.plot(x[0:201],y1arr)\n",
    "plt.plot(x[0:201],y2arr)"
   ]
  },
  {
   "cell_type": "code",
   "execution_count": null,
   "id": "a060aa59",
   "metadata": {},
   "outputs": [],
   "source": [
    "y0=2\n",
    "x0=2\n",
    "r=10\n",
    "x=10\n",
    "y1=y0-(((-(x0)**2) + (2*x0*x) + (r**2) - (x**2))**(1/2))\n",
    "print(y1)\n",
    "yarr=[0,0]\n",
    "yarr[1]=y1\n",
    "print(yarr)"
   ]
  },
  {
   "cell_type": "code",
   "execution_count": 23,
   "id": "10ec4b25",
   "metadata": {},
   "outputs": [
    {
     "name": "stdout",
     "output_type": "stream",
     "text": [
      "[ 2  4  5  8 10 12 22 42]\n"
     ]
    }
   ],
   "source": [
    "\n",
    "tempsmallnum=0\n",
    "def order_array(input_array):\n",
    "    for i in range(0,len(input_array)):\n",
    "        for j in range(i+1,len(input_array)):\n",
    "            if(input_array[i]>input_array[j]):\n",
    "                tempsmallnum=input_array[i]\n",
    "                input_array[i]=input_array[j]\n",
    "                input_array[j]=tempsmallnum\n",
    "    return print(input_array)\n",
    "order_array(np.array([4,5,2,10,42,22,8,12]))"
   ]
  },
  {
   "cell_type": "code",
   "execution_count": 13,
   "id": "6b252117",
   "metadata": {},
   "outputs": [
    {
     "name": "stdout",
     "output_type": "stream",
     "text": [
      "[ 2  4  5  8 10 12 22 42]\n"
     ]
    }
   ],
   "source": [
    "input_array=np.array([4,5,2,10,42,22,8,12])\n",
    "for i in range(0,len(input_array)):\n",
    "        for j in range(i+1,len(input_array)):\n",
    "            if(input_array[i]>input_array[j]):\n",
    "                tempsmallnum=input_array[i]\n",
    "                input_array[i]=input_array[j]\n",
    "                input_array[j]=tempsmallnum\n",
    "print(input_array)"
   ]
  },
  {
   "cell_type": "code",
   "execution_count": null,
   "id": "c367284d",
   "metadata": {},
   "outputs": [],
   "source": []
  }
 ],
 "metadata": {
  "kernelspec": {
   "display_name": "Python 3 (ipykernel)",
   "language": "python",
   "name": "python3"
  },
  "language_info": {
   "codemirror_mode": {
    "name": "ipython",
    "version": 3
   },
   "file_extension": ".py",
   "mimetype": "text/x-python",
   "name": "python",
   "nbconvert_exporter": "python",
   "pygments_lexer": "ipython3",
   "version": "3.7.11"
  }
 },
 "nbformat": 4,
 "nbformat_minor": 5
}
