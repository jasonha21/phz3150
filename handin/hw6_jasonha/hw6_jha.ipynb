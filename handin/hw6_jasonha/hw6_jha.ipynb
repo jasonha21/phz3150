{
 "cells": [
  {
   "cell_type": "markdown",
   "id": "3daa02e6",
   "metadata": {},
   "source": [
    "Jason Ha Assignment 6 2/16/22"
   ]
  },
  {
   "cell_type": "markdown",
   "id": "5609d9d7",
   "metadata": {},
   "source": [
    "Problem 2"
   ]
  },
  {
   "cell_type": "code",
   "execution_count": null,
   "id": "83d6aca1",
   "metadata": {},
   "outputs": [],
   "source": []
  }
 ],
 "metadata": {
  "kernelspec": {
   "display_name": "Python 3 (ipykernel)",
   "language": "python",
   "name": "python3"
  },
  "language_info": {
   "codemirror_mode": {
    "name": "ipython",
    "version": 3
   },
   "file_extension": ".py",
   "mimetype": "text/x-python",
   "name": "python",
   "nbconvert_exporter": "python",
   "pygments_lexer": "ipython3",
   "version": "3.7.11"
  }
 },
 "nbformat": 4,
 "nbformat_minor": 5
}
