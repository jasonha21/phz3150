{
 "cells": [
  {
   "cell_type": "markdown",
   "id": "3daa02e6",
   "metadata": {},
   "source": [
    "Jason Ha Assignment 6 2/16/22"
   ]
  },
  {
   "cell_type": "markdown",
   "id": "5609d9d7",
   "metadata": {},
   "source": [
    "Problem 2"
   ]
  },
  {
   "cell_type": "code",
   "execution_count": 2,
   "id": "83d6aca1",
   "metadata": {},
   "outputs": [
    {
     "name": "stdout",
     "output_type": "stream",
     "text": [
      "Problem 2\n"
     ]
    },
    {
     "data": {
      "image/png": "[encoded data removed]",
      "text/plain": [
       "<Figure size 864x720 with 1 Axes>"
      ]
     },
     "metadata": {
      "needs_background": "light"
     },
     "output_type": "display_data"
    }
   ],
   "source": [
    "import numpy as np\n",
    "import matplotlib.pyplot as plt\n",
    "import math\n",
    "x = np.arange(1,100.5,0.5)\n",
    "y= np.log10(x)\n",
    "z= x**(1/2)\n",
    "print('Problem 2')\n",
    "plt.figure(figsize=(12,10))\n",
    "plt.plot( x, y, color='red',ls='--',lw='2',marker='o',markersize='1')\n",
    "plt.plot( x, z, color='blue',ls='-',lw='3',marker='^',markersize='5')\n",
    "plt.yticks( np.arange(1,11))\n",
    "plt.xticks(np.arange(1,111,10))\n",
    "plt.ylabel('Y axis',fontsize=20)\n",
    "plt.xlabel('X axis',fontsize=20)\n",
    "plt.savefig( 'hw6_y(x)z(x)plot.pdf', format = 'pdf', \n",
    "            dpi = 1200, bbox_inches = 'tight', pad_inches = 0.3 )"
   ]
  },
  {
   "cell_type": "markdown",
   "id": "877cf61c",
   "metadata": {},
   "source": [
    "Problem 3"
   ]
  },
  {
   "cell_type": "code",
   "execution_count": 25,
   "id": "43d6ea3a",
   "metadata": {},
   "outputs": [
    {
     "name": "stdout",
     "output_type": "stream",
     "text": [
      "Problem 3\n",
      "[45 24  5 30  3 67 33 60 65 13 82 75 21 77 67  8 86 62 23 70 11 70 21 15\n",
      " 84 51  6 79 78 66  2 93 49 74 23 85 25 38  1 89]\n",
      "[67 60 65 82 75 77 67 86 62 70 70 84 51 79 78 66 93 74 85 89]\n",
      "[45 24  5 30  3 67 33 60 65 13 82 75 21 77 67  8 86 62 23 70 11 70 21 15\n",
      " 84 51  6 79 78 66  2 93 49 74 23 85 25 38  1 89]\n",
      "[75, 21, 77]\n",
      "True 6\n",
      "True 6\n",
      "True 5\n",
      "False\n",
      "False\n",
      "False\n",
      "False\n",
      "True 2\n",
      "True\n",
      "False\n"
     ]
    }
   ],
   "source": [
    "print('Problem 3')\n",
    "q=np.array([45, 24, 5, 30,  3, 67, 33, 60,  \n",
    "65, 13, 82, 75, 21, 77, 67, 8, 86, 62, 23, 70, 11, 70, 21, 15, 84, 51,  6, 79, 78, 66,  2, 93, 49, 74, 23, 85,  \n",
    "25, 38, 1, 89])\n",
    "print(q)\n",
    "print(q[q>50])\n",
    "print(q[(50<q)&q<70])\n",
    "qlist= q.tolist()\n",
    "print(qlist[11:14])\n",
    "qlist[27]=42\n",
    "q_tuple=tuple(q)\n",
    "#q_tuple(21)=44.0 After I confirmed it did not work, I use # to comment it out.\n",
    "\n",
    "word_list=[\"twinkle\",'twinkle','little','star']\n",
    "e='e'#since we are going to be checking the index of e and a i'm using x and y to check for them\n",
    "a='a'\n",
    "if e in word_list[0]: #this if else function checks for the letter e in a specific element of word_list\n",
    "    print('True',word_list[0].index(e)) #index function finds where e is\n",
    "else:\n",
    "        print('False')\n",
    "        \n",
    "if e in word_list[1]:\n",
    "    print('True',word_list[1].index(e))\n",
    "else:\n",
    "        print('False')\n",
    "        \n",
    "if e in word_list[2]:\n",
    "    print('True',word_list[2].index(e))\n",
    "else:\n",
    "        print('False')\n",
    "\n",
    "if e in word_list[3]:\n",
    "    print('True',word_list[3].index(e))\n",
    "else:\n",
    "        print('False')\n",
    "        \n",
    "if a in word_list[0]:\n",
    "    print('True',word_list[0].index(a))\n",
    "else:\n",
    "        print('False')\n",
    "        \n",
    "if a in word_list[1]:\n",
    "    print('True',word_list[1].index(a))\n",
    "else:\n",
    "        print('False')\n",
    "        \n",
    "if a in word_list[2]:\n",
    "    print('True',word_list[2].index(a))\n",
    "else:\n",
    "        print('False')\n",
    "\n",
    "if a in word_list[3]:\n",
    "    print('True',word_list[3].index(a))\n",
    "else:\n",
    "        print('False')\n",
    "        \n",
    "        \n",
    "if 'star' in word_list:\n",
    "    print('True')\n",
    "else:\n",
    "    print('False')\n",
    "if 'bright' in word_list:\n",
    "    print('True')\n",
    "else:\n",
    "    print('False')"
   ]
  },
  {
   "cell_type": "markdown",
   "id": "644e64d7",
   "metadata": {},
   "source": [
    "Assigning a new value to element 28 in q_list works because we're able to use indexing, however the difference between tuples and lists is that tuples are immutable, so assigning a new value did not work for q_tuple."
   ]
  },
  {
   "cell_type": "markdown",
   "id": "7047280b",
   "metadata": {},
   "source": [
    "Problem 4"
   ]
  },
  {
   "cell_type": "code",
   "execution_count": 29,
   "id": "6dc7b416",
   "metadata": {},
   "outputs": [
    {
     "ename": "SyntaxError",
     "evalue": "invalid syntax (Temp/ipykernel_3380/1748806054.py, line 2)",
     "output_type": "error",
     "traceback": [
      "\u001b[1;36m  File \u001b[1;32m\"C:\\Users\\jason\\AppData\\Local\\Temp/ipykernel_3380/1748806054.py\"\u001b[1;36m, line \u001b[1;32m2\u001b[0m\n\u001b[1;33m    dict = {'Zero':0 ,'One':1 , 2: 'Two':2 , 'Three':3 , 'Four':4 , 'Five':5 ,\u001b[0m\n\u001b[1;37m                                        ^\u001b[0m\n\u001b[1;31mSyntaxError\u001b[0m\u001b[1;31m:\u001b[0m invalid syntax\n"
     ]
    }
   ],
   "source": [
    "def word_to_number(x):\n",
    "    dict = {'Zero':0 ,'One':1 , 2: 'Two':2 , 'Three':3 , 'Four':4 , 'Five':5 ,\n",
    "             'Six':6, 7: 'Seven':7, 8: 'Eight':8, 9: 'Nine':9, 10: 'Ten':10,\n",
    "            'Eleven':11, 'Twelve':12, 'Thirteen':13, 'Fourteen':14,\n",
    "             'Fifteen':15, 1'Sixteen':16, 'Seventeen':17, 'Eighteen':18,\n",
    "            'Nineteen':19, 'Twenty':20,}\n",
    "    return word_to_number(x)\n",
    "print(map(word_to_number,'three','seven','twelve','sixteen','nineteen'))"
   ]
  },
  {
   "cell_type": "markdown",
   "id": "85fb0048",
   "metadata": {},
   "source": [
    "couldnt figure out this function"
   ]
  }
 ],
 "metadata": {
  "kernelspec": {
   "display_name": "Python 3 (ipykernel)",
   "language": "python",
   "name": "python3"
  },
  "language_info": {
   "codemirror_mode": {
    "name": "ipython",
    "version": 3
   },
   "file_extension": ".py",
   "mimetype": "text/x-python",
   "name": "python",
   "nbconvert_exporter": "python",
   "pygments_lexer": "ipython3",
   "version": "3.7.11"
  }
 },
 "nbformat": 4,
 "nbformat_minor": 5
}
