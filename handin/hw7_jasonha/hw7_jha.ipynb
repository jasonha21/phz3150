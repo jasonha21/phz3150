{
 "cells": [
  {
   "cell_type": "markdown",
   "id": "c9781bf3",
   "metadata": {},
   "source": [
    "Jason Ha Assignment 7 2/23/22"
   ]
  },
  {
   "cell_type": "code",
   "execution_count": 1,
   "id": "a5ef21ca",
   "metadata": {},
   "outputs": [],
   "source": [
    "import numpy as np"
   ]
  },
  {
   "cell_type": "markdown",
   "id": "6203c267",
   "metadata": {},
   "source": [
    "Problem 2"
   ]
  },
  {
   "cell_type": "code",
   "execution_count": 2,
   "id": "632b82c6",
   "metadata": {},
   "outputs": [
    {
     "name": "stdout",
     "output_type": "stream",
     "text": [
      "Problem 2 : \n",
      "\n",
      "Deleting\n",
      "an\n",
      "item\n",
      "from\n",
      "a\n",
      "list\n",
      "or\n",
      "array\n",
      "while\n",
      "iterating\n",
      "over\n",
      "it\n",
      "is\n",
      "a\n",
      "Python\n",
      "problem\n",
      "that\n",
      "is\n",
      "well\n",
      "known\n",
      "to\n",
      "any\n",
      "experienced\n",
      "software\n",
      "developer\n",
      "experienced\n"
     ]
    }
   ],
   "source": [
    "print('Problem 2 : \\n')\n",
    "sentence= ['Deleting', 'an', 'item', 'from' ,'a' ,'list' ,'or' ,'array' ,'while', 'iterating', 'over', 'it', 'is', 'a', 'Python', 'problem', 'that', 'is', 'well', 'known', 'to', 'any', 'experienced', 'software', 'developer']\n",
    "for word in range(len(sentence)):\n",
    "    print(sentence[word])\n",
    "    \n",
    "temp_lw= ['']\n",
    "for word in range(len(sentence)):\n",
    "    if len(sentence[word])>len(temp_lw):\n",
    "        temp_lw= sentence[word]\n",
    "print(temp_lw)"
   ]
  },
  {
   "cell_type": "code",
   "execution_count": 9,
   "id": "1e278c40",
   "metadata": {},
   "outputs": [
    {
     "name": "stdout",
     "output_type": "stream",
     "text": [
      "developer\n"
     ]
    }
   ],
   "source": [
    "temp_lw= ['']\n",
    "n=0\n",
    "while n <= len(sentence):\n",
    "    if len(sentence[word])>len(temp_lw):\n",
    "        temp_lw= sentence[word]\n",
    "    n=n+1\n",
    "print(temp_lw)"
   ]
  },
  {
   "cell_type": "code",
   "execution_count": null,
   "id": "ef11fd82",
   "metadata": {},
   "outputs": [],
   "source": []
  }
 ],
 "metadata": {
  "kernelspec": {
   "display_name": "Python 3 (ipykernel)",
   "language": "python",
   "name": "python3"
  },
  "language_info": {
   "codemirror_mode": {
    "name": "ipython",
    "version": 3
   },
   "file_extension": ".py",
   "mimetype": "text/x-python",
   "name": "python",
   "nbconvert_exporter": "python",
   "pygments_lexer": "ipython3",
   "version": "3.7.11"
  }
 },
 "nbformat": 4,
 "nbformat_minor": 5
}
