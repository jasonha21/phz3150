{
 "cells": [
  {
   "cell_type": "markdown",
   "id": "c9781bf3",
   "metadata": {},
   "source": [
    "Jason Ha Assignment 7 2/23/22"
   ]
  },
  {
   "cell_type": "code",
   "execution_count": null,
   "id": "a5ef21ca",
   "metadata": {},
   "outputs": [],
   "source": [
    "import numpy as np"
   ]
  }
 ],
 "metadata": {
  "kernelspec": {
   "display_name": "Python 3 (ipykernel)",
   "language": "python",
   "name": "python3"
  },
  "language_info": {
   "codemirror_mode": {
    "name": "ipython",
    "version": 3
   },
   "file_extension": ".py",
   "mimetype": "text/x-python",
   "name": "python",
   "nbconvert_exporter": "python",
   "pygments_lexer": "ipython3",
   "version": "3.7.11"
  }
 },
 "nbformat": 4,
 "nbformat_minor": 5
}
