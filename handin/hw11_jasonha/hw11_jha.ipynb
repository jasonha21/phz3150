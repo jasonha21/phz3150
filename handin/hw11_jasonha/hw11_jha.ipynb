{
 "cells": [
  {
   "cell_type": "markdown",
   "id": "dc3005c3",
   "metadata": {},
   "source": [
    "Jason Ha Hw 11 04/13/22"
   ]
  },
  {
   "cell_type": "markdown",
   "id": "753e11e6",
   "metadata": {},
   "source": [
    "Problem 2 In a lab you measured the dataset y(x) with:\n",
    "x= np.linspace(1,100,40) and\n",
    "y = np.array([ 7.7, 15.82307692, 23.94615385, 32.06923077, 40.19230769, 48.31538462, 56.43846154, 64.56153846, 72.68461538, 80.80769231, 88.93076923, 97.05384615, 105.17692308, 113.3 , 121.42307692, 129.54615385, 137.66923077, 145.79230769, 153.91538462, 162.03846154, 170.16153846, 178.28461538, 186.40769231, 194.53076923, 202.65384615, 210.77692308, 218.9, 227.02307692, 235.14615385, 243.26923077, 251.39230769, 259.51538462, 267.63846154, 275.76153846, 283.88461538, 292.00769231, 300.13076923, 308.25384615, 316.37692308, 324.5]).\n",
    "You know that the best-fit model for this dataset is of the form y_mod = a*x_mod+b, with x_mod = np.linspace(1,100,100), 0.1<a<10 and 0.1<b<15.\n",
    "Create a code that tests different models (so different combinations of a and b) to find the best-fit model for dataset y(x). The code should print the best-fit model parameters a and b with an informative statement."
   ]
  },
  {
   "cell_type": "code",
   "execution_count": 1,
   "id": "27f09257",
   "metadata": {},
   "outputs": [],
   "source": [
    "import numpy as np\n",
    "import matplotlib.pyplot as plt"
   ]
  },
  {
   "cell_type": "code",
   "execution_count": 2,
   "id": "f2b54ab5",
   "metadata": {},
   "outputs": [
    {
     "name": "stdout",
     "output_type": "stream",
     "text": [
      "Problem 2:\n",
      "The best fit model is  y_mod = a*x_mod+b, with a =  3.2 and b = 4.5 .\n"
     ]
    }
   ],
   "source": [
    "x= np.linspace(1, 100, 40)\n",
    "y = np.array([  7.7,  15.82307692,  23.94615385,  32.06923077, \n",
    "40.19230769, 48.31538462, 56.43846154,  64.56153846, \n",
    "72.68461538, 80.80769231,  88.93076923,  97.05384615, \n",
    "105.17692308, 113.3 , 121.42307692, 129.54615385, 137.66923077, \n",
    "145.79230769, 153.91538462, 162.03846154, 170.16153846, \n",
    "178.28461538, 186.40769231, 194.53076923, 202.65384615, \n",
    "210.77692308, 218.9, 227.02307692, 235.14615385, 243.26923077, \n",
    "251.39230769, 259.51538462, 267.63846154, 275.76153846, \n",
    "283.88461538, 292.00769231, 300.13076923, 308.25384615, \n",
    "316.37692308, 324.5])\n",
    "x_mod = np.linspace(1,100,100)\n",
    "a = np.arange( 0.1, 10, 0.1 )\n",
    "b = np.arange( 0.1, 15 , 0.1 )\n",
    "r_sq_min= 100\n",
    "r_square= np.zeros( ( len( a ), len( b ) ) )\n",
    "for i in range( len ( a ) ):\n",
    "    for j in range( len ( b ) ):\n",
    "        y_theory = a [ i ] * x + b [ j ]\n",
    "        r_square[ i, j ] = np.sum( ( y - y_theory)**2 / y_theory)\n",
    "        if r_square [ i, j] < r_sq_min:\n",
    "            r_sq_min = r_square[ i, j]\n",
    "            flag_1 = i\n",
    "            flag_2 = j\n",
    "print(\"Problem 2:\")\n",
    "print(\"The best fit model is  y_mod = a*x_mod+b, with a = \", a[flag_1],'and b =',b[flag_2],\".\")"
   ]
  },
  {
   "cell_type": "markdown",
   "id": "44baf7d5",
   "metadata": {},
   "source": [
    "Problem 3. (35 points total) Let’s practice some function building with Python. \n",
    " \n",
    "a)  (7points) The wind chill factor gives us the temperature feel on a windy day and \n",
    "is given by: 𝑊𝐶 = 35.74 + 0.6215 ∗ 𝑇 − 35.75 ∗ 𝑉!.#$+ 0.4275 ∗ 𝑇 ∗ 𝑉!.#$  (with T \n",
    "in Fahrenheit and V in mph]. Create a function wind_chill that takes as input \n",
    "the actual temperature on a given day and the wind speed and returns the wind \n",
    "chill temperature. Run it for a day with T = 20F and V = 55mph and print the \n",
    "result with an informative statement.  \n",
    " \n",
    "b)  (8 points) The parallax of a star is defined as the apparent displacement of a \n",
    "star on the sky in the course of a half year due to the Earth’s motion around the \n",
    "Sun. Using simple trigonometry you can show that π~ 1/𝑑, where 𝜋 is the \n",
    "parallax in arcseconds and d is the distance of the star to the Earth in pc. Create \n",
    "a function parallax_to_distance that takes as input a dictionary with \n",
    "information on stars observed (their name and their parallax) and returns a \n",
    "dictionary with the names of the stars and their distances from Earth. Call the \n",
    "function for a dictionary containing the following observations: \n",
    " \n",
    "Name of star  Parallax (in milliarcsec) \n",
    "Betelgeuse  7.63 \n",
    "Antares  5.89 \n",
    "Spica  13.06 \n",
    "Proxima Cen  768 \n",
    "  \n",
    " \n",
    " \n",
    "c)  (10 points) Make a function lists_to_dict that takes as input two lists and \n",
    "combines them in a dictionary. The lists could be either containing strings or \n",
    "numbers, but they will be homogeneous (i.e., if the first element is a string all \n",
    "elements of the list will be strings). Your function should check which of the input \n",
    "lists contains the keywords for the dictionary (i.e., which list has the strings; don’t \n",
    "assume list1 or list2 will be one kind or another) and use that as keywords and \n",
    "use the other list as the values. The function should then return the dictionary. \n",
    "Call the function for the following pairs: \n",
    "-  List_1 = [ 1, 3, 5, 10, 12, 14]   & List_2 = [ ‘watermelon’, ‘melon’, ‘apple’, \n",
    "‘strawberries’, ‘cherries’, ‘oranges’ ] \n",
    "-  List_1 = [ ‘cars’, ‘motorcycles’, ‘bikes’, ‘skateboards’] & List_2 = [ 200, 150, \n",
    "10, 67 ] \n",
    " \n",
    "d)  (10 points) Make a function matrix_mult that takes as input two matrices and \n",
    "multiplies them, if possible. The function should first check if the matrices can be \n",
    "multiplied (i.e., are their dimensions compatible?). If not, the function should give \n",
    "an error message with information about the dimensions of the matrices. If the \n",
    "matrices can be multiplied the function should proceed to do the matrix \n",
    "multiplication (you need to this manually, don’t use numpy functions like matmul!) \n",
    "and return the matrix product of the two matrices. Call matrix_mult for: \n",
    "A1 = np.array( [ [1, 2, 3 ],   [4, 5, 6] ])  & A2 = np.array( [ [2, 3] ,  [2 , 2 ] ] ) ;  \n",
    "B1 = np.array( [ [1, 0], [0, 1] ]) & B2 = np.array( [ [4, 1], [ 2,1 ] ] ) and \n",
    "C1 = np.array( [ [1, 0, 3], [0, 1, 4], [2, 1 , 8] ]) & C2 = np.array( [4, 1 , 5] ) "
   ]
  },
  {
   "cell_type": "code",
   "execution_count": 3,
   "id": "b7491602",
   "metadata": {},
   "outputs": [
    {
     "name": "stdout",
     "output_type": "stream",
     "text": [
      "Problem 3 a:\n",
      "The wind chill is  -3.4748397706315757  today.\n"
     ]
    }
   ],
   "source": [
    "print(\"Problem 3 a:\")\n",
    "def wind_chill(T,V):\n",
    "    WC=35.74 + (0.6215 * T) - (35.75 * V**0.16) + (0.4275 * T * V**0.16)\n",
    "    return print(\"The wind chill is \",WC,' today.')\n",
    "wind_chill(20,55)"
   ]
  },
  {
   "cell_type": "code",
   "execution_count": 4,
   "id": "46790209",
   "metadata": {},
   "outputs": [
    {
     "name": "stdout",
     "output_type": "stream",
     "text": [
      "Problem 3 b:\n",
      "{'Betelgeuse': 0.1310615989515072, 'Antares': 0.16977928692699493, 'Spica': 0.07656967840735068, 'Proxima_Cen': 0.0013020833333333333}\n"
     ]
    }
   ],
   "source": [
    "print(\"Problem 3 b:\")\n",
    "stars = {\n",
    "    \"Betelgeuse\":7.63 ,\n",
    "    \"Antares\":5.89 ,\n",
    "    \"Spica\":13.06 ,\n",
    "    \"Proxima_Cen\":768 ,\n",
    "}\n",
    "def parallax_to_distance(dict):\n",
    "    dis_dict = dict\n",
    "    for key in dis_dict:#iterates through each key\n",
    "        dis_dict[key] = 1 / dis_dict[key] #does the simple math based on the formula provided, pi = 1/d\n",
    "    return print(dis_dict)\n",
    "\n",
    "parallax_to_distance(stars)"
   ]
  },
  {
   "cell_type": "code",
   "execution_count": 5,
   "id": "62964332",
   "metadata": {},
   "outputs": [
    {
     "name": "stdout",
     "output_type": "stream",
     "text": [
      "Problem 3 c:\n",
      "{'watermelon': 1, 'melon': 3, 'apple': 5, 'strawberries': 10, 'cherries': 12, 'oranges': 14}\n",
      "{'cars': 200, 'motorcycles': 150, 'bikes': 10, 'skateboards': 67}\n"
     ]
    }
   ],
   "source": [
    "print(\"Problem 3 c:\")\n",
    "def lists_to_dict(list1,list2):\n",
    "    dict={}\n",
    "    if type(list2[0]) == int: #checks to see if the second list contains integers, if it does then list 1 has strings\n",
    "        for key in list1:\n",
    "            for value in list2:\n",
    "                dict[key]= value #gives the blank dictionary dict the keys with the strings from list1 and values of list2\n",
    "                list2.remove(value)\n",
    "                break\n",
    "    else: #if the second list had no integer then it contains the strings\n",
    "        for key in list2:\n",
    "            for value in list1:\n",
    "                dict[key]= value\n",
    "                list1.remove(value)\n",
    "                break\n",
    "    return dict\n",
    "List1 = [ 1, 3, 5, 10, 12, 14]\n",
    "List2 = [ \"watermelon\", \"melon\", \"apple\", \n",
    "\"strawberries\", \"cherries\", \"oranges\" ]\n",
    "print(lists_to_dict(List1,List2))\n",
    "List1 = [ \"cars\", \"motorcycles\", \"bikes\", \"skateboards\"]\n",
    "List2 = [ 200, 150, 10, 67 ]\n",
    "print(lists_to_dict(List1,List2))"
   ]
  },
  {
   "cell_type": "code",
   "execution_count": 6,
   "id": "95678125",
   "metadata": {},
   "outputs": [
    {
     "name": "stdout",
     "output_type": "stream",
     "text": [
      "Problem 3 d:\n",
      "These matrices can't be multiplied! The dimensions of the first matrix are  (2, 3) while the dimensions of the second matrix are (2, 2) .\n",
      "[[4. 0.]\n",
      " [0. 1.]]\n",
      "These matrices can't be multiplied! The dimensions of the first matrix are  (3, 3) while the dimensions of the second matrix are (3,) .\n"
     ]
    }
   ],
   "source": [
    "print(\"Problem 3 d:\")\n",
    "def matrix_mult(mat1,mat2):\n",
    "    matmult=np.zeros((len(mat1),len(mat1[0]))) #makes blank array with the same dimensions\n",
    "    if mat1.shape == mat2.shape: #checks to see if dimensions are compatible\n",
    "        for i in range(len(mat1)):\n",
    "            for j in range(len(mat1[0])) :\n",
    "                matmult[i][j] = mat1[i][j] * mat2[i][j] #does the matrix multiplication if they are\n",
    "        return print(matmult)\n",
    "    else:#returns informative statement if shape is not the same\n",
    "        print(\"These matrices can't be multiplied! The dimensions of the first matrix are \",mat1.shape,\"while the dimensions of the second matrix are\",mat2.shape,\".\")\n",
    "A1 = np.array( [ [1, 2, 3 ],   [4, 5, 6] ])\n",
    "A2 = np.array( [ [2, 3] ,  [2 , 2 ] ] )\n",
    "B1 = np.array( [ [1, 0], [0, 1] ])\n",
    "B2 = np.array( [ [4, 1], [ 2,1 ] ] )\n",
    "C1 = np.array( [ [1, 0, 3], [0, 1, 4], [2, 1 , 8] ])\n",
    "C2 = np.array( [4, 1 , 5] )\n",
    "matrix_mult(A1,A2)\n",
    "matrix_mult(B1,B2) # i did the multiplication myself on paper so this works\n",
    "matrix_mult(C1,C2)"
   ]
  }
 ],
 "metadata": {
  "kernelspec": {
   "display_name": "Python 3 (ipykernel)",
   "language": "python",
   "name": "python3"
  },
  "language_info": {
   "codemirror_mode": {
    "name": "ipython",
    "version": 3
   },
   "file_extension": ".py",
   "mimetype": "text/x-python",
   "name": "python",
   "nbconvert_exporter": "python",
   "pygments_lexer": "ipython3",
   "version": "3.7.11"
  }
 },
 "nbformat": 4,
 "nbformat_minor": 5
}
