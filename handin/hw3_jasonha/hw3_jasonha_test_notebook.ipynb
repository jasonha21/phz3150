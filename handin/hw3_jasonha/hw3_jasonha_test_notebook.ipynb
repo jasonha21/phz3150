{
 "cells": [
  {
   "cell_type": "markdown",
   "id": "8188e74e",
   "metadata": {},
   "source": [
    " This is my practice notebook for the phz3150 class I am taking. This will be submitted for hw3."
   ]
  },
  {
   "cell_type": "code",
   "execution_count": 1,
   "id": "3792a2dd",
   "metadata": {},
   "outputs": [
    {
     "name": "stdout",
     "output_type": "stream",
     "text": [
      "1000\n",
      "90\n"
     ]
    }
   ],
   "source": [
    "x = 10\n",
    "y = 100\n",
    "z = x*y\n",
    "w = y - x\n",
    "print(z)\n",
    "print(w)"
   ]
  },
  {
   "cell_type": "code",
   "execution_count": 2,
   "id": "4091a5db",
   "metadata": {},
   "outputs": [],
   "source": [
    "min = 3\n",
    "#min is not a good name for a variable because min can look like it represents the word minimum, which I believe is already used in python."
   ]
  },
  {
   "cell_type": "code",
   "execution_count": 3,
   "id": "8dafa5ce",
   "metadata": {},
   "outputs": [
    {
     "name": "stdout",
     "output_type": "stream",
     "text": [
      "1\n"
     ]
    }
   ],
   "source": [
    "q=1\n",
    "print(q)"
   ]
  },
  {
   "cell_type": "code",
   "execution_count": 5,
   "id": "f7bd8c61",
   "metadata": {},
   "outputs": [
    {
     "name": "stdout",
     "output_type": "stream",
     "text": [
      "2\n",
      "20\n"
     ]
    }
   ],
   "source": [
    "q=2\n",
    "print(q)\n",
    "j=q*10\n",
    "print(j)"
   ]
  },
  {
   "cell_type": "code",
   "execution_count": null,
   "id": "b7fc7319",
   "metadata": {},
   "outputs": [],
   "source": []
  }
 ],
 "metadata": {
  "kernelspec": {
   "display_name": "Python 3 (ipykernel)",
   "language": "python",
   "name": "python3"
  },
  "language_info": {
   "codemirror_mode": {
    "name": "ipython",
    "version": 3
   },
   "file_extension": ".py",
   "mimetype": "text/x-python",
   "name": "python",
   "nbconvert_exporter": "python",
   "pygments_lexer": "ipython3",
   "version": "3.7.11"
  }
 },
 "nbformat": 4,
 "nbformat_minor": 5
}
