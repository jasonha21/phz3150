{
 "cells": [
  {
   "cell_type": "markdown",
   "id": "04958057",
   "metadata": {},
   "source": [
    " Jason Ha Hw4 2/3/22"
   ]
  },
  {
   "cell_type": "markdown",
   "id": "7611f031",
   "metadata": {},
   "source": [
    "Problem 2: We have a body of mass m (kg). When a force F (N) acts on it, \n",
    "according to Newton’s second law, the body will get an acceleration a (m/s2). \n",
    "Remember that F=ma. Write an expression that calculates F for the following mass and \n",
    "acceleration pairs: \n",
    "m  [kg] a  [m/s2] \n",
    "10   5  \n",
    "15   10  \n",
    "20   5  \n",
    "40   3  \n",
    " \n",
    "Then, make a function force_to_acceleration that calculates the acceleration of a \n",
    "body of mass m[kg] when a force F[N] is applied on it. Remember to use a good \n",
    "docstring! Calculate the acceleration of a body of mass 150kg when forces  F of 100, \n",
    "22 and 450 (N) are applied to it. "
   ]
  },
  {
   "cell_type": "code",
   "execution_count": 10,
   "id": "c289e577",
   "metadata": {},
   "outputs": [
    {
     "name": "stdout",
     "output_type": "stream",
     "text": [
      "Problem 2\n",
      "[ 50 150 100 120]\n",
      "[0.66666667 0.14666667 3.        ]\n"
     ]
    }
   ],
   "source": [
    "print('Problem 2')\n",
    "import numpy as np\n",
    "#I figured this would make it easier to do the math using an array\n",
    "m = np.array([ 10, 15, 20, 40])\n",
    "a = np.array([ 5, 10, 5, 3])\n",
    "F = m*a\n",
    "print(F)\n",
    "F = np.array([100, 22, 450])\n",
    "m = np.array([150, 150, 150])\n",
    "force_to_acceleration= F/m\n",
    "print(force_to_acceleration)"
   ]
  },
  {
   "cell_type": "markdown",
   "id": "d48020e6",
   "metadata": {},
   "source": [
    "Problem 3\n",
    "The acceleration of a body can be approximated by the ratio of \n",
    "the change of a body’s speed (u2-u1) over a time span (t1-t1) as: a=(u2-u1)/(t2-t1).  \n",
    "Write a function called acceleration(u1,u2,t1,t2) that takes the different \n",
    "speeds (u1,u2) of a body at times t1 and t2 and calculates the acceleration of the body. \n",
    "Save it in a separate file, not your main homework file. Remember to start the function \n",
    "with a good docstring.  In your main homework file, import the function and calculate the \n",
    "acceleration of a body for the following times and speeds\n",
    "t1 [ s ] t2 [ s ] u1 [ m/s ] u2 [ m/s ] \n",
    "0 2 10 13 \n",
    "10 14 15 30 \n",
    "14 16 32 36 \n",
    "28 32 42 20 \n",
    "0 10 20 22 \n",
    "Calculate these numbers some other way to check that they are correct (in general, \n",
    "always check your code in this way). State in comments how you checked (calculator, \n",
    "web site, etc.). Name 2 test cases you could use to verify the code works as it should. "
   ]
  },
  {
   "cell_type": "markdown",
   "id": "c9cab784",
   "metadata": {},
   "source": [
    "Problem 4\n",
    "Create a list velocity with numbers starting from 0 to 100   \n",
    "with a step of 10. Print it.  \n",
    "Create a list time with numbers from 0 to 1000 with a step of 100. Print it. Print the 3rd \n",
    "up to and including the 5th element, and the 8th velocity element.  \n",
    " \n",
    "Using the acceleration function you created above, call the function and calculate the   \n",
    "acceleration of a target for each of these velocity pairs (so the 3rd-4th, 4th-5th, 5th-8th \n",
    "element), using the corresponding times. Remember that Python starts counting from 0! \n",
    "Change the 5th element of velocity to 90 and print velocity. Does it work? Why/ why \n",
    "not? "
   ]
  },
  {
   "cell_type": "code",
   "execution_count": null,
   "id": "f2ab59fe",
   "metadata": {},
   "outputs": [],
   "source": []
  }
 ],
 "metadata": {
  "kernelspec": {
   "display_name": "Python 3 (ipykernel)",
   "language": "python",
   "name": "python3"
  },
  "language_info": {
   "codemirror_mode": {
    "name": "ipython",
    "version": 3
   },
   "file_extension": ".py",
   "mimetype": "text/x-python",
   "name": "python",
   "nbconvert_exporter": "python",
   "pygments_lexer": "ipython3",
   "version": "3.7.11"
  }
 },
 "nbformat": 4,
 "nbformat_minor": 5
}
