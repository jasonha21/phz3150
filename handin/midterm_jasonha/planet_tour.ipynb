{
 "cells": [
  {
   "cell_type": "code",
   "execution_count": 17,
   "id": "29632661",
   "metadata": {},
   "outputs": [],
   "source": [
    "import numpy as np\n",
    "import math\n",
    "#planets_and_moons=['Mercury','Venus','Earth','Moon','Ceres','Mars','Jupiter','Io','Europa','Saturn','Titan','Neptune','Pluto','Charon']\n",
    "def planet_tour(tour,start_location,destination_location):\n",
    "    planets_and_moons=['Mercury','Venus','Earth','Moon','Ceres','Mars','Jupiter','Io','Europa','Saturn','Titan','Neptune','Pluto','Charon']\n",
    "    space_distances_date1 = np.loadtxt('solar_system_date_1.dat')\n",
    "    space_distances_date2 = np.loadtxt('solar_system_date_2.dat')\n",
    "    space_distances_date3 = np.loadtxt('solar_system_date_3.dat')\n",
    "    start_body_i= planets_and_moons.index(start_location)#returns the index of the start location in the list\n",
    "    destination_body_i= planets_and_moons.index(destination_location) #returns the index of the destination in the list\n",
    "    if tour=='N' or 'No':\n",
    "        d=space_distances_date1[start_body_i][destination_body_i] #returns the distance from the data file using the index of the start and end location for date 1\n",
    "        date=1\n",
    "        if d>space_distances_date2[start_body_i][destination_body_i]:\n",
    "            d=space_distances_date2[start_body_i][destination_body_i]\n",
    "        date=2\n",
    "        if d>space_distances_date3[start_body_i][destination_body_i]:\n",
    "            d=space_distances_date3[start_body_i][destination_body_i]\n",
    "        date=3\n",
    "        r=0.001 #the constant for the rate of travel\n",
    "        t=d/r #time in hours because rate/speed is in au per hour\n",
    "        travel_time_years=int( t/8760 ) #returns an integer value for the time in years\n",
    "        travel_time_days= int((( (t/8760) - travel_time_years)*365)) #returns integer value for the time in days without counting the years\n",
    "        travel_time_hours=int(( (( (t/8760) - travel_time_years)*365) - travel_time_days)*24) #returns integer value for hours without counting the years and days\n",
    "        travel_time_minutes=int(((( (( (t/8760) - travel_time_years)*365) - travel_time_days)*24)-travel_time_hours)*60) #returns the value for time in minutes without counting the years, days, and hours\n",
    "        num_of_stops=math.ceil((d/0.6500)-1)#minus 1 because the ship starts full of fuel\n",
    "        stop_distances= 0.6500 * np.arange(1,200)#I make it stop at 130 to accomodate 200 stops, a ballpark figure I made up for how many elements I thought I'd need\n",
    "        stops=stop_distances[0:num_of_stops] #splices the array to only be the values we need to write later\n",
    "        f=open('message_to_stations.txt', 'w')\n",
    "        f.write('My trip starts at '+ start_location +' and ends at '+ destination_location +'. I will need to encounter stations for a refueling at the distances ')\n",
    "        for stop in range(len(stops)):\n",
    "            f=open('message_to_stations.txt', 'a')\n",
    "            f.write(str(stops[stop])+'AU, ')\n",
    "        f.close()\n",
    "        print('You will travel a distance of ',d,'AU on date',date,'. Your trip will take',travel_time_years, 'years',travel_time_days,'days',travel_time_hours,'hours',travel_time_minutes,'mins. We will need to make', num_of_stops,'stops to refuel.')\n",
    "    elif tour=='Y' or 'Yes':\n",
    "        d1=space_distances_date1[start_body_i][destination_body_i] #returns the distance from the data file using the index of the start and end location for date 1\n",
    "        for tour_stop in range(len(space_distances_date1)):\n",
    "            stop1n=planets_and_moons[0]\n",
    "            if space_distances_date1[start_body_i][tour_stop]>space_distances_date1[start_body_i][tour_stop + 1]:#compares the distance from i element in the row to the one next to it to eventually get the smallest one\n",
    "                stop1=space_distances_date1[start_body_i][tour_stop + 1]\n",
    "                stop1n=planets_and_moons[tour_stop] #gets the name of the planet the current stop is at\n",
    "        t1=d1 + stop1#adds the distance from the start to end with the stop to get a total distance for the tour\n",
    "        d2=space_distances_date2[start_body_i][destination_body_i] #returns the distance from the data file using the index of the start and end location for date 2\n",
    "        for tour_stop in range(len(space_distances_date2)):\n",
    "            if space_distances_date2[start_body_i][tour_stop]>space_distances_date2[start_body_i][tour_stop + 1]:\n",
    "                stop2=space_distances_date2[start_body_i][tour_stop + 1]\n",
    "        t2=d2 + stop2\n",
    "        d3=space_distances_date3[start_body_i][destination_body_i] #returns the distance from the data file using the index of the start and end location for date 3\n",
    "        for tour_stop in range(len(space_distances_date3)):\n",
    "            if space_distances_date3[start_body_i][tour_stop]>space_distances_date3[start_body_i][tour_stop + 1]:\n",
    "                stop3=space_distances_date3[start_body_i][tour_stop + 1]\n",
    "        t3=d3 + stop3\n",
    "        print('You can make a stop at', stop1n , 'on date 1 which will add a distance of',stop1,'a stop at on date 2 which will add a distance of',stop2,'or a stop at on date 3, which will add a distance of',stop3)\n",
    "    return print('Done')"
   ]
  },
  {
   "cell_type": "code",
   "execution_count": 18,
   "id": "f689da6d",
   "metadata": {},
   "outputs": [
    {
     "name": "stdout",
     "output_type": "stream",
     "text": [
      "You will travel a distance of  4.1647 AU on date 3 . Your trip will take 0 years 173 days 12 hours 42 mins. We will need to make 6 stops to refuel.\n",
      "Done\n"
     ]
    }
   ],
   "source": [
    "planet_tour('Yes','Mars','Ceres')"
   ]
  }
 ],
 "metadata": {
  "kernelspec": {
   "display_name": "Python 3 (ipykernel)",
   "language": "python",
   "name": "python3"
  },
  "language_info": {
   "codemirror_mode": {
    "name": "ipython",
    "version": 3
   },
   "file_extension": ".py",
   "mimetype": "text/x-python",
   "name": "python",
   "nbconvert_exporter": "python",
   "pygments_lexer": "ipython3",
   "version": "3.7.11"
  }
 },
 "nbformat": 4,
 "nbformat_minor": 5
}
