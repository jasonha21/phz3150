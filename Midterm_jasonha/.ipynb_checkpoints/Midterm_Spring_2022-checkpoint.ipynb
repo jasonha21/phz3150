{
 "cells": [
  {
   "cell_type": "markdown",
   "id": "78ef7241",
   "metadata": {},
   "source": [
    "# The Grand Tour  "
   ]
  },
  {
   "cell_type": "markdown",
   "id": "33bb7242",
   "metadata": {},
   "source": [
    "### The year is 2340. Human kind has colonized the whole Solar system. Travelling between planets, moons and minor bodies with one's spaceship is as easy as driving a car between cities used to be in the 21st century. There are still, however, some extra considerations to take into account as all these bodies evolve around the Sun and one needs to organize their trip carefully, or risk wasting *a lot* of fuel. Your mission is to create a code that will enable navigation through the Solar system and let the user know when is best to travel to their destination.\n",
    "\n",
    "<img src=\"grand_tour_nasa.png\" width=300 height=500 />\n",
    "Credit: NASA"
   ]
  },
  {
   "cell_type": "markdown",
   "id": "4bc8534e",
   "metadata": {},
   "source": [
    "\n"
   ]
  },
  {
   "cell_type": "markdown",
   "id": "62cc8d46",
   "metadata": {},
   "source": [
    "## 1. The setup (10 points total)"
   ]
  },
  {
   "cell_type": "markdown",
   "id": "62505c9c",
   "metadata": {},
   "source": [
    "At this point you should have made a folder named Midterm_yourname and have moved this notebook in there. (**2 points**)\n",
    "\n",
    "Don't forget that a good log is part of a successful mission! Start your log please! (**3 points**)\n",
    "\n",
    "You will need to import the necessary package(s) to do numerical problems. Start by doing all your imports here. (**5 points**)"
   ]
  },
  {
   "cell_type": "code",
   "execution_count": 1,
   "id": "b2098202",
   "metadata": {},
   "outputs": [],
   "source": [
    "import numpy as np"
   ]
  },
  {
   "cell_type": "code",
   "execution_count": 2,
   "id": "0911ab24",
   "metadata": {},
   "outputs": [],
   "source": [
    "import matplotlib.pyplot as plt"
   ]
  },
  {
   "cell_type": "markdown",
   "id": "94af6418",
   "metadata": {},
   "source": [
    "## 2. Well begun is half done. (30 points total + 2 bonus)"
   ]
  },
  {
   "cell_type": "markdown",
   "id": "5858c395",
   "metadata": {},
   "source": [
    "### We need to ask the user of our code where they travel from/to.\n",
    "\n",
    "A) Make a variable named *start_location* that will hold the information of where the \n",
    "traveler starts from. Make a variable *destination_location* that will hold the information \n",
    "of where the traveler wants to end. Your code should ask for input from the user about \n",
    "where they want to travel to/from and store the input in these variables. (**5 points**) "
   ]
  },
  {
   "cell_type": "code",
   "execution_count": 3,
   "id": "9bb619ba",
   "metadata": {},
   "outputs": [
    {
     "name": "stdout",
     "output_type": "stream",
     "text": [
      "Where are you traveling from?Jupiter\n",
      "Where are you headed, traveler?Io\n"
     ]
    }
   ],
   "source": [
    "start_location=input('Where are you traveling from?')\n",
    "destination_location=input('Where are you headed, traveler?')"
   ]
  },
  {
   "cell_type": "markdown",
   "id": "5fcb302a",
   "metadata": {},
   "source": [
    "### Now we need to make sure that the traveler gave us valid input. \n",
    "\n",
    "B) Make a list named *planets_and_moons* that contains the names of all possible planets and moons the traveler can travel between. The list should contain only the following bodies: \n",
    "\n",
    "Mercury, Venus, Earth, Moon, Ceres, Mars, Jupiter, Io, Europa, Saturn, Titan, Neptune, Pluto, Charon. (**5 points**) \n",
    "\n"
   ]
  },
  {
   "cell_type": "code",
   "execution_count": 4,
   "id": "8e8d52f8",
   "metadata": {},
   "outputs": [],
   "source": [
    "planets_and_moons=['Mercury','Venus','Earth','Moon','Ceres','Mars','Jupiter','Io','Europa','Saturn','Titan','Neptune','Pluto','Charon']"
   ]
  },
  {
   "cell_type": "markdown",
   "id": "426d0b67",
   "metadata": {},
   "source": [
    "C) Make a code that checks whether the input given from the traveler is available among the allowed locations a trip can be made to/from. (**2 points**) \n",
    "\n",
    "If both are valid inputs the code should print a message to let the traveler know the code will proceed (**3 point**).\n",
    "\n",
    "If any of the inputs are not allowed, the code should let the traveler know that they need to give a new start or destination point, and inform them what options are available. The code should then ask for the corrected start or destination points. (**5 points**)\n",
    "\n",
    "Note: at this point we will assume that the traveler entered a correct location and did not do a mistake a second time. **Bonus 2 points:** what would you need to add to the code to check that this assumption is correct, and let the traveler know they made a new mistake? Add functionality that could account for the user making repeated mistakes entering the locations until they entered it in correctly. Explain with a comment under the code you just wrote. "
   ]
  },
  {
   "cell_type": "code",
   "execution_count": 5,
   "id": "8ed6a579",
   "metadata": {},
   "outputs": [
    {
     "name": "stdout",
     "output_type": "stream",
     "text": [
      "Your locations are valid! We may proceed.\n"
     ]
    }
   ],
   "source": [
    "if start_location in planets_and_moons and destination_location in planets_and_moons:\n",
    "    print('Your locations are valid! We may proceed.')\n",
    "elif start_location in planets_and_moons:\n",
    "    print('Your destination cannot be found! Available locations are',planets_and_moons,'. Please give a new destination location.')\n",
    "elif destination_location in planets_and_moons:\n",
    "    print('Your starting location cannot be found! Available locations are',planets_and_moons,'. Please give a new start location.')\n",
    "else:\n",
    "    print('Your start and destination locations cannot be found! Available locations are',planets_and_moons,'. Please reinput them.')"
   ]
  },
  {
   "cell_type": "code",
   "execution_count": null,
   "id": "b35253c2",
   "metadata": {},
   "outputs": [],
   "source": []
  },
  {
   "cell_type": "markdown",
   "id": "9c700ed6",
   "metadata": {},
   "source": [
    "### Test that your code works.  \n",
    "\n",
    "D-1) Try a trip starting at Demos and destination Io. Run the code so far, and make a screenshot showing that the code warns you that the starting point is not valid. Save the screenshot with the appropriate name to your folder. (**5 points**)\n",
    "\n",
    "D-2) Change the starting point to Jupiter. Make a screenshot showing that the code lets you know you will proceed with the trip. Save the screenshot with the appropriate name to your folder. (**5 points**)\n"
   ]
  },
  {
   "cell_type": "code",
   "execution_count": null,
   "id": "3d128ac5",
   "metadata": {},
   "outputs": [],
   "source": []
  },
  {
   "cell_type": "markdown",
   "id": "a656c887",
   "metadata": {},
   "source": [
    "## 3. The solar system nagivation. (20 points total)\n",
    "\n",
    "Now that we know what the traveler wants to do, we need to let them know how long the trip will be and how much time it will take them. \n",
    "\n",
    "A) File solar_system_date_1.dat has information about the distances (in AU) between all bodies on a given date. If you open the file, you will see that it contains a 14 x 14 table (as we have 14 celestial bodies that we can travel between) with the distances between the bodies. The  Nth line and Nth column are a given body, so that the diagonal is zeros (as the distance from A to A is zero). The distance between Earth and the Moon, e.g., is 0.0030 AU so that line 3 (#4 of the file) column 2 of your data (i.e., the distance from the Earth to the Moon) is 0.0030 (note that the same is true for line 2 column 3 as this is the distance from the Moon to the Earth). \n",
    "\n",
    "Use the appropriate numpy function to read the data into variable *space_distances_date1*. (**3 points**)"
   ]
  },
  {
   "cell_type": "code",
   "execution_count": 6,
   "id": "b8bf2a67",
   "metadata": {},
   "outputs": [],
   "source": [
    "space_distances_date1 = np.loadtxt('solar_system_date_1.dat')"
   ]
  },
  {
   "cell_type": "markdown",
   "id": "893fb7b4",
   "metadata": {},
   "source": [
    "B) Next you will need to find which solar system bodies the traveler wants to travel from/to when they give you their navigation start and end points (like above Jupiter/Io). Use your preferred method to get the index of the bodies (name the indexes *start_body_i* and *destination_body_i*) from your planets_and_moons list. (**4 points**) "
   ]
  },
  {
   "cell_type": "code",
   "execution_count": 7,
   "id": "e1df4bc2",
   "metadata": {},
   "outputs": [],
   "source": [
    "start_body_i= planets_and_moons.index(start_location)\n",
    "destination_body_i= planets_and_moons.index(destination_location)"
   ]
  },
  {
   "cell_type": "markdown",
   "id": "b8846abf",
   "metadata": {},
   "source": [
    "C) Using the space_distances_date1 data and indexes start_body_i and destination_body_i you just calculated, find the distance the traveler will travel. Print an informative statement to let them know what the distance between their start and end points are (e.g., 'You will travel 10AU from the Moon to Calisto' ) (**5 points**)"
   ]
  },
  {
   "cell_type": "code",
   "execution_count": 8,
   "id": "65e591ee",
   "metadata": {},
   "outputs": [
    {
     "name": "stdout",
     "output_type": "stream",
     "text": [
      "You will travel 0.0029 AU from your location Jupiter to Io .\n"
     ]
    }
   ],
   "source": [
    "print('You will travel',space_distances_date1[start_body_i][destination_body_i],'AU from your location',start_location,'to',destination_location,'.')"
   ]
  },
  {
   "cell_type": "markdown",
   "id": "918395f3",
   "metadata": {},
   "source": [
    "D) Assume that the traveler can travel at an average speed of 0.001AU/hr. Calculate the average travel time it will take them to go from their start to their destination body. Calculate how many Earth years (travel_time_years; assume 365 days in the year), Earth days (travel_time_days), Earth hours (travel_time_hours) and Earth minutes (travel_time_minutes) the trip will take. </br>\n",
    "Present this result in the format: \"(Earth_Years) years (Earth_Days) days, (Earth_Hours) hours (Earth_Mins) mins\". With the corresponding values in the parentheses, do not include the parentheses in your final answer. Print an informative statement that lets the traveler know how long their trip will take. (**4 points**) "
   ]
  },
  {
   "cell_type": "code",
   "execution_count": 9,
   "id": "9b035918",
   "metadata": {},
   "outputs": [
    {
     "name": "stdout",
     "output_type": "stream",
     "text": [
      "Your trip will take 0 years 0 days 2 hours 53 mins.\n"
     ]
    }
   ],
   "source": [
    "d=space_distances_date1[start_body_i][destination_body_i]\n",
    "r=0.001\n",
    "t=d/r #time in hours because rate/speed is in au per hour\n",
    "yrs=t/8760\n",
    "travel_time_years=int( t/8760 )\n",
    "travel_time_days= int((( (t/8760) - travel_time_years)*365))\n",
    "travel_time_hours=int(( (( (t/8760) - travel_time_years)*365) - travel_time_days)*24)\n",
    "travel_time_minutes=int(((( (( (t/8760) - travel_time_years)*365) - travel_time_days)*24)-travel_time_hours)*60)\n",
    "#There seems to be a rounding function error with python, where the value returned by((d%r)/r)*60 is 53.9999 instead of 54 as it should be\n",
    "print('Your trip will take',travel_time_years, 'years',travel_time_days,'days',travel_time_hours,'hours',travel_time_minutes,'mins.')"
   ]
  },
  {
   "cell_type": "markdown",
   "id": "5dd05430",
   "metadata": {},
   "source": [
    "E) Turn the program you wrote so far into a function *planet_tour* that takes as input the names of the two bodies (start, destination)the traveler wants to travel between, and outputs the necessary information (total distance, travel time). Make sure you include an appropriate informative docstring! Save the function in a separate file. (**2 points**)"
   ]
  },
  {
   "cell_type": "code",
   "execution_count": null,
   "id": "f8be20d5",
   "metadata": {},
   "outputs": [],
   "source": []
  },
  {
   "cell_type": "markdown",
   "id": "81c4913f",
   "metadata": {},
   "source": [
    "F) Test that your program so far works. Import the function and call it for a trip from the Earth to Mars. Your trip should take 88 days and 1 hour. Note that this is *much* faster than what the trip takes nowadays, where we need the better part of a year (9 months or more) to get there. (**2 points**)\n"
   ]
  },
  {
   "cell_type": "code",
   "execution_count": 2,
   "id": "48f8256e",
   "metadata": {},
   "outputs": [
    {
     "name": "stdout",
     "output_type": "stream",
     "text": [
      "You will travel a distance of  35.446 AU. Your trip will take 4 years 16 days 21 hours 59 mins. We will need to make 54 stops to refuel.\n"
     ]
    }
   ],
   "source": [
    "from planet_tour import planet_tour"
   ]
  },
  {
   "cell_type": "code",
   "execution_count": 5,
   "id": "d1d1114e",
   "metadata": {},
   "outputs": [
    {
     "name": "stdout",
     "output_type": "stream",
     "text": [
      "You will travel a distance of  2.113 AU. Your trip will take 0 years 88 days 1 hours 0 mins. We will need to make 3 stops to refuel.\n"
     ]
    }
   ],
   "source": [
    "planet_tour('Earth','Mars')"
   ]
  },
  {
   "cell_type": "markdown",
   "id": "65f84181",
   "metadata": {},
   "source": [
    "## 4. Refueling is still a thing. (25 points total)\n",
    "\n",
    "Humans are able to travel through space easily, but refueling is still a thing as we have not discovered ways to use an infinite source of energy. It is important to let people know not only how long their trip will take, but also how much fuel they will need on their trip. The Solar system is full of refueling stations, but as they are in orbit we need to send them messages about where to meet our spaceship and how much fuel we will need. \n",
    "\n",
    "You will need to change the function you just made to include this information and print a statement that you will send the refueling stations.\n",
    "\n",
    "A) Assuming your spaceship needs refueling every 0.65AU calculate how many refueling stops your trip will make. The code should print a message to let the user know how many stops they will need for refueling. Assume you start every trip with a full tank. Remember to round up when needed (1.2 stops doesn't make sense: 2 stops does). ( **5 points**)\n"
   ]
  },
  {
   "cell_type": "code",
   "execution_count": null,
   "id": "0c5a70e6",
   "metadata": {},
   "outputs": [],
   "source": []
  },
  {
   "cell_type": "markdown",
   "id": "74b764ba",
   "metadata": {},
   "source": [
    "B) If you will need refueling, the code should write a file *message_to_stations.txt* that will be sent to the refueling stations with information about: your start and end point, where they will need to meet with you (e.g., 'My trip starts at Earth and ends at Mars. I will need to encounter stations for a refueling at 0.65AU, 1.3AU and 1.95AU.') (**10 points**) "
   ]
  },
  {
   "cell_type": "code",
   "execution_count": null,
   "id": "eae5a2fc",
   "metadata": {},
   "outputs": [],
   "source": []
  },
  {
   "cell_type": "markdown",
   "id": "aea176d1",
   "metadata": {},
   "source": [
    "C) Import the updated function and run it for a trip from Io to Jupiter and Earth to Venus (**5 points**). \n",
    "\n",
    "Rename the output message to message_to_stations_1.txt (explain why you should only have 1 message here). Then run it for a trip from the Earth to Pluto (**5 points**). Rename the output message to message_to_stations_2.txt "
   ]
  },
  {
   "cell_type": "code",
   "execution_count": 13,
   "id": "f7162b58",
   "metadata": {},
   "outputs": [],
   "source": [
    "from planet_tour import planet_tour"
   ]
  },
  {
   "cell_type": "code",
   "execution_count": 8,
   "id": "9863ee93",
   "metadata": {},
   "outputs": [
    {
     "name": "stdout",
     "output_type": "stream",
     "text": [
      "You will travel a distance of  0.0029 AU. Your trip will take 0 years 0 days 2 hours 53 mins. We will need to make 0 stops to refuel.\n"
     ]
    }
   ],
   "source": [
    "planet_tour('Io','Jupiter')"
   ]
  },
  {
   "cell_type": "code",
   "execution_count": 9,
   "id": "1087d887",
   "metadata": {},
   "outputs": [
    {
     "name": "stdout",
     "output_type": "stream",
     "text": [
      "You will travel a distance of  0.3915 AU. Your trip will take 0 years 16 days 7 hours 30 mins. We will need to make 0 stops to refuel.\n"
     ]
    }
   ],
   "source": [
    "planet_tour('Earth','Venus')"
   ]
  },
  {
   "cell_type": "code",
   "execution_count": 11,
   "id": "22f4be24",
   "metadata": {},
   "outputs": [
    {
     "name": "stdout",
     "output_type": "stream",
     "text": [
      "You will travel a distance of  35.446 AU. Your trip will take 4 years 16 days 21 hours 59 mins. We will need to make 54 stops to refuel.\n"
     ]
    }
   ],
   "source": [
    "planet_tour('Earth','Pluto')"
   ]
  },
  {
   "cell_type": "markdown",
   "id": "85e36c8d",
   "metadata": {},
   "source": [
    "I only have one output message here because my code overwrites the file named 'message_to_stations.txt' everytime you run the code. That's why we rename the code, so we can save the output txt files and they dont get rewritten when u run the code again."
   ]
  },
  {
   "cell_type": "markdown",
   "id": "14134320",
   "metadata": {},
   "source": [
    "## 5. On the dot. ( 20 points total)\n",
    "\n",
    "Traveling in the 21st century from A to B with your car, truck or motorcycle was relatively simple. You just needed to know when you have time to go, and you could have many alternatives to the when that would be. Places A and B would always be there....In 2340 though, traveling is a little bit more complex. Locations A and B are on different bodies of the Solar system that orbit the Sun with different speeds. For example, a trip from Mars to the Earth may only be 33,900,000 miles long on day_1, and on day_2 more than 250,000,000 miles long! *A lot* more time and fuel can be needed for your trip if you pick the wrong date to travel. Let's make the needed updates to the function to make the user's trip as efficient as possible."
   ]
  },
  {
   "cell_type": "code",
   "execution_count": null,
   "id": "d16a561b",
   "metadata": {},
   "outputs": [],
   "source": []
  },
  {
   "cell_type": "markdown",
   "id": "0cb647d4",
   "metadata": {},
   "source": [
    "A) Update the function you created to read in the files for all possible travel dates. The code should then compare the distance (or time) it takes to do the trip at different dates. The code should print a statement letting the user know when it is the best time to travel and only print the distance and refueling information needed for that best-case trip. (**10 points**)"
   ]
  },
  {
   "cell_type": "code",
   "execution_count": null,
   "id": "6cb63377",
   "metadata": {},
   "outputs": [],
   "source": []
  },
  {
   "cell_type": "code",
   "execution_count": null,
   "id": "a4b7fb4d",
   "metadata": {},
   "outputs": [],
   "source": []
  },
  {
   "cell_type": "markdown",
   "id": "4638bca9",
   "metadata": {},
   "source": [
    "B) Now that we are ready to do interplanetary trips we also need our mesages to the refueling stations to be more streamlined. Change the function to ensure that the output distances are formated with a 4 digit accuracy (so 0.6500 AU not 0.65 and not 0.65000001) (**5 points**)\n"
   ]
  },
  {
   "cell_type": "code",
   "execution_count": null,
   "id": "a958d68e",
   "metadata": {},
   "outputs": [],
   "source": []
  },
  {
   "cell_type": "markdown",
   "id": "4ab273a6",
   "metadata": {},
   "source": [
    "C) Test the changes you made for a trip from Earth to Neptune. Rename the output message to message_to_stations_3.txt and save it to your handin folder. (**5 points**)"
   ]
  },
  {
   "cell_type": "code",
   "execution_count": 20,
   "id": "d3e67202",
   "metadata": {},
   "outputs": [],
   "source": [
    "from planet_tour import planet_tour"
   ]
  },
  {
   "cell_type": "code",
   "execution_count": 21,
   "id": "e3063753",
   "metadata": {},
   "outputs": [
    {
     "name": "stdout",
     "output_type": "stream",
     "text": [
      "You will travel a distance of  28.861 AU on date 3 . Your trip will take 3 years 107 days 13 hours 0 mins. We will need to make 44 stops to refuel.\n"
     ]
    }
   ],
   "source": [
    "planet_tour('Earth','Neptune')"
   ]
  },
  {
   "cell_type": "markdown",
   "id": "0525d8b5",
   "metadata": {},
   "source": [
    "## 6. The grand tour ( 35 points total)"
   ]
  },
  {
   "cell_type": "markdown",
   "id": "27909b48",
   "metadata": {},
   "source": [
    "A grand tour wouldn't be a *grand* tour without a stop or two on the way. As planets rotate around the Sun, the 'best' stop might not always be trivial (e.g., going from Ceres to Venus sometimes the best stop is Mars, sometimes it can be Earth, as Mars (or Earth) is in on the opposite side of their orbit). In this last task you will make the necessary changes to the code to let the user do a grand tour with one stop along the way."
   ]
  },
  {
   "cell_type": "code",
   "execution_count": null,
   "id": "a6843ecb",
   "metadata": {},
   "outputs": [],
   "source": []
  },
  {
   "cell_type": "markdown",
   "id": "c544b1f3",
   "metadata": {},
   "source": [
    "A) Update the function to allow for one stop along the way. To do this, the function will get the start and end point of the trip and ask the user if they want to do a tour (input should be Y/N or Yes/No). (**2 points**)\n",
    "\n",
    "\n",
    "A1) If the user replies 'N' or 'No' the function should work as above and print the best date to travel from A to B etc. (**5 points**)\n",
    "\n",
    "\n",
    "\n",
    "A2) If the user replies 'Yes' or 'Y', the function will then check for all dates what a possible stop would be. (**13 points**) \n",
    "\n",
    "A stop that makes sense needs to have the smallest possible extra distance in comparison to the direct trip from A to B. E.g., going from Mars to Ceres on date 1 the stop the traveler would do is on Mercury adding 'just' 1.3 AU to the trip (because Venus and the Earth are on the 'wrong side' of their orbits). \n",
    "\n",
    "The function will then print out the information for the user to see:\n",
    "\n",
    "    1) on what date can they do, what stop, and \n",
    "\n",
    "    2) at what cost in milage and \n",
    "\n",
    "    3) number of refueling stops. \n",
    "    \n",
    "Don't save a message for the refueling stations for each of these stops. We will adapt this part later on."
   ]
  },
  {
   "cell_type": "code",
   "execution_count": null,
   "id": "2ad11498",
   "metadata": {},
   "outputs": [],
   "source": [
    "#I was working on this but I could not get the elif function to work properly as it would do the same output no matter if the first argument was yes or no"
   ]
  },
  {
   "cell_type": "code",
   "execution_count": null,
   "id": "a2f0590b",
   "metadata": {},
   "outputs": [],
   "source": []
  },
  {
   "cell_type": "markdown",
   "id": "9b0627cf",
   "metadata": {},
   "source": [
    "B) Test the updates you did for a trip from Mars to Ceres. (5 points)"
   ]
  },
  {
   "cell_type": "code",
   "execution_count": null,
   "id": "24881fce",
   "metadata": {},
   "outputs": [],
   "source": []
  },
  {
   "cell_type": "code",
   "execution_count": null,
   "id": "47e59f5d",
   "metadata": {},
   "outputs": [],
   "source": []
  },
  {
   "cell_type": "markdown",
   "id": "5deb49e0",
   "metadata": {},
   "source": [
    "C) The code should now let the user choose which is their prefered stop. \n",
    "\n",
    "After getting the available stops per date, store them in a dictionary named stops_for_date. The keys should be the name of the stop (ordered for date 1, 2 and 3: e.g., 'Mercury' 'Mercury' 'Venus'), and the values should be the corresponding total distance of the trip (e.g., 4.2058, 4.5132, 4.5077 ). If more than one dates return the same stop make sure to adapt the key accordingly ('Mercury_1', 'Mercury_2' ). Use an If/else if/else structure to do this. **(6 points)**\n",
    "\n",
    "What would happen if you fogot to do this name change? Explain with a comment in your code. **(2 points)**\n",
    "\n",
    "The code will then ask the user which is their prefered stop. If more than one dates return the same stop then the code will let the user know when they should travel (the date with the least travel time/miles). **(5 point)** \n",
    "<br>(in the above example if the user wanted to stop at Mercury we would let them know the best time is date 1).\n",
    "    Tip: to do this you can use an if/else if/ else structure to test if more than one dates match the user's input and if so decide when they should move. You can also *try* different methods.\n",
    "\n",
    "The code will then save the necessary message for the refueling stations on that date. **( 2 points)**\n",
    "\n",
    "The message should now let the stations know on what date they will meet! The message should print the start date of the trip (date 1, 2, 3) on the start of the message. \n",
    "\n",
    "\n",
    "(e.g., :\n",
    "\n",
    "############ refueling information##############\n",
    "############\n",
    "\n",
    "########## Starting trip from Mars to Ceres on date 1 #########\n",
    "\n",
    "######### Will refuel on date 1 + 3.01 days at location 0.6500 AU\n",
    "\n",
    "######### Will refuel on date 1 + 5.52 days at location 1.3000 AU\n",
    "\n",
    "Note that this is a random example, not based on any of the data)"
   ]
  },
  {
   "cell_type": "code",
   "execution_count": null,
   "id": "9d6d42d7",
   "metadata": {},
   "outputs": [],
   "source": [
    "#I didn't get to work on this but i would use an input function to get their preferred stop and use that input to get the index in planets and moons and \n",
    "#If you forgot to do the name change the dictionary wouldn't work properly because you can only have one key and no doubles in a dictionary"
   ]
  },
  {
   "cell_type": "code",
   "execution_count": null,
   "id": "3d5bc3a3",
   "metadata": {},
   "outputs": [],
   "source": []
  },
  {
   "cell_type": "code",
   "execution_count": null,
   "id": "9633aa01",
   "metadata": {},
   "outputs": [],
   "source": []
  },
  {
   "cell_type": "code",
   "execution_count": null,
   "id": "0f703f15",
   "metadata": {},
   "outputs": [],
   "source": []
  },
  {
   "cell_type": "code",
   "execution_count": null,
   "id": "53e52272",
   "metadata": {},
   "outputs": [],
   "source": []
  },
  {
   "cell_type": "code",
   "execution_count": null,
   "id": "82056ec6",
   "metadata": {},
   "outputs": [],
   "source": []
  },
  {
   "cell_type": "markdown",
   "id": "516ebeda",
   "metadata": {},
   "source": [
    "## 7. The wraping up. (10 points)\n",
    "\n",
    "\n",
    "Prepare and submit your homework. Copy the finalized Jupyter notebook to the handin/midterm_* folder and don’t forget to commit and push it to GitHub. Explain what you did to do that in your log. Make a screenshot that shows you committed the file and add it to your handin/midterm_* folder (remember to use an appropriate name for the screenshot!). Make sure that *all* necessary files, including data files are included in the folder. Write what you did to make and submit the zip file into your log. When satisfied, close the log, copy it to your homework directory one last time, and run the commands to make and submit the zip file. Turn the file in on WebCourses. "
   ]
  },
  {
   "cell_type": "code",
   "execution_count": null,
   "id": "de7ff573",
   "metadata": {},
   "outputs": [],
   "source": []
  }
 ],
 "metadata": {
  "kernelspec": {
   "display_name": "Python 3 (ipykernel)",
   "language": "python",
   "name": "python3"
  },
  "language_info": {
   "codemirror_mode": {
    "name": "ipython",
    "version": 3
   },
   "file_extension": ".py",
   "mimetype": "text/x-python",
   "name": "python",
   "nbconvert_exporter": "python",
   "pygments_lexer": "ipython3",
   "version": "3.7.11"
  }
 },
 "nbformat": 4,
 "nbformat_minor": 5
}
