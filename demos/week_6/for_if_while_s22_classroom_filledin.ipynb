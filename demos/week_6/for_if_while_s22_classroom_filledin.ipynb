{
 "cells": [
  {
   "cell_type": "markdown",
   "metadata": {},
   "source": [
    "# FOR - IF - WHILE LOOPS "
   ]
  },
  {
   "cell_type": "code",
   "execution_count": null,
   "metadata": {},
   "outputs": [],
   "source": []
  },
  {
   "cell_type": "code",
   "execution_count": 1,
   "metadata": {},
   "outputs": [],
   "source": [
    "import numpy as np"
   ]
  },
  {
   "cell_type": "markdown",
   "metadata": {},
   "source": [
    "# FOR"
   ]
  },
  {
   "cell_type": "markdown",
   "metadata": {},
   "source": [
    "### A for loop is iterating over a parameter (e.g. i) to do a specific thing.\n"
   ]
  },
  {
   "cell_type": "markdown",
   "metadata": {},
   "source": [
    "<img src=\"../plots/for_loop.png\" width=600 height=600 />"
   ]
  },
  {
   "cell_type": "markdown",
   "metadata": {},
   "source": [
    "### A for loop is iterating over a parameter (e.g. i) to do a specific thing.\n",
    "\n",
    "In Fortran (first language to introduce for loops, but they are called “DO”) you would have:\n",
    "\n",
    "      DO i = 0, 10\n",
    "        print*, i\n",
    "\n",
    "In Python:  <br>\n",
    "     for i in 1, 2, 3,10 : <br>\n",
    "-------     print(i)\n"
   ]
  },
  {
   "cell_type": "markdown",
   "metadata": {},
   "source": [
    "### The element over which you iterate can be a list/tuple/array..: "
   ]
  },
  {
   "cell_type": "code",
   "execution_count": 2,
   "metadata": {},
   "outputs": [
    {
     "name": "stdout",
     "output_type": "stream",
     "text": [
      "1 2\n",
      "3 4\n",
      "jane joe\n"
     ]
    }
   ],
   "source": [
    "for a, b in (1, 2), [3, 4], ('jane', 'joe'):\n",
    "      print( a, b )\n"
   ]
  },
  {
   "cell_type": "code",
   "execution_count": 3,
   "metadata": {},
   "outputs": [
    {
     "name": "stdout",
     "output_type": "stream",
     "text": [
      "Current Letter : P\n",
      "Current Letter : y\n",
      "Current Letter : t\n",
      "Current Letter : h\n",
      "Current Letter : o\n",
      "Current Letter : n\n"
     ]
    }
   ],
   "source": [
    "for ch in 'Python': \n",
    "      print ( 'Current Letter :', ch )\n"
   ]
  },
  {
   "cell_type": "code",
   "execution_count": 4,
   "metadata": {},
   "outputs": [
    {
     "name": "stdout",
     "output_type": "stream",
     "text": [
      "0\n",
      "1\n",
      "2\n",
      "3\n",
      "4\n",
      "5\n",
      "6\n",
      "7\n",
      "8\n",
      "9\n"
     ]
    }
   ],
   "source": [
    "for i in range( 10 ):\n",
    "     print( i )\n"
   ]
  },
  {
   "cell_type": "code",
   "execution_count": 5,
   "metadata": {},
   "outputs": [
    {
     "name": "stdout",
     "output_type": "stream",
     "text": [
      "1\n",
      "3\n",
      "5\n",
      "7\n",
      "9\n"
     ]
    }
   ],
   "source": [
    "for num in range(1, 10, 2 ):\n",
    "     print( num )\n"
   ]
  },
  {
   "cell_type": "markdown",
   "metadata": {},
   "source": [
    "### When working with an array and you are not sure about its size you can iterate over the length of the array:\n",
    "for i in range( len(your_array) ): <br>\n",
    "-----------  do_something_with_the_array\n"
   ]
  },
  {
   "cell_type": "code",
   "execution_count": 6,
   "metadata": {},
   "outputs": [],
   "source": [
    "#### e.g., make a numpy array x with numbers 5, 12, 15, 16, 22, 42, 32, 88, 104:\n",
    "\n",
    "x =  np.array( [ 5, 12, 15, 16, 22, 42, 32, 88, 104] )"
   ]
  },
  {
   "cell_type": "markdown",
   "metadata": {},
   "source": [
    "### test difference of:\n",
    "\n"
   ]
  },
  {
   "cell_type": "code",
   "execution_count": 7,
   "metadata": {},
   "outputs": [
    {
     "name": "stdout",
     "output_type": "stream",
     "text": [
      "5\n",
      "12\n",
      "15\n",
      "16\n",
      "22\n",
      "42\n",
      "32\n",
      "88\n",
      "104\n"
     ]
    }
   ],
   "source": [
    "for i in x:\n",
    "    print( i )"
   ]
  },
  {
   "cell_type": "markdown",
   "metadata": {},
   "source": [
    "### with: "
   ]
  },
  {
   "cell_type": "code",
   "execution_count": 9,
   "metadata": {},
   "outputs": [
    {
     "name": "stdout",
     "output_type": "stream",
     "text": [
      "0 5\n",
      "1 12\n",
      "2 15\n",
      "3 16\n",
      "4 22\n",
      "5 42\n",
      "6 32\n",
      "7 88\n",
      "8 104\n"
     ]
    }
   ],
   "source": [
    "for i in range( len( x ) ):\n",
    "    print( i, x[ i ] )"
   ]
  },
  {
   "cell_type": "markdown",
   "metadata": {},
   "source": [
    "### when would you use the first and when the second case?"
   ]
  },
  {
   "cell_type": "code",
   "execution_count": null,
   "metadata": {},
   "outputs": [],
   "source": []
  },
  {
   "cell_type": "markdown",
   "metadata": {},
   "source": [
    "### For lists you can use list comprehension:"
   ]
  },
  {
   "cell_type": "code",
   "execution_count": 10,
   "metadata": {},
   "outputs": [],
   "source": [
    "#let's make list x_list \n",
    "x_list = [1, 2, 3, 4, 8, 12, 24, 32] "
   ]
  },
  {
   "cell_type": "code",
   "execution_count": 11,
   "metadata": {},
   "outputs": [],
   "source": [
    "# now try a for loop to make y_list with each element equal to x**2:\n",
    "y_list_1 = []\n",
    "\n",
    "for i in x_list:\n",
    "    y_list_1.append( i**2 )"
   ]
  },
  {
   "cell_type": "code",
   "execution_count": 12,
   "metadata": {},
   "outputs": [
    {
     "name": "stdout",
     "output_type": "stream",
     "text": [
      "[1, 4, 9, 16, 64, 144, 576, 1024]\n"
     ]
    }
   ],
   "source": [
    "print( y_list_1 )"
   ]
  },
  {
   "cell_type": "code",
   "execution_count": 13,
   "metadata": {},
   "outputs": [],
   "source": [
    "# and try list comprehension:\n",
    "y_list_2 = [i**2 for i in x_list ]"
   ]
  },
  {
   "cell_type": "code",
   "execution_count": 14,
   "metadata": {},
   "outputs": [
    {
     "name": "stdout",
     "output_type": "stream",
     "text": [
      "[1, 4, 9, 16, 64, 144, 576, 1024]\n"
     ]
    }
   ],
   "source": [
    "print( y_list_2 )"
   ]
  },
  {
   "cell_type": "code",
   "execution_count": null,
   "metadata": {},
   "outputs": [],
   "source": []
  },
  {
   "cell_type": "markdown",
   "metadata": {},
   "source": [
    "### Try using a FOR loop to get array q2_numpy that is the square of the array  q_numpy = np.arange( 0, 10000, 0.0005)"
   ]
  },
  {
   "cell_type": "code",
   "execution_count": 15,
   "metadata": {},
   "outputs": [],
   "source": [
    "q_numpy = np.arange( 0, 10000, 0.0005)"
   ]
  },
  {
   "cell_type": "code",
   "execution_count": 16,
   "metadata": {},
   "outputs": [],
   "source": [
    "q2_numpy = np.zeros( len( q_numpy ) )\n",
    "\n",
    "\n",
    "for i in range( len( q_numpy) ):\n",
    "    q2_numpy[ i ] = q_numpy[ i ] **2\n",
    "    \n",
    "    \n",
    "# or for i in q_numpy    "
   ]
  },
  {
   "cell_type": "markdown",
   "metadata": {},
   "source": [
    "### how could you have done it *much* faster?"
   ]
  },
  {
   "cell_type": "code",
   "execution_count": 19,
   "metadata": {},
   "outputs": [],
   "source": [
    "q2_numpy2 = q_numpy **2"
   ]
  },
  {
   "cell_type": "code",
   "execution_count": null,
   "metadata": {},
   "outputs": [],
   "source": []
  },
  {
   "cell_type": "markdown",
   "metadata": {},
   "source": [
    "### Don’t use FOR loops like this for arrays, too slow. That’s why we have numpy!"
   ]
  },
  {
   "cell_type": "code",
   "execution_count": null,
   "metadata": {},
   "outputs": [],
   "source": []
  },
  {
   "cell_type": "code",
   "execution_count": null,
   "metadata": {},
   "outputs": [],
   "source": []
  },
  {
   "cell_type": "markdown",
   "metadata": {},
   "source": [
    "### You can do multiple things in one loop:"
   ]
  },
  {
   "cell_type": "code",
   "execution_count": 20,
   "metadata": {},
   "outputs": [
    {
     "name": "stdout",
     "output_type": "stream",
     "text": [
      "With acceleration: 14.0 m/s^2 moved 52.0 m\n",
      "With acceleration: 15.0 m/s^2 moved 280.0 m\n",
      "With acceleration: 1.7377049180327868 m/s^2 moved 25132.0 m\n",
      "With acceleration: -8.142857142857142 m/s^2 moved 5544.0 m\n",
      "With acceleration: 11.056603773584905 m/s^2 moved 19981.0 m\n",
      "With acceleration: -43.857142857142854 m/s^2 moved 5082.0 m\n",
      "With acceleration: 1.2340425531914894 m/s^2 moved 3995.0 m\n",
      "With acceleration: -0.40540540540540543 m/s^2 moved 3940.5 m\n",
      "With acceleration: 1.5 m/s^2 moved 1533.0 m\n",
      "Total displacement: 65539.5 m\n"
     ]
    }
   ],
   "source": [
    "#create the acceleration and displacement arrays:\n",
    "a = np.zeros(10)\n",
    "d = np.zeros(10)\n",
    "\n",
    "# make a random speed array:\n",
    "speed = np.array( [12, 40, 100, 312, 84, 670, 56, 114, 99, 120 ] )\n",
    "# and a time array:\n",
    "time  = np.array( [12, 14, 18, 140, 168, 221, 235, 282, 319, 333] )\n",
    "\n",
    "\n",
    "# for this we' ll need the accelaration and displacement function; let's import them:\n",
    "from accelerations import acceleration\n",
    "from displacements import displacement\n",
    "\n",
    "\n",
    "#make a for loop that goes through the speed and time arrays and print #the displacement:\n",
    "for i in range( 0, 9 ):\n",
    "    # make an initial speed: \n",
    "    uin      = speed[ i ]\n",
    "    \n",
    "    # calculate the acceleration calling your acceleration function  \n",
    "    a[ i ]   = acceleration( speed[ i ], speed[ i+1 ], time[ i ], time[ i+1 ] )\n",
    "    \n",
    "    # calculate the displacement calling your displacement function \n",
    "    d[ i ]   = displacement( uin, time[ i+1 ] - time[ i ], a[ i ] )\n",
    "    \n",
    "    # print the,:\n",
    "    print ('With acceleration:',a[i],'m/s^2 moved',d[i], 'm')\n",
    "    \n",
    "#Print total displacment:    \n",
    "\n",
    "print('Total displacement:',np.sum(d),'m') \n"
   ]
  },
  {
   "cell_type": "code",
   "execution_count": null,
   "metadata": {},
   "outputs": [],
   "source": []
  },
  {
   "cell_type": "markdown",
   "metadata": {},
   "source": [
    "### Let's do some for loop practice. \n",
    "\n",
    "Create an array time that goes from 1 to 11 with a step of 1. \n",
    "Make a for loop that scans the array and prints its value (use t as your looping variable).\n"
   ]
  },
  {
   "cell_type": "code",
   "execution_count": 22,
   "metadata": {},
   "outputs": [
    {
     "name": "stdout",
     "output_type": "stream",
     "text": [
      "1\n",
      "2\n",
      "3\n",
      "4\n",
      "5\n",
      "6\n",
      "7\n",
      "8\n",
      "9\n",
      "10\n"
     ]
    }
   ],
   "source": [
    "time = np.arange( 1, 11, 1)\n",
    "\n",
    "\n",
    "for t in range( len( time ) ):\n",
    "    print( time [ t ] )"
   ]
  },
  {
   "cell_type": "code",
   "execution_count": 23,
   "metadata": {},
   "outputs": [
    {
     "name": "stdout",
     "output_type": "stream",
     "text": [
      "1\n",
      "2\n",
      "3\n",
      "4\n",
      "5\n",
      "6\n",
      "7\n",
      "8\n",
      "9\n",
      "10\n"
     ]
    }
   ],
   "source": [
    "#or:\n",
    "for t in time:\n",
    "    print( t )\n"
   ]
  },
  {
   "cell_type": "markdown",
   "metadata": {},
   "source": [
    "### Create an array distance that goes from 10 to 20 with a step of 1. Make a for loop that scans the arrays distance and time and prints the speed of the object (distance/time) using the distance from here and the time stamps from above, but in reverse order (so distance[0] will go with time[ 9 ])."
   ]
  },
  {
   "cell_type": "code",
   "execution_count": 24,
   "metadata": {},
   "outputs": [],
   "source": [
    "distance = np.arange( 10, 20, 1 )\n",
    "#time = np.arange( 1, 11, 1)\n"
   ]
  },
  {
   "cell_type": "code",
   "execution_count": 25,
   "metadata": {},
   "outputs": [
    {
     "name": "stdout",
     "output_type": "stream",
     "text": [
      "[10 11 12 13 14 15 16 17 18 19]\n",
      "[ 1  2  3  4  5  6  7  8  9 10]\n"
     ]
    }
   ],
   "source": [
    "print( distance)\n",
    "print( time )"
   ]
  },
  {
   "cell_type": "code",
   "execution_count": 29,
   "metadata": {},
   "outputs": [
    {
     "name": "stdout",
     "output_type": "stream",
     "text": [
      "1.0\n",
      "1.2222222222222223\n",
      "1.5\n",
      "1.8571428571428572\n",
      "2.3333333333333335\n",
      "3.0\n",
      "4.0\n",
      "5.666666666666667\n",
      "9.0\n",
      "19.0\n"
     ]
    }
   ],
   "source": [
    "for m in range( len( time ) ):\n",
    "    print( distance[ m ] / time[ (len( time )-1) - m ] )"
   ]
  },
  {
   "cell_type": "code",
   "execution_count": null,
   "metadata": {},
   "outputs": [],
   "source": []
  },
  {
   "cell_type": "markdown",
   "metadata": {},
   "source": [
    "### Create a 2D array speed with dimensions equal to the length of time and distance. Create a nested for loop (for loop in for loop)  that scans over i and j and assigns a value to speed for every time and distance."
   ]
  },
  {
   "cell_type": "code",
   "execution_count": 30,
   "metadata": {},
   "outputs": [],
   "source": [
    "speed = np.zeros( ( 10, 10 ) )"
   ]
  },
  {
   "cell_type": "code",
   "execution_count": 31,
   "metadata": {},
   "outputs": [
    {
     "name": "stdout",
     "output_type": "stream",
     "text": [
      "0 0\n",
      "0 1\n",
      "0 2\n",
      "0 3\n",
      "0 4\n",
      "0 5\n",
      "0 6\n",
      "0 7\n",
      "0 8\n",
      "1 0\n",
      "1 1\n",
      "1 2\n",
      "1 3\n",
      "1 4\n",
      "1 5\n",
      "1 6\n",
      "1 7\n",
      "1 8\n",
      "2 0\n",
      "2 1\n",
      "2 2\n",
      "2 3\n",
      "2 4\n",
      "2 5\n",
      "2 6\n",
      "2 7\n",
      "2 8\n",
      "3 0\n",
      "3 1\n",
      "3 2\n",
      "3 3\n",
      "3 4\n",
      "3 5\n",
      "3 6\n",
      "3 7\n",
      "3 8\n",
      "4 0\n",
      "4 1\n",
      "4 2\n",
      "4 3\n",
      "4 4\n",
      "4 5\n",
      "4 6\n",
      "4 7\n",
      "4 8\n",
      "5 0\n",
      "5 1\n",
      "5 2\n",
      "5 3\n",
      "5 4\n",
      "5 5\n",
      "5 6\n",
      "5 7\n",
      "5 8\n",
      "6 0\n",
      "6 1\n",
      "6 2\n",
      "6 3\n",
      "6 4\n",
      "6 5\n",
      "6 6\n",
      "6 7\n",
      "6 8\n",
      "7 0\n",
      "7 1\n",
      "7 2\n",
      "7 3\n",
      "7 4\n",
      "7 5\n",
      "7 6\n",
      "7 7\n",
      "7 8\n",
      "8 0\n",
      "8 1\n",
      "8 2\n",
      "8 3\n",
      "8 4\n",
      "8 5\n",
      "8 6\n",
      "8 7\n",
      "8 8\n"
     ]
    }
   ],
   "source": [
    "for i in range( 9 ) :\n",
    "    for j in range( 9 ) :\n",
    "        speed[ i,j ] = distance[ i ] / time[ j ]\n",
    "        print( i, j)"
   ]
  },
  {
   "cell_type": "code",
   "execution_count": 32,
   "metadata": {},
   "outputs": [
    {
     "name": "stdout",
     "output_type": "stream",
     "text": [
      "[[10.          5.          3.33333333  2.5         2.          1.66666667\n",
      "   1.42857143  1.25        1.11111111  0.        ]\n",
      " [11.          5.5         3.66666667  2.75        2.2         1.83333333\n",
      "   1.57142857  1.375       1.22222222  0.        ]\n",
      " [12.          6.          4.          3.          2.4         2.\n",
      "   1.71428571  1.5         1.33333333  0.        ]\n",
      " [13.          6.5         4.33333333  3.25        2.6         2.16666667\n",
      "   1.85714286  1.625       1.44444444  0.        ]\n",
      " [14.          7.          4.66666667  3.5         2.8         2.33333333\n",
      "   2.          1.75        1.55555556  0.        ]\n",
      " [15.          7.5         5.          3.75        3.          2.5\n",
      "   2.14285714  1.875       1.66666667  0.        ]\n",
      " [16.          8.          5.33333333  4.          3.2         2.66666667\n",
      "   2.28571429  2.          1.77777778  0.        ]\n",
      " [17.          8.5         5.66666667  4.25        3.4         2.83333333\n",
      "   2.42857143  2.125       1.88888889  0.        ]\n",
      " [18.          9.          6.          4.5         3.6         3.\n",
      "   2.57142857  2.25        2.          0.        ]\n",
      " [ 0.          0.          0.          0.          0.          0.\n",
      "   0.          0.          0.          0.        ]]\n"
     ]
    }
   ],
   "source": [
    "print( speed )"
   ]
  },
  {
   "cell_type": "code",
   "execution_count": null,
   "metadata": {},
   "outputs": [],
   "source": [
    "#for i in range( 9 ) :\n",
    "#    for j in range( 9 ) :\n",
    "#        speed[ i,j ] = distance[ i ] / time[ j ]"
   ]
  },
  {
   "cell_type": "code",
   "execution_count": 33,
   "metadata": {},
   "outputs": [
    {
     "name": "stdout",
     "output_type": "stream",
     "text": [
      "1 10\n",
      "1 11\n",
      "1 12\n",
      "1 13\n",
      "1 14\n",
      "1 15\n",
      "1 16\n",
      "1 17\n",
      "1 18\n",
      "1 19\n",
      "2 10\n",
      "2 11\n",
      "2 12\n",
      "2 13\n",
      "2 14\n",
      "2 15\n",
      "2 16\n",
      "2 17\n",
      "2 18\n",
      "2 19\n",
      "3 10\n",
      "3 11\n",
      "3 12\n",
      "3 13\n",
      "3 14\n",
      "3 15\n",
      "3 16\n",
      "3 17\n",
      "3 18\n",
      "3 19\n",
      "4 10\n",
      "4 11\n",
      "4 12\n",
      "4 13\n",
      "4 14\n",
      "4 15\n",
      "4 16\n",
      "4 17\n",
      "4 18\n",
      "4 19\n",
      "5 10\n",
      "5 11\n",
      "5 12\n",
      "5 13\n",
      "5 14\n",
      "5 15\n",
      "5 16\n",
      "5 17\n",
      "5 18\n",
      "5 19\n",
      "6 10\n",
      "6 11\n",
      "6 12\n",
      "6 13\n",
      "6 14\n",
      "6 15\n",
      "6 16\n",
      "6 17\n",
      "6 18\n",
      "6 19\n",
      "7 10\n",
      "7 11\n",
      "7 12\n",
      "7 13\n",
      "7 14\n",
      "7 15\n",
      "7 16\n",
      "7 17\n",
      "7 18\n",
      "7 19\n",
      "8 10\n",
      "8 11\n",
      "8 12\n",
      "8 13\n",
      "8 14\n",
      "8 15\n",
      "8 16\n",
      "8 17\n",
      "8 18\n",
      "8 19\n",
      "9 10\n",
      "9 11\n",
      "9 12\n",
      "9 13\n",
      "9 14\n",
      "9 15\n",
      "9 16\n",
      "9 17\n",
      "9 18\n",
      "9 19\n",
      "10 10\n",
      "10 11\n",
      "10 12\n",
      "10 13\n",
      "10 14\n",
      "10 15\n",
      "10 16\n",
      "10 17\n",
      "10 18\n",
      "10 19\n"
     ]
    }
   ],
   "source": [
    "# could you have done it as :\n",
    "\n",
    "for i in time  : \n",
    "    for j in distance :\n",
    "         #speed[ i, j ] =  j  /  i \n",
    "         print( i, j )   \n",
    "            \n",
    "         # ??? why/ why not? "
   ]
  },
  {
   "cell_type": "code",
   "execution_count": null,
   "metadata": {},
   "outputs": [],
   "source": []
  },
  {
   "cell_type": "code",
   "execution_count": null,
   "metadata": {},
   "outputs": [],
   "source": []
  },
  {
   "cell_type": "code",
   "execution_count": null,
   "metadata": {},
   "outputs": [],
   "source": []
  },
  {
   "cell_type": "code",
   "execution_count": null,
   "metadata": {},
   "outputs": [],
   "source": [
    "# what could have worked is this:\n",
    "for i in  time : \n",
    "    for j in distance :\n",
    "        \n",
    "        speed[ i-1, j-10 ] =  j  /  i "
   ]
  },
  {
   "cell_type": "code",
   "execution_count": null,
   "metadata": {},
   "outputs": [],
   "source": [
    "#print ( speed )"
   ]
  },
  {
   "cell_type": "markdown",
   "metadata": {},
   "source": [
    "## Indentation is SUPER important for Python"
   ]
  },
  {
   "cell_type": "code",
   "execution_count": 34,
   "metadata": {},
   "outputs": [
    {
     "name": "stdout",
     "output_type": "stream",
     "text": [
      "0 0 1 10 10.0\n",
      "0 1 1 11 11.0\n",
      "0 2 1 12 12.0\n",
      "1 0 2 10 5.0\n",
      "1 1 2 11 5.5\n",
      "1 2 2 12 6.0\n",
      "2 0 3 10 3.3333333333333335\n",
      "2 1 3 11 3.6666666666666665\n",
      "2 2 3 12 4.0\n"
     ]
    }
   ],
   "source": [
    "#create the speed array:\n",
    "#a = np.zeros( ( len( time ), len( distance ) ) )\n",
    "\n",
    "#create a nested for loop:\n",
    "\n",
    "for i in range( 3):\n",
    "    for j in range( 3 ):\n",
    "        \n",
    "            \n",
    "            speed[ i, j ] = distance[ j ] / time[ i ] \n",
    "            \n",
    "            print( i, j, time[ i ], distance[ j ], speed[ i, j ] ) \n",
    "\n",
    "\n",
    "##NOTE that same blocks of code must have the same indentation!\n"
   ]
  },
  {
   "cell_type": "markdown",
   "metadata": {},
   "source": [
    "<img src=\"../plots/loop_levs.png\" width=800 height=600 />"
   ]
  },
  {
   "cell_type": "markdown",
   "metadata": {},
   "source": [
    "### Try moving the print statement to ”Level 1” or “Level 0”. What happens? Why?\n"
   ]
  },
  {
   "cell_type": "code",
   "execution_count": 35,
   "metadata": {},
   "outputs": [
    {
     "name": "stdout",
     "output_type": "stream",
     "text": [
      "0 2 1 12 12.0\n",
      "1 2 2 12 6.0\n",
      "2 2 3 12 4.0\n"
     ]
    }
   ],
   "source": [
    "for i in range( 3):\n",
    "    for j in range( 3 ):\n",
    "            \n",
    "            speed[ i, j ] = distance[ j ] / time[ i ] \n",
    "            \n",
    "    print( i, j, time[ i ], distance[ j ], speed[ i, j ] ) \n"
   ]
  },
  {
   "cell_type": "code",
   "execution_count": 36,
   "metadata": {},
   "outputs": [
    {
     "name": "stdout",
     "output_type": "stream",
     "text": [
      "2 2 3 12 4.0\n"
     ]
    }
   ],
   "source": [
    "for i in range( 3):\n",
    "    for j in range( 3 ):\n",
    "            \n",
    "            speed[ i, j ] = distance[ j ] / time[ i ] \n",
    "            \n",
    "print( i, j, time[ i ], distance[ j ], speed[ i, j ] ) \n"
   ]
  },
  {
   "cell_type": "code",
   "execution_count": null,
   "metadata": {},
   "outputs": [],
   "source": []
  },
  {
   "cell_type": "code",
   "execution_count": null,
   "metadata": {},
   "outputs": [],
   "source": []
  },
  {
   "cell_type": "code",
   "execution_count": null,
   "metadata": {},
   "outputs": [],
   "source": []
  },
  {
   "cell_type": "markdown",
   "metadata": {},
   "source": [
    "# ----------------------------------------------"
   ]
  },
  {
   "cell_type": "markdown",
   "metadata": {},
   "source": [
    "# IF"
   ]
  },
  {
   "cell_type": "markdown",
   "metadata": {},
   "source": [
    "## Conditional statement that does something *only* IF the condition(s) is met.\n",
    "\n",
    "\n",
    "if your_conditions_here: <br>\n",
    "<------------------------------if true:><br>\n",
    "------------ do something here<br>\n",
    "<----------------------------- if not it will be skipped><br>"
   ]
  },
  {
   "cell_type": "code",
   "execution_count": 38,
   "metadata": {},
   "outputs": [],
   "source": [
    "#e.g.,\n",
    "\n",
    "x = 5\n",
    "\n",
    "if x < 10:\n",
    "    print ( ' True!' )\n"
   ]
  },
  {
   "cell_type": "code",
   "execution_count": 39,
   "metadata": {},
   "outputs": [
    {
     "name": "stdout",
     "output_type": "stream",
     "text": [
      "0\n",
      "1\n",
      "2\n",
      "3\n",
      "4\n"
     ]
    }
   ],
   "source": [
    "#Make array \n",
    "\n",
    "a = np.arange( 10 )\n",
    "\n",
    "# then Make an if loop that will only print a[i] if a[i] is smaller than 5...\n",
    "\n",
    "for i in range( 10 ):\n",
    "      if a[ i ] < 5:\n",
    "            print( a[ i ] )\n"
   ]
  },
  {
   "cell_type": "markdown",
   "metadata": {},
   "source": [
    "### You may also want to have more than one conditions. Then use:\n",
    "<img src=\"../plots/if_elif.png\" width=800 height=600 />"
   ]
  },
  {
   "cell_type": "markdown",
   "metadata": {},
   "source": [
    "### Go back to previous loop and add a condition that prints “NO” if a[i] >= 5."
   ]
  },
  {
   "cell_type": "code",
   "execution_count": 40,
   "metadata": {},
   "outputs": [
    {
     "name": "stdout",
     "output_type": "stream",
     "text": [
      "0\n",
      "1\n",
      "2\n",
      "3\n",
      "4\n",
      " NO! \n",
      " NO! \n",
      " NO! \n",
      " NO! \n",
      " NO! \n"
     ]
    }
   ],
   "source": [
    "for i in range( 10 ):\n",
    "    if a[ i ] < 5:\n",
    "        print( a[ i ] )\n",
    "    else:\n",
    "        print( ' NO! ' )\n"
   ]
  },
  {
   "cell_type": "markdown",
   "metadata": {},
   "source": [
    "### now make the loop print a[ i ] if it is < 3 ; a[i] * 2 if a[i] is >8 and 'NaN' for all other cases:"
   ]
  },
  {
   "cell_type": "code",
   "execution_count": 42,
   "metadata": {},
   "outputs": [
    {
     "name": "stdout",
     "output_type": "stream",
     "text": [
      "0\n",
      "1\n",
      "2\n",
      "NaN \n",
      "NaN \n",
      "NaN \n",
      "NaN \n",
      "NaN \n",
      "NaN \n",
      "18\n"
     ]
    }
   ],
   "source": [
    "for i in range( 10 ):\n",
    "    if a[ i ] < 3:\n",
    "        print( a[ i ] )\n",
    "    elif a[ i ] > 8:\n",
    "        print( a[ i ] * 2 )\n",
    "    else:\n",
    "        print( 'NaN ')\n",
    "        \n",
    "        "
   ]
  },
  {
   "cell_type": "markdown",
   "metadata": {},
   "source": [
    "### You have a shelter with different animals. Write a code that asks the user for the kind of pet it wants. The code then scans a list with the following words that are the pets in your inventory: 'dog', 'cat', 'parrot', 'mouse', 'spider', 'bird'. If the pet is there let the user know they can get a pet, if the word is not there, let them know no pet is there."
   ]
  },
  {
   "cell_type": "code",
   "execution_count": 43,
   "metadata": {},
   "outputs": [],
   "source": [
    "#make list with your inventory\n",
    "pet_inventory = [ 'dog', 'cat', 'parrot', 'mouse', 'spider', 'bird']"
   ]
  },
  {
   "cell_type": "code",
   "execution_count": 44,
   "metadata": {},
   "outputs": [
    {
     "name": "stdout",
     "output_type": "stream",
     "text": [
      "What animal do you like?dog\n"
     ]
    }
   ],
   "source": [
    "#ask input from user\n",
    "pet_wantd = input('What animal do you like?')"
   ]
  },
  {
   "cell_type": "code",
   "execution_count": 45,
   "metadata": {},
   "outputs": [
    {
     "name": "stdout",
     "output_type": "stream",
     "text": [
      "dog\n"
     ]
    }
   ],
   "source": [
    "print( pet_wantd )"
   ]
  },
  {
   "cell_type": "code",
   "execution_count": 51,
   "metadata": {},
   "outputs": [
    {
     "name": "stdout",
     "output_type": "stream",
     "text": [
      "Sorry, no  dolphin is available \n",
      "Sorry, no  dolphin is available \n",
      "Sorry, no  dolphin is available \n",
      "Sorry, no  dolphin is available \n",
      "Sorry, no  dolphin is available \n",
      "Sorry, no  dolphin is available \n"
     ]
    }
   ],
   "source": [
    "#try with for/if\n",
    "\n",
    "for pet in pet_inventory:\n",
    "    if pet == pet_wantd:\n",
    "        print( 'Yes, we have a ', pet )\n",
    "    if pet != pet_wantd:\n",
    "        print( 'Sorry, no ', pet_wantd, 'is available ' )\n"
   ]
  },
  {
   "cell_type": "code",
   "execution_count": 48,
   "metadata": {},
   "outputs": [
    {
     "name": "stdout",
     "output_type": "stream",
     "text": [
      "Yes, we have a  dog\n"
     ]
    }
   ],
   "source": [
    "if pet_wantd in pet_inventory:\n",
    "    print( 'Yes, we have a ', pet_wantd )\n",
    "\n"
   ]
  },
  {
   "cell_type": "code",
   "execution_count": 50,
   "metadata": {},
   "outputs": [
    {
     "name": "stdout",
     "output_type": "stream",
     "text": [
      "What animal do you like?dolphin\n",
      "No, we don't have a  dolphin\n"
     ]
    }
   ],
   "source": [
    "pet_wantd = input('What animal do you like?')\n",
    "if pet_wantd not in pet_inventory:\n",
    "    print( \"No, we don't have a \", pet_wantd )\n",
    "\n"
   ]
  },
  {
   "cell_type": "code",
   "execution_count": null,
   "metadata": {},
   "outputs": [],
   "source": [
    "#try with if alone"
   ]
  },
  {
   "cell_type": "markdown",
   "metadata": {},
   "source": [
    "# ----------------------------------------------"
   ]
  },
  {
   "cell_type": "markdown",
   "metadata": {},
   "source": [
    "# WHILE"
   ]
  },
  {
   "cell_type": "markdown",
   "metadata": {},
   "source": [
    "## Does something ‘while’ a conditions is true. If not, it stops:\n",
    "while <condition 1>:  <br>\n",
    "-----do something\n"
   ]
  },
  {
   "cell_type": "markdown",
   "metadata": {},
   "source": [
    "#### For example, start with x = 1 and keep on adding 1 until x<5:\n"
   ]
  },
  {
   "cell_type": "code",
   "execution_count": 52,
   "metadata": {},
   "outputs": [
    {
     "name": "stdout",
     "output_type": "stream",
     "text": [
      "1\n",
      "2\n",
      "3\n",
      "4\n"
     ]
    }
   ],
   "source": [
    "x  = 1\n",
    "\n",
    "while x < 5:\n",
    "    print( x )\n",
    "    x += 1 # or x = x +1\n"
   ]
  },
  {
   "cell_type": "markdown",
   "metadata": {},
   "source": [
    "### Create array x going from 0 to 10 in steps of 0.1. Create array y=sin(x). Make a while loop that scans parameter i (initiate it to 0) and prints x[i],y[i] as long as y[i]>=0. \n"
   ]
  },
  {
   "cell_type": "code",
   "execution_count": 53,
   "metadata": {},
   "outputs": [],
   "source": [
    "x = np.arange( 0, 10 , 0.1 )\n",
    "y = np.sin( x )"
   ]
  },
  {
   "cell_type": "code",
   "execution_count": 54,
   "metadata": {},
   "outputs": [
    {
     "name": "stdout",
     "output_type": "stream",
     "text": [
      "0.0 0.0\n",
      "0.1 0.09983341664682815\n",
      "0.2 0.19866933079506122\n",
      "0.30000000000000004 0.2955202066613396\n",
      "0.4 0.3894183423086505\n",
      "0.5 0.479425538604203\n",
      "0.6000000000000001 0.5646424733950355\n",
      "0.7000000000000001 0.6442176872376911\n",
      "0.8 0.7173560908995228\n",
      "0.9 0.7833269096274833\n",
      "1.0 0.8414709848078965\n",
      "1.1 0.8912073600614354\n",
      "1.2000000000000002 0.9320390859672264\n",
      "1.3 0.963558185417193\n",
      "1.4000000000000001 0.9854497299884603\n",
      "1.5 0.9974949866040544\n",
      "1.6 0.9995736030415051\n",
      "1.7000000000000002 0.9916648104524686\n",
      "1.8 0.9738476308781951\n",
      "1.9000000000000001 0.9463000876874145\n",
      "2.0 0.9092974268256817\n",
      "2.1 0.8632093666488738\n",
      "2.2 0.8084964038195901\n",
      "2.3000000000000003 0.74570521217672\n",
      "2.4000000000000004 0.6754631805511506\n",
      "2.5 0.5984721441039564\n",
      "2.6 0.5155013718214642\n",
      "2.7 0.4273798802338298\n",
      "2.8000000000000003 0.33498815015590466\n",
      "2.9000000000000004 0.23924932921398198\n",
      "3.0 0.1411200080598672\n",
      "3.1 0.04158066243329049\n"
     ]
    }
   ],
   "source": [
    "i = 0 \n",
    "\n",
    "while y[ i ] >= 0 :\n",
    "    print( x[ i ], y[ i ] )\n",
    "    i+=1 "
   ]
  },
  {
   "cell_type": "markdown",
   "metadata": {},
   "source": [
    "### While loops accept \"else\" to do something once the condition is no longer met:"
   ]
  },
  {
   "cell_type": "code",
   "execution_count": 55,
   "metadata": {},
   "outputs": [
    {
     "name": "stdout",
     "output_type": "stream",
     "text": [
      "0\n",
      "1\n",
      "2\n",
      "3\n",
      "4\n",
      "x >= 5\n"
     ]
    }
   ],
   "source": [
    "x  = 0\n",
    "\n",
    "while x < 5:\n",
    "    print( x )\n",
    "    x = x + 1\n",
    "else:\n",
    "    print( 'x >= 5' )\n"
   ]
  },
  {
   "cell_type": "code",
   "execution_count": null,
   "metadata": {},
   "outputs": [],
   "source": []
  },
  {
   "cell_type": "markdown",
   "metadata": {},
   "source": [
    "## Breaking loops"
   ]
  },
  {
   "cell_type": "markdown",
   "metadata": {},
   "source": [
    "#### In some cases you may want to break through a loop if some condition is met. Use the **break**."
   ]
  },
  {
   "cell_type": "code",
   "execution_count": 56,
   "metadata": {},
   "outputs": [],
   "source": [
    "#### For example, make a for loop scanning through list x, which should be positive. Break if by accident x contains negative element:\n",
    "x =  [0 ,1, 2,4, 6,8, -12, 14, 16] "
   ]
  },
  {
   "cell_type": "code",
   "execution_count": 57,
   "metadata": {},
   "outputs": [
    {
     "name": "stdout",
     "output_type": "stream",
     "text": [
      "0\n",
      "1\n",
      "2\n",
      "4\n",
      "6\n",
      "8\n",
      "-12\n"
     ]
    }
   ],
   "source": [
    "for i in range( len( x ) ):\n",
    "    print( x[ i ] ) \n",
    "    if x[ i ] < 0 :\n",
    "        break"
   ]
  },
  {
   "cell_type": "markdown",
   "metadata": {},
   "source": [
    "### There are cases where you might want to raise exceptions (for example, your simulation gives a negative flux which is unphysical, or the file you try to open is not there) that break loops and give warning signs. \n"
   ]
  },
  {
   "cell_type": "markdown",
   "metadata": {},
   "source": [
    "## 1) I/O Errors:"
   ]
  },
  {
   "cell_type": "code",
   "execution_count": 62,
   "metadata": {},
   "outputs": [
    {
     "name": "stdout",
     "output_type": "stream",
     "text": [
      "cannot open ../all_data/forest_surface33.dat\n"
     ]
    }
   ],
   "source": [
    "\n",
    "file_list = ('../all_data/first_data_read_plot.dat', '../all_data/my_first_data.dat', '../all_data/forest_surface33.dat')  \n",
    "#if you have everything under demos/ you should be getting 1 error only\n",
    "\n",
    "for i in range(3):\n",
    "#    f = open(file_list[i], 'r')\n",
    "    try:\n",
    "        f = open(file_list[i], 'r')\n",
    "        f.read()\n",
    "    except IOError:\n",
    "        \n",
    "        print ('cannot open', file_list[i])\n"
   ]
  },
  {
   "cell_type": "code",
   "execution_count": null,
   "metadata": {},
   "outputs": [],
   "source": []
  },
  {
   "cell_type": "markdown",
   "metadata": {},
   "source": [
    "## 2) Making your own exceptions:"
   ]
  },
  {
   "cell_type": "code",
   "execution_count": null,
   "metadata": {},
   "outputs": [],
   "source": []
  },
  {
   "cell_type": "code",
   "execution_count": null,
   "metadata": {},
   "outputs": [],
   "source": [
    "class NegativeFlux(Exception):\n",
    "    \"\"\"You got a physically impossible flux (F<0)\"\"\"\n",
    "    \n",
    "    pass\n",
    "\n"
   ]
  },
  {
   "cell_type": "code",
   "execution_count": null,
   "metadata": {},
   "outputs": [],
   "source": [
    "#then raise an exception if F<0:\n",
    "Fin = 5\n",
    "\n",
    "if Fin<0:\n",
    "    raise NegativeFlux( \"F < 0 !\" )"
   ]
  },
  {
   "cell_type": "code",
   "execution_count": null,
   "metadata": {},
   "outputs": [],
   "source": [
    "Fin = -25.\n",
    "\n",
    "\n",
    "if Fin<0:\n",
    "    raise NegativeFlux( \"F < 0 !\" )"
   ]
  },
  {
   "cell_type": "code",
   "execution_count": null,
   "metadata": {},
   "outputs": [],
   "source": []
  },
  {
   "cell_type": "markdown",
   "metadata": {},
   "source": [
    "## Continuing loops"
   ]
  },
  {
   "cell_type": "markdown",
   "metadata": {},
   "source": [
    "### continue : continues with next step. For example:\n"
   ]
  },
  {
   "cell_type": "code",
   "execution_count": 63,
   "metadata": {},
   "outputs": [
    {
     "name": "stdout",
     "output_type": "stream",
     "text": [
      "Current Letter : P\n",
      "Current Letter : y\n",
      "Current Letter : t\n",
      "Current Letter : o\n",
      "Current Letter : n\n"
     ]
    }
   ],
   "source": [
    "for ch in 'Python': \n",
    "    if ch == 'h': \n",
    "        continue   #go to the next iteration \n",
    "    print ('Current Letter :', ch)\n"
   ]
  },
  {
   "cell_type": "code",
   "execution_count": 64,
   "metadata": {},
   "outputs": [
    {
     "name": "stdout",
     "output_type": "stream",
     "text": [
      "20.0\n",
      "40.0\n",
      "100.0\n",
      "Oops! negative flux here: 3\n",
      "30.0\n",
      "Oops! negative flux here: 5\n",
      "50.0\n"
     ]
    }
   ],
   "source": [
    "F = [ 2, 4, 10, -3, 3, -4, 5 ]\n",
    "\n",
    "for i in range( 7 ):\n",
    "    \n",
    "    Fin = F[ i ] * 10.\n",
    "    \n",
    "    if Fin < 0:\n",
    "        print('Oops! negative flux here:', i )\n",
    "        continue\n",
    "        \n",
    "    print( Fin )\n"
   ]
  },
  {
   "cell_type": "code",
   "execution_count": null,
   "metadata": {},
   "outputs": [],
   "source": []
  },
  {
   "cell_type": "markdown",
   "metadata": {},
   "source": [
    "#### Make a loop that searches a list (or tuple) of strings and returns the longest word and the shortest word that the list contains."
   ]
  },
  {
   "cell_type": "code",
   "execution_count": 65,
   "metadata": {},
   "outputs": [],
   "source": [
    "word_list = [ 'hello', 'world', 'computer', 'test', 'homework', 'programming', 'Python' ]"
   ]
  },
  {
   "cell_type": "code",
   "execution_count": null,
   "metadata": {},
   "outputs": [],
   "source": [
    "#how would you go about it?"
   ]
  },
  {
   "cell_type": "code",
   "execution_count": 66,
   "metadata": {},
   "outputs": [],
   "source": [
    "max_word = word_list[ 0 ]"
   ]
  },
  {
   "cell_type": "code",
   "execution_count": 69,
   "metadata": {},
   "outputs": [],
   "source": [
    "for words in word_list:\n",
    "    if len( words ) > len( max_word ):\n",
    "        max_word = words\n"
   ]
  },
  {
   "cell_type": "code",
   "execution_count": 70,
   "metadata": {},
   "outputs": [
    {
     "name": "stdout",
     "output_type": "stream",
     "text": [
      "programming\n"
     ]
    }
   ],
   "source": [
    "print( max_word )"
   ]
  },
  {
   "cell_type": "code",
   "execution_count": 71,
   "metadata": {},
   "outputs": [],
   "source": [
    "min_word = word_list[ 0 ]"
   ]
  },
  {
   "cell_type": "code",
   "execution_count": 72,
   "metadata": {},
   "outputs": [],
   "source": [
    "for words in word_list:\n",
    "    if len( words ) < len( min_word ):\n",
    "        min_word = words\n"
   ]
  },
  {
   "cell_type": "code",
   "execution_count": 73,
   "metadata": {},
   "outputs": [
    {
     "name": "stdout",
     "output_type": "stream",
     "text": [
      "test\n"
     ]
    }
   ],
   "source": [
    "print( min_word )"
   ]
  },
  {
   "cell_type": "markdown",
   "metadata": {},
   "source": [
    "### Create a numpy array z that has the elements: 95, 402, 984, 651, 69, 408, 319, 601, 485, 980, 507, 725, 547, 544, 610, 83, 165, 141, 500, 263, 17, 865, 575, 219, 390, 984, 592, 236, 105, 942, 941, 86, 42, 47, 1, 900, 34, 23, 35, 820, 66, 597, 978, 328, 615, 953, 345, 409, 162, 758, 219, 918, 237, 412, 506, 826, 248, 86, 950, 626, 949, 687, 217, 815, 67, 104, 58, 512, 24, 892, 894, 767, 553, 81, 2379, 843, 831, 445, 742, 717, 958, 609, 842, 451, 688, 753, 854, 685, 93, 1857, 440, 380, 126, 721, 328, 753, 470, 743, 52. <br> Create a for loop that scans through z and prints a ‘yes’ and the element number if z[i] is greater than 200. <br> <br> Change the loop to print a ‘yes’ and the value of z if z[i] is greater than 200 and less than 800. Change the loop to print ‘yes’ and the value of z if z[i] is greater than 200 and less  than 800, but **not** when 220<z[i]<300."
   ]
  },
  {
   "cell_type": "code",
   "execution_count": null,
   "metadata": {},
   "outputs": [],
   "source": []
  },
  {
   "cell_type": "code",
   "execution_count": null,
   "metadata": {},
   "outputs": [],
   "source": []
  },
  {
   "cell_type": "code",
   "execution_count": null,
   "metadata": {},
   "outputs": [],
   "source": []
  },
  {
   "cell_type": "code",
   "execution_count": null,
   "metadata": {},
   "outputs": [],
   "source": []
  },
  {
   "cell_type": "code",
   "execution_count": null,
   "metadata": {},
   "outputs": [],
   "source": []
  },
  {
   "cell_type": "code",
   "execution_count": null,
   "metadata": {},
   "outputs": [],
   "source": [
    "# add condition: not if 220<z[i]<300\n",
    "\n"
   ]
  },
  {
   "cell_type": "markdown",
   "metadata": {},
   "source": [
    "### Create a for/if loop that scans through the elements of z and creates a list with the location i where z[i] is greater than 200. How else could you do this? Which way is faster? "
   ]
  },
  {
   "cell_type": "code",
   "execution_count": null,
   "metadata": {},
   "outputs": [],
   "source": []
  },
  {
   "cell_type": "code",
   "execution_count": null,
   "metadata": {},
   "outputs": [],
   "source": []
  },
  {
   "cell_type": "code",
   "execution_count": null,
   "metadata": {},
   "outputs": [],
   "source": []
  },
  {
   "cell_type": "code",
   "execution_count": null,
   "metadata": {},
   "outputs": [],
   "source": []
  },
  {
   "cell_type": "code",
   "execution_count": null,
   "metadata": {},
   "outputs": [],
   "source": []
  },
  {
   "cell_type": "markdown",
   "metadata": {},
   "source": [
    "### Now make a loop that searches z element by element to find the minimum of the full array. How else can you do this? "
   ]
  },
  {
   "cell_type": "code",
   "execution_count": null,
   "metadata": {},
   "outputs": [],
   "source": []
  },
  {
   "cell_type": "code",
   "execution_count": null,
   "metadata": {},
   "outputs": [],
   "source": [
    "\n"
   ]
  },
  {
   "cell_type": "code",
   "execution_count": null,
   "metadata": {},
   "outputs": [],
   "source": []
  },
  {
   "cell_type": "code",
   "execution_count": null,
   "metadata": {},
   "outputs": [],
   "source": []
  },
  {
   "cell_type": "markdown",
   "metadata": {},
   "source": [
    "### Do the same thing, but now for the maximum:"
   ]
  },
  {
   "cell_type": "code",
   "execution_count": null,
   "metadata": {},
   "outputs": [],
   "source": []
  },
  {
   "cell_type": "code",
   "execution_count": null,
   "metadata": {},
   "outputs": [],
   "source": []
  },
  {
   "cell_type": "code",
   "execution_count": null,
   "metadata": {},
   "outputs": [],
   "source": []
  },
  {
   "cell_type": "code",
   "execution_count": null,
   "metadata": {},
   "outputs": [],
   "source": []
  },
  {
   "cell_type": "markdown",
   "metadata": {},
   "source": [
    "### Read in the file first_data_plot.dat that we used in a previous demo. Skip the first line when reading in, it’s a comment line (use comments=‘#’ or skiprows=1). The first column is the wavelength of your observations, and the other two are two spectra. Make a loop that scans both full spectra and prints the wavelength, and both spectra if the first spectrum is larger than 0.5 and (at the same wavelength) the second one is larger than 0.3. Print a message warning you that the conditions are not met otherwise."
   ]
  },
  {
   "cell_type": "code",
   "execution_count": 74,
   "metadata": {},
   "outputs": [],
   "source": [
    "# read the data in:\n",
    "data = np.loadtxt( '../all_data/first_data_read_plot.dat' )"
   ]
  },
  {
   "cell_type": "code",
   "execution_count": 76,
   "metadata": {},
   "outputs": [],
   "source": [
    "#print( data )"
   ]
  },
  {
   "cell_type": "code",
   "execution_count": 77,
   "metadata": {},
   "outputs": [],
   "source": [
    "# assign to variables with names that make sense:\n",
    "wav   = data[ :, 0 ]\n",
    "flux1 = data[ :, 1 ]\n",
    "flux2 = data[ :, 2 ]"
   ]
  },
  {
   "cell_type": "code",
   "execution_count": 81,
   "metadata": {
    "scrolled": false
   },
   "outputs": [
    {
     "name": "stdout",
     "output_type": "stream",
     "text": [
      "0.72 0.75\n",
      "0.73 0.7\n",
      "0.69 0.65\n",
      "0.68 0.62\n",
      "0.66 0.7\n",
      "0.69 0.69\n",
      "0.66 0.7\n",
      "0.63 0.72\n",
      "0.63 0.66\n",
      "0.63 0.66\n",
      "0.65 0.65\n",
      "0.69 0.72\n",
      "0.69 0.73\n",
      "0.67 0.72\n",
      "0.66 0.72\n",
      "0.66 0.67\n",
      "0.65 0.62\n",
      "0.64 0.66\n",
      "0.67 0.67\n",
      "0.74 0.75\n",
      "0.78 0.81\n",
      "0.8 0.83\n",
      "0.81 0.86\n",
      "0.82 0.88\n",
      "0.83 0.92\n",
      "0.87 0.91\n",
      "0.9 0.95\n",
      "0.93 0.95\n",
      "0.94 1.0\n",
      "0.98 1.02\n",
      "0.98 1.01\n",
      "0.97 1.0\n",
      "0.97 0.97\n",
      "0.99 1.01\n",
      "0.96 0.95\n",
      "1.0 1.0\n",
      "1.04 1.02\n",
      "1.09 1.06\n",
      "1.08 1.06\n",
      "1.09 1.07\n",
      "1.07 1.09\n",
      "1.08 1.1\n",
      "1.04 1.07\n",
      "1.08 1.06\n",
      "1.06 1.07\n",
      "1.08 1.09\n",
      "too long wavelength\n",
      "too long wavelength\n",
      "too long wavelength\n",
      "too long wavelength\n",
      "too long wavelength\n",
      "too long wavelength\n",
      "too long wavelength\n",
      "too long wavelength\n",
      "too long wavelength\n",
      "too long wavelength\n",
      "too long wavelength\n",
      "too long wavelength\n",
      "too long wavelength\n",
      "too long wavelength\n",
      "too long wavelength\n",
      "too long wavelength\n",
      "too long wavelength\n",
      "too long wavelength\n",
      "too long wavelength\n",
      "too long wavelength\n",
      "too long wavelength\n",
      "too long wavelength\n",
      "too long wavelength\n",
      "too long wavelength\n",
      "too long wavelength\n",
      "too long wavelength\n",
      "too long wavelength\n",
      "too long wavelength\n",
      "too long wavelength\n",
      "too long wavelength\n",
      "too long wavelength\n",
      "too long wavelength\n",
      "too long wavelength\n",
      "too long wavelength\n",
      "too long wavelength\n",
      "too long wavelength\n",
      "too long wavelength\n",
      "too long wavelength\n",
      "too long wavelength\n",
      "too long wavelength\n",
      "too long wavelength\n",
      "too long wavelength\n",
      "too long wavelength\n",
      "too long wavelength\n",
      "too long wavelength\n",
      "too long wavelength\n",
      "too long wavelength\n",
      "too long wavelength\n",
      "too long wavelength\n",
      "too long wavelength\n",
      "too long wavelength\n",
      "too long wavelength\n",
      "too long wavelength\n",
      "too long wavelength\n",
      "too long wavelength\n",
      "too long wavelength\n",
      "too long wavelength\n",
      "too long wavelength\n",
      "too long wavelength\n",
      "too long wavelength\n",
      "too long wavelength\n",
      "too long wavelength\n",
      "too long wavelength\n",
      "too long wavelength\n",
      "too long wavelength\n",
      "too long wavelength\n",
      "too long wavelength\n",
      "too long wavelength\n",
      "too long wavelength\n",
      "too long wavelength\n",
      "too long wavelength\n",
      "too long wavelength\n",
      "too long wavelength\n",
      "too long wavelength\n",
      "too long wavelength\n",
      "too long wavelength\n",
      "too long wavelength\n",
      "too long wavelength\n",
      "too long wavelength\n",
      "too long wavelength\n",
      "too long wavelength\n",
      "too long wavelength\n",
      "too long wavelength\n",
      "too long wavelength\n",
      "too long wavelength\n",
      "too long wavelength\n",
      "too long wavelength\n",
      "too long wavelength\n",
      "too long wavelength\n",
      "too long wavelength\n",
      "too long wavelength\n",
      "too long wavelength\n",
      "too long wavelength\n",
      "too long wavelength\n",
      "too long wavelength\n",
      "too long wavelength\n",
      "too long wavelength\n",
      "too long wavelength\n"
     ]
    }
   ],
   "source": [
    "# print flux1 and flux 2 IF wav < 1.3\n",
    "#else print 'too long wavelength'\n",
    "\n",
    "for i in range( len (wav) ) :\n",
    "    if wav[ i ] < 1.3:\n",
    "        print( flux1[ i ], flux2[ i ])\n",
    "    else:\n",
    "        print( 'too long wavelength')\n",
    "    "
   ]
  },
  {
   "cell_type": "code",
   "execution_count": null,
   "metadata": {},
   "outputs": [],
   "source": [
    "\n"
   ]
  },
  {
   "cell_type": "code",
   "execution_count": null,
   "metadata": {},
   "outputs": [],
   "source": []
  },
  {
   "cell_type": "markdown",
   "metadata": {},
   "source": [
    "### Write a for loop that scans a list of input file names: ‘first_data_read_in.dat’, ‘second_data_read_in.dat’, ‘not_existing.dat’ that tries to open the file, and gives you an IOError if it fails. Add a comment that informs the user which file doesn’t exist in the list of file names."
   ]
  },
  {
   "cell_type": "code",
   "execution_count": null,
   "metadata": {},
   "outputs": [],
   "source": [
    "list_names = [ 'first_data_read_in.dat', 'second_data_read_in.dat', 'not_existing.dat'  ]"
   ]
  },
  {
   "cell_type": "code",
   "execution_count": null,
   "metadata": {},
   "outputs": [],
   "source": []
  },
  {
   "cell_type": "code",
   "execution_count": null,
   "metadata": {},
   "outputs": [],
   "source": []
  },
  {
   "cell_type": "code",
   "execution_count": null,
   "metadata": {},
   "outputs": [],
   "source": []
  },
  {
   "cell_type": "code",
   "execution_count": null,
   "metadata": {},
   "outputs": [],
   "source": []
  },
  {
   "cell_type": "code",
   "execution_count": null,
   "metadata": {},
   "outputs": [],
   "source": []
  },
  {
   "cell_type": "markdown",
   "metadata": {},
   "source": [
    "### Create a function that gets as input a word. If the word you give is maximum of 5 characters it prints it. If it is longer, it exits with an error message. In the main code write a code that asks input from the user and calls the function to test if it is right (< 5 char) or not. Try googling to find how you can use the keyboard to get input (or, remember, Python commands are *very* intuitive)."
   ]
  },
  {
   "cell_type": "code",
   "execution_count": 82,
   "metadata": {},
   "outputs": [],
   "source": [
    "# lets first make the function:\n",
    "\n",
    "def test_word_size( my_rand_word ):\n",
    "    \"\"\"Returns words that are less than 5 characters or error msg. \n",
    "    Input: user input word \n",
    "    Output: the word if it has < 5 char or an error massage \"\"\"\n",
    "    \n",
    "    if len( my_rand_word ) <= 5:\n",
    "        print( my_rand_word )\n",
    "    else: \n",
    "        print( \"Too long word! Sorry! \" )\n",
    "        \n",
    "    return "
   ]
  },
  {
   "cell_type": "code",
   "execution_count": 83,
   "metadata": {},
   "outputs": [
    {
     "name": "stdout",
     "output_type": "stream",
     "text": [
      " Give me your word: test\n",
      "test\n"
     ]
    }
   ],
   "source": [
    "word1 = input( \" Give me your word: \" )   # try: test, gap, approximation, about\n",
    "\n",
    "test_word_size ( word1 )"
   ]
  },
  {
   "cell_type": "code",
   "execution_count": null,
   "metadata": {},
   "outputs": [],
   "source": []
  },
  {
   "cell_type": "code",
   "execution_count": null,
   "metadata": {},
   "outputs": [],
   "source": []
  },
  {
   "cell_type": "code",
   "execution_count": null,
   "metadata": {},
   "outputs": [],
   "source": []
  },
  {
   "cell_type": "markdown",
   "metadata": {},
   "source": [
    "### Practice dictionaries"
   ]
  },
  {
   "cell_type": "code",
   "execution_count": null,
   "metadata": {},
   "outputs": [],
   "source": [
    "#We have a dictionary of students (1,2 and 3). For every student we have a name, and their scores (0-10) \n",
    "#in hw assignments, quizzes and projects:\n",
    "\n",
    "student1 = {\n",
    "  \"name\": \"Jane\",\n",
    "  \"homework\": [9.0,7.0,5.0,10.],\n",
    "  \"quizzes\": [8.0,7.0,9.0],\n",
    "  \"projects\": [7.5,9.5]\n",
    "}\n",
    "student2 = {\n",
    "  \"name\": \"Joe\",\n",
    "  \"homework\": [10.0, 3.9, 4.0, 10.0],\n",
    "  \"quizzes\": [5.1, 4.2, 5.0],\n",
    "  \"projects\": [8.9, 2.7]\n",
    "}\n",
    "student3 = {\n",
    "  \"name\": \"Jimmy\",\n",
    "  \"homework\": [3.0, 8.0, 9.0, 10.0],\n",
    "  \"quizzes\": [3.0, 7.5, 7.],\n",
    "  \"projects\": [8.0, 10.0]\n",
    "}\n"
   ]
  },
  {
   "cell_type": "code",
   "execution_count": null,
   "metadata": {},
   "outputs": [],
   "source": [
    "plt.figure( figsize = ( 8, 8 ) )\n"
   ]
  },
  {
   "cell_type": "code",
   "execution_count": null,
   "metadata": {},
   "outputs": [],
   "source": [
    "#make a function total_grade that gets the homework, quiz and projects information from the dictionary, \n",
    "#calculates their mean and then a final score using:\n",
    "#\n",
    "# sum = 0.4 * mean(homework) + 0.4 * mean(quiz) + 0.2 * mean(projects)\n",
    "\n",
    "#the function should then return the student's average grade\n",
    "# call the function and print the student's name and average grade for all 3 students\n",
    "\n"
   ]
  },
  {
   "cell_type": "code",
   "execution_count": null,
   "metadata": {},
   "outputs": [],
   "source": []
  },
  {
   "cell_type": "code",
   "execution_count": null,
   "metadata": {},
   "outputs": [],
   "source": []
  },
  {
   "cell_type": "code",
   "execution_count": null,
   "metadata": {},
   "outputs": [],
   "source": []
  },
  {
   "cell_type": "code",
   "execution_count": null,
   "metadata": {},
   "outputs": [],
   "source": []
  },
  {
   "cell_type": "code",
   "execution_count": null,
   "metadata": {},
   "outputs": [],
   "source": []
  },
  {
   "cell_type": "code",
   "execution_count": null,
   "metadata": {},
   "outputs": [],
   "source": []
  },
  {
   "cell_type": "code",
   "execution_count": null,
   "metadata": {},
   "outputs": [],
   "source": []
  },
  {
   "cell_type": "code",
   "execution_count": null,
   "metadata": {},
   "outputs": [],
   "source": []
  }
 ],
 "metadata": {
  "kernelspec": {
   "display_name": "Python 3 (ipykernel)",
   "language": "python",
   "name": "python3"
  },
  "language_info": {
   "codemirror_mode": {
    "name": "ipython",
    "version": 3
   },
   "file_extension": ".py",
   "mimetype": "text/x-python",
   "name": "python",
   "nbconvert_exporter": "python",
   "pygments_lexer": "ipython3",
   "version": "3.7.11"
  }
 },
 "nbformat": 4,
 "nbformat_minor": 2
}
