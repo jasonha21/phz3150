{
 "cells": [
  {
   "cell_type": "markdown",
   "metadata": {},
   "source": [
    "# FOR, IF, WHILE practicum"
   ]
  },
  {
   "cell_type": "code",
   "execution_count": null,
   "metadata": {},
   "outputs": [],
   "source": [
    "### 2.17.22 - PHZ3150 "
   ]
  },
  {
   "cell_type": "markdown",
   "metadata": {},
   "source": [
    "<img src=\"for_loop_flowchart.png\" width=600 height=500 />"
   ]
  },
  {
   "cell_type": "markdown",
   "metadata": {},
   "source": [
    "#### --------------------------"
   ]
  },
  {
   "cell_type": "markdown",
   "metadata": {},
   "source": [
    "<img src=\"if_while_flowchart.png\" width=600 height=500 />"
   ]
  },
  {
   "cell_type": "markdown",
   "metadata": {},
   "source": [
    "#### --------------------------"
   ]
  },
  {
   "cell_type": "markdown",
   "metadata": {},
   "source": [
    "### Examples for syntax:"
   ]
  },
  {
   "cell_type": "code",
   "execution_count": 1,
   "metadata": {},
   "outputs": [
    {
     "name": "stdout",
     "output_type": "stream",
     "text": [
      "Mary\n",
      "Poppins\n",
      "was\n",
      "published\n",
      "in\n",
      "1934\n"
     ]
    }
   ],
   "source": [
    "x = [ 'Mary', 'Poppins', 'was', 'published', 'in', '1934' ]\n",
    "\n",
    "for word in x:\n",
    "    print( word )"
   ]
  },
  {
   "cell_type": "code",
   "execution_count": 9,
   "metadata": {},
   "outputs": [
    {
     "name": "stdout",
     "output_type": "stream",
     "text": [
      "Mary\n",
      "Poppins\n",
      "was\n",
      "published\n",
      "in\n",
      "1934\n"
     ]
    }
   ],
   "source": [
    "# or: \n",
    "for word in range( len( x ) ):\n",
    "    print( x[ word ] )"
   ]
  },
  {
   "cell_type": "code",
   "execution_count": 11,
   "metadata": {},
   "outputs": [],
   "source": [
    "numbers = [ 1, 38, 500, 8, 10, 12, 200, 42 ]"
   ]
  },
  {
   "cell_type": "code",
   "execution_count": 13,
   "metadata": {},
   "outputs": [
    {
     "name": "stdout",
     "output_type": "stream",
     "text": [
      "too small number\n",
      "number larger than 30: 38\n",
      "number larger than 100: 500\n",
      "too small number\n",
      "too small number\n",
      "too small number\n",
      "number larger than 100: 200\n",
      "number larger than 30: 42\n"
     ]
    }
   ],
   "source": [
    "for n in numbers:\n",
    "    if n > 100:\n",
    "        print( 'number larger than 100:', n )\n",
    "    elif n >30:\n",
    "        print( 'number larger than 30:', n )\n",
    "    else:\n",
    "        print( 'too small number' )"
   ]
  },
  {
   "cell_type": "code",
   "execution_count": 18,
   "metadata": {},
   "outputs": [
    {
     "name": "stdout",
     "output_type": "stream",
     "text": [
      "too small number\n",
      "number larger than 30: 38\n",
      "number larger than 100: 500\n",
      "too small number\n",
      "too small number\n",
      "too small number\n",
      "number larger than 100: 200\n",
      "number larger than 30: 42\n"
     ]
    }
   ],
   "source": [
    "#or in a while format:\n",
    "n = 0\n",
    "\n",
    "while n < len( numbers):\n",
    "    if numbers[ n ] > 100:\n",
    "        print( 'number larger than 100:', numbers[ n ] )\n",
    "    elif numbers[ n ] >30:\n",
    "        print( 'number larger than 30:', numbers[ n ] )\n",
    "    else:\n",
    "        print( 'too small number' )\n",
    "    n = n + 1"
   ]
  },
  {
   "cell_type": "code",
   "execution_count": null,
   "metadata": {},
   "outputs": [],
   "source": []
  },
  {
   "cell_type": "code",
   "execution_count": 2,
   "metadata": {},
   "outputs": [
    {
     "name": "stdout",
     "output_type": "stream",
     "text": [
      "Give me a number please1\n",
      "Your number was too small!\n"
     ]
    }
   ],
   "source": [
    "m = 1000\n",
    "\n",
    "while m > 100: \n",
    "    m = input( 'Give me a number please' )\n",
    "    m = float( m )\n",
    "else:\n",
    "    print('Your number was too small!')"
   ]
  },
  {
   "cell_type": "code",
   "execution_count": null,
   "metadata": {},
   "outputs": [],
   "source": []
  },
  {
   "cell_type": "markdown",
   "metadata": {},
   "source": [
    "## Let's practice what we learned this week"
   ]
  },
  {
   "cell_type": "markdown",
   "metadata": {},
   "source": [
    "#### Let's start by importin numpy, and matplotlib.pyplot"
   ]
  },
  {
   "cell_type": "code",
   "execution_count": 26,
   "metadata": {},
   "outputs": [],
   "source": [
    "import numpy as np\n",
    "import matplotlib.pyplot as plt"
   ]
  },
  {
   "cell_type": "code",
   "execution_count": null,
   "metadata": {},
   "outputs": [],
   "source": []
  },
  {
   "cell_type": "markdown",
   "metadata": {},
   "source": [
    "### Get array z and use a for/else loop that searches z element by element to find the minimum of the full array. How else can you do this? "
   ]
  },
  {
   "cell_type": "code",
   "execution_count": 27,
   "metadata": {},
   "outputs": [],
   "source": [
    "z =  np.array( [ 95, 402, 984, 651, 69, 408, 319, 601, 485, 980, 507, 725, \n",
    "     547, 544, 610, 83, 165, 141, 500, 263, 17, 865, 575, 219, 390, 984, \n",
    "     592, 236, 105, 942, 941, 86, 42, 47, 1, 900, 34, 23, 35, 820, 66, 597, \n",
    "     978, 328, 615, 953, 345, 409, 162, 758, 219, 918, 237, 412, 506, 826, \n",
    "     248, 86, 950, 626, 949, 687, 217, 815, 67, 104, 58, 512, 24, 892, 894, \n",
    "     767, 553, 81, 2379, 843, 831, 445, 742, 717, 958, 609, 842, 451, 688, \n",
    "     753, 854, 685, 93, 857, 440, 380, 126, 721, 328, 753, 470, 743, 52 ] )"
   ]
  },
  {
   "cell_type": "code",
   "execution_count": 28,
   "metadata": {},
   "outputs": [],
   "source": [
    "temp_min = z[ 0 ] "
   ]
  },
  {
   "cell_type": "code",
   "execution_count": 29,
   "metadata": {},
   "outputs": [],
   "source": [
    "for num in range( 1, len( z ) ):\n",
    "    if z[ num ] < temp_min:\n",
    "        temp_min = z[ num ]"
   ]
  },
  {
   "cell_type": "code",
   "execution_count": 30,
   "metadata": {},
   "outputs": [
    {
     "name": "stdout",
     "output_type": "stream",
     "text": [
      "1\n"
     ]
    }
   ],
   "source": [
    "print( temp_min )"
   ]
  },
  {
   "cell_type": "code",
   "execution_count": 31,
   "metadata": {},
   "outputs": [
    {
     "name": "stdout",
     "output_type": "stream",
     "text": [
      "1\n"
     ]
    }
   ],
   "source": [
    "#how else would you do it?\n",
    "print( np.min( z ))"
   ]
  },
  {
   "cell_type": "code",
   "execution_count": null,
   "metadata": {},
   "outputs": [],
   "source": []
  },
  {
   "cell_type": "markdown",
   "metadata": {},
   "source": [
    "### Do the same thing, but now for the maximum:"
   ]
  },
  {
   "cell_type": "code",
   "execution_count": 32,
   "metadata": {},
   "outputs": [],
   "source": [
    "temp_max = z[ 0 ] "
   ]
  },
  {
   "cell_type": "code",
   "execution_count": 33,
   "metadata": {},
   "outputs": [],
   "source": [
    "for num in range( 1, len( z ) ):\n",
    "    if z[ num ] > temp_max:\n",
    "        temp_max = z[ num ]"
   ]
  },
  {
   "cell_type": "code",
   "execution_count": 34,
   "metadata": {},
   "outputs": [
    {
     "name": "stdout",
     "output_type": "stream",
     "text": [
      "2379\n"
     ]
    }
   ],
   "source": [
    "print( temp_max )"
   ]
  },
  {
   "cell_type": "code",
   "execution_count": 35,
   "metadata": {},
   "outputs": [
    {
     "name": "stdout",
     "output_type": "stream",
     "text": [
      "2379\n"
     ]
    }
   ],
   "source": [
    "print( np.max( z ))"
   ]
  },
  {
   "cell_type": "code",
   "execution_count": null,
   "metadata": {},
   "outputs": [],
   "source": []
  },
  {
   "cell_type": "markdown",
   "metadata": {},
   "source": [
    "### Read in the file first_data_plot.dat that we used in a previous demo. Skip the first line when reading in, it’s a comment line (use comments=‘#’ or skiprows=1). Print the length of the table. The first column is the wavelength of your observations, and the other two are two spectra. Make a loop that scans both full spectra and prints the wavelength, and both spectra if the first spectrum is larger than 0.5 and (at the same wavelength) the second one is larger than 0.3. Print a message warning you that the conditions are not met otherwise."
   ]
  },
  {
   "cell_type": "code",
   "execution_count": 36,
   "metadata": {},
   "outputs": [],
   "source": [
    "# read the data in:\n",
    "data = np.loadtxt('../all_data/first_data_read_plot.dat', comments='#')"
   ]
  },
  {
   "cell_type": "code",
   "execution_count": 37,
   "metadata": {},
   "outputs": [
    {
     "name": "stdout",
     "output_type": "stream",
     "text": [
      "[[1.1  0.72 0.75]\n",
      " [1.11 0.73 0.7 ]\n",
      " [1.11 0.69 0.65]\n",
      " [1.11 0.68 0.62]]\n"
     ]
    }
   ],
   "source": [
    "print( data[ :4 , : ] )"
   ]
  },
  {
   "cell_type": "code",
   "execution_count": 38,
   "metadata": {},
   "outputs": [],
   "source": [
    "# assign to variables with names that make sense:\n",
    "wav   = data[ :, 0 ]\n",
    "flux1 = data[ :, 1 ]\n",
    "flux2 = data[ :, 2 ]"
   ]
  },
  {
   "cell_type": "code",
   "execution_count": 39,
   "metadata": {
    "scrolled": false
   },
   "outputs": [
    {
     "name": "stdout",
     "output_type": "stream",
     "text": [
      "1.1 0.72 0.75\n",
      "1.11 0.73 0.7\n",
      "1.11 0.69 0.65\n",
      "1.11 0.68 0.62\n",
      "1.12 0.66 0.7\n",
      "1.12 0.69 0.69\n",
      "1.13 0.66 0.7\n",
      "1.13 0.63 0.72\n",
      "1.14 0.63 0.66\n",
      "1.14 0.63 0.66\n",
      "1.14 0.65 0.65\n",
      "1.15 0.69 0.72\n",
      "1.15 0.69 0.73\n",
      "1.16 0.67 0.72\n",
      "1.16 0.66 0.72\n",
      "1.17 0.66 0.67\n",
      "1.17 0.65 0.62\n",
      "1.17 0.64 0.66\n",
      "1.18 0.67 0.67\n",
      "1.18 0.74 0.75\n",
      "1.19 0.78 0.81\n",
      "1.19 0.8 0.83\n",
      "1.19 0.81 0.86\n",
      "1.2 0.82 0.88\n",
      "1.2 0.83 0.92\n",
      "1.21 0.87 0.91\n",
      "1.21 0.9 0.95\n",
      "1.22 0.93 0.95\n",
      "1.22 0.94 1.0\n",
      "1.22 0.98 1.02\n",
      "1.23 0.98 1.01\n",
      "1.23 0.97 1.0\n",
      "1.24 0.97 0.97\n",
      "1.24 0.99 1.01\n",
      "1.25 0.96 0.95\n",
      "1.25 1.0 1.0\n",
      "1.26 1.04 1.02\n",
      "1.26 1.09 1.06\n",
      "1.26 1.08 1.06\n",
      "1.27 1.09 1.07\n",
      "1.27 1.07 1.09\n",
      "1.28 1.08 1.1\n",
      "1.28 1.04 1.07\n",
      "1.29 1.08 1.06\n",
      "1.29 1.06 1.07\n",
      "1.29 1.08 1.09\n",
      "1.3 1.07 1.07\n",
      "1.3 1.07 1.05\n",
      "1.31 1.06 1.05\n",
      "1.31 1.06 1.01\n",
      "1.32 1.04 1.01\n",
      "1.32 1.02 1.0\n",
      "1.32 0.93 0.91\n",
      "1.33 0.83 0.82\n",
      "1.33 0.64 0.6\n",
      "1.34 0.51 0.44\n",
      "criteria not met \n",
      "criteria not met \n",
      "criteria not met \n",
      "criteria not met \n",
      "criteria not met \n",
      "criteria not met \n",
      "criteria not met \n",
      "criteria not met \n",
      "criteria not met \n",
      "criteria not met \n",
      "criteria not met \n",
      "criteria not met \n",
      "criteria not met \n",
      "criteria not met \n",
      "criteria not met \n",
      "criteria not met \n",
      "criteria not met \n",
      "criteria not met \n",
      "criteria not met \n",
      "criteria not met \n",
      "criteria not met \n",
      "criteria not met \n",
      "criteria not met \n",
      "criteria not met \n",
      "criteria not met \n",
      "criteria not met \n",
      "criteria not met \n",
      "criteria not met \n",
      "criteria not met \n",
      "criteria not met \n",
      "criteria not met \n",
      "criteria not met \n",
      "criteria not met \n",
      "criteria not met \n",
      "criteria not met \n",
      "criteria not met \n",
      "criteria not met \n",
      "1.5 0.52 0.57\n",
      "1.5 0.54 0.57\n",
      "1.51 0.58 0.55\n",
      "1.51 0.58 0.6\n",
      "1.52 0.61 0.64\n",
      "1.52 0.63 0.66\n",
      "1.52 0.66 0.7\n",
      "1.53 0.67 0.67\n",
      "1.53 0.7 0.72\n",
      "1.54 0.7 0.75\n",
      "1.54 0.74 0.75\n",
      "1.54 0.76 0.78\n",
      "1.55 0.79 0.8\n",
      "1.55 0.8 0.83\n",
      "1.56 0.82 0.84\n",
      "1.56 0.81 0.82\n",
      "1.56 0.85 0.82\n",
      "1.57 0.86 0.85\n",
      "1.57 0.89 0.88\n",
      "1.58 0.86 0.9\n",
      "1.58 0.88 0.95\n",
      "1.59 0.88 0.91\n",
      "1.59 0.88 0.88\n",
      "1.59 0.89 0.92\n",
      "1.6 0.91 0.9\n",
      "1.6 0.89 0.9\n",
      "1.61 0.89 0.91\n",
      "1.61 0.88 0.91\n",
      "1.61 0.86 0.89\n",
      "1.62 0.84 0.87\n",
      "1.62 0.87 0.88\n",
      "1.63 0.84 0.87\n",
      "1.63 0.84 0.85\n",
      "1.63 0.82 0.86\n",
      "1.64 0.83 0.83\n",
      "1.64 0.82 0.86\n",
      "1.65 0.86 0.87\n",
      "1.65 0.85 0.88\n",
      "1.65 0.85 0.86\n",
      "1.66 0.85 0.88\n",
      "1.66 0.85 0.84\n",
      "1.66 0.82 0.83\n",
      "1.67 0.82 0.79\n",
      "1.67 0.79 0.79\n",
      "1.68 0.8 0.8\n",
      "1.68 0.8 0.81\n",
      "1.68 0.81 0.81\n",
      "1.69 0.81 0.79\n",
      "1.69 0.81 0.81\n",
      "1.7 0.79 0.81\n",
      "1.7 0.8 0.78\n"
     ]
    }
   ],
   "source": [
    "for i in range( len( wav ) ):\n",
    "    if (flux1[ i ] > 0.5) & (flux2[ i ] > 0.3 ):\n",
    "        print( wav[ i ], flux1[ i ], flux2[ i ] )\n",
    "    else:\n",
    "        print( 'criteria not met ')"
   ]
  },
  {
   "cell_type": "code",
   "execution_count": null,
   "metadata": {},
   "outputs": [],
   "source": []
  },
  {
   "cell_type": "markdown",
   "metadata": {},
   "source": [
    "### Create a variable N and set it equal to 10,000, and a variable m and set it equal to 0.1. Create an array x that goes from 0.1 to N in steps of m.Create an array y that is the natural logarithm of x. Create a for loop that scans all elements of y, prints their value and adds 10.0 to that element. How else could you do this? Which way is faster?"
   ]
  },
  {
   "cell_type": "code",
   "execution_count": 40,
   "metadata": {},
   "outputs": [],
   "source": [
    "N = 10000\n",
    "m = 0.1"
   ]
  },
  {
   "cell_type": "code",
   "execution_count": 44,
   "metadata": {},
   "outputs": [],
   "source": [
    "x = np.arange( 0.1, N, m)\n",
    "y = np.log( x )"
   ]
  },
  {
   "cell_type": "code",
   "execution_count": 45,
   "metadata": {},
   "outputs": [
    {
     "name": "stdout",
     "output_type": "stream",
     "text": [
      "[-2.30258509 -1.60943791 -1.2039728  ...  9.21031037  9.21032037\n",
      "  9.21033037]\n"
     ]
    }
   ],
   "source": [
    "print( y )"
   ]
  },
  {
   "cell_type": "code",
   "execution_count": 48,
   "metadata": {
    "scrolled": true
   },
   "outputs": [],
   "source": [
    "for i in range( len ( y ) ):\n",
    "    # print( y [ i ] )\n",
    "    y[ i ] = y[ i ] + 10 "
   ]
  },
  {
   "cell_type": "code",
   "execution_count": 47,
   "metadata": {},
   "outputs": [
    {
     "name": "stdout",
     "output_type": "stream",
     "text": [
      "[ 7.69741491  8.39056209  8.7960272  ... 19.21031037 19.21032037\n",
      " 19.21033037]\n"
     ]
    }
   ],
   "source": [
    "print( y )"
   ]
  },
  {
   "cell_type": "code",
   "execution_count": 49,
   "metadata": {
    "scrolled": true
   },
   "outputs": [],
   "source": [
    "x = np.arange( 0.1, N, m)\n",
    "y = np.log( x )\n",
    "y =  y + 10 "
   ]
  },
  {
   "cell_type": "code",
   "execution_count": null,
   "metadata": {},
   "outputs": [],
   "source": []
  },
  {
   "cell_type": "code",
   "execution_count": 29,
   "metadata": {},
   "outputs": [],
   "source": []
  },
  {
   "cell_type": "code",
   "execution_count": 30,
   "metadata": {},
   "outputs": [],
   "source": []
  },
  {
   "cell_type": "markdown",
   "metadata": {},
   "source": [
    "### Now set N=10 and m=1. Create a for loop that plots x,y using a different color for every (x[i],y[i]) set and a different marker (no lines). You can use, e.g., <symb_colors>= red, blue, forestgreen, magenta, brown, black, gray, darkorange, yellow, green (remember color names should be called as ‘red’ ) and <symb_markers> = D, o, p, s, d, P, >, v, <, x"
   ]
  },
  {
   "cell_type": "code",
   "execution_count": 50,
   "metadata": {},
   "outputs": [],
   "source": [
    "N = 10\n",
    "m =1 \n",
    "\n",
    "x = np.arange( 0.1 , N, m)\n",
    "y = np.log( x )\n"
   ]
  },
  {
   "cell_type": "code",
   "execution_count": 51,
   "metadata": {},
   "outputs": [],
   "source": [
    "mark_colors = [ 'red', 'blue', 'forestgreen', 'magenta', 'brown', 'black', 'gray', 'darkorange', 'yellow', 'green' ]\n",
    "mark_syms  = [ 'D', 'o', 'p', 's', 'd', 'P', '>', 'v', '<', 'x' ]"
   ]
  },
  {
   "cell_type": "code",
   "execution_count": 53,
   "metadata": {},
   "outputs": [
    {
     "data": {
      "text/plain": [
       "Text(0.5, 1.0, 'Colorful plot')"
      ]
     },
     "execution_count": 53,
     "metadata": {},
     "output_type": "execute_result"
    },
    {
     "data": {
      "image/png": "[encoded data removed]",
      "text/plain": [
       "<Figure size 576x576 with 1 Axes>"
      ]
     },
     "metadata": {
      "needs_background": "light"
     },
     "output_type": "display_data"
    }
   ],
   "source": [
    "# we need to start by setting up the plot:\n",
    "\n",
    "plt.figure( figsize = (8, 8 ) )\n",
    "\n",
    "for i in range( len( x ) ):\n",
    "    plt.plot( x[ i ], y[ i ], linestyle = 'none', marker = mark_syms[ i ], \n",
    "             color = mark_colors[ i ], markersize = 14 )\n",
    "\n",
    "\n",
    "\n",
    "plt.title( 'Colorful plot' , fontsize = 20 )\n"
   ]
  },
  {
   "cell_type": "code",
   "execution_count": null,
   "metadata": {},
   "outputs": [],
   "source": []
  },
  {
   "cell_type": "markdown",
   "metadata": {},
   "source": [
    "### Create an array m1 with numbers 2, 10, 14, 32, 65, 55, 102, 43, 22, 54, 88, 124 and m2 with numbers 9, 32, 6, 88, 65, 100, 77,  40, 21, 54, 124, 61. Scan array m1 and m2 and print the values of m1 that are NOT in m2. Scan arrays m1 and m2 and print the common elements. Scan arrays m1 and m2 and print common elements that are also in the **same** location in the array. "
   ]
  },
  {
   "cell_type": "code",
   "execution_count": 54,
   "metadata": {},
   "outputs": [],
   "source": [
    "m1 = np.array ( [2, 10, 14, 32, 65, 55, 102, 43, 22, 54, 88, 124 ] )\n",
    "m2 = np.array ( [9, 32,  6, 88, 65, 100, 77,  40, 21, 54, 124, 61 ] ) "
   ]
  },
  {
   "cell_type": "code",
   "execution_count": 55,
   "metadata": {},
   "outputs": [
    {
     "name": "stdout",
     "output_type": "stream",
     "text": [
      "2\n",
      "10\n",
      "14\n",
      "55\n",
      "102\n",
      "43\n",
      "22\n"
     ]
    }
   ],
   "source": [
    "# write code for m1 that are not in m2:\n",
    "for i in m1:\n",
    "    if i not in m2:\n",
    "        print( i )"
   ]
  },
  {
   "cell_type": "code",
   "execution_count": 56,
   "metadata": {},
   "outputs": [
    {
     "name": "stdout",
     "output_type": "stream",
     "text": [
      "32\n",
      "65\n",
      "54\n",
      "88\n",
      "124\n"
     ]
    }
   ],
   "source": [
    "# write code for m1 that is in m2:\n",
    "for i in m1:\n",
    "    if i in m2:\n",
    "        print( i )"
   ]
  },
  {
   "cell_type": "code",
   "execution_count": null,
   "metadata": {},
   "outputs": [],
   "source": [
    "# print common ones that are also in same location in the array"
   ]
  },
  {
   "cell_type": "code",
   "execution_count": 58,
   "metadata": {},
   "outputs": [
    {
     "name": "stdout",
     "output_type": "stream",
     "text": [
      "65\n",
      "54\n"
     ]
    }
   ],
   "source": [
    "for i in m1:\n",
    "    if i in m2:\n",
    "        if np.where( m1 == i)[0] == np.where( m2 == i)[0]: \n",
    "            print( i )"
   ]
  },
  {
   "cell_type": "code",
   "execution_count": null,
   "metadata": {},
   "outputs": [],
   "source": []
  },
  {
   "cell_type": "code",
   "execution_count": null,
   "metadata": {},
   "outputs": [],
   "source": []
  },
  {
   "cell_type": "markdown",
   "metadata": {},
   "source": [
    "### Create a list with the names of all months. Create a for loop that goes through the name of the month and the days 1-5 and prints the ‘date'."
   ]
  },
  {
   "cell_type": "code",
   "execution_count": 59,
   "metadata": {},
   "outputs": [],
   "source": [
    "month_name = [ 'January', 'February', 'March', 'April' ]"
   ]
  },
  {
   "cell_type": "code",
   "execution_count": 60,
   "metadata": {},
   "outputs": [
    {
     "name": "stdout",
     "output_type": "stream",
     "text": [
      "Today it is  January   1\n",
      "Today it is  January   2\n",
      "Today it is  January   3\n",
      "Today it is  January   4\n",
      "Today it is  January   5\n",
      "Today it is  February   1\n",
      "Today it is  February   2\n",
      "Today it is  February   3\n",
      "Today it is  February   4\n",
      "Today it is  February   5\n",
      "Today it is  March   1\n",
      "Today it is  March   2\n",
      "Today it is  March   3\n",
      "Today it is  March   4\n",
      "Today it is  March   5\n",
      "Today it is  April   1\n",
      "Today it is  April   2\n",
      "Today it is  April   3\n",
      "Today it is  April   4\n",
      "Today it is  April   5\n"
     ]
    }
   ],
   "source": [
    "for i in month_name:\n",
    "    for j in range( 1, 6 ):\n",
    "        print( 'Today it is ', i, ' ', j)"
   ]
  },
  {
   "cell_type": "code",
   "execution_count": null,
   "metadata": {},
   "outputs": [],
   "source": []
  },
  {
   "cell_type": "markdown",
   "metadata": {},
   "source": [
    "### Create a for loop that scans through the elements of the word “Good day” and prints out every letter of the word one at a time. Then a loop that prints every letter up to that iteration (so: G, Go, Goo etc)"
   ]
  },
  {
   "cell_type": "code",
   "execution_count": 61,
   "metadata": {},
   "outputs": [],
   "source": [
    "word_scan = 'Good day' "
   ]
  },
  {
   "cell_type": "code",
   "execution_count": 62,
   "metadata": {},
   "outputs": [
    {
     "name": "stdout",
     "output_type": "stream",
     "text": [
      "G\n",
      "o\n",
      "o\n",
      "d\n",
      " \n",
      "d\n",
      "a\n",
      "y\n"
     ]
    }
   ],
   "source": [
    "# print one letter at a time\n",
    "for i in word_scan:\n",
    "    print( i )"
   ]
  },
  {
   "cell_type": "code",
   "execution_count": 20,
   "metadata": {},
   "outputs": [],
   "source": [
    "#or"
   ]
  },
  {
   "cell_type": "code",
   "execution_count": 63,
   "metadata": {},
   "outputs": [
    {
     "name": "stdout",
     "output_type": "stream",
     "text": [
      "\n",
      "G\n",
      "Go\n",
      "Goo\n",
      "Good\n",
      "Good \n",
      "Good d\n",
      "Good da\n",
      "Good day\n"
     ]
    }
   ],
   "source": [
    "# print different number of letters (1, 2, 3,...)\n",
    "\n",
    "\n",
    "for i in range( len( word_scan )+1 ):\n",
    "    print( word_scan[ : i ])\n",
    "\n",
    "\n",
    "# G\n",
    "# Go \n",
    "# Goo\n",
    "# Good\n"
   ]
  },
  {
   "cell_type": "code",
   "execution_count": null,
   "metadata": {},
   "outputs": [],
   "source": [
    "# or you can do it in a while loop:\n"
   ]
  },
  {
   "cell_type": "code",
   "execution_count": null,
   "metadata": {},
   "outputs": [],
   "source": []
  },
  {
   "cell_type": "markdown",
   "metadata": {},
   "source": [
    "### Use any loop you like to create a list that contains the Fibonacci series. The Fibonacci series, named after Leonardo Bonacci , is a series of numbers where every number is the sum of the previous two numbers: 0 1 1 2 3 5 8 13 21 34…. Get the first 12 numbers"
   ]
  },
  {
   "cell_type": "code",
   "execution_count": 67,
   "metadata": {},
   "outputs": [],
   "source": [
    "fibonnaci = []"
   ]
  },
  {
   "cell_type": "code",
   "execution_count": 68,
   "metadata": {},
   "outputs": [],
   "source": [
    "fibonnaci.append( 0 )\n",
    "fibonnaci.append( 1 )"
   ]
  },
  {
   "cell_type": "code",
   "execution_count": 69,
   "metadata": {},
   "outputs": [
    {
     "name": "stdout",
     "output_type": "stream",
     "text": [
      "[0, 1]\n"
     ]
    }
   ],
   "source": [
    "print( fibonnaci)"
   ]
  },
  {
   "cell_type": "code",
   "execution_count": 70,
   "metadata": {},
   "outputs": [],
   "source": [
    "# do the fibonnaci series here:\n",
    "for i in range( 1, 13 ):\n",
    "    fibonnaci.append(  fibonnaci[ i ] + fibonnaci[ i -1 ]  )"
   ]
  },
  {
   "cell_type": "code",
   "execution_count": 71,
   "metadata": {},
   "outputs": [
    {
     "name": "stdout",
     "output_type": "stream",
     "text": [
      "[0, 1, 1, 2, 3, 5, 8, 13, 21, 34, 55, 89, 144, 233]\n"
     ]
    }
   ],
   "source": [
    "print( fibonnaci )"
   ]
  },
  {
   "cell_type": "code",
   "execution_count": null,
   "metadata": {},
   "outputs": [],
   "source": []
  },
  {
   "cell_type": "markdown",
   "metadata": {},
   "source": [
    "### Create a program that takes as input 4 different numbers and sorts them from smaller to larger:"
   ]
  },
  {
   "cell_type": "code",
   "execution_count": null,
   "metadata": {},
   "outputs": [],
   "source": [
    "#google how to get 4 in one go"
   ]
  },
  {
   "cell_type": "code",
   "execution_count": null,
   "metadata": {},
   "outputs": [],
   "source": []
  },
  {
   "cell_type": "code",
   "execution_count": 23,
   "metadata": {},
   "outputs": [],
   "source": [
    "# sort the numbers   "
   ]
  },
  {
   "cell_type": "code",
   "execution_count": null,
   "metadata": {},
   "outputs": [],
   "source": [
    "print( 'Your sorted numbers are', sorted_nums )"
   ]
  },
  {
   "cell_type": "code",
   "execution_count": null,
   "metadata": {},
   "outputs": [],
   "source": []
  },
  {
   "cell_type": "markdown",
   "metadata": {},
   "source": [
    "### Write a code that asks for a month of the year (by name) and prints the maximum number of days in the month. "
   ]
  },
  {
   "cell_type": "code",
   "execution_count": 3,
   "metadata": {},
   "outputs": [],
   "source": [
    "\n",
    "month_days = {}\n",
    "\n",
    "month_days['January' ] = 31\n",
    "month_days[ 'February'] =28\n",
    "month_days[ 'March'] = 31\n",
    "month_days[ 'April' ] = 30 \n",
    "month_days[ 'May'] = 31\n",
    "month_days[ 'June' ] = 30 \n",
    "month_days[ 'July'] = 31\n",
    "month_days[ 'August'] = 31\n",
    "month_days[ 'September' ] = 30 \n",
    "month_days[ 'October'] = 31\n",
    "month_days[ 'November' ] = 30 \n",
    "month_days[ 'December'] = 31"
   ]
  },
  {
   "cell_type": "code",
   "execution_count": 4,
   "metadata": {},
   "outputs": [
    {
     "name": "stdout",
     "output_type": "stream",
     "text": [
      "I will tell you how many days a month has. What month are you interested in?January\n"
     ]
    }
   ],
   "source": [
    "### how would you tackle this problem ? \n",
    "\n",
    "chose_month = input( 'I will tell you how many days a month has. What month are you interested in?' )"
   ]
  },
  {
   "cell_type": "code",
   "execution_count": 5,
   "metadata": {},
   "outputs": [
    {
     "name": "stdout",
     "output_type": "stream",
     "text": [
      "January has a total of  31 days\n"
     ]
    }
   ],
   "source": [
    "print( chose_month, 'has a total of ', month_days[ chose_month ], 'days' )"
   ]
  },
  {
   "cell_type": "code",
   "execution_count": null,
   "metadata": {},
   "outputs": [],
   "source": []
  },
  {
   "cell_type": "markdown",
   "metadata": {},
   "source": [
    "### Now write that loop to ask continuously for a month of the year numerically (1, 2, 3,...) and then print the maximum number of dates in the month. If the month number you put is 13 or greater the code crashes with an error message"
   ]
  },
  {
   "cell_type": "code",
   "execution_count": null,
   "metadata": {},
   "outputs": [],
   "source": []
  },
  {
   "cell_type": "code",
   "execution_count": null,
   "metadata": {},
   "outputs": [],
   "source": []
  },
  {
   "cell_type": "code",
   "execution_count": null,
   "metadata": {},
   "outputs": [],
   "source": []
  },
  {
   "cell_type": "code",
   "execution_count": null,
   "metadata": {},
   "outputs": [],
   "source": []
  },
  {
   "cell_type": "code",
   "execution_count": null,
   "metadata": {},
   "outputs": [],
   "source": []
  },
  {
   "cell_type": "code",
   "execution_count": null,
   "metadata": {},
   "outputs": [],
   "source": []
  },
  {
   "cell_type": "markdown",
   "metadata": {},
   "source": [
    "### The following problem may take some extra time. Use pen and paper if needed, to visualize the problem you are trying to solve. Create a python loop (or combinations of) that will construct the following:\n",
    "\n",
    "<img src=\"../plots/pyramid_01.png\" width=200 height=200 />"
   ]
  },
  {
   "cell_type": "markdown",
   "metadata": {},
   "source": [
    "#### (note that the problem is easier if you don’t use spaces between the numbers, I used them for better visibility here)."
   ]
  },
  {
   "cell_type": "code",
   "execution_count": null,
   "metadata": {},
   "outputs": [],
   "source": []
  },
  {
   "cell_type": "code",
   "execution_count": null,
   "metadata": {},
   "outputs": [],
   "source": []
  },
  {
   "cell_type": "markdown",
   "metadata": {},
   "source": [
    "### We have three dictionaries with the names, HW, quiz and project grades of three students. Scan the grades of each student and if they have a grade <5.5 print a warning sign that the student failed the hw/quiz/project. Start by checking whether the key is the name, if so skip. If the key is not the 'name', scan all grades and print a warning message if the student failed a task. \n",
    "\n",
    "\n",
    "### Calculate the average grade of each category for each student and store them in three lists. In a single plot, plot the averages grades of all students for each category .  The x-axis should have as tick labels the names of the categories ('HW', 'Quiz', 'Project').  Use different symbols for each category: e.g, homework == 'o' , quiz == 'd', projects == 's'  and different colors for each student: e.g., black, red, blue"
   ]
  },
  {
   "cell_type": "code",
   "execution_count": null,
   "metadata": {},
   "outputs": [],
   "source": [
    "#We have a dictionary of students (1,2 and 3). For every student we have a name, and their scores (0-10) \n",
    "#in hw assignments, quizzes and projects:\n",
    "\n",
    "student1 = {\n",
    "  \"name\": \"Jane\",\n",
    "  \"homework\": [9.0,7.0,5.0,10.],\n",
    "  \"quizzes\": [8.0,7.0,9.0],\n",
    "  \"projects\": [7.5,9.5]\n",
    "}\n",
    "student2 = {\n",
    "  \"name\": \"Joe\",\n",
    "  \"homework\": [10.0, 3.9, 4.0, 10.0],\n",
    "  \"quizzes\": [5.1, 4.2, 5.0],\n",
    "  \"projects\": [8.9, 2.7]\n",
    "}\n",
    "student3 = {\n",
    "  \"name\": \"Jimmy\",\n",
    "  \"homework\": [3.0, 8.0, 9.0, 10.0],\n",
    "  \"quizzes\": [3.0, 7.5, 7.],\n",
    "  \"projects\": [8.0, 10.0]\n",
    "}\n"
   ]
  },
  {
   "cell_type": "code",
   "execution_count": null,
   "metadata": {},
   "outputs": [],
   "source": []
  },
  {
   "cell_type": "code",
   "execution_count": null,
   "metadata": {},
   "outputs": [],
   "source": []
  }
 ],
 "metadata": {
  "kernelspec": {
   "display_name": "Python 3 (ipykernel)",
   "language": "python",
   "name": "python3"
  },
  "language_info": {
   "codemirror_mode": {
    "name": "ipython",
    "version": 3
   },
   "file_extension": ".py",
   "mimetype": "text/x-python",
   "name": "python",
   "nbconvert_exporter": "python",
   "pygments_lexer": "ipython3",
   "version": "3.7.11"
  }
 },
 "nbformat": 4,
 "nbformat_minor": 2
}
