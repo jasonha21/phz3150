{
 "cells": [
  {
   "cell_type": "code",
   "execution_count": null,
   "id": "4b98362a",
   "metadata": {},
   "outputs": [],
   "source": [
    "import numpy as np\n",
    "import matplotlib.pyplot as plt\n",
    "import matplotlib.colors as colors"
   ]
  },
  {
   "cell_type": "markdown",
   "id": "fa7123c2",
   "metadata": {},
   "source": [
    "## If you want a (simple) basic plot : plt.function()\n",
    "\n",
    "## If you want more advanced/flexible plot: ax.function()"
   ]
  },
  {
   "cell_type": "code",
   "execution_count": null,
   "id": "ec46fe66",
   "metadata": {},
   "outputs": [],
   "source": [
    "x = np.linspace(0., 10., 100)\n",
    "\n",
    "fig = plt.figure( figsize = (12,8) )\n",
    "\n",
    "ax1 = fig.add_subplot(1, 1, 1)\n",
    "ax2 = ax1.twinx()\n",
    "\n",
    "ax1.plot( x, x ** 2, color= 'blue' )\n",
    "ax1.set_ylabel( 'x$^2$', color='blue', fontsize=24, rotation = 0 )\n",
    "ax1.set_xlabel('x',fontsize=20)\n",
    "ax1.tick_params( axis=\"both\", labelsize=18, length = 7 , direction = 'in' )\n",
    "\n",
    "ax2.plot( x, 1/x, color='red')\n",
    "ax2.set_ylabel('$ \\\\frac{1}{x} $', color='red',fontsize=24, rotation = 0)\n",
    "ax2.tick_params( axis=\"y\", labelsize=18 , length = 7 , direction = 'in' )\n",
    "\n"
   ]
  },
  {
   "cell_type": "code",
   "execution_count": null,
   "id": "e5f6c4e9",
   "metadata": {},
   "outputs": [],
   "source": [
    "x = np.linspace(0., 10., 100)\n",
    "\n",
    "fig = plt.figure( figsize = (12,8) )\n",
    "\n",
    "ax1 = fig.add_subplot(1, 1, 1)\n",
    "ax2 = ax1.twiny()\n",
    "\n",
    "ax1.plot( x, x ** 2, color= 'blue' )\n",
    "ax1.set_ylabel( 'x$^2$', color='black', fontsize=24, rotation = 0 )\n",
    "ax1.set_xlabel('x',color='blue',fontsize=20)\n",
    "ax1.tick_params( axis=\"both\", labelsize=18, length = 7 , direction = 'in' )\n",
    "\n",
    "ax2.plot( x/4., x ** 2, color='red', linestyle = '--')\n",
    "ax2.set_xlabel('$ \\\\frac{1}{x} $', color='red',fontsize=24, rotation = 0)\n",
    "ax2.tick_params( axis=\"x\", labelsize=18 , length = 7 , direction = 'in' )\n",
    "\n"
   ]
  },
  {
   "cell_type": "markdown",
   "id": "c28e64f3",
   "metadata": {},
   "source": [
    "### Let's compare the plt and ax syntax:"
   ]
  },
  {
   "cell_type": "code",
   "execution_count": null,
   "id": "f7c1fd7d",
   "metadata": {},
   "outputs": [],
   "source": [
    "#let's compare the plt. and ax. syntaxes:\n",
    "\n",
    "# plt.figure( figsize = ( 8, 8 ) )                    #plt\n",
    "fig, ax = plt.subplots( figsize = ( 8, 8 ) )          #ax\n",
    "\n",
    "\n",
    "#plt.scatter( baseball[ :, 1 ] , baseball[ :, 2] *1e-3 , color = 'red' )\n",
    "ax.scatter( baseball[ :, 1 ] , baseball[ :, 2] *1e-3 , color = 'red' )\n",
    "\n",
    "\n",
    "# add x and y labels:\n",
    "#plt.xlabel( ' Year ' , size = 24 )\n",
    "ax.set_xlabel( ' Year ' , size = 24 )\n",
    "\n",
    "\n",
    "#plt.ylabel( ' Lead Avg. ' , size = 24 )\n",
    "ax.set_ylabel( ' Lead Avg. ' , size = 24 )\n",
    "\n",
    "\n",
    "#plt.yticks( np.arange( .3, .5, .05 ))\n",
    "ax.set_yticks( np.arange( .3, .5, .05 ) )\n",
    "\n",
    "#plt.yticks( np.arange( 1900, 2020, 50. ))\n",
    "ax.set_xticks( np.arange( 1900, 2020, 50. ) )\n",
    "\n",
    "\n",
    "#plt.tick_params( axis ='both', which ='both', length = 7 , direction = 'in' )\n",
    "ax.tick_params( axis ='both', which ='both', length = 7 , direction = 'in' , labelsize=18)"
   ]
  },
  {
   "cell_type": "markdown",
   "id": "cd664722",
   "metadata": {},
   "source": [
    "### Now we will revisit the baseball data and the Old_faithful data:"
   ]
  },
  {
   "cell_type": "code",
   "execution_count": null,
   "id": "b9d36d94",
   "metadata": {},
   "outputs": [],
   "source": [
    "baseball = np.genfromtxt( 'baseball_leads.dat', comments= '#' )\n",
    "olf_errupt = np.genfromtxt( 'old_faithful_data.dat', comments= '#' )"
   ]
  },
  {
   "cell_type": "code",
   "execution_count": null,
   "id": "a49db9a5",
   "metadata": {},
   "outputs": [],
   "source": [
    "year_lim =  np.where( baseball[ :, 1 ] == 1960. )[0]\n",
    "year_lim = int( year_lim )\n",
    "print( year_lim )"
   ]
  },
  {
   "cell_type": "markdown",
   "id": "c3066efa",
   "metadata": {},
   "source": [
    "### We can put plots next to each other ( 1 line 2 columns) or one on top of the other (2 lines 1 column):\n"
   ]
  },
  {
   "cell_type": "code",
   "execution_count": null,
   "id": "d443ee27",
   "metadata": {},
   "outputs": [],
   "source": [
    "fig, ( ax1, ax2 ) = plt.subplots( 1, 2 , figsize = (16, 8 ))\n",
    "\n",
    "fig.suptitle('Horizontally stacked scatter plots', fontsize = 24)\n",
    "\n",
    "#start with the first one:\n",
    "\n",
    "ax1.scatter( baseball[ :year_lim , 1 ] , baseball[ :year_lim , 2] *1e-3 )\n",
    "ax1.set_xlabel( ' Year ' , fontsize = 24 )\n",
    "ax1.set_ylabel( ' Lead Avg ' , fontsize = 24 )\n",
    "ax1.set_xticks( 1900 + np.arange( 4 ) * 20 )\n",
    "ax1.set_xticklabels( 1900 + np.arange( 4 ) * 20 , fontsize = 14 )\n",
    "ax1.tick_params( axis ='both', which ='both', length = 7 , direction = 'in' , labelsize=14 )\n",
    "\n",
    "ax1.tick_params( axis ='both', which ='both', length = 7 , direction = 'in', labelsize=18 )\n",
    "\n",
    "# go to the second one:\n",
    "\n",
    "ax2.scatter( baseball[ year_lim:, 1 ] , baseball[ year_lim:, 2] *1e-3 , color = 'red' ) \n",
    "ax2.set_xlabel( ' Year ' , fontsize = 24 )\n",
    "ax2.set_ylabel( ' Lead Avg ' , fontsize = 24 )\n",
    "ax2.set_xticks( 1960 + np.arange( 4 ) * 20  ) \n",
    "ax2.set_yticks( 0.33 + np.arange( 4) * 0.02) \n",
    "\n",
    "ax2.tick_params( axis ='both', which ='both', length = 7 , direction = 'in', labelsize=18 )\n"
   ]
  },
  {
   "cell_type": "code",
   "execution_count": null,
   "id": "5482be08",
   "metadata": {},
   "outputs": [],
   "source": [
    "fig, ( ax1, ax2 ) = plt.subplots(2,1, figsize = (10, 10 ))\n",
    "\n",
    "fig.suptitle('Vertically stacked scatter plots - baseball' , fontsize = 24 )\n",
    "\n",
    "#start with the first one:\n",
    "\n",
    "ax1.scatter( baseball[ :year_lim , 1 ] , baseball[ :year_lim , 2] *1e-3 )\n",
    "ax1.set_xlabel( ' Year ' , fontsize = 24 )\n",
    "ax1.set_ylabel( ' Lead Avg ' , fontsize = 24 )\n",
    "\n",
    "#you can define what your tickmarks will be via the set_xticks (or y) and _xticklabels\n",
    "\n",
    "ax1.set_xticks( 1900 + np.arange( 4 ) * 20 )\n",
    "ax1.set_xticklabels( 1900 + np.arange( 4 ) * 20 , fontsize = 14 )\n",
    "ax1.tick_params( axis ='both', which ='both', length = 7 , direction = 'in' , labelsize=14 )\n",
    "\n",
    "# go to the second one:\n",
    "\n",
    "ax2.scatter( baseball[ year_lim:, 1 ] , baseball[ year_lim:, 2] *1e-3 , color = 'red' ) \n",
    "ax2.set_xlabel( ' Year ' , fontsize = 24 )\n",
    "ax2.set_ylabel( ' Lead Avg ' , fontsize = 24 )\n",
    "ax2.set_xticks( 1960 + np.arange( 4 ) * 20  ) \n",
    "ax2.set_yticks( 0.33 + np.arange( 4) * 0.02) \n",
    "\n",
    "# or just make them the same like so: \n",
    "ax2.tick_params( axis ='both', which ='both', length = 7 , direction = 'in' , labelsize=14 )\n"
   ]
  },
  {
   "cell_type": "markdown",
   "id": "35d943fd",
   "metadata": {},
   "source": [
    "### You can add as many plots you need (careful though, as it can get crammed and not visually pleasant after some point)"
   ]
  },
  {
   "cell_type": "code",
   "execution_count": null,
   "id": "45ea2625",
   "metadata": {},
   "outputs": [],
   "source": [
    "# of course, the sky is the limit...the lower limit:\n",
    "\n",
    "fig, ( (ax1, ax2), (ax3, ax4) ) = plt.subplots( 2, 2 , figsize = (16, 16 ) )\n",
    "\n",
    "\n",
    "ax1.scatter( olf_errupt[ :, 1 ]  / 1000. , olf_errupt[ :, 2 ]  )\n",
    "ax1.set_xlabel( ' Erruption Duration ' , fontsize = 24 )\n",
    "ax1.set_ylabel( ' Erruption Interval ' , fontsize = 24 )\n",
    "ax1.set_xticks( np.arange( 1, 6.2, 1. ) )\n",
    "ax1.set_xticklabels( np.arange( 1, 6.2, 1. ), fontsize = 14 )\n",
    "ax1.tick_params( axis ='both', which ='both', length = 7 , direction = 'in' )\n",
    "\n",
    "# go to the second one:\n",
    "\n",
    "ax2.scatter( baseball[ :, 1 ] , baseball[ :, 2] *1e-3 , color = 'red' ) \n",
    "ax2.set_xlabel( ' Year ' , fontsize = 24 )\n",
    "ax2.set_ylabel( ' Lead Avg ' , fontsize = 24 ) \n",
    "ax2.tick_params( axis ='both', which ='both', length = 7 , direction = 'in' , labelsize = 16 )\n",
    "\n",
    "\n",
    "ax3.plot( np.arange( 10 ) , np.arange( 10 )**2, color = 'green', linestyle = '--' , linewidth = 4 )\n",
    "ax3.tick_params( axis ='both', which ='both', length = 7 , direction = 'in' , labelsize = 16 )\n",
    "ax3.set_xlabel( 'Random X ' , fontsize = 24 )\n",
    "ax3.set_ylabel( 'X $^2$ ' , fontsize = 24 )\n",
    "\n",
    "ax4.plot( np.arange( 10 ) , np.arange( 10 )**0.5, color = 'magenta', linestyle = '-.' , linewidth = 7 )\n",
    "ax4.tick_params( axis ='both', which ='both', length = 7 , direction = 'in' , labelsize = 16 )\n",
    "ax4.set_xlabel( 'Random X ' , fontsize = 24 )\n",
    "ax4.set_ylabel( '$\\\\sqrt{X}$ ' , fontsize = 24 )\n"
   ]
  },
  {
   "cell_type": "code",
   "execution_count": null,
   "id": "c6bf041c",
   "metadata": {},
   "outputs": [],
   "source": []
  },
  {
   "cell_type": "markdown",
   "id": "4a403a82",
   "metadata": {},
   "source": [
    "### Sometimes you may need to do a contour plot or use colorbars:\n"
   ]
  },
  {
   "cell_type": "code",
   "execution_count": null,
   "id": "f08c7544",
   "metadata": {},
   "outputs": [],
   "source": [
    "# examples from https://matplotlib.org/ \n",
    "#random image to see addition of colorbar:\n",
    "\n",
    "image = np.random.poisson( 10., ( 120, 100 ) )\n",
    "\n",
    "fig, ax = plt.subplots( figsize = (8,8) )\n",
    "\n",
    "i    = ax.imshow( image, interpolation = 'nearest', cmap='RdYlBu' )\n",
    "\n",
    "ax.set_xlabel( 'X' , fontsize = 24 )\n",
    "ax.set_ylabel( 'Y' , fontsize = 24 )\n",
    "ax.tick_params( axis=\"both\", labelsize=20 ) \n",
    "ax.tick_params( axis ='both', which ='both', length = 7 , direction = 'in', width = 4 )\n",
    "\n",
    "\n",
    "cbar = fig.colorbar( i )\n",
    "\n",
    "cbar.set_label('random noise',fontsize = 20 )\n",
    "cbar.ax.tick_params(labelsize = 20)"
   ]
  },
  {
   "cell_type": "code",
   "execution_count": null,
   "id": "b2b89f86",
   "metadata": {},
   "outputs": [],
   "source": [
    "# or do a contour plot:\n",
    "\n",
    "\n",
    "delta = 0.025\n",
    "\n",
    "x    = np.arange( -5, 5, 0.1 )\n",
    "y    = np.arange( -5.0, 5.0, delta )\n",
    "xx, yy = np.meshgrid( x, y , sparse=True )\n",
    "\n",
    "z = np.sin( xx**2 + yy**2 ) / ( xx**2 + yy**2 )\n",
    "\n",
    "plt.figure( figsize = (12, 8 ) )\n",
    "plt.contourf( x, y, z ,  cmap='Reds'  )\n",
    "plt.xticks( fontsize = 20 )\n",
    "plt.yticks( fontsize = 20 )\n"
   ]
  },
  {
   "cell_type": "code",
   "execution_count": null,
   "id": "d9e6d859",
   "metadata": {},
   "outputs": [],
   "source": [
    "# or an alternative version:\n",
    "\n",
    "#import matplotlib.colors as colors\n",
    "\n",
    "fig, ax = plt.subplots(1, 1, figsize=(18, 10))\n",
    "#ax = ax.flatten()\n",
    "bounds = np.linspace( np.min( z ) , np.max( z ) + .1, 100)\n",
    "norm = colors.BoundaryNorm(boundaries=bounds, ncolors=256)\n",
    "pcm = ax.contourf(x, y ,z ,100, cmap='RdYlBu')\n",
    "\n",
    "cbar = fig.colorbar( pcm )\n",
    "\n",
    "cbar.set_label('random contour',fontsize = 20 )\n",
    "cbar.ax.tick_params(labelsize = 20)\n",
    "\n",
    "ax.tick_params( axis ='both', which ='both', length = 7 , direction = 'in', width = 3 )\n",
    "ax.set_xticklabels( -6. + np.arange( 6 ) *2, fontsize = 20)\n",
    "ax.set_yticklabels( -6. + np.arange( 6 ) *2, fontsize = 20)"
   ]
  },
  {
   "cell_type": "code",
   "execution_count": null,
   "id": "b115ed5e",
   "metadata": {},
   "outputs": [],
   "source": [
    "# or :\n",
    "\n",
    "delta = 0.025\n",
    "x = np.arange( -3.0, 3.0, delta )\n",
    "y = np.arange( -2.0, 2.0, delta )\n",
    "X, Y = np.meshgrid(x, y)\n",
    "\n",
    "Z1 = np.exp(-X**2 - Y**2)\n",
    "Z2 = np.exp(-(X - 1)**2 - (Y - 1)**2)\n",
    "Z  = (Z1 - Z2) * 2\n",
    "\n",
    "fig, ax = plt.subplots( figsize = ( 12, 8 ) )\n",
    "\n",
    "CS = ax.contour( X, Y, Z )\n",
    "ax.clabel( CS, inline=1, fontsize=12 )\n",
    "ax.set_title( 'Simplest default with labels' , fontsize = 20 )\n",
    "\n",
    "ax.set_xlabel( 'X' , fontsize = 24 )\n",
    "ax.set_ylabel( 'Y' , fontsize = 24 )\n",
    "ax.tick_params( axis=\"both\", labelsize=20 ) \n",
    "ax.tick_params( axis ='both', which ='both', length = 7 , direction = 'in' )\n"
   ]
  },
  {
   "cell_type": "code",
   "execution_count": null,
   "id": "78b5e606",
   "metadata": {},
   "outputs": [],
   "source": [
    "# you can also manually define the properties of your lines:\n",
    "fig, ax = plt.subplots( figsize = ( 12, 8 ) )\n",
    "\n",
    "CS = ax.contour( X, Y, Z, 6,\n",
    "                linewidths = np.arange(1, 7, 1),\n",
    "                colors = ('red', 'green', 'blue', 'orange', 'magenta', 'gray'),\n",
    "                )\n",
    "\n",
    "ax.clabel( CS, fontsize = 14, inline = True )\n",
    "ax.set_title( 'Crazy lines', fontsize = 24)\n",
    "\n",
    "ax.set_xlabel( 'X' , fontsize = 24 )\n",
    "ax.set_ylabel( 'Y' , fontsize = 24 )\n",
    "ax.tick_params( axis=\"both\", labelsize=20 ) \n",
    "ax.tick_params( axis ='both', which ='both', length = 7 , direction = 'in' )\n"
   ]
  },
  {
   "cell_type": "markdown",
   "id": "543cc384",
   "metadata": {},
   "source": [
    "### sometimes you may need to crank up the accuracy for your reader...you need to see your grid lines and find out what is what...\n"
   ]
  },
  {
   "cell_type": "code",
   "execution_count": null,
   "id": "ca48cb12",
   "metadata": {},
   "outputs": [],
   "source": [
    "# let's go back to this one and add a grid:\n",
    "x = np.linspace( 0, 15, 1000 )\n",
    "y = np.sin( x )\n",
    "\n",
    "\n",
    "fig, ax = plt.subplots( figsize = (12, 6) )  # create a figure object\n",
    "\n",
    "ax.plot( x,y , linewidth = 4)                   #make the plot \n",
    "ax.set_ylabel('Y', color='blue', fontsize=20)    # add X and Y labels and make them red\n",
    "ax.set_xlabel('X', color='blue', fontsize=20)\n",
    "ax.tick_params( axis=\"both\", labelsize=18 )     # change the size of your tick labels\n",
    "\n",
    "ax.grid( linestyle='--' )"
   ]
  },
  {
   "cell_type": "markdown",
   "id": "dd20a7ae",
   "metadata": {},
   "source": [
    "# ---------------------------------------------------------------\n",
    "# Colorblind friendly plots"
   ]
  },
  {
   "cell_type": "markdown",
   "id": "307741b0",
   "metadata": {},
   "source": [
    "<img src=\"../plots/ishiharas_test.png\" width=550 height=250 />\n",
    "\n",
    "source: https://www.color-blindness.com/ishiharas-test-for-colour-deficiency-38-plates-edition/"
   ]
  },
  {
   "cell_type": "markdown",
   "id": "51cc8593",
   "metadata": {},
   "source": [
    "<img src=\"../plots/retinas.png\" width=550 height=550 />\n",
    "\n",
    "Souce:BenRG - Own work, Public Domain, https://commons.wikimedia.org/w/index.php?curid=7873848\n"
   ]
  },
  {
   "cell_type": "markdown",
   "id": "4ffe284c",
   "metadata": {},
   "source": [
    "<img src=\"../plots/colorblidness_states.png\" width=550 height=550 />\n",
    "source: By Nanobot - Own work, Public Domain,https://commons.wikimedia.org/w/index.php?curid=7905402\n"
   ]
  },
  {
   "cell_type": "markdown",
   "id": "6ebec24f",
   "metadata": {},
   "source": [
    "## How do you ensure that colorblind people can see your plots as they should be seen? \n",
    "\n",
    "### community has created number of resources that you can use to plot colorblind-friendly plots; here I show just one from an old colleague"
   ]
  },
  {
   "cell_type": "markdown",
   "id": "cd8be255",
   "metadata": {},
   "source": [
    "<img src=\"../plots/colorblind_friendly.png\" width=550 height=550 />\n",
    "\n",
    "source: https://personal.sron.nl/~pault/"
   ]
  },
  {
   "cell_type": "code",
   "execution_count": null,
   "id": "b29486f0",
   "metadata": {},
   "outputs": [],
   "source": [
    "from tol_colors import tol_cset"
   ]
  },
  {
   "cell_type": "code",
   "execution_count": null,
   "id": "f845d2e7",
   "metadata": {},
   "outputs": [],
   "source": [
    "schemes = tol_cset()\n",
    "\n",
    "fig, axes = plt.subplots(ncols=len(schemes))\n",
    "fig.subplots_adjust(top=0.92, bottom=0.02, left=0.02, right=0.92)\n",
    "for ax, scheme in zip(axes, schemes):\n",
    "        cset = tol_cset(scheme)\n",
    "        names = cset._fields\n",
    "        colors = list(cset)\n",
    "        for name, color in zip(names, colors):\n",
    "            ax.scatter([], [], c=color, s=80, label=name)\n",
    "        ax.set_axis_off()\n",
    "        ax.legend(loc=2)\n",
    "        ax.set_title(scheme)\n",
    "plt.show()"
   ]
  },
  {
   "cell_type": "code",
   "execution_count": null,
   "id": "76133e9c",
   "metadata": {},
   "outputs": [],
   "source": [
    "x = np.arange( 10 )\n",
    "y = x ** 2.\n",
    "z = x ** 0.5\n",
    "w = x ** 1.5\n",
    "\n",
    "\n",
    "clrs = tol_cset( colorset= 'bright' )\n",
    "\n",
    "plt.figure ( figsize = ( 10, 10 ) )\n",
    "plt.plot( x, y, color = clrs[ 0 ] , linewidth = 3 )\n",
    "plt.plot( x, z, color = clrs[ 3 ] , linewidth = 3 )\n",
    "plt.plot( x, w, color = clrs[ 5 ] , linewidth = 3 )\n",
    "\n",
    "plt.xticks( fontsize = 24 )\n",
    "plt.yticks( fontsize = 24 )"
   ]
  },
  {
   "cell_type": "markdown",
   "id": "2b6d2ac1",
   "metadata": {},
   "source": [
    "#### -----------------------------------------------"
   ]
  },
  {
   "cell_type": "markdown",
   "id": "e2660df0",
   "metadata": {},
   "source": [
    "### Let's get some of Python's built-in datasets to do some plotting"
   ]
  },
  {
   "cell_type": "code",
   "execution_count": null,
   "id": "a6de7d86",
   "metadata": {},
   "outputs": [],
   "source": [
    "# import the datasets from the statsmodels:\n",
    "from statsmodels import datasets\n",
    "\n",
    "# list them all:\n",
    "#dir(datasets)"
   ]
  },
  {
   "cell_type": "code",
   "execution_count": null,
   "id": "2e9d0340",
   "metadata": {},
   "outputs": [],
   "source": [
    "# now let's get, e.g., the elnino dataset and put it in a pandas series\n",
    "\n",
    "import pandas as pd\n",
    "data = pd.Series(datasets.elnino.load_pandas().data.set_index('YEAR').values.ravel())\n"
   ]
  },
  {
   "cell_type": "code",
   "execution_count": null,
   "id": "b83d9c18",
   "metadata": {},
   "outputs": [],
   "source": [
    "#try basic plot\n",
    "plt.figure( figsize = ( 12 , 8 ) )\n",
    "\n",
    "plt.plot(data,  marker = 'o')\n",
    "plt.ylabel( 'Frequency %', fontsize = 24 )\n",
    "\n",
    "plt.xticks( fontsize = 20 )\n",
    "plt.yticks( fontsize = 20 )"
   ]
  },
  {
   "cell_type": "code",
   "execution_count": null,
   "id": "f90aafd1",
   "metadata": {},
   "outputs": [],
   "source": [
    "# try it as an ax histogram:\n",
    "\n",
    "fig, ax = plt.subplots( figsize=(12,8) )\n",
    "ax.hist(data, bins=30 )\n",
    "\n",
    "ax.set_xlabel( ' Year ' , size = 24 )\n",
    "ax.set_ylabel( ' Frequency * 100 ' , size = 24 )\n",
    "\n",
    "# change the fontsize of your tickmarks:\n",
    "\n",
    "ax.set_xticks( np.arange( 20, 30, 5. ) )\n",
    "ax.set_xticklabels( np.arange( 20, 30, 5. ), fontsize = 14 )\n",
    "\n",
    "# let's make our tickmars a bit clearer:\n",
    "\n",
    "ax.tick_params( axis ='both', which ='both', length = 12 , direction = 'in' , labelsize=14 )\n"
   ]
  },
  {
   "cell_type": "code",
   "execution_count": null,
   "id": "a4eb5209",
   "metadata": {},
   "outputs": [],
   "source": [
    "# let's get the sunspot data:\n",
    "\n",
    "data2 = datasets.sunspots.load_pandas().data\n"
   ]
  },
  {
   "cell_type": "code",
   "execution_count": null,
   "id": "ad37759b",
   "metadata": {},
   "outputs": [],
   "source": [
    "#let's plot it with an ax:\n",
    "\n",
    "fig, ax = plt.subplots( figsize = (12, 6) )\n",
    "\n",
    "ax.plot( data2.iloc[:, 0 ], data2.iloc[:, 1] , linewidth = 3 , color = 'red' )\n",
    "\n",
    "ax.set_xlabel( ' Year ' , size = 24 )\n",
    "ax.set_ylabel( ' # of Sunspots ' , size = 24 )\n",
    "\n",
    "\n",
    "# let's make our tickmars a bit clearer:\n",
    "\n",
    "ax.tick_params( axis ='both', which ='both', length = 12 , direction = 'in' , labelsize=19,  rotation=20 )\n"
   ]
  },
  {
   "cell_type": "code",
   "execution_count": null,
   "id": "3462d895",
   "metadata": {},
   "outputs": [],
   "source": [
    "# or you could plot it like:\n",
    "past_data = data2.loc[(data2.iloc[:, 0 ] >= 1800) & (data2.iloc[:, 0 ] < 1950)]\n",
    "past_spots = past_data['SUNACTIVITY']\n",
    "past_years = past_data[ 'YEAR' ]\n",
    "\n",
    "modern_data = data2.loc[(data2.iloc[:, 0 ] >= 1950)]\n",
    "modern_spots = modern_data['SUNACTIVITY']\n",
    "modern_years = modern_data[ 'YEAR' ]\n",
    "\n"
   ]
  },
  {
   "cell_type": "code",
   "execution_count": null,
   "id": "4da0e7ab",
   "metadata": {},
   "outputs": [],
   "source": [
    "fig, ( ax1, ax2 ) = plt.subplots( 1, 2 , figsize = (16, 8 ))\n",
    "\n",
    "ax1.plot( past_years, past_spots )\n",
    "ax1.set_xlabel( ' Year ' , size = 24 )\n",
    "ax1.set_ylabel( ' # of Sunspots ' , size = 24 )\n",
    "ax1.set_xticks( np.arange( 1800, 1970, 50. ) )\n",
    "ax1.set_xticklabels( np.arange( 1800, 1970, 50. ), fontsize = 14 )\n",
    "\n",
    "ax2.plot( modern_years, modern_spots )\n",
    "ax2.set_xlabel( ' Year ' , size = 24 )\n",
    "ax2.set_ylabel( ' # of Sunspots ' , size = 24 )\n",
    "\n",
    "ax2.set_xticklabels( np.arange( 1950, 2022, 11. ), fontsize = 14 )\n",
    "\n"
   ]
  },
  {
   "cell_type": "code",
   "execution_count": null,
   "id": "908551c2",
   "metadata": {},
   "outputs": [],
   "source": []
  },
  {
   "cell_type": "markdown",
   "id": "6d87aee4",
   "metadata": {},
   "source": [
    "### Practice time: get the file first_data_read_plot.dat and plot with the ax method the two spectra in 2 different, stacked plots\n"
   ]
  },
  {
   "cell_type": "code",
   "execution_count": null,
   "id": "068bfaac",
   "metadata": {},
   "outputs": [],
   "source": [
    "# read data:\n"
   ]
  },
  {
   "cell_type": "code",
   "execution_count": null,
   "id": "a629c2da",
   "metadata": {},
   "outputs": [],
   "source": [
    "#use fig,ax to plot them on top of each other and side by side"
   ]
  },
  {
   "cell_type": "code",
   "execution_count": null,
   "id": "37ca4c99",
   "metadata": {},
   "outputs": [],
   "source": []
  },
  {
   "cell_type": "markdown",
   "id": "eadcc691",
   "metadata": {},
   "source": [
    "### Now get the dataset whatsinthefile.dat and contour plot it:"
   ]
  },
  {
   "cell_type": "code",
   "execution_count": null,
   "id": "f8d34cba",
   "metadata": {},
   "outputs": [],
   "source": []
  },
  {
   "cell_type": "code",
   "execution_count": null,
   "id": "eab5a1f6",
   "metadata": {},
   "outputs": [],
   "source": []
  },
  {
   "cell_type": "code",
   "execution_count": null,
   "id": "c0f89988",
   "metadata": {},
   "outputs": [],
   "source": [
    "#try plain contour plot"
   ]
  },
  {
   "cell_type": "code",
   "execution_count": null,
   "id": "9630569c",
   "metadata": {},
   "outputs": [],
   "source": [
    "#try ax contour plot"
   ]
  },
  {
   "cell_type": "markdown",
   "id": "4f377f50",
   "metadata": {},
   "source": [
    "## Sometimes you may have complex datasets and need to make a plot in 3D to visualize it. Python, of course, offers the means to do that:"
   ]
  },
  {
   "cell_type": "code",
   "execution_count": null,
   "id": "af05b167",
   "metadata": {},
   "outputs": [],
   "source": [
    "from mpl_toolkits.mplot3d import Axes3D\n",
    "\n",
    "#make random data- from https://matplotlib.org/mpl_toolkits/mplot3d/tutorial.html:\n",
    "\n",
    "theta = np.linspace(-4 * np.pi, 4 * np.pi, 100)\n",
    "z = np.linspace(-2, 2, 100)\n",
    "r = z**2 + 1\n",
    "x = r * np.sin(theta)\n",
    "y = r * np.cos(theta)\n",
    "\n",
    "\n",
    "fig = plt.figure( figsize = ( 10, 10 ) )\n",
    "ax = fig.gca(projection='3d')\n",
    "ax.plot(x, y, z, label='parametric curve')\n",
    "ax.legend()"
   ]
  },
  {
   "cell_type": "markdown",
   "id": "7c57e976",
   "metadata": {},
   "source": [
    "### but how can we really explore this?"
   ]
  },
  {
   "cell_type": "code",
   "execution_count": null,
   "id": "a61b242d",
   "metadata": {},
   "outputs": [],
   "source": [
    "###----> start an interactive window:\n",
    "%matplotlib \n"
   ]
  },
  {
   "cell_type": "code",
   "execution_count": null,
   "id": "68c5889f",
   "metadata": {},
   "outputs": [],
   "source": [
    "theta = np.linspace(-4 * np.pi, 4 * np.pi, 100)\n",
    "z = np.linspace(-2, 2, 100)\n",
    "r = z**2 + 1\n",
    "x = r * np.sin(theta)\n",
    "y = r * np.cos(theta)\n",
    "\n",
    "\n",
    "fig = plt.figure( figsize = ( 10, 10 ) )\n",
    "ax = fig.gca(projection='3d')\n",
    "ax.plot(x, y, z, label='parametric curve')\n",
    "ax.legend()"
   ]
  },
  {
   "cell_type": "code",
   "execution_count": null,
   "id": "f31fdac4",
   "metadata": {},
   "outputs": [],
   "source": [
    "# you can now decide to plot back in line:\n",
    "\n",
    "%matplotlib inline"
   ]
  },
  {
   "cell_type": "code",
   "execution_count": null,
   "id": "d73d5461",
   "metadata": {},
   "outputs": [],
   "source": [
    "def randrange(n, vmin, vmax):\n",
    "    '''\n",
    "    Returns n random points in the range from vmin to vmax.\n",
    "    '''\n",
    "    return (vmax-vmin)*np.random.rand(n) + vmin\n",
    "\n",
    "fig = plt.figure( figsize = ( 10, 10 ) )\n",
    "ax = fig.add_subplot(111, projection='3d')\n",
    "\n",
    "# see the Matplotlib tutorial for more:\n",
    "# http://matplotlib.org/users/pyplot_tutorial.html#working-with-multiple-figures-and-axes\n",
    "\n",
    "n = 100\n",
    "\n",
    "# red circles in the z range -50 - -20\n",
    "xs = randrange(n,  23,  32)\n",
    "ys = randrange(n,   0, 100)\n",
    "zs = randrange(n, -50, -20)\n",
    "ax.scatter(xs, ys, zs, c='r', marker='o')  # the scatter function makes points\n",
    "\n",
    "# blue triangels in the z range -40 - -5\n",
    "xs = randrange(n,  23,  32)\n",
    "ys = randrange(n,   0, 100)\n",
    "zs = randrange(n, -40,  -5)\n",
    "ax.scatter(xs, ys, zs, c='b', marker='^')\n",
    "\n",
    "# you can set the labels using the set_[xyz]label() methods\n",
    "ax.set_xlabel('X Label')\n",
    "ax.set_ylabel('Y Label')\n",
    "ax.set_zlabel('Z Label')"
   ]
  },
  {
   "cell_type": "code",
   "execution_count": null,
   "id": "3a4873bb",
   "metadata": {},
   "outputs": [],
   "source": [
    "fig,ax =plt.subplots(1,1, figsize =(8,8))\n",
    "ax = plt.axes(projection='3d')\n",
    "\n",
    "\n",
    "# Data for three-dimensional scattered points\n",
    "x = 20 * np.random.random( 420 )\n",
    "y = np.sin( x ) + 0.1 * np.random.randn( 420 ) * np.cos( x * 2. * np.pi )\n",
    "z = np.cos( x ) + 0.1 * np.random.randn( 420 ) * np.cos( y * 2. * np.pi )\n",
    "\n",
    "\n",
    "\n",
    "\n",
    "ax.set_xlabel('z', fontsize = 20 )\n",
    "ax.set_ylabel('y', fontsize = 20 )\n",
    "ax.set_zlabel('x', fontsize = 20 )\n",
    "\n",
    "ax.scatter( z, y, x, c = z, cmap='Reds' , marker = 'o', s = 100 )\n",
    "\n",
    "#We have a 3D plot! you may want to connect the points with lines (but here it looks ugly):\n",
    "\n",
    "#ax.plot3D( z , y , x, color = 'gray')\n",
    "\n",
    "#%matplotlib inline   # ----> make plots appear back in line"
   ]
  },
  {
   "cell_type": "code",
   "execution_count": null,
   "id": "71a1d96a",
   "metadata": {},
   "outputs": [],
   "source": [
    "#Let's make another 3D plot. This time a surface one:\n",
    "%matplotlib\n",
    "\n",
    "def f(x, y):\n",
    "    return np.sin(np.sqrt(x **2 + y ** 2))\n",
    "\n",
    "x = np.linspace(-20, 20, 100)\n",
    "y = np.linspace(-20, 20, 100)\n",
    "\n",
    "X, Y = np.meshgrid(x, y)\n",
    "Z = f(X, Y)\n",
    "\n",
    "fig,ax =plt.subplots( figsize = ( 10 , 10 ) )\n",
    "\n",
    "r        = np.linspace( 0, 6, 20 )\n",
    "theta    = np.linspace( -0.9 * np.pi, 0.8 * np.pi, 40 )\n",
    "r, theta = np.meshgrid( r, theta )\n",
    "\n",
    "X = r * np.sin( theta )\n",
    "Y = r * np.cos( theta )\n",
    "Z = f( X, Y )\n",
    "\n",
    "ax = plt.axes( projection = '3d' )\n",
    "ax.contourf( X, Y, Z, 400, cmap = 'RdYlBu') "
   ]
  },
  {
   "cell_type": "code",
   "execution_count": null,
   "id": "111ab7a5",
   "metadata": {},
   "outputs": [],
   "source": [
    "%matplotlib inline"
   ]
  },
  {
   "cell_type": "code",
   "execution_count": null,
   "id": "a361370d",
   "metadata": {},
   "outputs": [],
   "source": [
    "from mpl_toolkits.mplot3d import axes3d\n",
    "\n",
    "fig = plt.figure()\n",
    "ax = fig.add_subplot(111, projection='3d')\n",
    "\n",
    "# Grab some test data.\n",
    "X, Y, Z = axes3d.get_test_data(0.05)\n",
    "\n",
    "# Plot a basic wireframe.\n",
    "ax.plot_wireframe(X, Y, Z, rstride=10, cstride=10)\n"
   ]
  },
  {
   "cell_type": "markdown",
   "id": "430cb9df",
   "metadata": {},
   "source": [
    "### Interested in learning more things about 3D plotting? Look at package tutorials for more ideas:\n",
    "\n",
    "### Quickest, simplest, but not as much detailed control:  http://vpython.org/\n",
    "\n",
    "### All the basics, and much more, good control of details: http://matplotlib.org/mpl_toolkits/mplot3d/tutorial.html\n",
    "\n",
    "### Bells and whistles, including speed optimization and volume rendering:  http://docs.enthought.com/mayavi/mayavi/mlab.html\n"
   ]
  },
  {
   "cell_type": "code",
   "execution_count": null,
   "id": "3afce74b",
   "metadata": {},
   "outputs": [],
   "source": []
  },
  {
   "cell_type": "markdown",
   "id": "d0ab574f",
   "metadata": {},
   "source": [
    "-------------------------"
   ]
  },
  {
   "cell_type": "markdown",
   "id": "9f415211",
   "metadata": {},
   "source": [
    "### An intro to LaTeX and LaTeX in Python:"
   ]
  },
  {
   "cell_type": "markdown",
   "id": "0ca53e20",
   "metadata": {},
   "source": [
    "#### An intro to writing reports with LaTeX: https://www.overleaf.com/read/kbgmssxspcvw"
   ]
  },
  {
   "cell_type": "markdown",
   "id": "d33600b2",
   "metadata": {},
   "source": [
    "### With Python you can use LaTeX for math in your plots. For example:\n",
    "\n",
    "- $\\mu$ \n",
    "- $\\sigma$\n",
    "- $\\Sigma$\n",
    "- $\\delta$ \n",
    "- $\\tau$\n",
    "- $\\beta$\n",
    "- $\\gamma$\n",
    "- $\\epsilon$\n",
    "- $\\chi$\n",
    "\n",
    "\n",
    "### Some math you may do:\n",
    "\n",
    "- $\\frac{a}{b}$\n",
    "- $\\chi^2$ or generally $\\chi^n$\n",
    "- $\\sqrt{\\alpha}$\n",
    "- $\\alpha_{x}^{y}$"
   ]
  },
  {
   "cell_type": "markdown",
   "id": "1aa82ff7",
   "metadata": {},
   "source": [
    "### Let's see it in a plot:"
   ]
  },
  {
   "cell_type": "code",
   "execution_count": null,
   "id": "ee9dd713",
   "metadata": {},
   "outputs": [],
   "source": [
    "#make random data\n",
    "\n",
    "x = np.linspace(1, 10, 100 )\n",
    "y = np.sqrt( x )\n",
    "z = x ** 4\n",
    "\n",
    "\n",
    "fig, (ax1, ax2) = plt.subplots(1, 2, figsize = ( 20, 6 ) )\n",
    "\n",
    "ax1.plot( x, y , color = 'red', linestyle = 'None', marker = 'd' )\n",
    "ax1.set_xlabel( 'x', fontsize = 20 )\n",
    "ax1.set_ylabel( '$\\\\sqrt{x} $', fontsize = 20 )\n",
    "ax1.tick_params( axis= 'both', which = 'both', direction = 'in', size = 15 , labelsize = 20 )\n",
    "\n",
    "ax2.plot( x, z , color = 'blue', linestyle = 'None', marker = 'p' )\n",
    "ax2.set_xlabel( 'x', fontsize = 20 )\n",
    "ax2.set_ylabel( ' $x^4$ ', fontsize = 20 )\n",
    "ax2.tick_params( axis= 'both', which = 'both',  direction = 'in', size = 15 , labelsize = 20 )\n",
    "\n"
   ]
  },
  {
   "cell_type": "markdown",
   "id": "399d81ee",
   "metadata": {},
   "source": [
    "### Practicum time! "
   ]
  },
  {
   "cell_type": "markdown",
   "id": "c99e6433",
   "metadata": {},
   "source": [
    "## 1. Write a code that ask an input word from the user. If the words has not been entered before, the code stores it in a list for up to 6 words total. If the word has been entered before the code issues an error and asks for a new word. Try it out with: 'mark', 'test', 'me', 'you', 'OK', 'test', 'mark', 'done'."
   ]
  },
  {
   "cell_type": "code",
   "execution_count": null,
   "id": "0afaca35",
   "metadata": {},
   "outputs": [],
   "source": []
  },
  {
   "cell_type": "code",
   "execution_count": null,
   "id": "be48fac9",
   "metadata": {},
   "outputs": [],
   "source": []
  },
  {
   "cell_type": "code",
   "execution_count": null,
   "id": "864f1106",
   "metadata": {},
   "outputs": [],
   "source": []
  },
  {
   "cell_type": "markdown",
   "id": "9acbc484",
   "metadata": {},
   "source": [
    "## 2. You run a local grocery store and want to calculate your profit for the day, and how much your owed taxes are. Make a function *your_day_average( list1, list2 )* that takes as inputs two lists. List1 has the average price of products you sold on a given day and list2 has the average amount of each product bought. The function calculates the total sales value of your grocery store that day, calculates the tax you owe (assume a flat 6% rate) and returns a list with the total income and tax owed. Call the function for list1 = ( 3.2 , 5.52, 1.3, 15.11 ) and list2 = ( 12, 46, 32, 3) and print an informative statement that tells you what your income was and how much your net income is (minus taxes)."
   ]
  },
  {
   "cell_type": "code",
   "execution_count": null,
   "id": "2d8e2407",
   "metadata": {},
   "outputs": [],
   "source": []
  },
  {
   "cell_type": "code",
   "execution_count": null,
   "id": "fbc08bba",
   "metadata": {},
   "outputs": [],
   "source": []
  },
  {
   "cell_type": "code",
   "execution_count": null,
   "id": "b226400a",
   "metadata": {},
   "outputs": [],
   "source": []
  },
  {
   "cell_type": "markdown",
   "id": "6b9ae302",
   "metadata": {},
   "source": [
    "## 3. Get data plot_data_ax.dat. Assign the three columns to variable f1, f2 and f3. Plot side by side the f1 vs f2 and f1 vs f3:\n"
   ]
  },
  {
   "cell_type": "code",
   "execution_count": null,
   "id": "3c07af4a",
   "metadata": {},
   "outputs": [],
   "source": []
  },
  {
   "cell_type": "code",
   "execution_count": null,
   "id": "7c8acab0",
   "metadata": {},
   "outputs": [],
   "source": []
  },
  {
   "cell_type": "code",
   "execution_count": null,
   "id": "296207bf",
   "metadata": {},
   "outputs": [],
   "source": []
  },
  {
   "cell_type": "markdown",
   "id": "8ef58dfa",
   "metadata": {},
   "source": [
    "## 4. Plot your x,y with errorbars sigma2 and sigma respectively. Plot x vs y only where sigma < 11.5."
   ]
  },
  {
   "cell_type": "code",
   "execution_count": null,
   "id": "0dbe5088",
   "metadata": {},
   "outputs": [],
   "source": [
    "x = np.array( [0.25,0.5,0.75,1.,1.25,1.5,1.75,2.,2.25,2.5, \n",
    "               2.75,3.,3.25,3.5,3.75,4.0,4.25,4.5,4.75,5.0,5.25] ) \n",
    "y = np.array( [14.059, 19.18, 26.26, 25.95, 31.567, 44.464, 49.88, \n",
    "               64.016, 79.34, 93.229, 104.985, 113.425, 130.466, 150.331, \n",
    "               168.620, 185.888, 207.500, 225.716, 241.891, 268.802, 287.936] )\n",
    "\n",
    "sigma = np.array( [12.536, 13.601, 11.8492, 15.937, 12.6478, 13.927, 11.445, \n",
    "                   10.224, 12.981, 10.969, 11.666, 12.060, 10.173, 10.292, 14.507, \n",
    "                   12.195, 11.578, 9.321, 12.602, 13.03, 8.6004] )\n",
    "\n",
    "sigma2 = sigma * np.random.random( len(sigma) )* .2\n",
    "\n"
   ]
  },
  {
   "cell_type": "code",
   "execution_count": null,
   "id": "51db5efb",
   "metadata": {},
   "outputs": [],
   "source": [
    "# mask the data:\n",
    "\n"
   ]
  },
  {
   "cell_type": "code",
   "execution_count": null,
   "id": "be062b62",
   "metadata": {},
   "outputs": [],
   "source": []
  },
  {
   "cell_type": "markdown",
   "id": "a1e7b231",
   "metadata": {},
   "source": [
    "## Solving linear equations with Python:\n",
    "\n",
    "### if you have two linear equations and you want to solve the system you can use the matrix representation.\n",
    "\n",
    "### a  * x + b  * y = c\n",
    "### a2 * x + b2 * y = c2\n",
    "\n",
    "### A = [ [a, b ], [ a2, b2 ] ] & B = [ c, c2 ]\n",
    "### you can get x and y by solving the A^-1 . B (-- inverse of A dot B --- i.e., np.linalg.inv(A).dot(B) )  "
   ]
  },
  {
   "cell_type": "code",
   "execution_count": null,
   "id": "025c204a",
   "metadata": {},
   "outputs": [],
   "source": [
    "# e.,g. solve:\n",
    "\n",
    "# 5  * x - 3 * y  = 17\n",
    "# - 12 * x + 11 * y = 1\n",
    "\n",
    "A = np.array( [ [ 5, -3.], [ -12., 11.] ] )\n",
    "B = np.array( [17, 1] )\n",
    "\n",
    "X,Y = np.linalg.inv(A).dot(B)\n",
    "\n",
    "print( X, Y )"
   ]
  },
  {
   "cell_type": "markdown",
   "id": "c4ebdf8b",
   "metadata": {},
   "source": [
    "### 5. There are two baskets with apples, let's call them basket_one and basket_two. You need to make a code that figures out how much apples there are in each basket. You know that if you move one apple from basket_one to basket_two the latter has three times the apples of basket one, while if you move an apple from basket_two to basket_one they have the same number of apples. How many apples does each basket have?"
   ]
  },
  {
   "cell_type": "code",
   "execution_count": null,
   "id": "7825d671",
   "metadata": {},
   "outputs": [],
   "source": []
  },
  {
   "cell_type": "code",
   "execution_count": null,
   "id": "f8b662ed",
   "metadata": {},
   "outputs": [],
   "source": []
  },
  {
   "cell_type": "markdown",
   "id": "1de28427",
   "metadata": {},
   "source": [
    "### 6. Read the data from ***a_scatter_plot.dat*** and assign the 3 columns to x y z. Use a scatter plot to plot the data. What is the shape you see?"
   ]
  },
  {
   "cell_type": "code",
   "execution_count": null,
   "id": "dacdec44",
   "metadata": {},
   "outputs": [],
   "source": []
  },
  {
   "cell_type": "code",
   "execution_count": null,
   "id": "8a2b6963",
   "metadata": {},
   "outputs": [],
   "source": []
  },
  {
   "cell_type": "code",
   "execution_count": null,
   "id": "2c710fbe",
   "metadata": {},
   "outputs": [],
   "source": []
  },
  {
   "cell_type": "code",
   "execution_count": null,
   "id": "91201006",
   "metadata": {},
   "outputs": [],
   "source": []
  },
  {
   "cell_type": "code",
   "execution_count": null,
   "id": "dd9148db",
   "metadata": {},
   "outputs": [],
   "source": []
  },
  {
   "cell_type": "code",
   "execution_count": null,
   "id": "a4a5c87b",
   "metadata": {},
   "outputs": [],
   "source": []
  }
 ],
 "metadata": {
  "kernelspec": {
   "display_name": "Python 3 (ipykernel)",
   "language": "python",
   "name": "python3"
  },
  "language_info": {
   "codemirror_mode": {
    "name": "ipython",
    "version": 3
   },
   "file_extension": ".py",
   "mimetype": "text/x-python",
   "name": "python",
   "nbconvert_exporter": "python",
   "pygments_lexer": "ipython3",
   "version": "3.7.11"
  }
 },
 "nbformat": 4,
 "nbformat_minor": 5
}
