{
 "cells": [
  {
   "cell_type": "markdown",
   "metadata": {},
   "source": [
    "# Advanced 2D plotting"
   ]
  },
  {
   "cell_type": "code",
   "execution_count": null,
   "metadata": {},
   "outputs": [],
   "source": [
    "import numpy as np\n",
    "import matplotlib.pyplot as plt\n",
    "import matplotlib.colors as colors"
   ]
  },
  {
   "cell_type": "markdown",
   "metadata": {},
   "source": [
    "### Let's see some plots before we start making good ones:"
   ]
  },
  {
   "cell_type": "markdown",
   "metadata": {},
   "source": [
    "### Why is this a VERY bad plot?"
   ]
  },
  {
   "cell_type": "markdown",
   "metadata": {},
   "source": [
    "<img src=\"badplot.png\" width=550 height=550 />\n",
    "source:Spring 2019 lectures"
   ]
  },
  {
   "cell_type": "markdown",
   "metadata": {},
   "source": [
    "### why is this a better, but still bad plot?\n",
    "\n",
    "<img src=\"badplot2.png\" width=550 height=550 />"
   ]
  },
  {
   "cell_type": "markdown",
   "metadata": {},
   "source": [
    "### Let's see these bad plots:\n",
    "\n",
    "<img src=\"badplot3.png\" width=550 height=550 />"
   ]
  },
  {
   "cell_type": "markdown",
   "metadata": {},
   "source": [
    "<img src=\"badplot4.png\" width=550 height=550 />"
   ]
  },
  {
   "cell_type": "markdown",
   "metadata": {},
   "source": [
    "### what is wrong with this one?\n",
    "<img src=\"badplot5.png\" width=550 height=550 />"
   ]
  },
  {
   "cell_type": "markdown",
   "metadata": {},
   "source": [
    "### the better plot:\n",
    "<img src=\"betterplot6.png\" width=550 height=550 />"
   ]
  },
  {
   "cell_type": "code",
   "execution_count": null,
   "metadata": {},
   "outputs": [],
   "source": [
    "##############"
   ]
  },
  {
   "cell_type": "markdown",
   "metadata": {},
   "source": [
    "### What makes a plot a good one?\n",
    "\n",
    "- Titles ( at the right BIG size)\n",
    "\n",
    "- Appropriate contrast for lines\n",
    "\n",
    "- Labels and legends if needed ( at the right BIG size)\n",
    "\n",
    "- Proper fitting of data! \n"
   ]
  },
  {
   "cell_type": "markdown",
   "metadata": {},
   "source": [
    "### Scatter plots and intro to fitting of data"
   ]
  },
  {
   "cell_type": "markdown",
   "metadata": {},
   "source": [
    "<img src=\"betterplot7.png\" width=550 height=550 />\n",
    "\n",
    "Souce: https://infogram.com/blog/scatter-plots/\n"
   ]
  },
  {
   "cell_type": "markdown",
   "metadata": {},
   "source": [
    "## ----------------------------------------------------------------------------------------------------\n",
    "### Intermezzo: Correlations "
   ]
  },
  {
   "cell_type": "markdown",
   "metadata": {},
   "source": [
    "### When looking at a scatter plot you may find that the x and y parameters are correlated, anti-correlated or not correlated. What does that tell you?\n",
    "\n",
    "<img src=\"betterplot8.png\" width=750 height=550 />\n",
    "\n",
    "Souce: https://infogram.com/blog/scatter-plots/"
   ]
  },
  {
   "cell_type": "markdown",
   "metadata": {},
   "source": [
    "### Of course, sometimes this can be a slippery slope..."
   ]
  },
  {
   "cell_type": "markdown",
   "metadata": {},
   "source": [
    "### How would you interpret this?\n",
    "\n",
    "<img src=\"correlation_causation.png\" width=450 height=550 />\n",
    "Source: https://www.centerforhealthjournalism.org/fellowships/projects/one-worst-state-merced-county-s-childhood-obesity-crisis/\n"
   ]
  },
  {
   "cell_type": "markdown",
   "metadata": {},
   "source": [
    "### What about this one then?\n",
    "<img src=\"correlation_causation2.png\" width=750 height=550 />"
   ]
  },
  {
   "cell_type": "markdown",
   "metadata": {},
   "source": [
    "# Correlation != Causation  !!!!\n",
    "## ----------------------------------------------------------------------------------------------------\n"
   ]
  },
  {
   "cell_type": "markdown",
   "metadata": {},
   "source": [
    "### Let's do some proper plotting"
   ]
  },
  {
   "cell_type": "markdown",
   "metadata": {},
   "source": [
    "### Get data for Old Faithful erruptions in *old_faithful_data.dat* "
   ]
  },
  {
   "cell_type": "code",
   "execution_count": null,
   "metadata": {},
   "outputs": [],
   "source": [
    "olf_errupt = np.genfromtxt( 'old_faithful_data.dat', comments= '#' )"
   ]
  },
  {
   "cell_type": "markdown",
   "metadata": {},
   "source": [
    "### Start with doing a scatter plot with plt:"
   ]
  },
  {
   "cell_type": "code",
   "execution_count": null,
   "metadata": {},
   "outputs": [],
   "source": [
    "#let's define our plotting area:\n",
    "\n"
   ]
  },
  {
   "cell_type": "markdown",
   "metadata": {},
   "source": [
    "### Now let's try the same thing using the ax :"
   ]
  },
  {
   "cell_type": "markdown",
   "metadata": {},
   "source": [
    "### The ax plotting:\n",
    "--------------------------------\n",
    "### If you want to add more flexibility to your plots, and start making more advanced/ multiple plots you can do more object-oriented plots using the 'ax' "
   ]
  },
  {
   "cell_type": "code",
   "execution_count": null,
   "metadata": {},
   "outputs": [],
   "source": [
    "#let's make a basic plot of x vs y for this random sinusoidal data:\n",
    "x = np.linspace( 0, 15, 1000 )\n",
    "y = np.sin( x )\n",
    "\n",
    "\n",
    "fig, ax = plt.subplots( figsize = (12, 6) )  # create a figure object\n",
    "\n",
    "ax.plot( x, y , linewidth = 4)                     #make the plot \n",
    "ax.set_ylabel( 'Y', color='red', fontsize=20 )    # add X and Y labels and make them red\n",
    "ax.set_xlabel( 'X', color='blue', fontsize=20 )\n",
    "ax.tick_params( axis=\"both\", labelsize=18 )       # change the size of your tick labels\n"
   ]
  },
  {
   "cell_type": "markdown",
   "metadata": {},
   "source": [
    "### this method offers you more flexibility than the plt--- for example, you can use double y axis in a plot:  (note: same principles for double x axis)\n"
   ]
  },
  {
   "cell_type": "code",
   "execution_count": null,
   "metadata": {},
   "outputs": [],
   "source": [
    "\n",
    "x = np.linspace(0., 10., 100)\n",
    "\n",
    "fig = plt.figure( figsize = (12,8) )\n",
    "\n",
    "ax1 = fig.add_subplot(1, 1, 1)\n",
    "ax2 = ax1.twinx()\n",
    "\n",
    "ax1.plot( x, x ** 2, color= 'blue' , linewidth = 3 )\n",
    "ax1.set_ylabel( 'x$^2$', color='blue', fontsize=24, rotation = 0 )\n",
    "ax1.set_xlabel('x',fontsize=20)\n",
    "ax1.tick_params( axis=\"both\", labelsize=18, length = 7 , direction = 'in' )\n",
    "\n",
    "ax2.plot( x, 1/x, color='red')\n",
    "ax2.set_ylabel('$ \\\\frac{1}{x} $', color='red',fontsize=24) #, rotation = 0)\n",
    "ax2.tick_params( axis=\"y\", labelsize=18 , length = 7 , direction = 'in' )\n",
    "\n"
   ]
  },
  {
   "cell_type": "markdown",
   "metadata": {},
   "source": [
    "---------------"
   ]
  },
  {
   "cell_type": "code",
   "execution_count": null,
   "metadata": {},
   "outputs": [],
   "source": [
    "# Now let's go back to the Old Faithful data and make a scatter plot with ax:\n",
    "\n",
    "# let Python know you start a fig with 1 'subplot' under 'ax' :\n",
    "fig, ax = plt.subplots( figsize = ( 8, 8 ) )\n",
    "\n",
    "ax.scatter( olf_errupt[ :, 1 ]  / 1000. , olf_errupt[ :, 2 ]  )\n",
    "\n",
    "ax.set_xlabel( ' Erruption Duration ' , size = 24 )\n",
    "ax.set_ylabel( ' Erruption Interval ' , size = 24 )\n",
    "\n",
    "# change the fontsize of your tickmarks:\n",
    "\n",
    "ax.set_xticks( np.arange( 1, 6.2, 1. ) )\n",
    "ax.set_xticklabels( np.arange( 1, 6.2, 1. ), fontsize = 14 )\n",
    "\n",
    "\n",
    "# let's make our tickmars a bit clearer:\n",
    "\n",
    "ax.tick_params( axis ='both', which ='both', length = 7 , direction = 'in' , labelsize=18)"
   ]
  },
  {
   "cell_type": "markdown",
   "metadata": {},
   "source": [
    "### Let's get another dataset now. Try to make the scatter plot of *baseball_leads.dat* :\n"
   ]
  },
  {
   "cell_type": "code",
   "execution_count": null,
   "metadata": {},
   "outputs": [],
   "source": [
    "#read data in:\n",
    "baseball = np.genfromtxt( )"
   ]
  },
  {
   "cell_type": "code",
   "execution_count": null,
   "metadata": {},
   "outputs": [],
   "source": []
  },
  {
   "cell_type": "markdown",
   "metadata": {},
   "source": [
    "### let's start with the standard plt.scatter() plot:"
   ]
  },
  {
   "cell_type": "code",
   "execution_count": null,
   "metadata": {},
   "outputs": [],
   "source": []
  },
  {
   "cell_type": "markdown",
   "metadata": {},
   "source": [
    "### Now we want to split the data in the 'older' and modern times (assume split happens in 1960) and plot them stacked. How do we do that?"
   ]
  },
  {
   "cell_type": "code",
   "execution_count": null,
   "metadata": {},
   "outputs": [],
   "source": [
    "year_lim =  np.where( baseball[ :, 1 ] == 1960. )[0]\n",
    "year_lim = int( year_lim )"
   ]
  },
  {
   "cell_type": "code",
   "execution_count": null,
   "metadata": {},
   "outputs": [],
   "source": [
    "fig, ( ax1, ax2 ) = plt.subplots(2, figsize = (10, 10 ))\n",
    "\n",
    "fig.suptitle('Vertically stacked scatter plots - baseball' , fontsize = 24 )\n",
    "\n",
    "#start with the first one:\n",
    "\n",
    "ax1.scatter( baseball[ :year_lim , 1 ] , baseball[ :year_lim , 2] *1e-3 )\n",
    "ax1.set_xlabel( ' Year ' , fontsize = 24 )\n",
    "ax1.set_ylabel( ' Lead Avg ' , fontsize = 24 )\n",
    "\n",
    "#you can define what your tickmarks will be via the set_xticks (or y) and _xticklabels\n",
    "\n",
    "ax1.set_xticks( 1900 + np.arange( 4 ) * 20 )\n",
    "ax1.set_xticklabels( 1900 + np.arange( 4 ) * 20 , fontsize = 14 )\n",
    "ax1.tick_params( axis ='both', which ='both', length = 7 , direction = 'in' , labelsize=14 )\n",
    "\n",
    "# go to the second one:\n",
    "\n",
    "ax2.scatter( baseball[ year_lim:, 1 ] , baseball[ year_lim:, 2] *1e-3 , color = 'red' ) \n",
    "ax2.set_xlabel( ' Year ' , fontsize = 24 )\n",
    "ax2.set_ylabel( ' Lead Avg ' , fontsize = 24 )\n",
    "ax2.set_xticks( 1960 + np.arange( 4 ) * 20  ) \n",
    "ax2.set_yticks( 0.33 + np.arange( 4) * 0.02) \n",
    "\n",
    "# or just make them the same like so: \n",
    "ax2.tick_params( axis ='both', which ='both', length = 7 , direction = 'in' , labelsize=14 )\n"
   ]
  },
  {
   "cell_type": "markdown",
   "metadata": {},
   "source": [
    "### or if you prefer them side by side:"
   ]
  },
  {
   "cell_type": "code",
   "execution_count": null,
   "metadata": {},
   "outputs": [],
   "source": [
    "fig, ( ax1, ax2 ) = plt.subplots( 1, 2 , figsize = (16, 8 ))\n",
    "\n",
    "fig.suptitle('Horizontally stacked scatter plots', fontsize = 24)\n",
    "\n",
    "#start with the first one:\n",
    "\n",
    "ax1.scatter( baseball[ :year_lim , 1 ] , baseball[ :year_lim , 2] *1e-3 )\n",
    "ax1.set_xlabel( ' Year ' , fontsize = 24 )\n",
    "ax1.set_ylabel( ' Lead Avg ' , fontsize = 24 )\n",
    "ax1.set_xticks( 1900 + np.arange( 4 ) * 20 )\n",
    "ax1.set_xticklabels( 1900 + np.arange( 4 ) * 20 , fontsize = 14 )\n",
    "ax1.tick_params( axis ='both', which ='both', length = 7 , direction = 'in' , labelsize=14 )\n",
    "\n",
    "ax1.tick_params( axis ='both', which ='both', length = 7 , direction = 'in', labelsize=18 )\n",
    "\n",
    "# go to the second one:\n",
    "\n",
    "ax2.scatter( baseball[ year_lim:, 1 ] , baseball[ year_lim:, 2] *1e-3 , color = 'red' ) \n",
    "ax2.set_xlabel( ' Year ' , fontsize = 24 )\n",
    "ax2.set_ylabel( ' Lead Avg ' , fontsize = 24 )\n",
    "ax2.set_xticks( 1960 + np.arange( 4 ) * 20  ) \n",
    "ax2.set_yticks( 0.33 + np.arange( 4) * 0.02) \n",
    "\n",
    "ax2.tick_params( axis ='both', which ='both', length = 7 , direction = 'in', labelsize=18 )\n"
   ]
  },
  {
   "cell_type": "code",
   "execution_count": null,
   "metadata": {},
   "outputs": [],
   "source": [
    "# of course, the sky is the limit...the lower limit:\n",
    "\n",
    "fig, ( (ax1, ax2), (ax3, ax4) ) = plt.subplots( 2, 2 , figsize = (16, 16 ) )\n",
    "\n",
    "\n",
    "ax1.scatter( olf_errupt[ :, 1 ]  / 1000. , olf_errupt[ :, 2 ]  )\n",
    "ax1.set_xlabel( ' Erruption Duration ' , fontsize = 24 )\n",
    "ax1.set_ylabel( ' Erruption Interval ' , fontsize = 24 )\n",
    "ax1.set_xticks( np.arange( 1, 6.2, 1. ) )\n",
    "ax1.set_xticklabels( np.arange( 1, 6.2, 1. ), fontsize = 14 )\n",
    "ax1.tick_params( axis ='both', which ='both', length = 7 , direction = 'in' )\n",
    "\n",
    "# go to the second one:\n",
    "\n",
    "ax2.scatter( baseball[ :, 1 ] , baseball[ :, 2] *1e-3 , color = 'red' ) \n",
    "ax2.set_xlabel( ' Year ' , fontsize = 24 )\n",
    "ax2.set_ylabel( ' Lead Avg ' , fontsize = 24 ) \n",
    "ax2.tick_params( axis ='both', which ='both', length = 7 , direction = 'in' , labelsize = 16 )\n",
    "\n",
    "\n",
    "ax3.plot( np.arange( 10 ) , np.arange( 10 )**2, color = 'green', linestyle = '--' , linewidth = 4 )\n",
    "ax3.tick_params( axis ='both', which ='both', length = 7 , direction = 'in' , labelsize = 16 )\n",
    "ax3.set_xlabel( 'Random X ' , fontsize = 24 )\n",
    "ax3.set_ylabel( 'X $^2$ ' , fontsize = 24 )\n",
    "\n",
    "ax4.plot( np.arange( 10 ) , np.arange( 10 )**0.5, color = 'magenta', linestyle = '-.' , linewidth = 7 )\n",
    "ax4.tick_params( axis ='both', which ='both', length = 7 , direction = 'in' , labelsize = 16 )\n",
    "ax4.set_xlabel( 'Random X ' , fontsize = 24 )\n",
    "ax4.set_ylabel( '$\\\\sqrt{X}$ ' , fontsize = 24 )\n"
   ]
  },
  {
   "cell_type": "markdown",
   "metadata": {},
   "source": [
    "### Sometimes you may need to do a contour plot or use colorbars:\n"
   ]
  },
  {
   "cell_type": "code",
   "execution_count": null,
   "metadata": {},
   "outputs": [],
   "source": [
    "# examples from https://matplotlib.org/ \n",
    "#random image to see addition of colorbar:\n",
    "\n",
    "image = np.random.poisson( 10., ( 120, 100 ) )\n",
    "\n",
    "fig, ax = plt.subplots( figsize = (8,8) )\n",
    "\n",
    "i    = ax.imshow( image, interpolation = 'nearest', cmap='RdYlBu' )\n",
    "\n",
    "ax.set_xlabel( 'X' , fontsize = 24 )\n",
    "ax.set_ylabel( 'Y' , fontsize = 24 )\n",
    "ax.tick_params( axis=\"both\", labelsize=20 ) \n",
    "ax.tick_params( axis ='both', which ='both', length = 7 , direction = 'in', width = 4  )\n",
    "\n",
    "\n",
    "cbar = fig.colorbar( i )\n",
    "\n",
    "cbar.set_label('random noise',fontsize = 20 )\n",
    "cbar.ax.tick_params(labelsize = 20)"
   ]
  },
  {
   "cell_type": "code",
   "execution_count": null,
   "metadata": {},
   "outputs": [],
   "source": [
    "# or do a contour plot:\n",
    "\n",
    "\n",
    "delta = 0.025\n",
    "\n",
    "x    = np.arange( -5, 5, 0.1 )\n",
    "y    = np.arange( -5.0, 5.0, delta )\n",
    "xx, yy = np.meshgrid( x, y , sparse=True )\n",
    "\n",
    "z = np.sin( xx**2 + yy**2 ) / ( xx**2 + yy**2 )\n",
    "\n",
    "plt.figure( figsize = (12, 8 ) )\n",
    "plt.contourf( x, y, z ,  cmap='Reds'  )\n",
    "plt.xticks( fontsize = 20 )\n",
    "plt.yticks( fontsize = 20 )\n"
   ]
  },
  {
   "cell_type": "code",
   "execution_count": null,
   "metadata": {},
   "outputs": [],
   "source": [
    "# or an alternative version:\n",
    "\n",
    "#import matplotlib.colors as colors\n",
    "\n",
    "fig, ax = plt.subplots(1, 1, figsize=(18, 10))\n",
    "#ax = ax.flatten()\n",
    "bounds = np.linspace( np.min( z ) , np.max( z ) + .1, 100)\n",
    "norm = colors.BoundaryNorm(boundaries=bounds, ncolors=256)\n",
    "pcm = ax.contourf(x, y ,z ,100, cmap='RdYlBu')\n",
    "\n",
    "cbar = fig.colorbar( pcm )\n",
    "\n",
    "cbar.set_label('random contour',fontsize = 20 )\n",
    "cbar.ax.tick_params(labelsize = 20)\n",
    "\n",
    "ax.tick_params( axis ='both', which ='both', length = 7 , direction = 'in', width = 3 )\n",
    "ax.set_xticklabels( -6. + np.arange( 6 ) *2, fontsize = 20)\n",
    "ax.set_yticklabels( -6. + np.arange( 6 ) *2, fontsize = 20)"
   ]
  },
  {
   "cell_type": "code",
   "execution_count": null,
   "metadata": {},
   "outputs": [],
   "source": [
    "# or :\n",
    "\n",
    "\n",
    "delta = 0.025\n",
    "x = np.arange( -3.0, 3.0, delta )\n",
    "y = np.arange( -2.0, 2.0, delta )\n",
    "X, Y = np.meshgrid(x, y)\n",
    "\n",
    "Z1 = np.exp(-X**2 - Y**2)\n",
    "Z2 = np.exp(-(X - 1)**2 - (Y - 1)**2)\n",
    "Z  = (Z1 - Z2) * 2\n",
    "\n",
    "fig, ax = plt.subplots( figsize = ( 12, 8 ) )\n",
    "\n",
    "CS = ax.contour( X, Y, Z )\n",
    "ax.clabel( CS, inline=1, fontsize=12 )\n",
    "ax.set_title( 'Simplest default with labels' , fontsize = 20 )\n",
    "\n",
    "ax.set_xlabel( 'X' , fontsize = 24 )\n",
    "ax.set_ylabel( 'Y' , fontsize = 24 )\n",
    "ax.tick_params( axis=\"both\", labelsize=20 ) \n",
    "ax.tick_params( axis ='both', which ='both', length = 7 , direction = 'in' )\n"
   ]
  },
  {
   "cell_type": "code",
   "execution_count": null,
   "metadata": {},
   "outputs": [],
   "source": [
    "# you can also manually define the properties of your lines:\n",
    "fig, ax = plt.subplots( figsize = ( 12, 8 ) )\n",
    "\n",
    "CS = ax.contour( X, Y, Z, 6,\n",
    "                linewidths = np.arange(1, 7, 1),\n",
    "                colors = ('red', 'green', 'blue', 'orange', 'magenta', 'gray'),\n",
    "                )\n",
    "\n",
    "ax.clabel( CS, fontsize = 14, inline = True )\n",
    "ax.set_title( 'Crazy lines', fontsize = 24)\n",
    "\n",
    "ax.set_xlabel( 'X' , fontsize = 24 )\n",
    "ax.set_ylabel( 'Y' , fontsize = 24 )\n",
    "ax.tick_params( axis=\"both\", labelsize=20 ) \n",
    "ax.tick_params( axis ='both', which ='both', length = 7 , direction = 'in' )\n"
   ]
  },
  {
   "cell_type": "code",
   "execution_count": null,
   "metadata": {},
   "outputs": [],
   "source": [
    "# sometimes you may need to crank up the accuracy for your reader...you need to see your grid lines and find out what is what...\n",
    "\n",
    "# let's go back to this one and add a grid:\n",
    "x = np.linspace( 0, 15, 1000 )\n",
    "y = np.sin( x )\n",
    "\n",
    "\n",
    "fig, ax = plt.subplots( figsize = (12, 6) )  # create a figure object\n",
    "\n",
    "ax.plot( x,y , linewidth = 4)                   #make the plot \n",
    "ax.set_ylabel('Y', color='red', fontsize=20)    # add X and Y labels and make them red\n",
    "ax.set_xlabel('X', color='red', fontsize=20)\n",
    "ax.tick_params( axis=\"both\", labelsize=18 )     # change the size of your tick labels\n",
    "\n",
    "ax.grid( linestyle='--' )"
   ]
  },
  {
   "cell_type": "code",
   "execution_count": null,
   "metadata": {},
   "outputs": [],
   "source": []
  },
  {
   "cell_type": "code",
   "execution_count": null,
   "metadata": {},
   "outputs": [],
   "source": []
  },
  {
   "cell_type": "markdown",
   "metadata": {},
   "source": [
    "# ---------------------------------------------------------------\n",
    "# Colorblind friendly plots"
   ]
  },
  {
   "cell_type": "markdown",
   "metadata": {},
   "source": [
    "<img src=\"ishiharas_test.png\" width=550 height=250 />\n",
    "\n",
    "source: https://www.color-blindness.com/ishiharas-test-for-colour-deficiency-38-plates-edition/"
   ]
  },
  {
   "cell_type": "markdown",
   "metadata": {},
   "source": [
    "<img src=\"retinas.png\" width=550 height=550 />\n",
    "\n",
    "Souce:BenRG - Own work, Public Domain, https://commons.wikimedia.org/w/index.php?curid=7873848\n"
   ]
  },
  {
   "cell_type": "markdown",
   "metadata": {},
   "source": [
    "<img src=\"colorblidness_states.png\" width=550 height=550 />\n",
    "source: By Nanobot - Own work, Public Domain,https://commons.wikimedia.org/w/index.php?curid=7905402\n"
   ]
  },
  {
   "cell_type": "markdown",
   "metadata": {},
   "source": [
    "## How do you ensure that colorblind people can see your plots as they should be seen? \n"
   ]
  },
  {
   "cell_type": "markdown",
   "metadata": {},
   "source": [
    "#### community has created number of resources that you can use to plot colorblind-friendly plots; here I show just one from an old colleague"
   ]
  },
  {
   "cell_type": "markdown",
   "metadata": {},
   "source": [
    "<img src=\"colorblind_friendly.png\" width=550 height=550 />\n",
    "\n",
    "source: https://personal.sron.nl/~pault/"
   ]
  },
  {
   "cell_type": "code",
   "execution_count": null,
   "metadata": {},
   "outputs": [],
   "source": [
    "from tol_colors import tol_cset"
   ]
  },
  {
   "cell_type": "code",
   "execution_count": null,
   "metadata": {},
   "outputs": [],
   "source": [
    "schemes = tol_cset()\n",
    "\n",
    "fig, axes = plt.subplots(ncols=len(schemes))\n",
    "fig.subplots_adjust(top=0.92, bottom=0.02, left=0.02, right=0.92)\n",
    "for ax, scheme in zip(axes, schemes):\n",
    "        cset = tol_cset(scheme)\n",
    "        names = cset._fields\n",
    "        colors = list(cset)\n",
    "        for name, color in zip(names, colors):\n",
    "            ax.scatter([], [], c=color, s=80, label=name)\n",
    "        ax.set_axis_off()\n",
    "        ax.legend(loc=2)\n",
    "        ax.set_title(scheme)\n",
    "plt.show()"
   ]
  },
  {
   "cell_type": "code",
   "execution_count": null,
   "metadata": {},
   "outputs": [],
   "source": [
    "x = np.arange( 10 )\n",
    "y = x ** 2.\n",
    "z = x ** 0.5\n",
    "w = x ** 1.5\n",
    "\n",
    "\n",
    "clrs = tol_cset( colorset= 'bright' )\n",
    "\n",
    "#add your plot here:\n",
    "plt.figure( figsize =( 12, 7 ) )\n",
    "\n",
    "plt.plot( x, y, linewidth =3 , color = clrs[0] )\n",
    "plt.plot( x, z, linewidth =3 , color = clrs[3] )\n",
    "plt.plot( x, w, linewidth =3 , color = clrs[5] )\n"
   ]
  },
  {
   "cell_type": "code",
   "execution_count": null,
   "metadata": {},
   "outputs": [],
   "source": []
  },
  {
   "cell_type": "markdown",
   "metadata": {},
   "source": [
    "#### -----------------------------------------------"
   ]
  },
  {
   "cell_type": "markdown",
   "metadata": {},
   "source": [
    "#### Let's get some of Python's built-in datasets to do some plotting"
   ]
  },
  {
   "cell_type": "code",
   "execution_count": null,
   "metadata": {},
   "outputs": [],
   "source": [
    "# import the datasets from the statsmodels:\n",
    "from statsmodels import datasets\n",
    "\n",
    "# list them all:\n",
    "#dir(datasets)"
   ]
  },
  {
   "cell_type": "code",
   "execution_count": null,
   "metadata": {},
   "outputs": [],
   "source": [
    "# now let's get, e.g., the elnino dataset and put it in a pandas series\n",
    "\n",
    "import pandas as pd\n",
    "data = pd.Series(datasets.elnino.load_pandas().data.set_index('YEAR').values.ravel())\n"
   ]
  },
  {
   "cell_type": "code",
   "execution_count": null,
   "metadata": {},
   "outputs": [],
   "source": [
    "#try basic plot\n",
    "plt.figure( figsize = ( 12 , 8 ) )\n",
    "plt.plot( data, marker = 'o')\n",
    "\n",
    "plt.xlabel( 'Years', fontsize = 20)\n",
    "plt.ylabel( ' El ninio frequency', fontsize = 20 )\n",
    "\n",
    "plt.xticks( fontsize = 20 )\n",
    "plt.yticks( fontsize = 20 )"
   ]
  },
  {
   "cell_type": "code",
   "execution_count": null,
   "metadata": {},
   "outputs": [],
   "source": [
    "# try it as an ax histogram:\n",
    "\n",
    "fig, ax = plt.subplots( figsize=(12,8) )\n",
    "\n",
    "ax.hist( data, bins = 50 )\n",
    "\n",
    "ax.set_xlabel( 'Year', fontsize = 20 )\n",
    "ax.set_ylabel( 'Frequency', fontsize = 20 )\n"
   ]
  },
  {
   "cell_type": "code",
   "execution_count": null,
   "metadata": {},
   "outputs": [],
   "source": [
    "# let's get the sunspot data:\n",
    "\n",
    "data2 = datasets.sunspots.load_pandas().data\n"
   ]
  },
  {
   "cell_type": "code",
   "execution_count": null,
   "metadata": {},
   "outputs": [],
   "source": [
    "#check it out:\n",
    "#print( data2 )\n",
    "\n",
    "#data2.describe"
   ]
  },
  {
   "cell_type": "code",
   "execution_count": null,
   "metadata": {},
   "outputs": [],
   "source": [
    "#let's plot it with an ax:\n",
    "\n",
    "fig, ax = plt.subplots( figsize = (12, 6) )\n",
    "\n",
    "ax.plot( data2.iloc[ :, 0], data2.iloc[ :, 1 ], linewidth = 2, color = 'magenta' )\n",
    "ax.set_xlabel( 'Year', fontsize = 20 )\n",
    "ax.set_ylabel( ' Num of spots', fontsize = 20 )\n",
    "\n",
    "# let's make our tickmars a bit clearer:\n",
    "ax.tick_params( axis ='both', which ='both', length = 12 , direction = 'in' , labelsize=19,  rotation=20 )\n"
   ]
  },
  {
   "cell_type": "code",
   "execution_count": null,
   "metadata": {},
   "outputs": [],
   "source": []
  },
  {
   "cell_type": "code",
   "execution_count": null,
   "metadata": {},
   "outputs": [],
   "source": [
    "# or you could plot it like:\n",
    "past_data = data2.loc[(data2.iloc[:, 0 ] >= 1800) & (data2.iloc[:, 0 ] < 1950)]\n",
    "past_spots = past_data['SUNACTIVITY']\n",
    "past_years = past_data[ 'YEAR' ]\n",
    "\n",
    "modern_data = data2.loc[(data2.iloc[:, 0 ] >= 1950)]\n",
    "modern_spots = modern_data['SUNACTIVITY']\n",
    "modern_years = modern_data[ 'YEAR' ]\n",
    "\n"
   ]
  },
  {
   "cell_type": "code",
   "execution_count": null,
   "metadata": {},
   "outputs": [],
   "source": [
    "fig, ( ax1, ax2 ) = plt.subplots( 1, 2 , figsize = (16, 8 ))\n",
    "\n",
    "ax1.plot( past_years, past_spots )\n",
    "ax1.set_xlabel( ' Year ' , size = 24 )\n",
    "ax1.set_ylabel( ' # of Sunspots ' , size = 24 )\n",
    "ax1.set_xticks( np.arange( 1800, 1970, 50. ) )\n",
    "ax1.set_xticklabels( np.arange( 1800, 1970, 50. ), fontsize = 14 )\n",
    "\n",
    "ax2.plot( modern_years, modern_spots )\n",
    "ax2.set_xlabel( ' Year ' , size = 24 )\n",
    "ax2.set_ylabel( ' # of Sunspots ' , size = 24 )\n",
    "\n",
    "ax2.set_xticklabels( np.arange( 1950, 2022, 11. ), fontsize = 14 )\n",
    "\n"
   ]
  },
  {
   "cell_type": "code",
   "execution_count": null,
   "metadata": {},
   "outputs": [],
   "source": []
  },
  {
   "cell_type": "code",
   "execution_count": null,
   "metadata": {},
   "outputs": [],
   "source": []
  },
  {
   "cell_type": "code",
   "execution_count": null,
   "metadata": {},
   "outputs": [],
   "source": [
    "# now get the file first_data_read_plot.dat and plot with the ax method the two spectra in 2 different, stacked plots\n",
    "\n"
   ]
  },
  {
   "cell_type": "code",
   "execution_count": null,
   "metadata": {},
   "outputs": [],
   "source": [
    "# assign columns to three variables\n",
    "\n",
    "\n",
    "#plot:\n",
    "\n"
   ]
  },
  {
   "cell_type": "code",
   "execution_count": null,
   "metadata": {},
   "outputs": [],
   "source": [
    "# and how do I put them next to each other?\n"
   ]
  },
  {
   "cell_type": "code",
   "execution_count": null,
   "metadata": {},
   "outputs": [],
   "source": []
  },
  {
   "cell_type": "markdown",
   "metadata": {},
   "source": [
    "### Get dataset whatsinthefile.dat and contour plot it:"
   ]
  },
  {
   "cell_type": "code",
   "execution_count": null,
   "metadata": {},
   "outputs": [],
   "source": [
    "# read data in:\n",
    "\n"
   ]
  },
  {
   "cell_type": "code",
   "execution_count": null,
   "metadata": {},
   "outputs": [],
   "source": [
    "# first with simple contour plot:"
   ]
  },
  {
   "cell_type": "code",
   "execution_count": null,
   "metadata": {},
   "outputs": [],
   "source": [
    "# try with advanced plotting:"
   ]
  },
  {
   "cell_type": "code",
   "execution_count": null,
   "metadata": {},
   "outputs": [],
   "source": []
  },
  {
   "cell_type": "code",
   "execution_count": null,
   "metadata": {},
   "outputs": [],
   "source": []
  }
 ],
 "metadata": {
  "kernelspec": {
   "display_name": "Python 3 (ipykernel)",
   "language": "python",
   "name": "python3"
  },
  "language_info": {
   "codemirror_mode": {
    "name": "ipython",
    "version": 3
   },
   "file_extension": ".py",
   "mimetype": "text/x-python",
   "name": "python",
   "nbconvert_exporter": "python",
   "pygments_lexer": "ipython3",
   "version": "3.7.11"
  }
 },
 "nbformat": 4,
 "nbformat_minor": 2
}
