{
 "cells": [
  {
   "cell_type": "markdown",
   "metadata": {},
   "source": [
    "# I/O, storing and reading data"
   ]
  },
  {
   "cell_type": "code",
   "execution_count": null,
   "metadata": {},
   "outputs": [],
   "source": [
    "### 2.22.2022 "
   ]
  },
  {
   "cell_type": "code",
   "execution_count": 1,
   "metadata": {},
   "outputs": [],
   "source": [
    "import numpy as np"
   ]
  },
  {
   "cell_type": "markdown",
   "metadata": {},
   "source": [
    "### Usually the slowest part of codes is the Input/Output part. Careful how many times you do I/O operations\n"
   ]
  },
  {
   "cell_type": "markdown",
   "metadata": {},
   "source": [
    "### for example, compare the time it takes to read this:"
   ]
  },
  {
   "cell_type": "code",
   "execution_count": 2,
   "metadata": {},
   "outputs": [],
   "source": [
    "cf = np.zeros(10663)"
   ]
  },
  {
   "cell_type": "code",
   "execution_count": 3,
   "metadata": {
    "scrolled": false
   },
   "outputs": [
    {
     "name": "stdout",
     "output_type": "stream",
     "text": [
      "Wall time: 22.9 ms\n"
     ]
    }
   ],
   "source": [
    "%%time\n",
    "\n",
    "with open('10k_file.dat', 'r') as f:\n",
    "    j = 0\n",
    "    for line in f:\n",
    "        p = line.split()\n",
    "        cf[ j ] = p[4]\n",
    "        j = j + 1\n",
    "        \n"
   ]
  },
  {
   "cell_type": "markdown",
   "metadata": {},
   "source": [
    "### versus: "
   ]
  },
  {
   "cell_type": "code",
   "execution_count": 4,
   "metadata": {},
   "outputs": [
    {
     "name": "stdout",
     "output_type": "stream",
     "text": [
      "Wall time: 2 ms\n"
     ]
    }
   ],
   "source": [
    "%%time\n",
    "f = open('10k_file.dat','r')  \n",
    "my_text = f.read()               \n",
    "f.close()                        "
   ]
  },
  {
   "cell_type": "code",
   "execution_count": null,
   "metadata": {},
   "outputs": [],
   "source": []
  },
  {
   "cell_type": "markdown",
   "metadata": {},
   "source": [
    "### You can open a file to:\n",
    "\n",
    "read: f = open(‘my_file’, ‘r’)\n",
    "\n",
    "write: f = open(‘my_file’, ‘w’)\n",
    "\n",
    "append: f = open(‘my_file’, ‘a’)\n",
    "\n",
    "read/write: f = open(‘my_file’, ‘r+’)\n",
    "\n"
   ]
  },
  {
   "cell_type": "markdown",
   "metadata": {},
   "source": [
    "#### -----------------------"
   ]
  },
  {
   "cell_type": "markdown",
   "metadata": {},
   "source": [
    "### After you open a file you can do things with the data you read in:\n"
   ]
  },
  {
   "cell_type": "markdown",
   "metadata": {},
   "source": [
    "### read everything in one go: f.read()\n"
   ]
  },
  {
   "cell_type": "markdown",
   "metadata": {},
   "source": [
    "### read line by line: f.readline()\n",
    "\n",
    "### Don’t forget to eventually close your file: f.close()\n"
   ]
  },
  {
   "cell_type": "code",
   "execution_count": null,
   "metadata": {},
   "outputs": [],
   "source": []
  },
  {
   "cell_type": "markdown",
   "metadata": {},
   "source": [
    "### Note that after closing the file the f. is released from memory and trying to access it to do anything will give you an error.\n",
    "\n",
    "\n",
    "### Better practice for working with a file:\n",
    "\n",
    "with open(‘my_file') as f: <br>\n",
    "------ do things here>\n",
    "\n",
    "file is closed\n"
   ]
  },
  {
   "cell_type": "code",
   "execution_count": null,
   "metadata": {},
   "outputs": [],
   "source": []
  },
  {
   "cell_type": "markdown",
   "metadata": {},
   "source": [
    "#### Let's try it out:"
   ]
  },
  {
   "cell_type": "markdown",
   "metadata": {},
   "source": [
    "#### Let's start by reading in a random text file, all in one go:"
   ]
  },
  {
   "cell_type": "code",
   "execution_count": null,
   "metadata": {},
   "outputs": [],
   "source": [
    "f = open('text_from_your_book.txt','r')  # open the file in read ('r') mode under name 'f'\n",
    "my_text = f.read()               # read all of f ( f.read() ) in variable my_text\n",
    "f.close()                        # close the file f"
   ]
  },
  {
   "cell_type": "code",
   "execution_count": null,
   "metadata": {},
   "outputs": [],
   "source": []
  },
  {
   "cell_type": "code",
   "execution_count": null,
   "metadata": {},
   "outputs": [],
   "source": [
    "#let's see what we read:\n",
    "\n",
    "print(my_text)"
   ]
  },
  {
   "cell_type": "code",
   "execution_count": null,
   "metadata": {},
   "outputs": [],
   "source": [
    "#try:\n",
    "print( f )"
   ]
  },
  {
   "cell_type": "markdown",
   "metadata": {},
   "source": [
    "### it worked!"
   ]
  },
  {
   "cell_type": "markdown",
   "metadata": {},
   "source": [
    "### Now let's try the readline():"
   ]
  },
  {
   "cell_type": "code",
   "execution_count": null,
   "metadata": {},
   "outputs": [],
   "source": [
    "f = open('text_from_your_book.txt','r')   # open the file in read ('r') mode under name 'f'\n",
    " \n",
    "print( f.readline() )             # read a line of f ( f. readline() ) and print it\n",
    "print( f.readline() )             # read another line of f\n",
    "\n",
    "f.close()                         # close the file f"
   ]
  },
  {
   "cell_type": "code",
   "execution_count": null,
   "metadata": {},
   "outputs": [],
   "source": [
    "f.readline()"
   ]
  },
  {
   "cell_type": "code",
   "execution_count": null,
   "metadata": {},
   "outputs": [],
   "source": [
    "#What does readline() do?"
   ]
  },
  {
   "cell_type": "code",
   "execution_count": null,
   "metadata": {},
   "outputs": [],
   "source": []
  },
  {
   "cell_type": "markdown",
   "metadata": {},
   "source": [
    "### now let's open it with the *with open() as f* and read it line by line:"
   ]
  },
  {
   "cell_type": "code",
   "execution_count": null,
   "metadata": {},
   "outputs": [],
   "source": [
    "with open(\"text_from_your_book.txt\", \"r\") as f:   # we again open the file as f\n",
    "    for line in f:                        # we now loop f line by line\n",
    "        print( line )                       # and we print the line we just read"
   ]
  },
  {
   "cell_type": "code",
   "execution_count": null,
   "metadata": {},
   "outputs": [],
   "source": []
  },
  {
   "cell_type": "markdown",
   "metadata": {},
   "source": [
    "### What if we want to split the lines into their elements to use them for some reason?"
   ]
  },
  {
   "cell_type": "code",
   "execution_count": null,
   "metadata": {},
   "outputs": [],
   "source": [
    "with open(\"text_from_your_book.txt\", \"r\") as f:  # open file as f\n",
    "    for line in f:                       # start looping the file line by line \n",
    "        q = line.split()                 # split the line in its parts ( split() - delimeter space )\n",
    "        print ( q )                      # print it\n",
    "\n",
    "        if q[0] == 'they':               # if the first word in the line is 'they' :\n",
    "            break                        # break out of the loop\n"
   ]
  },
  {
   "cell_type": "code",
   "execution_count": null,
   "metadata": {},
   "outputs": [],
   "source": [
    "# what happens if I ask it to print:\n",
    "print( q[ 0 ], q[ 3 ] )\n",
    "# and why?"
   ]
  },
  {
   "cell_type": "code",
   "execution_count": null,
   "metadata": {},
   "outputs": [],
   "source": []
  },
  {
   "cell_type": "markdown",
   "metadata": {},
   "source": [
    "### Now lets try to write our first file:"
   ]
  },
  {
   "cell_type": "code",
   "execution_count": null,
   "metadata": {},
   "outputs": [],
   "source": [
    "f = open('my_first_writen_file.txt','w')                # open a file in write mode ( 'w' )\n",
    "\n",
    "f.write('This is my first written and saved line! \\n')  # write something in the file \n",
    "\n",
    "f.close()                                               # close the file"
   ]
  },
  {
   "cell_type": "code",
   "execution_count": null,
   "metadata": {},
   "outputs": [],
   "source": []
  },
  {
   "cell_type": "markdown",
   "metadata": {},
   "source": [
    "### try to open the file to read it in and see what you just did:"
   ]
  },
  {
   "cell_type": "code",
   "execution_count": null,
   "metadata": {},
   "outputs": [],
   "source": [
    "with open('my_first_writen_file.txt','r') as f:\n",
    "    a = f.read()  \n",
    "\n",
    "print( a )   # it worked!"
   ]
  },
  {
   "cell_type": "code",
   "execution_count": null,
   "metadata": {},
   "outputs": [],
   "source": []
  },
  {
   "cell_type": "markdown",
   "metadata": {},
   "source": [
    "### Now let's go back to this file and open it in read/write mode:"
   ]
  },
  {
   "cell_type": "code",
   "execution_count": null,
   "metadata": {},
   "outputs": [],
   "source": [
    "f = open('my_first_writen_file.txt','r+')   # open the file in read/write mode ('r+')\n",
    "\n",
    "my_text = f.read()                          # read the file into my_text\n",
    "\n",
    "f.write('oh oh! what did I just do? \\n ')   # write something in the file; \\n for new line\n",
    "\n",
    "f.close()                                   # close the file\n",
    "\n",
    "\n",
    "print(my_text)                              # print my_text"
   ]
  },
  {
   "cell_type": "markdown",
   "metadata": {},
   "source": [
    "### let's open it again and see what we did:"
   ]
  },
  {
   "cell_type": "code",
   "execution_count": null,
   "metadata": {},
   "outputs": [],
   "source": [
    "f = open('my_first_writen_file.txt','r')\n",
    " \n",
    "my_text = f.read() \n",
    "\n",
    "print(my_text)\n",
    "\n",
    "f.close()  \n",
    "#it worked! we read a file and wrote something at the end."
   ]
  },
  {
   "cell_type": "markdown",
   "metadata": {},
   "source": [
    "### why do we need the \\n ? Let's open the file again and add 2 new lines:"
   ]
  },
  {
   "cell_type": "code",
   "execution_count": null,
   "metadata": {},
   "outputs": [],
   "source": [
    "f = open('my_first_writen_file.txt','r+')   # open the file in read/write mode ('r+')\n",
    "\n",
    "my_text = f.read()                          # read the file into my_text\n",
    "\n",
    "f.write( 'What would happen if I forget ' )\n",
    "f.write( 'to add a new line ? ')\n",
    "f.close()                                   # close the file\n",
    "\n",
    "\n",
    "### now let's read it in again and see what we did:\n",
    "f = open('my_first_writen_file.txt','r')\n",
    "my_text = f.read() \n",
    "f.close()  \n",
    "print( my_text )"
   ]
  },
  {
   "cell_type": "markdown",
   "metadata": {},
   "source": [
    "### oops! I wanted it in 2 lines and it just wrote it in 1 ! Let's try again with the \\n :"
   ]
  },
  {
   "cell_type": "code",
   "execution_count": null,
   "metadata": {},
   "outputs": [],
   "source": [
    "f = open('my_first_writen_file.txt','r+')   # open the file in read/write mode ('r+')\n",
    "\n",
    "my_text = f.read()                          # read the file into my_text\n",
    "\n",
    "f.write( \"What would happen if I wouldn't forget \\n\" )\n",
    "f.write( 'to add a new line ? \\n ')\n",
    "f.close()                                   # close the file\n",
    "\n",
    "\n",
    "### now let's read it in again and see what we did:\n",
    "f = open('my_first_writen_file.txt','r')\n",
    "my_text = f.read() \n",
    "f.close()  \n",
    "print(my_text)"
   ]
  },
  {
   "cell_type": "markdown",
   "metadata": {},
   "source": [
    "### See what happened? "
   ]
  },
  {
   "cell_type": "code",
   "execution_count": null,
   "metadata": {},
   "outputs": [],
   "source": []
  },
  {
   "cell_type": "markdown",
   "metadata": {},
   "source": [
    "### How you open a file is crucial. Make sure you always check before you run a code.\n",
    "\n",
    "e.g.,"
   ]
  },
  {
   "cell_type": "code",
   "execution_count": null,
   "metadata": {},
   "outputs": [],
   "source": [
    "#Let's open it one more time to write on it again:\n",
    "f = open('my_first_writen_file.txt','w')\n",
    "f.write('And I will add this line as well now! \\n')\n",
    "f.close()\n",
    "\n",
    "# and let's open and read it again:\n",
    "f = open('my_first_writen_file.txt','r')\n",
    "my_text = f.read() \n",
    "f.close()   \n",
    "\n",
    "print(my_text) "
   ]
  },
  {
   "cell_type": "markdown",
   "metadata": {},
   "source": [
    "### !!!oops! I completely erased the previous text! Can you see why that happened?"
   ]
  },
  {
   "cell_type": "code",
   "execution_count": null,
   "metadata": {},
   "outputs": [],
   "source": []
  },
  {
   "cell_type": "code",
   "execution_count": null,
   "metadata": {},
   "outputs": [],
   "source": [
    "#### Let's fall back to the initial file:\n",
    "\n",
    "f = open('my_first_writen_file.txt','w')      # open a file in write mode ( 'w' )\n",
    "\n",
    "f.write('This is my first written line! \\n')  # write something in the file \n",
    "f.write( 'oh oh! what did I just do? \\n' )\n",
    "f.close()                                     # close the file"
   ]
  },
  {
   "cell_type": "markdown",
   "metadata": {},
   "source": [
    "### now lets open the file again to append a line:"
   ]
  },
  {
   "cell_type": "code",
   "execution_count": null,
   "metadata": {},
   "outputs": [],
   "source": [
    "f = open ('my_first_writen_file.txt','a')         # open the file in appending ('a') mode\n",
    "f.write('and this is the other line I wrote! \\n') # write a line\n",
    "f.close()                                         # close the file"
   ]
  },
  {
   "cell_type": "code",
   "execution_count": null,
   "metadata": {},
   "outputs": [],
   "source": [
    "# and let's open and read it again:\n",
    "f = open('my_first_writen_file.txt','r')\n",
    "my_text = f.read() \n",
    "f.close()   \n",
    "\n",
    "print(my_text) "
   ]
  },
  {
   "cell_type": "code",
   "execution_count": null,
   "metadata": {},
   "outputs": [],
   "source": []
  },
  {
   "cell_type": "markdown",
   "metadata": {},
   "source": [
    "# -----------------------"
   ]
  },
  {
   "cell_type": "markdown",
   "metadata": {},
   "source": [
    "## np.savetxt()"
   ]
  },
  {
   "cell_type": "markdown",
   "metadata": {},
   "source": [
    "### What about having to deal with data instead of text?"
   ]
  },
  {
   "cell_type": "code",
   "execution_count": null,
   "metadata": {},
   "outputs": [],
   "source": [
    "#### Let's create a 3 by 3 data array of 1s\n",
    "\n",
    "data = np.ones ( ( 3 ,3 ) )\n"
   ]
  },
  {
   "cell_type": "markdown",
   "metadata": {},
   "source": [
    "### How do we write the data in the file?"
   ]
  },
  {
   "cell_type": "code",
   "execution_count": null,
   "metadata": {},
   "outputs": [],
   "source": [
    "# one way to do it would be to add it as an appended string:\n",
    "\n",
    "f = open('my_first_writen_file.txt','a')\n",
    "\n",
    "for i in range(3):\n",
    "    f.write(str(data[i,:])+'\\n')   #note that with the f.write you need to convert the data to a string\n",
    "                                   #if you keep it an array the code will crash/complain\n",
    "f.close()\n"
   ]
  },
  {
   "cell_type": "code",
   "execution_count": null,
   "metadata": {},
   "outputs": [],
   "source": [
    "# and let's open and read it again:\n",
    "f = open('my_first_writen_file.txt','r')\n",
    "my_text = f.read() \n",
    "f.close()   \n",
    "\n",
    "print( my_text ) "
   ]
  },
  {
   "cell_type": "markdown",
   "metadata": {},
   "source": [
    "### what if we want to save the real data as nunbers? np.savetxt()"
   ]
  },
  {
   "cell_type": "code",
   "execution_count": null,
   "metadata": {},
   "outputs": [],
   "source": [
    "#Let's try it out first on its own:\n",
    "\n",
    "np.savetxt('my_first_numpy_array_saved.txt', data, \n",
    "           fmt='%.2f', delimiter=' ')              #notice that you can use fmt to format your output\n",
    "                    \n",
    "\n",
    "#let's check what we did:\n",
    "f = open('my_first_numpy_array_saved.txt','r')\n",
    "a = f.read()\n",
    "f.close()\n",
    "\n",
    "print( a ) "
   ]
  },
  {
   "cell_type": "code",
   "execution_count": null,
   "metadata": {},
   "outputs": [],
   "source": []
  },
  {
   "cell_type": "code",
   "execution_count": null,
   "metadata": {},
   "outputs": [],
   "source": [
    "#what happens if you want to append the numbers to a text file using savetxt?\n",
    "# first make a backup copy of my_first_writen_file.txt (trust me)\n",
    "\n",
    "#try the following. Do you think that it would work? Why/why not?\n",
    "\n",
    "f = open(\"my_first_writen_file.txt\", \"a\")\n",
    "np.savetxt('my_first_writen_file.txt', data, fmt='%.2f', delimiter=' ')\n",
    "f.close()\n",
    "\n",
    "\n",
    "#let's see what we did:\n",
    "\n",
    "f = open('my_first_writen_file.txt','r')\n",
    "a = f.read()\n",
    "f.close()\n",
    "\n",
    "print(a) #!! ouch! it erased your entire file! "
   ]
  },
  {
   "cell_type": "code",
   "execution_count": null,
   "metadata": {},
   "outputs": [],
   "source": [
    "#what you can do (but you normally will not need to, unless you do something weird to need to do this), is \n",
    "#open your file in a binary format:\n",
    "\n",
    "f=open('my_first_writen_file.txt','ab')\n",
    "\n",
    "np.savetxt(f,data, fmt='%.2f', delimiter=' ')\n",
    "\n",
    "f.close()\n",
    "\n",
    "f = open('my_first_writen_file.txt','r')\n",
    "a = f.read()\n",
    "f.close()\n",
    "\n",
    "print(a) #it worked! "
   ]
  },
  {
   "cell_type": "markdown",
   "metadata": {},
   "source": [
    "### numpy.savetxt is an OK method to store your small arrays. For larger sets you need to delve into pickles/csv ..."
   ]
  },
  {
   "cell_type": "code",
   "execution_count": null,
   "metadata": {},
   "outputs": [],
   "source": [
    "# FYI: you can also use headers with savetxt:\n",
    "np.savetxt('test_2.dat',data, fmt='%.2f', delimiter=' ', \n",
    "           header= 'This are my random data')"
   ]
  },
  {
   "cell_type": "markdown",
   "metadata": {},
   "source": [
    "# ------------------"
   ]
  },
  {
   "cell_type": "markdown",
   "metadata": {},
   "source": [
    "## Pickles"
   ]
  },
  {
   "cell_type": "markdown",
   "metadata": {},
   "source": [
    "### Pickles: converts your input with a binary protocol to serialize/ save your input and to deserialize/open (unpickle) it\n",
    "\n",
    "### **“Never unpickle data received from an untrusted or unauthenticated source”**\n",
    "\n",
    "### pickle module keeps track of the objects it has already serialized, so that later references to the same object won’t be serialized again\n"
   ]
  },
  {
   "cell_type": "markdown",
   "metadata": {},
   "source": [
    "### Efficient way to compress data – you can reconstruct complete Python datasets \n",
    "\n",
    "### ----\n",
    "Some may be familiar with JSON and pickles may sound comparable but keep in mind:\n",
    "\n",
    "Pickles are not human readable\n",
    "\n",
    "Pickles are Python specific\n",
    "### ----\n"
   ]
  },
  {
   "cell_type": "markdown",
   "metadata": {},
   "source": [
    "### When trying to unpickle a dataset the version of Python used may come into play: pickles are not compatible between Python 2 and 3!\n",
    "\n",
    "\n",
    "### Things to remember:\n",
    " \n",
    "import pickle <br>\n",
    "pickle.dump() <br>\n",
    "pickle.load() <br>\n"
   ]
  },
  {
   "cell_type": "code",
   "execution_count": null,
   "metadata": {},
   "outputs": [],
   "source": [
    "#Pickles\n",
    "\n",
    "import pickle\n"
   ]
  },
  {
   "cell_type": "code",
   "execution_count": null,
   "metadata": {},
   "outputs": [],
   "source": [
    "\n",
    "#Let's get a dictionary from our previous demo :\n",
    "\n",
    "car1 = {\n",
    "  \"model\" : \"Escape\",\n",
    "  \"make\" : \"Ford\"\n",
    "}\n",
    "car2 = {\n",
    "  \"model\" : \"500\",\n",
    "  \"make\" : \"Fiat\"\n",
    "}\n",
    "car3 = {\n",
    "  \"model\" : \"Tucson\",\n",
    "  \"make\" : \"Hyundai\"\n",
    "}\n",
    "\n",
    "\n",
    "all_my_cars = {\n",
    "  \"car1\" : car1,\n",
    "  \"car2\" : car2,\n",
    "  \"car3\" : car3\n",
    "}\n"
   ]
  },
  {
   "cell_type": "code",
   "execution_count": null,
   "metadata": {},
   "outputs": [],
   "source": [
    "#and now let's open a file to save the data in:\n",
    "\n",
    "f = open('my_first_pickle.pickle','wb')       # open file in binary mode \n",
    "\n",
    "pickle.dump(all_my_cars,f)                    # let's dump our pickled dictionary in there:\n",
    "\n",
    "f.close()                                     # close the file"
   ]
  },
  {
   "cell_type": "markdown",
   "metadata": {},
   "source": [
    "### congrats! you saved your first pickle!"
   ]
  },
  {
   "cell_type": "code",
   "execution_count": null,
   "metadata": {},
   "outputs": [],
   "source": [
    "#Let's now see what we saved actually:\n",
    "\n",
    "pickle_read  = open('my_first_pickle.pickle','rb')  # open and read pickle\n",
    "example_dict = pickle.load(pickle_read)             # load the pickle in example_dict"
   ]
  },
  {
   "cell_type": "code",
   "execution_count": null,
   "metadata": {},
   "outputs": [],
   "source": [
    "# test:\n",
    "\n",
    "print( example_dict.items()  )\n",
    "print( example_dict.keys()   )\n",
    "print( example_dict.values() )\n",
    "\n",
    "\n",
    "example_dict['car1']['model']\n",
    "\n",
    "#it worked!"
   ]
  },
  {
   "cell_type": "markdown",
   "metadata": {},
   "source": [
    "### Saving the dictionary in a pickle preserved its dictionary nature."
   ]
  },
  {
   "cell_type": "code",
   "execution_count": null,
   "metadata": {},
   "outputs": [],
   "source": []
  },
  {
   "cell_type": "markdown",
   "metadata": {},
   "source": [
    "### Sometimes you can have a pickle that you know a priori what data it has in it (how many columns, what each column is...)"
   ]
  },
  {
   "cell_type": "code",
   "execution_count": null,
   "metadata": {},
   "outputs": [],
   "source": [
    "# let's make some data up\n",
    "f_in = np.arange(10)\n",
    "q_in = f_in**2\n",
    "u_in = f_in**3\n",
    "\n",
    "# open a file and store your second pickled data:\n",
    "\n",
    "f = open('my_second_pickle.pickle','wb')\n",
    "\n",
    "pickle.dump([f_in, q_in, u_in],f)\n",
    "\n",
    "f.close()"
   ]
  },
  {
   "cell_type": "code",
   "execution_count": null,
   "metadata": {},
   "outputs": [],
   "source": [
    "# now that I know that my data are f_in, q_in, u_in lets unpickle it in one go:\n",
    "\n",
    "f, q, u = pickle.load( open( 'my_second_pickle.pickle','rb' ) )\n"
   ]
  },
  {
   "cell_type": "code",
   "execution_count": null,
   "metadata": {},
   "outputs": [],
   "source": [
    "# test:\n",
    "print( f == f_in )\n",
    "print( q == q_in )"
   ]
  },
  {
   "cell_type": "code",
   "execution_count": null,
   "metadata": {},
   "outputs": [],
   "source": []
  },
  {
   "cell_type": "markdown",
   "metadata": {},
   "source": [
    "# ------------------"
   ]
  },
  {
   "cell_type": "markdown",
   "metadata": {},
   "source": [
    "## CSV"
   ]
  },
  {
   "cell_type": "markdown",
   "metadata": {},
   "source": [
    "### CSV: Comma Separated data (Values) --> used to save tabular data such as a spreadsheet or a database\n",
    "\n",
    "\n",
    "### Things to remember:\n",
    "\n",
    "import csv  <br>\n",
    "csv.reader() <br>\n",
    "csv.writer()<br>\n"
   ]
  },
  {
   "cell_type": "code",
   "execution_count": null,
   "metadata": {},
   "outputs": [],
   "source": []
  },
  {
   "cell_type": "code",
   "execution_count": null,
   "metadata": {},
   "outputs": [],
   "source": [
    "#Let's now do some csv reading/writing:\n",
    "\n",
    "import csv "
   ]
  },
  {
   "cell_type": "code",
   "execution_count": null,
   "metadata": {},
   "outputs": [],
   "source": []
  },
  {
   "cell_type": "code",
   "execution_count": null,
   "metadata": {},
   "outputs": [],
   "source": [
    "## as a test case we will use the dictionary from before:\n",
    "\n",
    "with open('my_first_csv.csv', 'w') as f:     # open the file to write in it\n",
    "\n",
    "    writer = csv.writer(f)                   # you will use the csv module to write the data\n",
    "    \n",
    "    for key, value in example_dict.items():  # loop over items in your dictionary \n",
    "        \n",
    "        writer.writerow([key, value])        # write the items"
   ]
  },
  {
   "cell_type": "code",
   "execution_count": null,
   "metadata": {},
   "outputs": [],
   "source": [
    "#open the file from your Jupyter notebook tree: it is human readable (unlike the pickle...)\n",
    "\n",
    "#let's read it back in:\n",
    "\n",
    "with open('my_first_csv.csv') as f:\n",
    "    reader = csv.reader(f)\n",
    "    my_csved_dict = dict(reader)\n",
    "\n",
    "    \n",
    "print(my_csved_dict.items())\n",
    "\n",
    "print(type(my_csved_dict))\n",
    "\n"
   ]
  },
  {
   "cell_type": "code",
   "execution_count": null,
   "metadata": {},
   "outputs": [],
   "source": [
    "#note though that in this example we have lost the structure of the nested dictionary:\n",
    "#my_csved_dict['car1']['make'] will give you an error:\n",
    "\n",
    "print( my_csved_dict['car1']['make'] )"
   ]
  },
  {
   "cell_type": "markdown",
   "metadata": {},
   "source": [
    "# ------------------"
   ]
  },
  {
   "cell_type": "markdown",
   "metadata": {},
   "source": [
    "## Pandas"
   ]
  },
  {
   "cell_type": "markdown",
   "metadata": {},
   "source": [
    "### A great tool for data analysis and modeling of large datasets (think ML sizes….). It’s a software library that can read big amounts of data and analyze it fast\n",
    "\n",
    "\n",
    "### Can read in CSV files, SQL databases and create a Python object with rows and columns (data frame) out of that – makes working on such data faster that using tuples/dictionaries\n",
    "\n",
    "\n",
    "\n"
   ]
  },
  {
   "cell_type": "code",
   "execution_count": null,
   "metadata": {},
   "outputs": [],
   "source": []
  },
  {
   "cell_type": "code",
   "execution_count": null,
   "metadata": {},
   "outputs": [],
   "source": [
    "## Last but not least, let's try Pandas out\n",
    "import pandas as pd "
   ]
  },
  {
   "cell_type": "code",
   "execution_count": null,
   "metadata": {},
   "outputs": [],
   "source": [
    "# we will use the pickled data from above here:\n",
    "\n",
    "pd.read_pickle('my_first_pickle.pickle')  # reads it in and shows you the nested dictionaries\n"
   ]
  },
  {
   "cell_type": "code",
   "execution_count": null,
   "metadata": {},
   "outputs": [],
   "source": [
    "pd.read_csv('my_first_csv.csv')           # reads it in and shows you the table"
   ]
  },
  {
   "cell_type": "code",
   "execution_count": null,
   "metadata": {},
   "outputs": [],
   "source": [
    "#Now let's make a panda dataframe out of the pickle:\n",
    "\n",
    "pd.DataFrame(pd.read_pickle('my_first_pickle.pickle'))\n"
   ]
  },
  {
   "cell_type": "code",
   "execution_count": null,
   "metadata": {},
   "outputs": [],
   "source": [
    "# let's read in a dataframe the second pickle with the random data\n",
    "\n",
    "pd.DataFrame( pd.read_pickle('my_second_pickle.pickle') )  #it gives you the columns and their values: "
   ]
  },
  {
   "cell_type": "code",
   "execution_count": null,
   "metadata": {},
   "outputs": [],
   "source": [
    "# read the data in a dataframe named df:\n",
    "df = pd.DataFrame(pd.read_pickle('my_second_pickle.pickle')) \n",
    "\n",
    "#ask it to describe() your \n",
    "df.describe()  # summary statistics for numerical columns ; not very useful here but \n",
    "               # imagine what you can do with LARGE datasets!"
   ]
  },
  {
   "cell_type": "code",
   "execution_count": null,
   "metadata": {},
   "outputs": [],
   "source": [
    "#get the mean of all columns:\n",
    "print( df.mean() )"
   ]
  },
  {
   "cell_type": "code",
   "execution_count": null,
   "metadata": {},
   "outputs": [],
   "source": [
    "#you can get correlations between columns: \n",
    "#print( df.corr() )\n",
    "\n",
    "#max (& min) of each column:\n",
    "#df.max()   #& df.min()\n",
    "\n",
    "#get the standard deviation of each column:\n",
    "#df.std()\n",
    "\n",
    "#and much much more...   If you are interested in playing around with big data there's plenty \n",
    "#of Open Access databases"
   ]
  },
  {
   "cell_type": "code",
   "execution_count": null,
   "metadata": {},
   "outputs": [],
   "source": []
  },
  {
   "cell_type": "code",
   "execution_count": null,
   "metadata": {},
   "outputs": [],
   "source": []
  },
  {
   "cell_type": "markdown",
   "metadata": {},
   "source": [
    "### ---- PRACTICUM:"
   ]
  },
  {
   "cell_type": "markdown",
   "metadata": {},
   "source": [
    "## let's practice coding"
   ]
  },
  {
   "cell_type": "markdown",
   "metadata": {},
   "source": [
    "### 1. Make a 5 by 5 numpy array of zeros. Set x equal to a numpy range from 5 to 10; and y the exponential of x. Populate your 5 by 5 array with the product of x * y (double for loop). Save the 5 by 5 array to a file named my_radom_data.dat. Add a header like \"These are my random data\" and format the output to have 4 digit accuracy. "
   ]
  },
  {
   "cell_type": "code",
   "execution_count": null,
   "metadata": {},
   "outputs": [],
   "source": [
    "#make the data and store them:"
   ]
  },
  {
   "cell_type": "code",
   "execution_count": null,
   "metadata": {},
   "outputs": [],
   "source": []
  },
  {
   "cell_type": "code",
   "execution_count": null,
   "metadata": {},
   "outputs": [],
   "source": []
  },
  {
   "cell_type": "code",
   "execution_count": null,
   "metadata": {},
   "outputs": [],
   "source": [
    "# read the data in again"
   ]
  },
  {
   "cell_type": "code",
   "execution_count": null,
   "metadata": {},
   "outputs": [],
   "source": []
  },
  {
   "cell_type": "markdown",
   "metadata": {},
   "source": [
    "### now write the same data but to a csv file:"
   ]
  },
  {
   "cell_type": "code",
   "execution_count": null,
   "metadata": {},
   "outputs": [],
   "source": []
  },
  {
   "cell_type": "markdown",
   "metadata": {},
   "source": [
    "### 2. open and read the first 3 lines of file emma.txt; split the lines in the words they are made of:\n"
   ]
  },
  {
   "cell_type": "code",
   "execution_count": null,
   "metadata": {},
   "outputs": [],
   "source": []
  },
  {
   "cell_type": "code",
   "execution_count": null,
   "metadata": {},
   "outputs": [],
   "source": []
  },
  {
   "cell_type": "code",
   "execution_count": null,
   "metadata": {},
   "outputs": [],
   "source": []
  },
  {
   "cell_type": "code",
   "execution_count": null,
   "metadata": {},
   "outputs": [],
   "source": []
  },
  {
   "cell_type": "markdown",
   "metadata": {},
   "source": [
    "### read all of emma.txt and split it in the words its made of. Then count how many 'the' and how many 'Emma' exist in the book "
   ]
  },
  {
   "cell_type": "code",
   "execution_count": null,
   "metadata": {},
   "outputs": [],
   "source": []
  },
  {
   "cell_type": "code",
   "execution_count": null,
   "metadata": {},
   "outputs": [],
   "source": []
  },
  {
   "cell_type": "markdown",
   "metadata": {},
   "source": [
    "### 3. Open and write to a file named 'My_log.txt'. You should:\n",
    "- open the file using the right mode\n",
    "- Use the formating rules we learned in a previous lecture to write in there the sentences: <br>\n",
    "    12 eggs cost 1.5456 <br>\n",
    "    12 eggs cost 1.546 <br>\n",
    "    12 eggs cost 1.55 <br>\n",
    "    \n",
    "    (you can copy it from the notebook \"strings_dictionaries....\", just make sure you correct the command you use for writing to the file and the different formats). Don't forget to use new lines!"
   ]
  },
  {
   "cell_type": "code",
   "execution_count": null,
   "metadata": {},
   "outputs": [],
   "source": []
  },
  {
   "cell_type": "code",
   "execution_count": null,
   "metadata": {},
   "outputs": [],
   "source": []
  },
  {
   "cell_type": "markdown",
   "metadata": {},
   "source": [
    "### 4. Let's make boxes with sides x, y, z and calculate their volume. Create array x that is a range from 0.1 to 10 with a step of 0.2. Make array y that is a linspace from 0.1 to 10 in 50 steps. Then make array z that is equal to $x^2 + y^{0.3}$. Calculate the volume of the boxes [assume it is in cu ft ] with every possible combinations of x, y, z. What is the maximum, minimum and mean volume of our boxes in ? If I need boxes with a volume more than 8000 cu ft, how many boxes will I have?"
   ]
  },
  {
   "cell_type": "code",
   "execution_count": null,
   "metadata": {},
   "outputs": [],
   "source": []
  },
  {
   "cell_type": "code",
   "execution_count": null,
   "metadata": {},
   "outputs": [],
   "source": []
  },
  {
   "cell_type": "code",
   "execution_count": null,
   "metadata": {},
   "outputs": [],
   "source": []
  },
  {
   "cell_type": "markdown",
   "metadata": {},
   "source": [
    "### 5. Make a function ***min_max_words*** that gets as input any string, splits it in the words it is made of and returns a tuple with the shortest and longest word. Call it for the sentence: \"If you are trying to come up with a new concept, a new idea or a new product, a random sentence may help you find unique qualities you may not have considered\""
   ]
  },
  {
   "cell_type": "code",
   "execution_count": null,
   "metadata": {},
   "outputs": [],
   "source": []
  },
  {
   "cell_type": "code",
   "execution_count": null,
   "metadata": {},
   "outputs": [],
   "source": []
  },
  {
   "cell_type": "code",
   "execution_count": null,
   "metadata": {},
   "outputs": [],
   "source": []
  },
  {
   "cell_type": "code",
   "execution_count": null,
   "metadata": {},
   "outputs": [],
   "source": [
    "my_sentence = \"\"\"If you are trying to come up with a new concept, a new idea or a \n",
    "        new product, a random sentence may help you find unique qualities you may not have considered\"\"\""
   ]
  },
  {
   "cell_type": "code",
   "execution_count": null,
   "metadata": {},
   "outputs": [],
   "source": []
  },
  {
   "cell_type": "code",
   "execution_count": null,
   "metadata": {},
   "outputs": [],
   "source": []
  },
  {
   "cell_type": "code",
   "execution_count": null,
   "metadata": {},
   "outputs": [],
   "source": []
  },
  {
   "cell_type": "code",
   "execution_count": null,
   "metadata": {},
   "outputs": [],
   "source": []
  }
 ],
 "metadata": {
  "kernelspec": {
   "display_name": "Python 3 (ipykernel)",
   "language": "python",
   "name": "python3"
  },
  "language_info": {
   "codemirror_mode": {
    "name": "ipython",
    "version": 3
   },
   "file_extension": ".py",
   "mimetype": "text/x-python",
   "name": "python",
   "nbconvert_exporter": "python",
   "pygments_lexer": "ipython3",
   "version": "3.7.11"
  }
 },
 "nbformat": 4,
 "nbformat_minor": 2
}
