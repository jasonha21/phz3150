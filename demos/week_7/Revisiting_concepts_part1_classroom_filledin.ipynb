{
 "cells": [
  {
   "cell_type": "code",
   "execution_count": 6,
   "id": "73221569",
   "metadata": {},
   "outputs": [],
   "source": [
    "import numpy as np"
   ]
  },
  {
   "cell_type": "markdown",
   "id": "b4058e67",
   "metadata": {},
   "source": [
    "# FOR == repetitive tasks\n",
    "# IF     == conditional tasks"
   ]
  },
  {
   "cell_type": "markdown",
   "id": "52725e32",
   "metadata": {},
   "source": [
    "<img src=\"for_loop_flowchart.png\" width=600 height=500 />\n"
   ]
  },
  {
   "cell_type": "markdown",
   "id": "c7ebad65",
   "metadata": {},
   "source": [
    "## 1. For - if : practical examples with text, numpy arrays and dictionaries"
   ]
  },
  {
   "cell_type": "markdown",
   "id": "ba4c014d",
   "metadata": {},
   "source": [
    "### What colors is a rainbow made of? Make a list ***rainbow_colors*** that has the names of the rainbow colors. Print an informative statement that the colors of the rainbow are....and print them in order from top (outside of the circle) to bottom. How about a secondary rainbow?"
   ]
  },
  {
   "cell_type": "code",
   "execution_count": 7,
   "id": "d5a625f3",
   "metadata": {},
   "outputs": [],
   "source": [
    "rainbow_colors = [ 'red', 'orange', 'yellow', 'green', 'blue', 'indigo', 'violet' ]"
   ]
  },
  {
   "cell_type": "code",
   "execution_count": 8,
   "id": "d8b34f8d",
   "metadata": {},
   "outputs": [
    {
     "name": "stdout",
     "output_type": "stream",
     "text": [
      "The colors of the rainbow are:\n",
      "red\n",
      "orange\n",
      "yellow\n",
      "green\n",
      "blue\n",
      "indigo\n",
      "violet\n"
     ]
    }
   ],
   "source": [
    "print( 'The colors of the rainbow are:')\n",
    "for color in rainbow_colors:\n",
    "    print( color )"
   ]
  },
  {
   "cell_type": "code",
   "execution_count": 9,
   "id": "84ca23ec",
   "metadata": {},
   "outputs": [
    {
     "name": "stdout",
     "output_type": "stream",
     "text": [
      "The colors of the secondar rainbow are:\n",
      "violet\n",
      "indigo\n",
      "blue\n",
      "green\n",
      "yellow\n",
      "orange\n",
      "red\n"
     ]
    }
   ],
   "source": [
    "print( 'The colors of the secondar rainbow are:')\n",
    "for c in range( len( rainbow_colors ) ):\n",
    "    print( rainbow_colors[ (len(rainbow_colors)-1) - c ])"
   ]
  },
  {
   "cell_type": "code",
   "execution_count": null,
   "id": "ee37f394",
   "metadata": {
    "scrolled": true
   },
   "outputs": [],
   "source": []
  },
  {
   "cell_type": "code",
   "execution_count": null,
   "id": "cfd54bbf",
   "metadata": {},
   "outputs": [],
   "source": []
  },
  {
   "cell_type": "markdown",
   "id": "297042a2",
   "metadata": {},
   "source": [
    "### Now let's put a for/if in practice with numbers. Make a for loop that will go through numbers 1 to 30 (including 30) and print them out. When it reaches 10, 20 and 30 it will print a blank space."
   ]
  },
  {
   "cell_type": "code",
   "execution_count": 10,
   "id": "d9caf86f",
   "metadata": {},
   "outputs": [],
   "source": [
    "my_nums = np.arange( 1, 31 )"
   ]
  },
  {
   "cell_type": "code",
   "execution_count": 11,
   "id": "609159f4",
   "metadata": {},
   "outputs": [
    {
     "name": "stdout",
     "output_type": "stream",
     "text": [
      "1\n",
      "2\n",
      "3\n",
      "4\n",
      "5\n",
      "6\n",
      "7\n",
      "8\n",
      "9\n",
      "10\n",
      "  \n",
      "11\n",
      "12\n",
      "13\n",
      "14\n",
      "15\n",
      "16\n",
      "17\n",
      "18\n",
      "19\n",
      "20\n",
      "  \n",
      "21\n",
      "22\n",
      "23\n",
      "24\n",
      "25\n",
      "26\n",
      "27\n",
      "28\n",
      "29\n",
      "30\n",
      "  \n"
     ]
    }
   ],
   "source": [
    "for num in my_nums:\n",
    "    print( num )\n",
    "    if (num == 10 ) or (num==20) or (num == 30):\n",
    "        print( '  '  ) # print( '\\n')"
   ]
  },
  {
   "cell_type": "code",
   "execution_count": null,
   "id": "006ad764",
   "metadata": {},
   "outputs": [],
   "source": []
  },
  {
   "cell_type": "markdown",
   "id": "058b908a",
   "metadata": {},
   "source": [
    "### Solving a Sudoku\n",
    "<img src=\"sudoku.png\" width=300 height=300 />\n",
    "source: Reader's Digest\n",
    "\n",
    "### How do you solve it? Use FOR and IF to describe the process.¶"
   ]
  },
  {
   "cell_type": "code",
   "execution_count": null,
   "id": "88e0a205",
   "metadata": {},
   "outputs": [],
   "source": []
  },
  {
   "cell_type": "markdown",
   "id": "a818124e",
   "metadata": {},
   "source": [
    "### Teach a computer to read! "
   ]
  },
  {
   "cell_type": "markdown",
   "id": "6e13820e",
   "metadata": {},
   "source": [
    "<img src=\"reading_directions.png\" width=600 height=500 />"
   ]
  },
  {
   "cell_type": "markdown",
   "id": "a4adcf22",
   "metadata": {},
   "source": [
    "<img src=\"write_1.png\" width=250 height=250 />\n",
    "<img src=\"write_2.png\" width=300 height=250 />"
   ]
  },
  {
   "cell_type": "markdown",
   "id": "18cf72e8",
   "metadata": {},
   "source": [
    "<img src=\"write_3.png\" width=100 height=70 />"
   ]
  },
  {
   "cell_type": "markdown",
   "id": "2d8731c0",
   "metadata": {},
   "source": [
    "### Write 2-3 sentences about the process you do to read a text in Western languages.  Use FOR and IF to describe the process. "
   ]
  },
  {
   "cell_type": "code",
   "execution_count": null,
   "id": "38eaae44",
   "metadata": {},
   "outputs": [],
   "source": []
  },
  {
   "cell_type": "markdown",
   "id": "47d9a23b",
   "metadata": {},
   "source": [
    "### put your ideas in practice: Open file abstract_from_emma.txt and read it in variable ***abstract***. Then, use a for/ if to print out the text letter by letter. When there is a new line ask the code to print a --- or 'new line'  to show that it understands you are in a new line. "
   ]
  },
  {
   "cell_type": "code",
   "execution_count": 12,
   "id": "0ebf214d",
   "metadata": {},
   "outputs": [],
   "source": [
    "f = open( '../all_data/abstract_from_Emma.txt', 'r')\n",
    "abstract = f.read()\n",
    "f.close()"
   ]
  },
  {
   "cell_type": "code",
   "execution_count": 13,
   "id": "34ed7af2",
   "metadata": {},
   "outputs": [
    {
     "name": "stdout",
     "output_type": "stream",
     "text": [
      "\"There does, indeed, seem as little to tempt her to break\n",
      "her resolution at present,\" said Mrs. Weston, \"as can well be;\n",
      "and while she is so happy at Hartfield, I cannot wish her to be\n",
      "forming any attachment which would be creating such difficulties\n",
      "on poor Mr. Woodhouse's account.  I do not recommend matrimony\n",
      "at present to Emma, though I mean no slight to the state, I assure you.\" \n",
      "\n"
     ]
    }
   ],
   "source": [
    "print( abstract )"
   ]
  },
  {
   "cell_type": "code",
   "execution_count": null,
   "id": "006028e3",
   "metadata": {
    "scrolled": true
   },
   "outputs": [],
   "source": []
  },
  {
   "cell_type": "code",
   "execution_count": null,
   "id": "794e0de1",
   "metadata": {},
   "outputs": [],
   "source": []
  },
  {
   "cell_type": "code",
   "execution_count": null,
   "id": "d442aa55",
   "metadata": {},
   "outputs": [],
   "source": []
  },
  {
   "cell_type": "code",
   "execution_count": 1,
   "id": "4ea45d10",
   "metadata": {},
   "outputs": [],
   "source": [
    "# and now, use a nested for loop: loop over the lines, then for every line: split it in the words it's made of\n",
    "# and print the words out one after another. If there is is new line print the ------ again.\n"
   ]
  },
  {
   "cell_type": "code",
   "execution_count": null,
   "id": "9ddddc23",
   "metadata": {},
   "outputs": [],
   "source": []
  },
  {
   "cell_type": "markdown",
   "id": "da59f1f8",
   "metadata": {},
   "source": [
    "### Now we need to read a text that is written the other way around. Assuming we told the computer that it needs to read backwards read the file ***back_forth_reading.txt*** into variable ***new_text***.  Print it out so that we can read it (letter by letter, or word by word are both fine). "
   ]
  },
  {
   "cell_type": "markdown",
   "id": "b4e75815",
   "metadata": {},
   "source": [
    "- Discuss:\n",
    "    1. How would we let the computer know it needs to read the other way around?\n",
    "    2. How would you code it to read the text and print it in a way that you understand?"
   ]
  },
  {
   "cell_type": "code",
   "execution_count": null,
   "id": "dce43ddd",
   "metadata": {},
   "outputs": [],
   "source": []
  },
  {
   "cell_type": "code",
   "execution_count": null,
   "id": "3ea66bce",
   "metadata": {},
   "outputs": [],
   "source": []
  },
  {
   "cell_type": "code",
   "execution_count": null,
   "id": "5a63ec8b",
   "metadata": {},
   "outputs": [],
   "source": []
  },
  {
   "cell_type": "code",
   "execution_count": null,
   "id": "6da2e72f",
   "metadata": {},
   "outputs": [],
   "source": []
  },
  {
   "cell_type": "code",
   "execution_count": null,
   "id": "45674c13",
   "metadata": {},
   "outputs": [],
   "source": []
  },
  {
   "cell_type": "code",
   "execution_count": null,
   "id": "b4eb1477",
   "metadata": {},
   "outputs": [],
   "source": []
  },
  {
   "cell_type": "code",
   "execution_count": null,
   "id": "313b46ae",
   "metadata": {},
   "outputs": [],
   "source": []
  },
  {
   "cell_type": "markdown",
   "id": "e7f90134",
   "metadata": {},
   "source": [
    "### For advertising reasons you need to figure out what the favor color of a car is. You get data with the color of different cars passing through a given intersection on a typical day.  How many cars of red color and how many black ones are on the street on a typical day?  How can you calculate it w/o using a build-in function?\n",
    "\n",
    "### How could you do it faster?"
   ]
  },
  {
   "cell_type": "code",
   "execution_count": 14,
   "id": "48e92127",
   "metadata": {},
   "outputs": [],
   "source": [
    "typical_day = [ 'white','green', 'black','red', 'blue','white','white','red',\n",
    "               'blue','blue','red','white', 'red','black','green','white','white',\n",
    "               'white','white','white','blue','blue', 'red','black','green','red',\n",
    "               'white','blue', 'red','black','red','blue','blue','blue', 'black',\n",
    "               'green','black','green','green']"
   ]
  },
  {
   "cell_type": "code",
   "execution_count": 2,
   "id": "ff91e1fb",
   "metadata": {},
   "outputs": [],
   "source": [
    "#check if there is no car of a given color; print statement if that is the case"
   ]
  },
  {
   "cell_type": "code",
   "execution_count": 15,
   "id": "7399e74c",
   "metadata": {},
   "outputs": [
    {
     "name": "stdout",
     "output_type": "stream",
     "text": [
      "6 8\n"
     ]
    }
   ],
   "source": [
    "red_counter = 0 \n",
    "black_counter = 0\n",
    "\n",
    "for car in typical_day:\n",
    "    if car == 'black':\n",
    "        black_counter = black_counter +1 \n",
    "    if car == 'red':\n",
    "        red_counter = red_counter +1 \n",
    "\n",
    "print( black_counter, red_counter)"
   ]
  },
  {
   "cell_type": "code",
   "execution_count": 3,
   "id": "07590d96",
   "metadata": {},
   "outputs": [],
   "source": [
    "#print informative statement."
   ]
  },
  {
   "cell_type": "code",
   "execution_count": 4,
   "id": "8a96d440",
   "metadata": {},
   "outputs": [],
   "source": [
    "#how else would you do it?"
   ]
  },
  {
   "cell_type": "code",
   "execution_count": 16,
   "id": "88775232",
   "metadata": {},
   "outputs": [
    {
     "data": {
      "text/plain": [
       "6"
      ]
     },
     "execution_count": 16,
     "metadata": {},
     "output_type": "execute_result"
    }
   ],
   "source": [
    "typical_day.count( 'black')"
   ]
  },
  {
   "cell_type": "markdown",
   "id": "5c500a0f",
   "metadata": {},
   "source": [
    "### Use numpy to read-in the ***small_dataset.dat*** in a variable ***data***. Calculate the sum of each line (assign them to variable sum1, sum2 and sum3) with a for loop . If a total is larger than 500 print a warning text.\n",
    "\n",
    "### Use another for loop to get the sum of each column (csum1, csum2, csum3). Give a warning when the total is larger than 700."
   ]
  },
  {
   "cell_type": "code",
   "execution_count": 44,
   "id": "6d3faa38",
   "metadata": {},
   "outputs": [],
   "source": []
  },
  {
   "cell_type": "code",
   "execution_count": null,
   "id": "24d4d86e",
   "metadata": {},
   "outputs": [],
   "source": []
  },
  {
   "cell_type": "code",
   "execution_count": null,
   "id": "4bffb3c7",
   "metadata": {},
   "outputs": [],
   "source": []
  },
  {
   "cell_type": "code",
   "execution_count": null,
   "id": "712613d5",
   "metadata": {},
   "outputs": [],
   "source": []
  },
  {
   "cell_type": "markdown",
   "id": "4ace416a",
   "metadata": {},
   "source": [
    "### I have a dictionary of names of students and a list of their average grades. Scan through the names and print a letter grade for every student (assume plain ABC with A if grade is >0.90 ; B if grade 0.90> n > 0.80 and C if grade < 0.80)"
   ]
  },
  {
   "cell_type": "code",
   "execution_count": 66,
   "id": "74c4eadc",
   "metadata": {},
   "outputs": [],
   "source": [
    "classroom = { 'Jane': 0.92 , 'Joe': 0.85, 'Petra': 0.78, 'Peter': 0.81 }"
   ]
  },
  {
   "cell_type": "code",
   "execution_count": null,
   "id": "b127c9c2",
   "metadata": {},
   "outputs": [],
   "source": []
  },
  {
   "cell_type": "code",
   "execution_count": null,
   "id": "5cb6fe19",
   "metadata": {},
   "outputs": [],
   "source": []
  },
  {
   "cell_type": "markdown",
   "id": "3aef071b",
   "metadata": {},
   "source": [
    "### Make a function ***min_max_words*** that gets as input any string, splits it in the words it is made of and returns a tuple with the shortest and longest word. Call it for the sentence: \"If you are trying to come up with a new concept, a new idea or a new product, a random sentence may help you find unique qualities you may not have considered\""
   ]
  },
  {
   "cell_type": "code",
   "execution_count": 20,
   "id": "ddb72033",
   "metadata": {},
   "outputs": [],
   "source": [
    "def min_max_words( string ):\n",
    "    \"\"\"Useful information go here\"\"\"\n",
    "    \n",
    "    q = string.split()\n",
    "    \n",
    "    smallest_word = q[ 0 ]\n",
    "    longest_word  = q[ 0 ]\n",
    "    \n",
    "    for word in q:\n",
    "        if len( word ) > len( longest_word ):\n",
    "            longest_word = word\n",
    "        if len( word ) < len( smallest_word ):\n",
    "            smallest_word = word \n",
    "    \n",
    "    \n",
    "    \n",
    "    \n",
    "    return ( smallest_word, longest_word )"
   ]
  },
  {
   "cell_type": "code",
   "execution_count": 18,
   "id": "43c50304",
   "metadata": {},
   "outputs": [],
   "source": [
    "my_sentence = \"\"\"If you are trying to come up with a new concept, a new idea or a \n",
    "        new product, a random sentence may help you find unique qualities you may not have considered\"\"\""
   ]
  },
  {
   "cell_type": "code",
   "execution_count": 19,
   "id": "b11909c4",
   "metadata": {},
   "outputs": [
    {
     "name": "stdout",
     "output_type": "stream",
     "text": [
      "('a', 'considered')\n"
     ]
    }
   ],
   "source": [
    "print( min_max_words( my_sentence ) )"
   ]
  },
  {
   "cell_type": "code",
   "execution_count": 21,
   "id": "69e27b39",
   "metadata": {},
   "outputs": [],
   "source": [
    "output = min_max_words( my_sentence )"
   ]
  },
  {
   "cell_type": "code",
   "execution_count": 22,
   "id": "7d17a3e2",
   "metadata": {},
   "outputs": [
    {
     "name": "stdout",
     "output_type": "stream",
     "text": [
      "('a', 'considered')\n"
     ]
    }
   ],
   "source": []
  },
  {
   "cell_type": "markdown",
   "id": "884f2490",
   "metadata": {},
   "source": [
    "## Slices (and some more for/ifs)"
   ]
  },
  {
   "cell_type": "code",
   "execution_count": 25,
   "id": "987a6007",
   "metadata": {},
   "outputs": [],
   "source": [
    "my_data = np.arange( 1, 26 ).reshape( (5, 5) )"
   ]
  },
  {
   "cell_type": "code",
   "execution_count": 26,
   "id": "5536726e",
   "metadata": {},
   "outputs": [
    {
     "name": "stdout",
     "output_type": "stream",
     "text": [
      "[[ 1  2  3  4  5]\n",
      " [ 6  7  8  9 10]\n",
      " [11 12 13 14 15]\n",
      " [16 17 18 19 20]\n",
      " [21 22 23 24 25]]\n"
     ]
    }
   ],
   "source": [
    "print( my_data )"
   ]
  },
  {
   "cell_type": "markdown",
   "id": "cf351e97",
   "metadata": {},
   "source": [
    "### Access and print the numbers from 6 up to (including) 10"
   ]
  },
  {
   "cell_type": "code",
   "execution_count": 27,
   "id": "14c95a8c",
   "metadata": {},
   "outputs": [
    {
     "name": "stdout",
     "output_type": "stream",
     "text": [
      "[ 6  7  8  9 10]\n"
     ]
    }
   ],
   "source": [
    "print( my_data[ 1, : ] )"
   ]
  },
  {
   "cell_type": "markdown",
   "id": "48a4505b",
   "metadata": {},
   "source": [
    "### Access and print the numbers 4 9 14 19 24"
   ]
  },
  {
   "cell_type": "code",
   "execution_count": 28,
   "id": "bb5be513",
   "metadata": {},
   "outputs": [
    {
     "name": "stdout",
     "output_type": "stream",
     "text": [
      "[ 4  9 14 19 24]\n"
     ]
    }
   ],
   "source": [
    "print( my_data[ :, 3 ] )"
   ]
  },
  {
   "cell_type": "markdown",
   "id": "b8e49d6a",
   "metadata": {},
   "source": [
    "### Access and print the numbers 3 8 4 9 and number 14"
   ]
  },
  {
   "cell_type": "code",
   "execution_count": 29,
   "id": "e8ee92df",
   "metadata": {},
   "outputs": [
    {
     "name": "stdout",
     "output_type": "stream",
     "text": [
      "14\n"
     ]
    }
   ],
   "source": [
    "print( my_data[ 2,3 ]  )"
   ]
  },
  {
   "cell_type": "code",
   "execution_count": 30,
   "id": "e8f4efbf",
   "metadata": {},
   "outputs": [
    {
     "name": "stdout",
     "output_type": "stream",
     "text": [
      "[[3 4]\n",
      " [8 9]]\n"
     ]
    }
   ],
   "source": [
    "print( my_data[ :2, 2: 4 ]  )"
   ]
  },
  {
   "cell_type": "markdown",
   "id": "8fba1c79",
   "metadata": {},
   "source": [
    "### Scan ***my_data*** with a for/if and find the minimum:"
   ]
  },
  {
   "cell_type": "code",
   "execution_count": 31,
   "id": "341a4509",
   "metadata": {},
   "outputs": [
    {
     "name": "stdout",
     "output_type": "stream",
     "text": [
      "[[ 1  2  3  4  5]\n",
      " [ 6  7  8  9 10]\n",
      " [11 12 13 14 15]\n",
      " [16 17 18 19 20]\n",
      " [21 22 23 24 25]]\n"
     ]
    }
   ],
   "source": [
    "print( my_data )"
   ]
  },
  {
   "cell_type": "code",
   "execution_count": 5,
   "id": "f0d2ff8b",
   "metadata": {},
   "outputs": [],
   "source": [
    "#why wouldn't you do this? what is better to do?\n"
   ]
  },
  {
   "cell_type": "markdown",
   "id": "7cd6f8b2",
   "metadata": {},
   "source": [
    "### Calculate the mean of the ***my_data*** table w/o using numpy."
   ]
  },
  {
   "cell_type": "code",
   "execution_count": null,
   "id": "f4d7811c",
   "metadata": {},
   "outputs": [],
   "source": []
  },
  {
   "cell_type": "code",
   "execution_count": null,
   "id": "48fa586a",
   "metadata": {},
   "outputs": [],
   "source": []
  },
  {
   "cell_type": "markdown",
   "id": "98d7af17",
   "metadata": {},
   "source": [
    "### You have a list with the names of numbers. Slice it to access the names of 3 and 5."
   ]
  },
  {
   "cell_type": "code",
   "execution_count": 80,
   "id": "0d28c4b3",
   "metadata": {},
   "outputs": [],
   "source": [
    "list_of_names = [ 'One', 'Two', 'Three', 'Four', 'Five', 'Six' ]"
   ]
  },
  {
   "cell_type": "code",
   "execution_count": null,
   "id": "b23e0938",
   "metadata": {},
   "outputs": [],
   "source": []
  },
  {
   "cell_type": "code",
   "execution_count": null,
   "id": "c6d1c816",
   "metadata": {},
   "outputs": [],
   "source": []
  },
  {
   "cell_type": "markdown",
   "id": "bfe58de3",
   "metadata": {},
   "source": [
    "### Let's make boxes with sides x, y, z and calculate their volume. Create array x that is a range from 0.1 to 10 with a step of 0.2. Make array y that is a linspace from 0.1 to 10 in 50 steps. Then make array z that is equal to $x^2 + y^{0.3}$. Calculate the volume of the boxes [assume it is in cu ft ] with every possible combinations of x, y, z. What is the maximum, minimum and mean volume of our boxes in ? If I need boxes with a volume more than 8000 cu ft, how many boxes will I have?"
   ]
  },
  {
   "cell_type": "code",
   "execution_count": null,
   "id": "b43a94ff",
   "metadata": {},
   "outputs": [],
   "source": []
  }
 ],
 "metadata": {
  "kernelspec": {
   "display_name": "Python 3 (ipykernel)",
   "language": "python",
   "name": "python3"
  },
  "language_info": {
   "codemirror_mode": {
    "name": "ipython",
    "version": 3
   },
   "file_extension": ".py",
   "mimetype": "text/x-python",
   "name": "python",
   "nbconvert_exporter": "python",
   "pygments_lexer": "ipython3",
   "version": "3.7.11"
  }
 },
 "nbformat": 4,
 "nbformat_minor": 5
}
