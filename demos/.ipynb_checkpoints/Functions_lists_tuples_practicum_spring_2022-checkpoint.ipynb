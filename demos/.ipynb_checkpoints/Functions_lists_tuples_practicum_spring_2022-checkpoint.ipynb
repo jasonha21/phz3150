{
 "cells": [
  {
   "cell_type": "markdown",
   "metadata": {},
   "source": [
    "## Welcome to another class of Python!"
   ]
  },
  {
   "cell_type": "markdown",
   "metadata": {},
   "source": [
    "### today we will continue with learning how to make a function, what is a module and what lists and tuples are"
   ]
  },
  {
   "cell_type": "code",
   "execution_count": null,
   "metadata": {},
   "outputs": [],
   "source": []
  },
  {
   "cell_type": "markdown",
   "metadata": {},
   "source": [
    "### At the end of last week's lecture you might have seen some functions. Let's delve more into them here"
   ]
  },
  {
   "cell_type": "markdown",
   "metadata": {},
   "source": [
    "### Functions are a collection of statements that do something/ perform a computation. To call them you need to use: my_function_name()"
   ]
  },
  {
   "cell_type": "code",
   "execution_count": null,
   "metadata": {},
   "outputs": [],
   "source": [
    "print( \"Hello World\")"
   ]
  },
  {
   "cell_type": "code",
   "execution_count": null,
   "metadata": {},
   "outputs": [],
   "source": [
    "print( \" Hello World! \" )  #---> you call the function print() and it is \n",
    "                           #---> tasked to print the text between the quotes"
   ]
  },
  {
   "cell_type": "code",
   "execution_count": null,
   "metadata": {},
   "outputs": [],
   "source": [
    "# some other build-in function you may see:\n",
    "\n",
    "int( 3.1 )      # ----> get the 3.1 and give me the integer"
   ]
  },
  {
   "cell_type": "markdown",
   "metadata": {},
   "source": [
    "## Modules are collections of functions. To call them you need to import them"
   ]
  },
  {
   "cell_type": "markdown",
   "metadata": {},
   "source": [
    "### some examples we saw already: os, numpy, matplotlib ; you also can import math, scipy, pandas modules and many more"
   ]
  },
  {
   "cell_type": "code",
   "execution_count": null,
   "metadata": {},
   "outputs": [],
   "source": []
  },
  {
   "cell_type": "code",
   "execution_count": null,
   "metadata": {},
   "outputs": [],
   "source": [
    "# try: \n",
    "int( 4.7 )"
   ]
  },
  {
   "cell_type": "code",
   "execution_count": null,
   "metadata": {},
   "outputs": [],
   "source": [
    "# ---> Note that int() is not a rounding function; for that you have the floor() and ceil() in math:\n",
    "\n",
    "import math\n"
   ]
  },
  {
   "cell_type": "code",
   "execution_count": null,
   "metadata": {},
   "outputs": [],
   "source": [
    "math.floor( 4.7 ) , math.ceil( 4.7 )"
   ]
  },
  {
   "cell_type": "markdown",
   "metadata": {},
   "source": [
    "### note that if you want to avoid using the math.* you may also chose to change the import command to:"
   ]
  },
  {
   "cell_type": "code",
   "execution_count": null,
   "metadata": {},
   "outputs": [],
   "source": [
    "from math import *   # --> this goes into math and imports all functions with their name  \n",
    "                     # --> ( so you don't need a math.* )"
   ]
  },
  {
   "cell_type": "code",
   "execution_count": null,
   "metadata": {},
   "outputs": [],
   "source": [
    "floor( 4.7 ) , ceil ( 4.7 ) "
   ]
  },
  {
   "cell_type": "markdown",
   "metadata": {},
   "source": [
    "### this however, is not a good practice generally, as more than one packages may share the same name of a function; you want to separate them and know what package you call (e.g., np.pi or math.pi....)"
   ]
  },
  {
   "cell_type": "code",
   "execution_count": null,
   "metadata": {},
   "outputs": [],
   "source": []
  },
  {
   "cell_type": "markdown",
   "metadata": {},
   "source": [
    "### Usually, it is better to import following this example:"
   ]
  },
  {
   "cell_type": "code",
   "execution_count": null,
   "metadata": {},
   "outputs": [],
   "source": [
    "import numpy as np  #--> this tells Python to import the module numpy under the name np \n",
    "                    #    this simplifies your coding as instead of writing numpy.blabla() \n",
    "                    #    you just need to write np.blabla()\n",
    "                    #--> may not look as much gain with numpy but think of: import matplotlib.pyplot as plt "
   ]
  },
  {
   "cell_type": "markdown",
   "metadata": {},
   "source": [
    "### Now that you imported numpy use functions: array() to make a numpy array called test1 out of [ 1, 2, 5, 3] and max() to calculate the max of the array "
   ]
  },
  {
   "cell_type": "code",
   "execution_count": null,
   "metadata": {},
   "outputs": [],
   "source": [
    "test1 = np.array ( [ 1, 2, 5, 3 ])"
   ]
  },
  {
   "cell_type": "code",
   "execution_count": null,
   "metadata": {},
   "outputs": [],
   "source": [
    "# test what test1 is:\n",
    "type( test1 )"
   ]
  },
  {
   "cell_type": "code",
   "execution_count": null,
   "metadata": {},
   "outputs": [],
   "source": [
    "np.max ( test1 )"
   ]
  },
  {
   "cell_type": "code",
   "execution_count": null,
   "metadata": {},
   "outputs": [],
   "source": [
    "# what is the mean?"
   ]
  },
  {
   "cell_type": "code",
   "execution_count": null,
   "metadata": {},
   "outputs": [],
   "source": [
    "np.mean (test1 )   # remember that best practice is to test what you did makes sense .... \n",
    "                   # (1 + 2 + 5 + 3) = 11  then / 4  = 2.75 -- correct!"
   ]
  },
  {
   "cell_type": "code",
   "execution_count": null,
   "metadata": {},
   "outputs": [],
   "source": []
  },
  {
   "cell_type": "markdown",
   "metadata": {},
   "source": [
    "### Sometimes you may come across a repetitive task that you can use in more than one projects. You can define your own functions for snippets of code that you will use more often.\n"
   ]
  },
  {
   "cell_type": "markdown",
   "metadata": {},
   "source": [
    "### Remember: to make your own function you need the following structure:"
   ]
  },
  {
   "cell_type": "code",
   "execution_count": null,
   "metadata": {},
   "outputs": [],
   "source": [
    "def function_name( function_variables ) :   # don't try to run this it will crash as it is meaningless as is...\n",
    "    \"\"\"This is where my very useful notes go about input/output and what function does\"\"\"\n",
    "    this is where all my commands go \n",
    "    "
   ]
  },
  {
   "cell_type": "code",
   "execution_count": null,
   "metadata": {},
   "outputs": [],
   "source": []
  },
  {
   "cell_type": "markdown",
   "metadata": {},
   "source": [
    "### e.g., let's make a function that calculates the distance traveled by a car moving with speed u [m /s ] for time t [ s ]"
   ]
  },
  {
   "cell_type": "code",
   "execution_count": null,
   "metadata": {},
   "outputs": [],
   "source": [
    "    "
   ]
  },
  {
   "cell_type": "markdown",
   "metadata": {},
   "source": [
    "###  now let's call our function for u = 200 m / s and t = 10 s and print the result"
   ]
  },
  {
   "cell_type": "code",
   "execution_count": null,
   "metadata": {},
   "outputs": [],
   "source": []
  },
  {
   "cell_type": "code",
   "execution_count": null,
   "metadata": {},
   "outputs": [],
   "source": []
  },
  {
   "cell_type": "markdown",
   "metadata": {},
   "source": [
    "### Why is a good and informative docstring important? Imagine calling the docstring from above and just getting a \"\"Function that calculates the distance [m] traveled by object moving with speed u[ m/s] over time t[s]\"\". What could go wrong? \n",
    "\n",
    "#### (Note that in this example it won't go wrong because of the nature of the equation, but imagine what happens with s = u * t + $\\frac{1}{2}$ * a * t $^2$ )"
   ]
  },
  {
   "cell_type": "code",
   "execution_count": null,
   "metadata": {},
   "outputs": [],
   "source": []
  },
  {
   "cell_type": "markdown",
   "metadata": {},
   "source": [
    "### While writing a function, think if you may use it in the future. If so, write it on a separate .py file. You can import it in whichever code you are working in the future like you do with numpy or pyplot. E.g.,: my distance_from_file.py ...\n"
   ]
  },
  {
   "cell_type": "markdown",
   "metadata": {},
   "source": [
    "### Let's import distance2 and call the docstring to figure out what distance 2 does: "
   ]
  },
  {
   "cell_type": "code",
   "execution_count": null,
   "metadata": {},
   "outputs": [],
   "source": [
    "from distance_from_file import distance_from_file2\n",
    "print( distance_from_file2.__doc__ )  ## note the doc has a double _ before and after"
   ]
  },
  {
   "cell_type": "code",
   "execution_count": null,
   "metadata": {},
   "outputs": [],
   "source": [
    "# or you can also use:\n",
    "help( distance_from_file2 )"
   ]
  },
  {
   "cell_type": "markdown",
   "metadata": {},
   "source": [
    "### Note that variables inside functions  are independent of variables outside them. We can call distance2( time , speed ) even though we defined it as distance2( t , u ) in the function itself:\n"
   ]
  },
  {
   "cell_type": "code",
   "execution_count": null,
   "metadata": {},
   "outputs": [],
   "source": [
    "time  =  10.\n",
    "speed =  100."
   ]
  },
  {
   "cell_type": "code",
   "execution_count": null,
   "metadata": {},
   "outputs": [],
   "source": [
    "distance_from_file2( time, speed )"
   ]
  },
  {
   "cell_type": "code",
   "execution_count": null,
   "metadata": {},
   "outputs": [],
   "source": [
    "distance_from_file2( 10, 100)"
   ]
  },
  {
   "cell_type": "markdown",
   "metadata": {},
   "source": [
    "### what if there are more than one function you want to import from a file?"
   ]
  },
  {
   "cell_type": "code",
   "execution_count": null,
   "metadata": {},
   "outputs": [],
   "source": [
    "from distance_from_file import distance_from_file2, my_tshirt_forecast\n",
    "\n",
    "# or if you want all: from distance_from file import *"
   ]
  },
  {
   "cell_type": "code",
   "execution_count": null,
   "metadata": {},
   "outputs": [],
   "source": [
    "print( my_tshirt_forecast.__doc__)"
   ]
  },
  {
   "cell_type": "code",
   "execution_count": null,
   "metadata": {},
   "outputs": [],
   "source": [
    "print( my_tshirt_forecast( 80 , 10 ), 'you can/ cannot wear a tshirt')"
   ]
  },
  {
   "cell_type": "code",
   "execution_count": null,
   "metadata": {},
   "outputs": [],
   "source": [
    "print( my_tshirt_forecast( 40 , 0 ), 'you can/ cannot wear a tshirt')"
   ]
  },
  {
   "cell_type": "code",
   "execution_count": null,
   "metadata": {},
   "outputs": [],
   "source": []
  },
  {
   "cell_type": "markdown",
   "metadata": {},
   "source": [
    "### Exercise time! \n",
    "\n",
    "### A. )  Create a function circuit_resistance that uses the measured voltage and current of a circuit and returns its total resistance.  Remember to use a good, appropriate docstring! \n",
    "\n",
    "-- Remember that R = V / I\n",
    "\n",
    "1) Discuss: What should the inputs of your function be? What should the output be?\n",
    "\n",
    "2) Discuss what make a good docstring and what can go wrong here. Print the docstring.\n",
    "\n",
    "3) Assume an initial measurement of V = 10 V and I = 2A. Call circuit_resistance to find the total resistance of the circuit.\n",
    "\n",
    "4) Call circuit_resistance for I = 4A and V  = 10, 20 and 40 V .  \n",
    "\n",
    "5) Call circuit_resistance for V = 100 V and I = 10 and 50 A. \n",
    "\n",
    "\n"
   ]
  },
  {
   "cell_type": "code",
   "execution_count": null,
   "metadata": {},
   "outputs": [],
   "source": []
  },
  {
   "cell_type": "code",
   "execution_count": null,
   "metadata": {},
   "outputs": [],
   "source": []
  },
  {
   "cell_type": "code",
   "execution_count": null,
   "metadata": {},
   "outputs": [],
   "source": [
    "# task 2: \n",
    "\n"
   ]
  },
  {
   "cell_type": "code",
   "execution_count": null,
   "metadata": {},
   "outputs": [],
   "source": [
    "# task 4 : \n",
    "\n"
   ]
  },
  {
   "cell_type": "code",
   "execution_count": 2,
   "metadata": {},
   "outputs": [],
   "source": [
    "# task 3:\n",
    "\n"
   ]
  },
  {
   "cell_type": "code",
   "execution_count": 1,
   "metadata": {},
   "outputs": [],
   "source": [
    "# task 5 :\n",
    "\n"
   ]
  },
  {
   "cell_type": "code",
   "execution_count": null,
   "metadata": {},
   "outputs": [],
   "source": []
  },
  {
   "cell_type": "markdown",
   "metadata": {},
   "source": [
    "### B. )  It's still storm season, so let's create a code that calculates the distance to where lightning strucks. Create function *thunderstruck* that calculates the distance from you of the point where lightning struck. Remember that lightning travels with the speed of light, so you can assume you see it instantaneously (as soon as it happens). Thunder on the other hand travels with the speed of sound, at $u_{sound} = 343$  m/s or $1088$ feet/s.  Remember to write an informative docstring.\n",
    "\n",
    "1) Discuss: what should the input of the function be? What should be its output?\n",
    "\n",
    "2) Print the docstring\n",
    "\n",
    "3) You hear the roar of thunder 5s after you see the lightning. How far away was the strike (in feet)?\n",
    "\n",
    "4) You hear the roar of thunder 12s after you saw the lightning. Where did it hit in miles ( 1miles = 5280 feet )?\n"
   ]
  },
  {
   "cell_type": "code",
   "execution_count": null,
   "metadata": {},
   "outputs": [],
   "source": []
  },
  {
   "cell_type": "code",
   "execution_count": null,
   "metadata": {},
   "outputs": [],
   "source": []
  },
  {
   "cell_type": "code",
   "execution_count": null,
   "metadata": {},
   "outputs": [],
   "source": []
  },
  {
   "cell_type": "code",
   "execution_count": null,
   "metadata": {},
   "outputs": [],
   "source": []
  },
  {
   "cell_type": "code",
   "execution_count": null,
   "metadata": {},
   "outputs": [],
   "source": []
  },
  {
   "cell_type": "markdown",
   "metadata": {},
   "source": [
    "# Lists and tuple in Python:"
   ]
  },
  {
   "cell_type": "markdown",
   "metadata": {},
   "source": [
    "### A list is one kind of function. A list is a linear collection of objects, including other lists (nested lists). Let's create our first empty list: \n"
   ]
  },
  {
   "cell_type": "code",
   "execution_count": null,
   "metadata": {},
   "outputs": [],
   "source": [
    "my_first_list = []"
   ]
  },
  {
   "cell_type": "code",
   "execution_count": null,
   "metadata": {},
   "outputs": [],
   "source": [
    "#### Double-check what it is:\n",
    "type( my_first_list )"
   ]
  },
  {
   "cell_type": "code",
   "execution_count": null,
   "metadata": {},
   "outputs": [],
   "source": []
  },
  {
   "cell_type": "markdown",
   "metadata": {},
   "source": [
    "### NOTE: python (like more languages) starts counting arrays at 0 ( so first element of array x is x[ 0 ] ) !"
   ]
  },
  {
   "cell_type": "code",
   "execution_count": null,
   "metadata": {},
   "outputs": [],
   "source": [
    "#Let’s start populating your list\n",
    "my_first_list [ 0 : 5  ] = [ 0, 1,  3, 2, 4]\n",
    "my_first_list [ 5 : 10 ] = [ 8, 13, 21, 34, 55]   # remember why this work and 8 doesn't overwrite 4?"
   ]
  },
  {
   "cell_type": "code",
   "execution_count": null,
   "metadata": {},
   "outputs": [],
   "source": [
    "#Check what you did: \n",
    "print(my_first_list)"
   ]
  },
  {
   "cell_type": "code",
   "execution_count": null,
   "metadata": {},
   "outputs": [],
   "source": [
    "#Print the 5th element:\n",
    "\n",
    "my_first_list[ 4 ]"
   ]
  },
  {
   "cell_type": "markdown",
   "metadata": {},
   "source": [
    "### Now try to append the number 89 to the end of your list and print the list: "
   ]
  },
  {
   "cell_type": "code",
   "execution_count": null,
   "metadata": {},
   "outputs": [],
   "source": [
    "my_first_list.append( 89 )\n",
    "print( my_first_list )"
   ]
  },
  {
   "cell_type": "markdown",
   "metadata": {},
   "source": [
    "### sort the list in reverse order:"
   ]
  },
  {
   "cell_type": "code",
   "execution_count": null,
   "metadata": {},
   "outputs": [],
   "source": [
    "my_first_list.sort( reverse=True )\n"
   ]
  },
  {
   "cell_type": "code",
   "execution_count": null,
   "metadata": {},
   "outputs": [],
   "source": [
    "my_first_list"
   ]
  },
  {
   "cell_type": "markdown",
   "metadata": {},
   "source": [
    "#### and print its 6th element:\n"
   ]
  },
  {
   "cell_type": "code",
   "execution_count": null,
   "metadata": {},
   "outputs": [],
   "source": [
    "my_first_list[ 5 ]"
   ]
  },
  {
   "cell_type": "markdown",
   "metadata": {},
   "source": [
    "### But you just realized you made an error and the original my_first_list[2] should be 1 not 3! Let’s fix it:"
   ]
  },
  {
   "cell_type": "code",
   "execution_count": null,
   "metadata": {},
   "outputs": [],
   "source": [
    "# short the list back to normal:\n",
    "my_first_list.sort()"
   ]
  },
  {
   "cell_type": "code",
   "execution_count": null,
   "metadata": {},
   "outputs": [],
   "source": [
    "print( my_first_list )"
   ]
  },
  {
   "cell_type": "code",
   "execution_count": null,
   "metadata": {},
   "outputs": [],
   "source": [
    "# then change the 3rd element:\n",
    "my_first_list[ 2 ] = 1 "
   ]
  },
  {
   "cell_type": "code",
   "execution_count": null,
   "metadata": {},
   "outputs": [],
   "source": [
    "# let's see what we did:\n",
    "my_first_list"
   ]
  },
  {
   "cell_type": "markdown",
   "metadata": {},
   "source": [
    "### It worked! \n"
   ]
  },
  {
   "cell_type": "code",
   "execution_count": null,
   "metadata": {},
   "outputs": [],
   "source": [
    "# what happens if you want to add more elements to the end of the list?"
   ]
  },
  {
   "cell_type": "code",
   "execution_count": null,
   "metadata": {},
   "outputs": [],
   "source": [
    "#try:\n",
    "\n",
    "my_first_list.append( [5, 6, 7] )"
   ]
  },
  {
   "cell_type": "code",
   "execution_count": null,
   "metadata": {},
   "outputs": [],
   "source": [
    "#print it:\n",
    "print( my_first_list ) # ---> adds a single element to the end (so here we add a whole list as 1 element)"
   ]
  },
  {
   "cell_type": "code",
   "execution_count": null,
   "metadata": {},
   "outputs": [],
   "source": [
    "#how can we just add elements in the list?\n",
    "#let's make a new list:\n",
    "my_first_list = []\n",
    "my_first_list = list( range( 1, 10, 2 ) )\n",
    "\n",
    "print( my_first_list )"
   ]
  },
  {
   "cell_type": "code",
   "execution_count": null,
   "metadata": {},
   "outputs": [],
   "source": [
    "my_first_list.extend( [5, 6, 7] )"
   ]
  },
  {
   "cell_type": "code",
   "execution_count": null,
   "metadata": {},
   "outputs": [],
   "source": [
    "my_first_list  # ---> extends the list with the elements you want one at a time (so no list in list)"
   ]
  },
  {
   "cell_type": "code",
   "execution_count": null,
   "metadata": {},
   "outputs": [],
   "source": []
  },
  {
   "cell_type": "markdown",
   "metadata": {},
   "source": [
    "## Lists are mutable !!!"
   ]
  },
  {
   "cell_type": "markdown",
   "metadata": {},
   "source": [
    "### this is something you should be aware of as sometimes it can lead to surprises:"
   ]
  },
  {
   "cell_type": "code",
   "execution_count": null,
   "metadata": {},
   "outputs": [],
   "source": [
    "test_list  = [ 1, 2, 3, 4 ]    # make a list\n",
    "test_list2 = test_list         # make another list that is a copy of the previous one"
   ]
  },
  {
   "cell_type": "code",
   "execution_count": null,
   "metadata": {},
   "outputs": [],
   "source": [
    "# now go ahead and print the two:\n",
    "print( test_list, test_list2 )"
   ]
  },
  {
   "cell_type": "code",
   "execution_count": null,
   "metadata": {},
   "outputs": [],
   "source": [
    "# append number 5 to test_list:\n",
    "test_list.append( 5 )"
   ]
  },
  {
   "cell_type": "code",
   "execution_count": null,
   "metadata": {},
   "outputs": [],
   "source": [
    "# print both lists again:\n",
    "print( test_list, test_list2 )"
   ]
  },
  {
   "cell_type": "code",
   "execution_count": null,
   "metadata": {},
   "outputs": [],
   "source": [
    "#!!!!!!!! what happened?\n",
    "# test_list2 = test_list makes test_list2 be a copy of the reference of test_list not its actual object \n",
    "# for that you could use:\n",
    "import copy \n",
    "test_list3 = copy.copy( test_list )"
   ]
  },
  {
   "cell_type": "code",
   "execution_count": null,
   "metadata": {},
   "outputs": [],
   "source": [
    "test_list.remove(4)   # remove the \"4\" from the list"
   ]
  },
  {
   "cell_type": "code",
   "execution_count": null,
   "metadata": {},
   "outputs": [],
   "source": [
    "# print the lists again: \n",
    "print( test_list, test_list2, test_list3 )"
   ]
  },
  {
   "cell_type": "code",
   "execution_count": null,
   "metadata": {},
   "outputs": [],
   "source": [
    "# the list and list_2 changed! list_3 staid in its original form!!"
   ]
  },
  {
   "cell_type": "code",
   "execution_count": null,
   "metadata": {},
   "outputs": [],
   "source": []
  },
  {
   "cell_type": "code",
   "execution_count": null,
   "metadata": {},
   "outputs": [],
   "source": [
    "#do some slicing:\n",
    "test_list3[ 2 : 4 ]"
   ]
  },
  {
   "cell_type": "code",
   "execution_count": null,
   "metadata": {},
   "outputs": [],
   "source": []
  },
  {
   "cell_type": "markdown",
   "metadata": {},
   "source": [
    "### Now let's create your first tuple:"
   ]
  },
  {
   "cell_type": "code",
   "execution_count": null,
   "metadata": {},
   "outputs": [],
   "source": [
    "# start by making another list:\n",
    "my_second_list = [ 1, 2, 3, 4 ]\n",
    "\n",
    "# then make your tuple:\n",
    "my_first_tuple = ( 1, 2, 3, 4 )"
   ]
  },
  {
   "cell_type": "code",
   "execution_count": null,
   "metadata": {},
   "outputs": [],
   "source": [
    "#what is their type?\n",
    "\n",
    "type( my_second_list ), type( my_first_tuple )"
   ]
  },
  {
   "cell_type": "code",
   "execution_count": null,
   "metadata": {},
   "outputs": [],
   "source": [
    "# try creating a single element list and a single element tuple equal to 1 :\n",
    "single_element_list  = [ 1 ]"
   ]
  },
  {
   "cell_type": "code",
   "execution_count": null,
   "metadata": {},
   "outputs": [],
   "source": [
    "single_element_tuple = ( 1 )"
   ]
  },
  {
   "cell_type": "code",
   "execution_count": null,
   "metadata": {},
   "outputs": [],
   "source": [
    "print( type( single_element_list ) , type( single_element_tuple ) ) # !!!! "
   ]
  },
  {
   "cell_type": "code",
   "execution_count": null,
   "metadata": {},
   "outputs": [],
   "source": [
    "# if you write blabla = ( 1 ) python will ignore the () and just equate blabla to 1:\n",
    "single_element_tuple"
   ]
  },
  {
   "cell_type": "code",
   "execution_count": null,
   "metadata": {},
   "outputs": [],
   "source": [
    "# let's try again to make a single element tuple :\n",
    "single_element_tuple = ( 1, )"
   ]
  },
  {
   "cell_type": "code",
   "execution_count": null,
   "metadata": {},
   "outputs": [],
   "source": [
    "print( type( single_element_list ) , type( single_element_tuple ) ) # "
   ]
  },
  {
   "cell_type": "code",
   "execution_count": null,
   "metadata": {},
   "outputs": [],
   "source": [
    "single_element_tuple   # it worked!"
   ]
  },
  {
   "cell_type": "code",
   "execution_count": null,
   "metadata": {},
   "outputs": [],
   "source": []
  },
  {
   "cell_type": "code",
   "execution_count": null,
   "metadata": {},
   "outputs": [],
   "source": [
    "# slice your first tuple:\n",
    "my_first_tuple[ 0 : 2 ]"
   ]
  },
  {
   "cell_type": "code",
   "execution_count": null,
   "metadata": {},
   "outputs": [],
   "source": [
    "print( id( my_first_tuple ) )"
   ]
  },
  {
   "cell_type": "code",
   "execution_count": null,
   "metadata": {},
   "outputs": [],
   "source": [
    "# remember that list are mutable? Change the 3rd element to 6:\n",
    "my_second_list[ 2 ] = 6"
   ]
  },
  {
   "cell_type": "code",
   "execution_count": null,
   "metadata": {},
   "outputs": [],
   "source": [
    "my_second_list"
   ]
  },
  {
   "cell_type": "code",
   "execution_count": null,
   "metadata": {},
   "outputs": [],
   "source": [
    "# now try the same with the tuple. Change its first element to 6 :\n",
    "\n",
    "my_first_tuple[ 0 ] = 6 "
   ]
  },
  {
   "cell_type": "code",
   "execution_count": null,
   "metadata": {},
   "outputs": [],
   "source": [
    "# what just happened? Did I call it wrong?\n",
    "my_first_tuple[ 0 ]"
   ]
  },
  {
   "cell_type": "code",
   "execution_count": null,
   "metadata": {},
   "outputs": [],
   "source": [
    "# no! Tuples are immutable- you cannot change one of their elements like with lists\n",
    "# what you can do is :\n",
    "\n",
    "my_first_tuple = ( 6, ) + my_first_tuple[ 1 : ]"
   ]
  },
  {
   "cell_type": "code",
   "execution_count": null,
   "metadata": {},
   "outputs": [],
   "source": [
    "my_first_tuple"
   ]
  },
  {
   "cell_type": "code",
   "execution_count": null,
   "metadata": {},
   "outputs": [],
   "source": [
    "print( id( my_first_tuple ) )"
   ]
  },
  {
   "cell_type": "markdown",
   "metadata": {},
   "source": [
    "### This means though, that you really create a completely new tuple! Tuples are best used for combining records/data that belong together. They are dictionaries (see later course) but without keys…\n"
   ]
  },
  {
   "cell_type": "code",
   "execution_count": null,
   "metadata": {},
   "outputs": [],
   "source": []
  },
  {
   "cell_type": "code",
   "execution_count": null,
   "metadata": {},
   "outputs": [],
   "source": []
  },
  {
   "cell_type": "code",
   "execution_count": null,
   "metadata": {},
   "outputs": [],
   "source": []
  },
  {
   "cell_type": "markdown",
   "metadata": {},
   "source": [
    "# Practicum time!"
   ]
  },
  {
   "cell_type": "markdown",
   "metadata": {},
   "source": [
    "### A. ) Write a function called called FtoC that changes a temperature from F to C. \n",
    "#### Consider the following: \n",
    "\n",
    "1) What is the function that connects F to C? \n",
    "\n",
    "2) What should the input of the function be? What should the output be?\n",
    "\n",
    "### Save it in a separate file, not your Jupyter notebook. Remember to start it with a docstring. A good docstring might be, “Converts Fahrenheit (f, int or float) to Celsius (returned).”\n",
    "\n",
    "### In your main homework file, import this function and use it six times to convert -40, 0, 32, 75, 98.6, and 212 Fahrenheit to Celsius, printing each value on a line by itself. Calculate these numbers some other way to check that they are correct (in general, always check your code in this way). State in comments how you checked (calculator, web site, etc.)."
   ]
  },
  {
   "cell_type": "code",
   "execution_count": null,
   "metadata": {},
   "outputs": [],
   "source": []
  },
  {
   "cell_type": "code",
   "execution_count": null,
   "metadata": {},
   "outputs": [],
   "source": []
  },
  {
   "cell_type": "code",
   "execution_count": null,
   "metadata": {},
   "outputs": [],
   "source": []
  },
  {
   "cell_type": "code",
   "execution_count": null,
   "metadata": {},
   "outputs": [],
   "source": []
  },
  {
   "cell_type": "markdown",
   "metadata": {},
   "source": [
    "### B) \n",
    "1) Create a list quantity_1 with numbers starting from 100 to 500 with a step of 100.  \n",
    "\n",
    "2) Create a list quantity_2 with numbers from 10 to 50 with a step of 10. \n",
    "\n",
    "3) Print quantity_1. Print the 2nd up to and including the 4th and element of quantity_2.\n",
    "\n",
    "4) Print the ratio of quantity_1 to quantity_2. \n"
   ]
  },
  {
   "cell_type": "code",
   "execution_count": null,
   "metadata": {},
   "outputs": [],
   "source": []
  },
  {
   "cell_type": "code",
   "execution_count": null,
   "metadata": {},
   "outputs": [],
   "source": []
  },
  {
   "cell_type": "code",
   "execution_count": null,
   "metadata": {},
   "outputs": [],
   "source": []
  },
  {
   "cell_type": "code",
   "execution_count": null,
   "metadata": {},
   "outputs": [],
   "source": []
  },
  {
   "cell_type": "code",
   "execution_count": null,
   "metadata": {},
   "outputs": [],
   "source": []
  },
  {
   "cell_type": "code",
   "execution_count": null,
   "metadata": {},
   "outputs": [],
   "source": []
  },
  {
   "cell_type": "markdown",
   "metadata": {},
   "source": [
    "### C) The Body Mass Index is one of the available measures of how healthy a person is. It is defined as the ratio of a person's weight in kg, over the square of their height in m. Make a function BMI that uses the height and weight of a person and returns their BMI. \n",
    "\n",
    "### Make a list heights that contains the heights of people, and a list weights that containts their weights. Populate them with heights: 1.60, 2.10 and 1.80 and weights 60, 120 and 81.\n",
    "\n",
    "### Call the function BMI for all three people and print their BMI."
   ]
  },
  {
   "cell_type": "code",
   "execution_count": null,
   "metadata": {},
   "outputs": [],
   "source": []
  },
  {
   "cell_type": "code",
   "execution_count": null,
   "metadata": {},
   "outputs": [],
   "source": []
  },
  {
   "cell_type": "code",
   "execution_count": null,
   "metadata": {},
   "outputs": [],
   "source": []
  },
  {
   "cell_type": "code",
   "execution_count": null,
   "metadata": {},
   "outputs": [],
   "source": []
  },
  {
   "cell_type": "code",
   "execution_count": null,
   "metadata": {},
   "outputs": [],
   "source": []
  },
  {
   "cell_type": "code",
   "execution_count": null,
   "metadata": {},
   "outputs": [],
   "source": []
  },
  {
   "cell_type": "markdown",
   "metadata": {},
   "source": []
  },
  {
   "cell_type": "code",
   "execution_count": null,
   "metadata": {},
   "outputs": [],
   "source": []
  },
  {
   "cell_type": "code",
   "execution_count": null,
   "metadata": {},
   "outputs": [],
   "source": []
  },
  {
   "cell_type": "code",
   "execution_count": null,
   "metadata": {},
   "outputs": [],
   "source": []
  },
  {
   "cell_type": "code",
   "execution_count": null,
   "metadata": {},
   "outputs": [],
   "source": []
  },
  {
   "cell_type": "code",
   "execution_count": null,
   "metadata": {},
   "outputs": [],
   "source": []
  },
  {
   "cell_type": "code",
   "execution_count": null,
   "metadata": {},
   "outputs": [],
   "source": []
  },
  {
   "cell_type": "code",
   "execution_count": null,
   "metadata": {},
   "outputs": [],
   "source": []
  },
  {
   "cell_type": "code",
   "execution_count": null,
   "metadata": {},
   "outputs": [],
   "source": []
  }
 ],
 "metadata": {
  "kernelspec": {
   "display_name": "Python 3 (ipykernel)",
   "language": "python",
   "name": "python3"
  },
  "language_info": {
   "codemirror_mode": {
    "name": "ipython",
    "version": 3
   },
   "file_extension": ".py",
   "mimetype": "text/x-python",
   "name": "python",
   "nbconvert_exporter": "python",
   "pygments_lexer": "ipython3",
   "version": "3.7.11"
  }
 },
 "nbformat": 4,
 "nbformat_minor": 2
}
