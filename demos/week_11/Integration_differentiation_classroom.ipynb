{
 "cells": [
  {
   "cell_type": "markdown",
   "metadata": {},
   "source": [
    "# Integration and differentiation in Python"
   ]
  },
  {
   "cell_type": "code",
   "execution_count": null,
   "metadata": {},
   "outputs": [],
   "source": [
    "# PHZ3150 - Spring 2022"
   ]
  },
  {
   "cell_type": "code",
   "execution_count": null,
   "metadata": {},
   "outputs": [],
   "source": [
    "import numpy as np\n",
    "import matplotlib.pyplot as plt"
   ]
  },
  {
   "cell_type": "markdown",
   "metadata": {},
   "source": [
    "## Calculating the integral $\\int_a^b f(x)$\n"
   ]
  },
  {
   "cell_type": "markdown",
   "metadata": {},
   "source": [
    "- Done it by hand couple of times\n",
    "\n",
    "   - $\\int x dx $ = ?\n",
    "   - $ \\int cos x dx $ = ?\n",
    "\n",
    "\n",
    "- How would you code it though?"
   ]
  },
  {
   "cell_type": "code",
   "execution_count": null,
   "metadata": {},
   "outputs": [],
   "source": []
  },
  {
   "cell_type": "code",
   "execution_count": null,
   "metadata": {},
   "outputs": [],
   "source": []
  },
  {
   "cell_type": "code",
   "execution_count": null,
   "metadata": {},
   "outputs": [],
   "source": [
    "from matplotlib.patches import Polygon\n",
    "\n",
    "# https://matplotlib.org/3.1.1/gallery/showcase/integral.html#sphx-glr-gallery-showcase-integral-py\n",
    "\n",
    "def func(x):\n",
    "    return (x - 3) * (x - 5) * (x - 7) + 85\n",
    "\n",
    "\n",
    "a, b = 2, 9  # integral limits\n",
    "x = np.linspace(0, 10)\n",
    "y = func(x)\n",
    "\n",
    "fig, ax = plt.subplots(figsize=(8,8))\n",
    "ax.plot(x, y, 'r', linewidth=2)\n",
    "ax.set_ylim(bottom=0)\n",
    "\n",
    "# Make the shaded region\n",
    "ix = np.linspace(a, b)\n",
    "iy = func(ix)\n",
    "verts = [(a, 0), *zip(ix, iy), (b, 0)]\n",
    "poly = Polygon(verts, facecolor='0.9', edgecolor='0.5')\n",
    "ax.add_patch(poly)\n",
    "\n",
    "ax.text(0.5 * (a + b), 30, r\"$\\int_a^b f(x)\\mathrm{d}x$\",\n",
    "        horizontalalignment='center', fontsize=20)\n",
    "\n",
    "fig.text(0.9, 0.05, '$x$', fontsize =20)\n",
    "fig.text(0.1, 0.9, '$y$', fontsize =20)\n",
    "\n",
    "ax.spines['right'].set_visible(False)\n",
    "ax.spines['top'].set_visible(False)\n",
    "ax.xaxis.set_ticks_position('bottom')\n",
    "\n",
    "ax.set_xticks((a, b))\n",
    "ax.set_xticklabels(('$a$', '$b$'), fontsize =20)\n",
    "ax.set_yticks([])\n"
   ]
  },
  {
   "cell_type": "markdown",
   "metadata": {},
   "source": [
    "### A 'brute force' kind of numerical integration can be done, if the integrand is reasonably well-behaved, by evaluating the integrand with very small increments."
   ]
  },
  {
   "cell_type": "markdown",
   "metadata": {},
   "source": [
    "<img src=\"integrate_2.png\" width=550 height=250 />"
   ]
  },
  {
   "cell_type": "markdown",
   "metadata": {},
   "source": [
    "### Let's try to integrate the function $y = 4*x$ from 0 to 1, i.e., $\\int_0^1 4*x dx $\n"
   ]
  },
  {
   "cell_type": "code",
   "execution_count": null,
   "metadata": {},
   "outputs": [],
   "source": [
    "# Let's visualize the function first:\n",
    "a = 4\n",
    "\n",
    "x = np.linspace(0,1.00001,200)\n",
    "\n",
    "y = a * x\n",
    "\n",
    "plt.figure(figsize=(8,8))\n",
    "plt.plot(x,y,color='red')\n",
    "plt.plot(np.ones(len(np.linspace(0,4,10))),np.linspace(0,4,10),color='red', linestyle = ':')\n",
    "plt.ylim(0.,5)\n",
    "plt.show()\n"
   ]
  },
  {
   "cell_type": "markdown",
   "metadata": {},
   "source": [
    "### OK, so we are looking for a triangle's surface: from basic math the surface of the triangle is ...."
   ]
  },
  {
   "cell_type": "code",
   "execution_count": null,
   "metadata": {},
   "outputs": [],
   "source": [
    "\n",
    "\n",
    "sum_int = \n",
    "\n",
    "print('Surface of triangle: ', sum_int )\n",
    "\n"
   ]
  },
  {
   "cell_type": "markdown",
   "metadata": {},
   "source": [
    "### What if we split it in N blocks of width (x[i]-x[i-2]/2) and height y[i] and do the summation $\\Sigma_i y[i] * dx[i]$:"
   ]
  },
  {
   "cell_type": "code",
   "execution_count": null,
   "metadata": {},
   "outputs": [],
   "source": [
    "sum_int = 0                      #set the  value of your sum (integral) to zero\n",
    "\n",
    "for i in range( len( x ) - 1 ):  #scan array x \n",
    "    d = x[ i+1 ] - x[ i ]        # for every step get the base of your block \n",
    "    h = a * (x[ i ] + d )        # calculate the height of your block (i.e., where your function is) \n",
    "    sum_int += d * h             #calculate surface of block and add to integral valus\n",
    "    \n",
    "print('Integration:', sum_int)"
   ]
  },
  {
   "cell_type": "markdown",
   "metadata": {},
   "source": [
    "### Does it make sense? "
   ]
  },
  {
   "cell_type": "markdown",
   "metadata": {},
   "source": [
    "### From math we know that $\\int_0^1 4*x dx $ = $2 * x^2 |^1_0$  = 2 - 0 = 2 ...yes! it worked (kinda)"
   ]
  },
  {
   "cell_type": "markdown",
   "metadata": {},
   "source": [
    "### Why is there this small discrepancy?"
   ]
  },
  {
   "cell_type": "code",
   "execution_count": null,
   "metadata": {},
   "outputs": [],
   "source": []
  },
  {
   "cell_type": "code",
   "execution_count": null,
   "metadata": {},
   "outputs": [],
   "source": []
  },
  {
   "cell_type": "markdown",
   "metadata": {},
   "source": [
    "### What if you have a more complex function? E.g., let's try to integrate $ \\int_0^1 2*x^2 $ dx"
   ]
  },
  {
   "cell_type": "code",
   "execution_count": null,
   "metadata": {},
   "outputs": [],
   "source": [
    "# first we visualize it:\n",
    "a = 2\n",
    "\n",
    "x = np.linspace(0,1.00001,20000)\n",
    "\n",
    "y = a* x**2\n",
    "\n",
    "plt.figure(figsize=(8,8))\n",
    "plt.plot(x,y,color='red')\n",
    "plt.plot(np.ones(len(np.linspace(0,2,10))),np.linspace(0,2,10),color='red', linestyle = ':')\n",
    "plt.ylim(0.,2.5)\n",
    "\n"
   ]
  },
  {
   "cell_type": "markdown",
   "metadata": {},
   "source": [
    "### let's split it in N blocks of width (x[ i ] - x[ i - 1 ] ) and height y[ i ]:\n"
   ]
  },
  {
   "cell_type": "code",
   "execution_count": null,
   "metadata": {},
   "outputs": [],
   "source": [
    "\n",
    "sum_int = 0                      #set the  value of your integral to zero\n",
    "\n",
    "for i in range(len( x ) - 1 ):   #scan array x \n",
    "    d = x[ i + 1 ] - x[ i ]      # for every step get the base of your block \n",
    "    h = a * (x[ i ] + d ) ** 2   # calculate the height of your block (i.e., where your function is) \n",
    "    sum_int += d * h             #calculate surface of block and add to integral valus\n",
    "#or    sum_int = sum_int + d*h\n",
    "\n",
    "print( sum_int )"
   ]
  },
  {
   "cell_type": "markdown",
   "metadata": {},
   "source": [
    "### Does it make sense again? $\\int_0^1 2* x^2 dx = \\frac{2}{3} x^3 |^1_ 0 = \\frac{2}{3}$ check!  "
   ]
  },
  {
   "cell_type": "code",
   "execution_count": null,
   "metadata": {},
   "outputs": [],
   "source": []
  },
  {
   "cell_type": "markdown",
   "metadata": {},
   "source": [
    "### Can you do the integration of $\\int_0^{1} |2*sin(2 * \\pi * x)| dx$ ?"
   ]
  },
  {
   "cell_type": "code",
   "execution_count": null,
   "metadata": {},
   "outputs": [],
   "source": [
    "#First practice plt.plot and visualize the function:\n",
    "\n",
    "\n"
   ]
  },
  {
   "cell_type": "code",
   "execution_count": null,
   "metadata": {},
   "outputs": [],
   "source": [
    "#let's split it in N blocks of width dx[i] and height y[i]:\n",
    "\n"
   ]
  },
  {
   "cell_type": "markdown",
   "metadata": {},
   "source": [
    "### again, does it make sense? "
   ]
  },
  {
   "cell_type": "code",
   "execution_count": null,
   "metadata": {},
   "outputs": [],
   "source": []
  },
  {
   "cell_type": "code",
   "execution_count": null,
   "metadata": {},
   "outputs": [],
   "source": []
  },
  {
   "cell_type": "code",
   "execution_count": null,
   "metadata": {},
   "outputs": [],
   "source": []
  },
  {
   "cell_type": "markdown",
   "metadata": {},
   "source": [
    "### Python offers a built-in way to check it out:"
   ]
  },
  {
   "cell_type": "code",
   "execution_count": null,
   "metadata": {},
   "outputs": [],
   "source": [
    "from scipy.integrate import quad"
   ]
  },
  {
   "cell_type": "markdown",
   "metadata": {},
   "source": [
    "### see: https://docs.scipy.org/doc/scipy/reference/generated/scipy.integrate.quad.html"
   ]
  },
  {
   "cell_type": "code",
   "execution_count": null,
   "metadata": {},
   "outputs": [],
   "source": [
    "def integrand(x, a):\n",
    "     return 2 * np.abs( np.sin( 2 * np.pi * x ) )\n",
    "    \n",
    "I = quad( integrand, 0, 1.0001, args = ( 1, ) )\n",
    "print( I )"
   ]
  },
  {
   "cell_type": "code",
   "execution_count": null,
   "metadata": {},
   "outputs": [],
   "source": [
    "#what does scipy say that the real integral is for the previous function? \n",
    "def integrand(x, a):\n",
    "     return a * x**2 \n",
    "\n",
    "\n",
    "I = quad(integrand, 0, 1.0001, args = ( 2, ) )\n",
    "print( I )"
   ]
  },
  {
   "cell_type": "code",
   "execution_count": null,
   "metadata": {},
   "outputs": [],
   "source": []
  },
  {
   "cell_type": "markdown",
   "metadata": {},
   "source": [
    "### Integrate : $\\int_{3.5}^{7.5} |4 - (x - 5.5)^2| dx $ , aka, the surface under this semi-circle:"
   ]
  },
  {
   "cell_type": "code",
   "execution_count": null,
   "metadata": {},
   "outputs": [],
   "source": [
    "x = np.linspace(0,20,1000)\n",
    "plt.plot( x , np.sqrt( np.abs(4 - (x- 5.5)**2 ) ) )\n",
    "plt.xlim( 3.5, 7.5)\n",
    "plt.ylim(0.,3)"
   ]
  },
  {
   "cell_type": "code",
   "execution_count": null,
   "metadata": {},
   "outputs": [],
   "source": [
    "#integrate here manually:\n",
    "\n"
   ]
  },
  {
   "cell_type": "code",
   "execution_count": null,
   "metadata": {},
   "outputs": [],
   "source": [
    "#use quad():\n"
   ]
  },
  {
   "cell_type": "code",
   "execution_count": null,
   "metadata": {},
   "outputs": [],
   "source": []
  },
  {
   "cell_type": "markdown",
   "metadata": {},
   "source": [
    "# Differentiation\n",
    "\n"
   ]
  },
  {
   "cell_type": "markdown",
   "metadata": {},
   "source": [
    "- have done it multiple times by hand\n",
    "    - $\\frac{dx^2}{dx}$ = ?\n",
    "    - $\\frac{de^x}{dx}$ = ?\n",
    "    \n",
    "- how do you put it in code though?"
   ]
  },
  {
   "cell_type": "code",
   "execution_count": null,
   "metadata": {},
   "outputs": [],
   "source": []
  },
  {
   "cell_type": "code",
   "execution_count": null,
   "metadata": {},
   "outputs": [],
   "source": []
  },
  {
   "cell_type": "code",
   "execution_count": null,
   "metadata": {},
   "outputs": [],
   "source": []
  },
  {
   "cell_type": "markdown",
   "metadata": {},
   "source": [
    "### For simple functions in a program you can approximate differential changes in a quantity with $\\frac{\\Delta y}{\\Delta x }$. Generally though this is prone to numerical error and, if you'have complex functions of more than one params/functions, can take a while\n"
   ]
  },
  {
   "cell_type": "markdown",
   "metadata": {},
   "source": [
    "### Let's test it out with $f(x) = 2* x^2 $"
   ]
  },
  {
   "cell_type": "code",
   "execution_count": null,
   "metadata": {},
   "outputs": [],
   "source": [
    "#make x with many small intervals:\n",
    "x = np.linspace( 0, 1, 1000 )\n",
    "y = 2 * x**2\n"
   ]
  },
  {
   "cell_type": "code",
   "execution_count": null,
   "metadata": {},
   "outputs": [],
   "source": [
    "# calculate the approximate derivative of 2*x^2 at every x:\n",
    "\n",
    "dydx = np.zeros( len( x ) )\n",
    "\n",
    "for i in range( 1, len( x ) ):\n",
    "    dydx[ i ] = ( y[ i ] - y[ i - 1 ] ) / ( x[ i ] - x[ i - 1 ] )"
   ]
  },
  {
   "cell_type": "code",
   "execution_count": null,
   "metadata": {},
   "outputs": [],
   "source": [
    "# plot the derivative (straight and what we just calculated):\n",
    "\n",
    "plt.figure( figsize = ( 8 , 8 ) )\n",
    "plt.plot(x, 4 * x     ,color='red')   #do the differentiation\n",
    "plt.plot(x, dydx ,color='blue',linestyle='--')  #check what dydx did\n"
   ]
  },
  {
   "cell_type": "markdown",
   "metadata": {},
   "source": [
    "### np.diff() calculates the discrete difference of your function along a given axis; so you can get the Dy/Dx"
   ]
  },
  {
   "cell_type": "code",
   "execution_count": null,
   "metadata": {},
   "outputs": [],
   "source": [
    "plt.figure( figsize = ( 8 , 8 ) )\n",
    "plt.plot( x, 4 * x     ,color='red')   #do the differentiation\n",
    "plt.plot( x[ 1: ], np.diff( y ) / np.diff( x ) ,color='blue',linestyle='--')  #check what np.diff did\n",
    " "
   ]
  },
  {
   "cell_type": "code",
   "execution_count": null,
   "metadata": {},
   "outputs": [],
   "source": [
    "x = np.linspace(1, 20, 1000 )\n",
    "y = 2 * np.exp( x )\n",
    "z = np.diff( y ) / np.diff( x )\n",
    "\n",
    "plt.figure(figsize = ( 8, 8 ) )\n",
    "\n",
    "plt.plot( x, y )               # get the real function\n",
    "plt.plot( x, y, color='red')   #do the manual differentiation --> it's the same...\n",
    "plt.plot( x[ 1 : ], z, color = 'blue', linestyle = '--')  #check what np.diff did\n"
   ]
  },
  {
   "cell_type": "markdown",
   "metadata": {},
   "source": [
    "### You can also use numpy's gradient() ; https://numpy.org/doc/stable/reference/generated/numpy.gradient.html"
   ]
  },
  {
   "cell_type": "code",
   "execution_count": null,
   "metadata": {},
   "outputs": [],
   "source": [
    "x = np.linspace( 1, 20, 1000 )\n",
    "y = 2 * x**2\n",
    "xx = x[ 1 ] - x[ 0 ]\n",
    "\n",
    "a = np.gradient( y , xx )\n",
    "\n",
    "plt.figure(figsize = ( 8, 8 ) )\n",
    "\n",
    "plt.plot( x, 4 * x, color = 'red' )   #do the manual differentiation --> it's the same...\n",
    "plt.plot( x, a    , color = 'blue', linestyle = '--')  #check what np.diff did\n"
   ]
  },
  {
   "cell_type": "markdown",
   "metadata": {},
   "source": [
    "### Let's do a more complex function: $\\sin x$"
   ]
  },
  {
   "cell_type": "code",
   "execution_count": null,
   "metadata": {},
   "outputs": [],
   "source": [
    "x = np.linspace( 1, 20, 1000 )\n",
    "y = np.sin( x )\n",
    "\n",
    "plt.figure( figsize = ( 8, 8 ) )\n",
    "\n",
    "plt.plot( x , y )                           # plot the function\n"
   ]
  },
  {
   "cell_type": "markdown",
   "metadata": {},
   "source": [
    "### what is the $ \\frac{d \\sin x}{dx} $ ?"
   ]
  },
  {
   "cell_type": "code",
   "execution_count": null,
   "metadata": {},
   "outputs": [],
   "source": [
    "xx = x[ 1 ] - x[ 0 ]\n",
    "z = np.gradient( y , xx )\n",
    "\n",
    "plt.figure( figsize = ( 8, 8 ) )\n",
    "\n",
    "plt.plot( x , y )                                # plot the function\n",
    "plt.plot(  ,color='red')                         # plot the manual differentiation \n",
    "plt.plot( x, z , color = 'blue', linestyle='--') # plot the x, z\n"
   ]
  },
  {
   "cell_type": "markdown",
   "metadata": {},
   "source": [
    "### What about an even more complex equation like $\\log_{10}x$\n"
   ]
  },
  {
   "cell_type": "code",
   "execution_count": null,
   "metadata": {},
   "outputs": [],
   "source": [
    "f = np.log10( x )"
   ]
  },
  {
   "cell_type": "code",
   "execution_count": null,
   "metadata": {},
   "outputs": [],
   "source": [
    "# plot the differential here:\n"
   ]
  },
  {
   "cell_type": "markdown",
   "metadata": {},
   "source": [
    "### fun/ useful gadget:  https://www.sympy.org/en/index.html\n"
   ]
  },
  {
   "cell_type": "code",
   "execution_count": null,
   "metadata": {},
   "outputs": [],
   "source": [
    "import sympy as sym\n"
   ]
  },
  {
   "cell_type": "code",
   "execution_count": null,
   "metadata": {},
   "outputs": [],
   "source": [
    "x1 = sym.Symbol( 'X1' )\n",
    "sym.diff( 5 * x1**3 )"
   ]
  },
  {
   "cell_type": "code",
   "execution_count": null,
   "metadata": {},
   "outputs": [],
   "source": [
    "sym.diff( (x1**2 + 1) * sym.cos( x1 ) )"
   ]
  },
  {
   "cell_type": "code",
   "execution_count": null,
   "metadata": {},
   "outputs": [],
   "source": [
    "sym.diff( 2 * sym.exp( x1 ) )"
   ]
  },
  {
   "cell_type": "code",
   "execution_count": null,
   "metadata": {},
   "outputs": [],
   "source": []
  },
  {
   "cell_type": "markdown",
   "metadata": {},
   "source": [
    "### OK, we now know how to do it, but where would we ever use it really?"
   ]
  },
  {
   "cell_type": "markdown",
   "metadata": {},
   "source": [
    "### Some basic Physics examples:"
   ]
  },
  {
   "cell_type": "markdown",
   "metadata": {},
   "source": [
    "#### We have already seen an example earlier in this class, any ideas?\n",
    "\n"
   ]
  },
  {
   "cell_type": "code",
   "execution_count": null,
   "metadata": {},
   "outputs": [],
   "source": []
  },
  {
   "cell_type": "code",
   "execution_count": null,
   "metadata": {},
   "outputs": [],
   "source": []
  },
  {
   "cell_type": "code",
   "execution_count": null,
   "metadata": {},
   "outputs": [],
   "source": [
    "\n",
    "x_u = np.linspace( 1, 20, 100 )\n",
    "t_u = np.arange( 100 )\n",
    "\n",
    "# u = dx/dt:\n",
    "tt = t_u[ 1 ] - t_u[ 0 ]\n",
    "u = np.gradient( x_u , tt  )\n",
    "\n",
    "\n",
    "dydx = np.zeros( len( x_u ) )\n",
    "\n",
    "for i in range( 1, len( x_u ) ):\n",
    "    dydx[ i ] = ( x_u[ i ] - x_u[ i - 1 ] ) / ( t_u[ i ] - t_u[ i - 1 ] )\n"
   ]
  },
  {
   "cell_type": "code",
   "execution_count": null,
   "metadata": {},
   "outputs": [],
   "source": [
    "plt.figure( figsize = ( 8,8 ) )\n",
    "\n",
    "plt.plot( x_u, u    , color = 'red' )\n",
    "plt.plot( x_u[ 1 : ], dydx[ 1: ] , color = 'blue' )\n",
    "plt.ylim( 0., .5)"
   ]
  },
  {
   "cell_type": "code",
   "execution_count": null,
   "metadata": {},
   "outputs": [],
   "source": [
    "# a = du/dt:\n",
    "\n",
    "a = np.gradient( u , tt  )\n",
    "\n",
    "\n",
    "dydx2 = np.zeros( len( x_u ) )\n",
    "\n",
    "for i in range( 1, len( x_u ) ):\n",
    "    dydx2[ i ] = ( u[ i ] - u[ i - 1 ] ) / ( t_u[ i ] - t_u[ i - 1 ] )\n"
   ]
  },
  {
   "cell_type": "code",
   "execution_count": null,
   "metadata": {},
   "outputs": [],
   "source": [
    "plt.figure( figsize = ( 8,8 ) )\n",
    "\n",
    "plt.plot( x_u, a    , color = 'red' )\n",
    "plt.plot( x_u[ 1 : ], dydx2[ 1: ] , color = 'blue' )\n",
    "plt.ylim( -.5, .5)"
   ]
  },
  {
   "cell_type": "code",
   "execution_count": null,
   "metadata": {},
   "outputs": [],
   "source": [
    "t_u = np.arange( 100 )\n",
    "dx = np.array( [0.0000e+00 , 2.0000e+00 , 8.0000e+00,  1.8000e+01,  3.2000e+01 , 5.0000e+01, \n",
    " 7.2000e+01, 9.8000e+01, 1.2800e+02, 1.6200e+02, 2.0000e+02, 2.4200e+02,\n",
    " 2.8800e+02, 3.3800e+02, 3.9200e+02, 4.5000e+02, 5.1200e+02, 5.7800e+02,\n",
    " 6.4800e+02, 7.2200e+02, 8.0000e+02, 8.8200e+02, 9.6800e+02, 1.0580e+03,\n",
    " 1.1520e+03, 1.2500e+03, 1.3520e+03, 1.4580e+03, 1.5680e+03, 1.6820e+03,\n",
    " 1.8000e+03, 1.9220e+03, 2.0480e+03, 2.1780e+03, 2.3120e+03, 2.4500e+03,\n",
    " 2.5920e+03, 2.7380e+03, 2.8880e+03, 3.0420e+03, 3.2000e+03, 3.3620e+03,\n",
    " 3.5280e+03, 3.6980e+03, 3.8720e+03, 4.0500e+03, 4.2320e+03, 4.4180e+03,\n",
    " 4.6080e+03, 4.8020e+03, 5.0000e+03, 5.2020e+03, 5.4080e+03, 5.6180e+03,\n",
    " 5.8320e+03, 6.0500e+03, 6.2720e+03, 6.4980e+03, 6.7280e+03, 6.9620e+03,\n",
    " 7.2000e+03, 7.4420e+03, 7.6880e+03, 7.9380e+03, 8.1920e+03, 8.4500e+03,\n",
    " 8.7120e+03, 8.9780e+03, 9.2480e+03, 9.5220e+03, 9.8000e+03, 1.0082e+04,\n",
    " 1.0368e+04, 1.0658e+04, 1.0952e+04, 1.1250e+04, 1.1552e+04, 1.1858e+04,\n",
    " 1.2168e+04, 1.2482e+04, 1.2800e+04, 1.3122e+04, 1.3448e+04, 1.3778e+04,\n",
    " 1.4112e+04, 1.4450e+04, 1.4792e+04, 1.5138e+04, 1.5488e+04, 1.5842e+04,\n",
    " 1.6200e+04, 1.6562e+04, 1.6928e+04, 1.7298e+04, 1.7672e+04, 1.8050e+04,\n",
    " 1.8432e+04, 1.8818e+04, 1.9208e+04, 1.9602e+04 ] )"
   ]
  },
  {
   "cell_type": "code",
   "execution_count": null,
   "metadata": {},
   "outputs": [],
   "source": [
    "# what is the acceleration of this car?\n",
    "\n",
    "# u = dx/dt:\n",
    "\n",
    "# a = du/dt:\n",
    "\n"
   ]
  },
  {
   "cell_type": "code",
   "execution_count": null,
   "metadata": {},
   "outputs": [],
   "source": [
    "# true acceleration : 4 "
   ]
  },
  {
   "cell_type": "markdown",
   "metadata": {},
   "source": [
    "### Read in the data from ***body_motion.data***. Can you guess which kind of motion this is?"
   ]
  },
  {
   "cell_type": "code",
   "execution_count": null,
   "metadata": {},
   "outputs": [],
   "source": [
    "# read data:\n"
   ]
  },
  {
   "cell_type": "code",
   "execution_count": null,
   "metadata": {},
   "outputs": [],
   "source": [
    "#assign it to t and x:"
   ]
  },
  {
   "cell_type": "code",
   "execution_count": null,
   "metadata": {},
   "outputs": [],
   "source": [
    "#plot dataset:"
   ]
  },
  {
   "cell_type": "code",
   "execution_count": null,
   "metadata": {},
   "outputs": [],
   "source": [
    "# what is the speed and acceleration of this object?\n",
    "\n"
   ]
  },
  {
   "cell_type": "code",
   "execution_count": null,
   "metadata": {},
   "outputs": [],
   "source": [
    "### reminds you of something?\n"
   ]
  },
  {
   "cell_type": "code",
   "execution_count": null,
   "metadata": {},
   "outputs": [],
   "source": [
    "# calculate acceleration, speed, distance .....what do they do..what is this motion?"
   ]
  },
  {
   "cell_type": "code",
   "execution_count": null,
   "metadata": {},
   "outputs": [],
   "source": []
  },
  {
   "cell_type": "code",
   "execution_count": null,
   "metadata": {},
   "outputs": [],
   "source": []
  },
  {
   "cell_type": "markdown",
   "metadata": {},
   "source": [
    "### Assume sphere with radius R = 1,000 m and density $\\rho (r) = \\rho_0 (1 - \\alpha \\frac{r}{R}) $, where $\\rho_0, \\alpha$ are constants. What is the total mass of the sphere if you know that: $M_{tot} = \\int_0^{2\\pi} \\int_0^{\\pi} \\int_0^R \\rho(r) r^2 \\sin \\phi dr d\\phi d\\theta $ ?\n",
    "\n",
    "You can assume $R$ = 8.913e7 m , $\\alpha = 1.13$ and $\\rho_0$ = 5320 kg/m3\n"
   ]
  },
  {
   "cell_type": "markdown",
   "metadata": {},
   "source": [
    "### How are you going to solve this? How are you integrating a sphere?"
   ]
  },
  {
   "cell_type": "code",
   "execution_count": null,
   "metadata": {},
   "outputs": [],
   "source": []
  },
  {
   "cell_type": "code",
   "execution_count": null,
   "metadata": {},
   "outputs": [],
   "source": []
  },
  {
   "cell_type": "code",
   "execution_count": null,
   "metadata": {},
   "outputs": [],
   "source": []
  },
  {
   "cell_type": "markdown",
   "metadata": {},
   "source": [
    "###  A mass of 0.2kg is hanging from the end of a spring with a constant k=3.5 N/m. You let the mass go, and the mass-spring system starts oscillating.  Assume that x0 = 0 [m], u0 = 0 [m/s]. Remember that g = 9.8 [m/s2], and that the force applied on the mass by the gravity-spring system is F = −mg - kx . \n",
    "\n",
    "### Your goal: Plot the oscillation of the mass over time t=np.linespace(0,4,100). \n",
    "\n",
    "### To do this, create a function oscillation(x0,t0,u0,k,m,g,t) that takes as input the initial position x0 of the object at time t0, its initial speed u0, the parameters k, m and g and the time at which you want to calculate the location of the mass t, and returns the corresponding location of the object x. \n",
    "\n",
    "### Tip 1: remember that F=m * a=m $\\frac{d^2x}{d^2t}$.  \n",
    "### Tip 2: to make the problem more tractable you can split the second order derivative into two first order differences ( $\\frac{\\Delta x}{\\Delta t}$  and $\\frac{\\Delta u}{\\Delta t}$ ).\n",
    "\n"
   ]
  },
  {
   "cell_type": "code",
   "execution_count": null,
   "metadata": {},
   "outputs": [],
   "source": []
  }
 ],
 "metadata": {
  "kernelspec": {
   "display_name": "Python 3 (ipykernel)",
   "language": "python",
   "name": "python3"
  },
  "language_info": {
   "codemirror_mode": {
    "name": "ipython",
    "version": 3
   },
   "file_extension": ".py",
   "mimetype": "text/x-python",
   "name": "python",
   "nbconvert_exporter": "python",
   "pygments_lexer": "ipython3",
   "version": "3.7.11"
  }
 },
 "nbformat": 4,
 "nbformat_minor": 2
}
