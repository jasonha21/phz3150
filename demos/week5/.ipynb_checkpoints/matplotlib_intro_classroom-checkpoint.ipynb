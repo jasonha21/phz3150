{
 "cells": [
  {
   "cell_type": "markdown",
   "metadata": {},
   "source": [
    "# Introduction to matplotlib"
   ]
  },
  {
   "cell_type": "markdown",
   "metadata": {},
   "source": [
    "## Matplotlib is the plotting module of Python. Matplotib is there to “make easy things easy and hard things possible” (matplotlib.org ). You can use it for making publication ready figure of any kind: histograms, plots, scatterplots etc. \n"
   ]
  },
  {
   "cell_type": "markdown",
   "metadata": {},
   "source": [
    "### any questions you have will most probably already be answered in https://matplotlib.org/ or https://stackoverflow.com/ ; great resources to answer all your questions - Use them "
   ]
  },
  {
   "cell_type": "markdown",
   "metadata": {},
   "source": [
    "### Let’s start by importing matplotlib.pyplot, the MATLAB-like plotting package of Python:"
   ]
  },
  {
   "cell_type": "code",
   "execution_count": 1,
   "metadata": {},
   "outputs": [],
   "source": [
    "%matplotlib inline"
   ]
  },
  {
   "cell_type": "code",
   "execution_count": 2,
   "metadata": {},
   "outputs": [],
   "source": [
    "import matplotlib.pyplot as plt"
   ]
  },
  {
   "cell_type": "markdown",
   "metadata": {},
   "source": [
    "### Then let’s also import numpy to make something to plot up:"
   ]
  },
  {
   "cell_type": "code",
   "execution_count": 3,
   "metadata": {},
   "outputs": [],
   "source": [
    "import numpy as np"
   ]
  },
  {
   "cell_type": "markdown",
   "metadata": {},
   "source": [
    "### Now let’s create an array x going from 0 to 100 with a step of 0.01 and y that's a sin array of that:"
   ]
  },
  {
   "cell_type": "code",
   "execution_count": 4,
   "metadata": {},
   "outputs": [],
   "source": [
    "x = np.arange( 0, 100, 0.1 )\n",
    "y = np.sin( 2 * np.pi * x )\n"
   ]
  },
  {
   "cell_type": "markdown",
   "metadata": {},
   "source": [
    "### let's start with a basic plot:"
   ]
  },
  {
   "cell_type": "code",
   "execution_count": 5,
   "metadata": {},
   "outputs": [
    {
     "data": {
      "text/plain": [
       "[<matplotlib.lines.Line2D at 0x223a8ec7688>]"
      ]
     },
     "execution_count": 5,
     "metadata": {},
     "output_type": "execute_result"
    },
    {
     "data": {
      "image/png": "[encoded data removed]",
      "text/plain": [
       "<Figure size 432x288 with 1 Axes>"
      ]
     },
     "metadata": {
      "needs_background": "light"
     },
     "output_type": "display_data"
    }
   ],
   "source": [
    "#remember, we call the module and the the appropriate function:\n",
    "plt.plot(x,y)  \n"
   ]
  },
  {
   "cell_type": "markdown",
   "metadata": {},
   "source": [
    "### While this is ‘a’ plot, it is not ideal. What are x and y showing? Also, it is a bit small.  Let’s add titles (xlabel/ylabel) and increase the size of the figure (figsize). While at it, let’s also change the color of the line to red (color):\n"
   ]
  },
  {
   "cell_type": "code",
   "execution_count": null,
   "metadata": {},
   "outputs": [],
   "source": [
    "#plt.figure( figsize = (15, 15 ) )\n",
    "plt.plot  ( x, y, color = 'red' ) # (or 'r')\n",
    "plt.xlabel( 't' )\n",
    "plt.ylabel( 'Sin[ 2 $\\pi$ t ] ' )\n"
   ]
  },
  {
   "cell_type": "markdown",
   "metadata": {},
   "source": [
    "### Let’s change the linestyle to a dashed line, and increase the fontsize of our labels to be able to actually read them"
   ]
  },
  {
   "cell_type": "code",
   "execution_count": null,
   "metadata": {},
   "outputs": [],
   "source": [
    "#plt.figure( figsize = (15, 15 ) )\n",
    "#plt.plot  ( x, y, color = 'red' , listyle = ' --'  ) \n",
    "#plt.xlabel( 't'                 , fontsize = 30 )\n",
    "#plt.ylabel( 'Sin[ 2 $\\pi$ t ] ' , fontsize = 30 )"
   ]
  },
  {
   "cell_type": "markdown",
   "metadata": {},
   "source": [
    "#### You can find a list with all the named colors that you can use in matplotlib here:\n",
    "https://matplotlib.org/3.1.0/gallery/color/named_colors.html\n",
    "\n"
   ]
  },
  {
   "cell_type": "markdown",
   "metadata": {},
   "source": [
    "#### and all linestyles here: \n",
    "https://matplotlib.org/3.1.0/gallery/lines_bars_and_markers/linestyles.html \n"
   ]
  },
  {
   "cell_type": "markdown",
   "metadata": {},
   "source": [
    "#### Add a label (title) to the plot. Increase the size of our tick labels (xyticks) and the thickness (width) of the line:\n"
   ]
  },
  {
   "cell_type": "code",
   "execution_count": null,
   "metadata": {},
   "outputs": [],
   "source": [
    "#plt.figure( figsize = (15, 15 ) )\n",
    "#plt.plot  ( x, y, color = 'red', linestyle = '--' ) \n",
    "#plt.xlabel( 't'                 , fontsize = 30 )\n",
    "#plt.ylabel( 'Sin[ 2 $\\pi$ t ] ' , fontsize = 30 )\n",
    "#plt.title('My sin function', fontsize = 28)\n"
   ]
  },
  {
   "cell_type": "markdown",
   "metadata": {},
   "source": [
    "#### Let's focus on the x = [10, 20] part of the plot by limiting the x axis "
   ]
  },
  {
   "cell_type": "code",
   "execution_count": null,
   "metadata": {},
   "outputs": [],
   "source": [
    "#plt.figure( figsize = (15, 15 ) )\n",
    "#plt.plot  ( x, y, color = 'red' , linestyle = '--', linewidth = 4) \n",
    "#plt.xlabel( 't'                 , fontsize = 30 )\n",
    "#plt.ylabel( 'Sin[ 2 $\\pi$ t ] ' , fontsize = 30 )\n",
    "#plt.title( ' My first sin plot' , fontsize = 40 )\n",
    "#plt.yticks( fontsize = 30 )\n",
    "#plt.xticks( fontsize = 30 )\n"
   ]
  },
  {
   "cell_type": "markdown",
   "metadata": {},
   "source": [
    "### Can you guess how we would limit now the y axis to [-.5, .5] ?"
   ]
  },
  {
   "cell_type": "code",
   "execution_count": null,
   "metadata": {},
   "outputs": [],
   "source": []
  },
  {
   "cell_type": "markdown",
   "metadata": {},
   "source": [
    "### Let's go back a step to see the full sin function, now for a single period from 10 to 11, and let's save it as a pdf:"
   ]
  },
  {
   "cell_type": "code",
   "execution_count": null,
   "metadata": {},
   "outputs": [],
   "source": [
    "#plt.figure( figsize = (15, 15 ) )\n",
    "#plt.plot  (  ) \n",
    "#plt.xlabel( 't'                 , fontsize = 30 )\n",
    "#plt.ylabel( 'Sin[ 2 $\\pi$ t ] ' , fontsize = 30 )\n",
    "#plt.title( ' My first sin plot' , fontsize = 40 )\n",
    "#plt.yticks( fontsize = 30 )\n",
    "#plt.xticks( fontsize = 30 )\n",
    "#plt.\n",
    "#plt.savefig( 'my_first_saved_figure.pdf', format = 'pdf', \n",
    "#            dpi = 1200, bbox_inches = 'tight', pad_inches = 0.3 )"
   ]
  },
  {
   "cell_type": "markdown",
   "metadata": {},
   "source": [
    "### check your saved figure in your folder!"
   ]
  },
  {
   "cell_type": "code",
   "execution_count": null,
   "metadata": {},
   "outputs": [],
   "source": []
  },
  {
   "cell_type": "markdown",
   "metadata": {},
   "source": [
    "#### You many have noticed the use of $'\\'$ $pi$ to indicate $\\pi$ in the plot. This is Python using LaTeX to create math symbols. We will talk about LaTeX in a later class. For now, a couple useful things you many use (click on the box below to see how to write them using the '$' signs:\n"
   ]
  },
  {
   "cell_type": "markdown",
   "metadata": {},
   "source": [
    "\\pi == π \n",
    "\n",
    "\\delta == δ  \n",
    "\n",
    "\\Delta == Δ \n",
    "\n",
    "\\Sigma == Σ\n",
    "\n",
    "\\lesssim  ==  $\\lesssim$\n",
    "\n",
    "\\gtrsim == $ \\gtrsim $\n",
    "\n",
    "X_{blabla} ==  $X_{blabla}$ \n",
    "\n",
    "or if you want it in normal (not math/italic) font: X_\\mathrm{blabla} == X$_\\mathrm{blabla}$ \n",
    "\n",
    "X^n == $X^n$\n"
   ]
  },
  {
   "cell_type": "code",
   "execution_count": null,
   "metadata": {},
   "outputs": [],
   "source": []
  },
  {
   "cell_type": "markdown",
   "metadata": {},
   "source": [
    "#### To fix the labeling on your x and y axis to what you want it to show use: plt.yticks(<yourticks>)(same for xticks). For example:  \n",
    "\n",
    "plt.yticks( np.arange( -1.0, 1.2, step = 0.2 ) ) <br>\n",
    "plt.xticks( np.arange( 10, 11.1, 0.2 ) )\n"
   ]
  },
  {
   "cell_type": "code",
   "execution_count": null,
   "metadata": {},
   "outputs": [],
   "source": [
    "# try it out:\n",
    "#plt.figure( figsize = (15, 15 ) )\n",
    "#plt.plot  ( x, y, color = 'red' , linestyle = '--', linewidth = 4) \n",
    "#plt.xlabel( 't'                 , fontsize = 30 )\n",
    "#plt.ylabel( 'Sin[ 2 $\\pi$ t ] ' , fontsize = 30 )\n",
    "#plt.title( ' My first sin plot' , fontsize = 40 )\n",
    "\n",
    "#plt.xlim( 10, 11 )\n",
    "\n",
    "#plt.yticks(  ) \n",
    "#plt.xticks( )\n",
    "#plt.show( )"
   ]
  },
  {
   "cell_type": "code",
   "execution_count": null,
   "metadata": {},
   "outputs": [],
   "source": []
  },
  {
   "cell_type": "code",
   "execution_count": null,
   "metadata": {},
   "outputs": [],
   "source": []
  },
  {
   "cell_type": "code",
   "execution_count": null,
   "metadata": {},
   "outputs": [],
   "source": [
    "#### now let's try to make it a bit more legible with accentuating the axis ticks:\n",
    "\n",
    "#plt.figure( figsize = (15, 15 ) )\n",
    "#plt.plot  ( x, y, color = 'red' , linestyle = '--', linewidth = 4) \n",
    "#plt.xlabel( 't'                 , fontsize = 30 )\n",
    "#plt.ylabel( 'Sin[ 2 $\\pi$ t ] ' , fontsize = 30 )\n",
    "#plt.title( ' My first sin plot' , fontsize = 40 )\n",
    "#plt.yticks( fontsize = 30 )\n",
    "#plt.xticks( fontsize = 30 )\n",
    "#plt.xlim( 10, 11 )\n",
    "\n",
    "#plt.yticks( np.arange( -1.0, 1.2, step = 0.2 ) ,fontsize=30 ) \n",
    "#plt.xticks( np.arange( 10, 11.1, 0.2 ) ,fontsize=30 )\n",
    "\n",
    "\n",
    "#plt.tick_params(axis='both',which='major',length=12, width=4,direction='in')\n"
   ]
  },
  {
   "cell_type": "code",
   "execution_count": null,
   "metadata": {},
   "outputs": [],
   "source": [
    "#### to change the border lines you can change the global rc parameters of your system:\n",
    "#plt.rc('axes', linewidth = 3 )"
   ]
  },
  {
   "cell_type": "code",
   "execution_count": null,
   "metadata": {},
   "outputs": [],
   "source": [
    "\n",
    "#plt.figure( figsize = (15, 15 ) )\n",
    "#plt.plot  ( x, y, color = 'red' , linestyle = '--', linewidth = 4) \n",
    "#plt.xlabel( 't'                 , fontsize = 30 )\n",
    "#plt.ylabel( 'Sin[ 2 $\\pi$ t ] ' , fontsize = 30 )\n",
    "#plt.title( ' My first sin plot' , fontsize = 40 )\n",
    "#plt.yticks( fontsize = 30 )\n",
    "#plt.xticks( fontsize = 30 )\n",
    "#plt.xlim( 10, 11 )\n",
    "\n",
    "#plt.yticks( np.arange( -1.0, 1.2, step = 0.2 ) ,fontsize=30 ) \n",
    "#plt.xticks( np.arange( 10, 11.1, 0.2 ) ,fontsize=30 )\n",
    "\n",
    "\n",
    "#plt.tick_params(axis='both',which='major',length=12, width=4,direction='in')\n"
   ]
  },
  {
   "cell_type": "code",
   "execution_count": null,
   "metadata": {},
   "outputs": [],
   "source": [
    "\n"
   ]
  },
  {
   "cell_type": "markdown",
   "metadata": {},
   "source": [
    "### now let's add another line here. Make variable z equal to the cos (2* $\\pi$ * x)\n"
   ]
  },
  {
   "cell_type": "code",
   "execution_count": null,
   "metadata": {},
   "outputs": [],
   "source": [
    "# z = "
   ]
  },
  {
   "cell_type": "markdown",
   "metadata": {},
   "source": [
    "### and plot both y and z versus x. Make y red as above, z blue, and give them a label so that we know what is what:"
   ]
  },
  {
   "cell_type": "code",
   "execution_count": null,
   "metadata": {},
   "outputs": [],
   "source": [
    "#plt.figure( figsize = (15, 15 ) )\n",
    "#plt.plot  (  ) \n",
    "#plt.plot  (  ) \n",
    "\n",
    "\n",
    "#plt.xlabel( 't'                 , fontsize = 30 )\n",
    "#plt.ylabel( 'Sin[ 2 $\\pi$ t ] ' , fontsize = 30 )\n",
    "#plt.title( ' My first sin-cos plot' , fontsize = 40 )\n",
    "\n",
    "#plt.xlim( 10, 11 )\n",
    "\n",
    "#change this a bit, so that we see the legend later on:\n",
    "#plt.yticks( np.arange( -1.2, 1.4, step = 0.2 ) ,fontsize=30 ) \n",
    "#plt.xticks( np.arange( 10, 11.1, 0.2 ) ,fontsize=30 )\n",
    "\n",
    "\n",
    "#plt.tick_params(axis='both',which='major',length=12, width=4,direction='in')\n",
    "\n",
    "#add the legend so that we see the labels\n",
    "#plt.legend( fontsize = 30 )"
   ]
  },
  {
   "cell_type": "code",
   "execution_count": null,
   "metadata": {},
   "outputs": [],
   "source": [
    "#### hm, looks a bit cluttered at the bottom left; let's rotate the x labels by 45 degrees:\n",
    "\n",
    "plt.figure( figsize = (15, 15 ) )\n",
    "plt.plot  ( x, y ) \n",
    "plt.plot  ( x, z ) \n",
    "\n",
    "\n",
    "#plt.xlabel( 't'                 , fontsize = 30 )\n",
    "#plt.ylabel( 'Sin[ 2 $\\pi$ t ] ' , fontsize = 30 )\n",
    "#plt.title( ' My first sin-cos plot' , fontsize = 40 )\n",
    "#plt.xlim( 10, 11 )\n",
    "\n",
    "#change this a bit, to tilt the x ticks by 45 deg:\n",
    "#plt.yticks( np.arange( -1.2, 1.4, step = 0.2 ) ,fontsize=30 ) \n",
    "#plt.xticks( np.arange( 10, 11.1, 0.2 ) ,fontsize=30  , rotation = 45)\n",
    "\n",
    "\n",
    "#plt.tick_params(axis='both',which='major',length=12, width=4,direction='in')\n",
    "\n",
    "#add the legend so that we see the labels\n",
    "#"
   ]
  },
  {
   "cell_type": "markdown",
   "metadata": {},
   "source": [
    "### You can add markers to your plot using the key: marker=‘marker_name’ . For example:\n"
   ]
  },
  {
   "cell_type": "code",
   "execution_count": null,
   "metadata": {},
   "outputs": [],
   "source": [
    "#define size of your figure:\n",
    "#plt.figure( figsize = ( 15, 15 ) )\n",
    "\n",
    "#make your plot:\n",
    "#plt.plot  (  ) \n",
    "#plt.plot  (  ) \n",
    "\n",
    "#add labels to it:\n",
    "\n",
    "\n",
    "#add your title:\n",
    "#plt.title( 'My first sin-cos plot', fontsize = 40 )\n",
    "\n",
    "\n",
    "#Limit the x-axis to 0-2 :\n",
    "\n",
    "\n",
    "#set the x-axis labels you want e.g., 0 to and including 2 with step 0.5 :\n",
    "\n",
    "#you can even flip your y axis to go from 1.2 to -1.2\n",
    "\n",
    "#set the y-axis labels to have a smaller step size:\n",
    "\n",
    "\n",
    "\n",
    "#plt.tick_params(axis='both',which='major',length=12,width=4,direction='inout')\n",
    "\n",
    "#plt.show()\n"
   ]
  },
  {
   "cell_type": "markdown",
   "metadata": {},
   "source": [
    "### you could even decide at some point that you don't want lines, just markers:\n"
   ]
  },
  {
   "cell_type": "code",
   "execution_count": null,
   "metadata": {},
   "outputs": [],
   "source": [
    "\n",
    "##define size of your figure:\n",
    "#plt.figure( figsize = ( 15, 15 ) )\n",
    "\n",
    "##make your plot:\n",
    "#plt.plot  ( x, y, color = 'forestgreen' , linestyle = 'none', \n",
    "#           linewidth = 4, label = 'sin' , marker = 'o' , markersize = 14 ) \n",
    "#plt.plot  ( x, z, color = 'magenta' , linestyle = 'none', \n",
    "#           linewidth = 4, label = 'cos' , marker = 'd' , markersize = 14 ) \n",
    "\n",
    "##add labels to it:\n",
    "#plt.xlabel( 't', fontsize = 30 )\n",
    "#plt.ylabel( 'Sin[2$\\pi$t]' , fontsize = 30 )\n",
    "\n",
    "##add your title:\n",
    "#plt.title( 'My first sin-cos plot', fontsize = 40 )\n",
    "\n",
    "##Increase the fontsize of the ticks\n",
    "#plt.yticks(fontsize = 30 )\n",
    "#plt.xticks(fontsize = 30 )\n",
    "\n",
    "##Limit the x-axis to 0-5:\n",
    "#plt.xlim(0,2)\n",
    "\n",
    "##set the x-axis labels you want:\n",
    "#plt.xticks( np.arange( 0, 2.1, 0.5 ) ,fontsize = 30 )\n",
    "\n",
    "##flip your y axis:\n",
    "#plt.ylim( -1.2, 1.2 )\n",
    "\n",
    "##set the y-axis labels to have a smaller step size:\n",
    "#plt.yticks( np.arange( -1.2, 1.3, step = 0.2 ) ,fontsize=30 ) \n",
    "\n",
    "\n",
    "#plt.tick_params(axis='both',which='major',length=12,width=4,direction='inout')\n",
    "\n"
   ]
  },
  {
   "cell_type": "code",
   "execution_count": null,
   "metadata": {},
   "outputs": [],
   "source": []
  },
  {
   "cell_type": "markdown",
   "metadata": {},
   "source": [
    "### A complete list of markers available can be found at: https://matplotlib.org/1.4.1/api/markers_api.html\n"
   ]
  },
  {
   "cell_type": "code",
   "execution_count": null,
   "metadata": {},
   "outputs": [],
   "source": []
  },
  {
   "cell_type": "code",
   "execution_count": null,
   "metadata": {},
   "outputs": [],
   "source": []
  },
  {
   "cell_type": "markdown",
   "metadata": {},
   "source": [
    "### Let’s read in our first data using numpy loadtxt and plot them. Dowmload first_data_read_plot.dat from Webcourses/demos and read it in with loadtxt "
   ]
  },
  {
   "cell_type": "code",
   "execution_count": null,
   "metadata": {},
   "outputs": [],
   "source": []
  },
  {
   "cell_type": "code",
   "execution_count": null,
   "metadata": {},
   "outputs": [],
   "source": [
    "# data_plot = "
   ]
  },
  {
   "cell_type": "markdown",
   "metadata": {},
   "source": [
    "### Try plotting it!"
   ]
  },
  {
   "cell_type": "code",
   "execution_count": null,
   "metadata": {},
   "outputs": [],
   "source": []
  },
  {
   "cell_type": "code",
   "execution_count": null,
   "metadata": {},
   "outputs": [],
   "source": []
  },
  {
   "cell_type": "markdown",
   "metadata": {},
   "source": [
    "### Remember that you can also use np.genfromtxt() to read in the data; let's try it\n"
   ]
  },
  {
   "cell_type": "code",
   "execution_count": null,
   "metadata": {},
   "outputs": [],
   "source": [
    "#data_2 = np.genfromtxt( \"first_data_read_plot.dat\", comments = \"#\" )"
   ]
  },
  {
   "cell_type": "code",
   "execution_count": null,
   "metadata": {},
   "outputs": [],
   "source": [
    "#print your data; print the first 5 lines for all columns:"
   ]
  },
  {
   "cell_type": "code",
   "execution_count": null,
   "metadata": {},
   "outputs": [],
   "source": [
    "# and data_2; print the last 5 columns:"
   ]
  },
  {
   "cell_type": "code",
   "execution_count": null,
   "metadata": {},
   "outputs": [],
   "source": [
    "##let's make our life easier by assigning the data/ columns to variables:\n"
   ]
  },
  {
   "cell_type": "code",
   "execution_count": null,
   "metadata": {},
   "outputs": [],
   "source": []
  },
  {
   "cell_type": "code",
   "execution_count": null,
   "metadata": {},
   "outputs": [],
   "source": [
    "# let's plot it:"
   ]
  },
  {
   "cell_type": "code",
   "execution_count": null,
   "metadata": {},
   "outputs": [],
   "source": [
    "# let's make it log-y version:\n",
    "\n",
    "\n"
   ]
  },
  {
   "cell_type": "code",
   "execution_count": null,
   "metadata": {},
   "outputs": [],
   "source": []
  },
  {
   "cell_type": "code",
   "execution_count": null,
   "metadata": {},
   "outputs": [],
   "source": []
  },
  {
   "cell_type": "markdown",
   "metadata": {},
   "source": [
    "### Let’s make a Gaussian, aka normal distribution. Start by using only 100 points, and then increase to  1,000 and 10,000\n"
   ]
  },
  {
   "cell_type": "code",
   "execution_count": null,
   "metadata": {},
   "outputs": [],
   "source": [
    "#mu , sigma = 0, 0.1 # mean and standard deviation of a Gaussian distribution\n",
    "#s = np.random.normal(mu, sigma, 100)   # try different values...do you understand why the plot changes?\n",
    "\n",
    "#plt.figure( figsize = (12, 12) )\n",
    "\n",
    "#plt.hist(s, 50, density = True, facecolor = 'b', alpha = 0.75 )\n",
    "\n",
    "#plt.xlabel( 'bins'                            , fontsize = 30 )\n",
    "#plt.ylabel( 'Gaussian Probability'            , fontsize = 30 )\n",
    "#plt.title( 'Histogram of Gaussian probability', fontsize = 30 )\n",
    "##plt.grid(True)\n",
    "#plt.xticks(fontsize=30)\n",
    "#plt.yticks(fontsize=30)\n"
   ]
  },
  {
   "cell_type": "code",
   "execution_count": null,
   "metadata": {},
   "outputs": [],
   "source": []
  },
  {
   "cell_type": "markdown",
   "metadata": {},
   "source": [
    "#### Now let’s turn interactive plotting on. In Jupyter type:\n",
    "\n",
    "%matplotlib \n",
    "\n",
    "in a script you need plt.ion(). \n",
    "\n",
    "To turn them off later use: \n",
    "\n",
    "%matplotlib inline and plt.ioff()respectively.\n"
   ]
  },
  {
   "cell_type": "code",
   "execution_count": null,
   "metadata": {},
   "outputs": [],
   "source": [
    "#%matplotlib"
   ]
  },
  {
   "cell_type": "markdown",
   "metadata": {},
   "source": [
    "### Make the same plot as above. An interactive window pops up. Use the magnifying glass to zoom in an area of the plot you want. Use the configuration tool to change the plot properties. When you like the plot, save it. \n"
   ]
  },
  {
   "cell_type": "code",
   "execution_count": null,
   "metadata": {},
   "outputs": [],
   "source": [
    "mu , sigma = 0, 0.1 # mean and standard deviation of a Gaussian distribution\n",
    "s = np.random.normal(mu, sigma, 100)\n",
    "\n",
    "plt.figure( figsize = (12, 12) )\n",
    "\n",
    "plt.hist(s, 50, density = True, facecolor = 'b', alpha = 0.75 )\n",
    "\n",
    "plt.xlabel( 'bins'                            , fontsize = 30 )\n",
    "plt.ylabel( 'Gaussian Probability'            , fontsize = 30 )\n",
    "plt.title( 'Histogram of Gaussian probability', fontsize = 30 )\n",
    "#plt.grid(True)\n",
    "plt.xticks(fontsize=30)\n",
    "plt.yticks(fontsize=30)\n"
   ]
  },
  {
   "cell_type": "code",
   "execution_count": null,
   "metadata": {},
   "outputs": [],
   "source": [
    "#%matplotlib inline"
   ]
  },
  {
   "cell_type": "code",
   "execution_count": null,
   "metadata": {},
   "outputs": [],
   "source": []
  },
  {
   "cell_type": "code",
   "execution_count": null,
   "metadata": {},
   "outputs": [],
   "source": []
  },
  {
   "cell_type": "markdown",
   "metadata": {},
   "source": [
    "### Let's also try a scatter plot, which you might need sometime"
   ]
  },
  {
   "cell_type": "code",
   "execution_count": null,
   "metadata": {},
   "outputs": [],
   "source": [
    "#let's first make our data. Example is based on matplotlib.org example of scatter plots\n",
    "\n",
    "# Fixing random state for reproducibility\n",
    "np.random.seed(19680801)\n",
    "\n",
    "\n",
    "N = 100\n",
    "x = np.random.rand(N)\n",
    "y = np.random.rand(N)\n",
    "colors = np.random.rand(N)\n"
   ]
  },
  {
   "cell_type": "code",
   "execution_count": null,
   "metadata": {},
   "outputs": [],
   "source": [
    "plt.figure ( figsize = ( 10, 10 ) )\n",
    "plt.scatter( x, y, c = 'red', alpha=0.5 )\n",
    "plt.xticks ( size = 30)\n",
    "plt.yticks ( size = 30)\n"
   ]
  },
  {
   "cell_type": "markdown",
   "metadata": {},
   "source": [
    "### but your data has extra layers of information! the color of each point and its size (could be e.g., color corresponds to % of test in given measurement bin and size to error bar of measurement or..... )"
   ]
  },
  {
   "cell_type": "code",
   "execution_count": null,
   "metadata": {},
   "outputs": [],
   "source": [
    "area = (30 * np.random.rand(N))**2  # 0 to 15 point radii\n"
   ]
  },
  {
   "cell_type": "code",
   "execution_count": null,
   "metadata": {},
   "outputs": [],
   "source": [
    "\n",
    "plt.figure ( figsize = ( 10, 10 ) )\n",
    "plt.scatter( x, y, c = colors , s = area, alpha=0.5 )\n",
    "plt.xticks ( size = 30)\n",
    "plt.yticks ( size = 30)"
   ]
  },
  {
   "cell_type": "code",
   "execution_count": null,
   "metadata": {},
   "outputs": [],
   "source": []
  },
  {
   "cell_type": "code",
   "execution_count": null,
   "metadata": {},
   "outputs": [],
   "source": []
  },
  {
   "cell_type": "markdown",
   "metadata": {},
   "source": [
    "### Finally, with matplolib you can also plot images and work with/on them. \n",
    "Download image from Webcouses/Files/demos and move it to your current folder."
   ]
  },
  {
   "cell_type": "code",
   "execution_count": null,
   "metadata": {},
   "outputs": [],
   "source": [
    "import matplotlib.image as mpimg"
   ]
  },
  {
   "cell_type": "code",
   "execution_count": null,
   "metadata": {},
   "outputs": [],
   "source": [
    "##read the image\n",
    "#img = mpimg.imread( 'jup_hst_nasa.png' )"
   ]
  },
  {
   "cell_type": "code",
   "execution_count": null,
   "metadata": {},
   "outputs": [],
   "source": [
    "##if you want to print the image:\n",
    "#print( img )\n"
   ]
  },
  {
   "cell_type": "code",
   "execution_count": null,
   "metadata": {},
   "outputs": [],
   "source": [
    "##or just show it directly:\n",
    "#imgplot = plt.imshow(img)\n"
   ]
  },
  {
   "cell_type": "code",
   "execution_count": null,
   "metadata": {},
   "outputs": [],
   "source": [
    "##now plot:\n",
    "limg = img[ :, :, 0]\n",
    "imgplot = plt.imshow( limg, cmap = 'RdYlBu' )\n",
    "plt.colorbar()\n"
   ]
  },
  {
   "cell_type": "code",
   "execution_count": null,
   "metadata": {},
   "outputs": [],
   "source": [
    "#then plot:\n",
    "limg = img[:, :, 1]\n",
    "imgplot = plt.imshow( limg, cmap = 'RdYlBu' )\n",
    "plt.colorbar()\n"
   ]
  },
  {
   "cell_type": "code",
   "execution_count": null,
   "metadata": {},
   "outputs": [],
   "source": [
    "#then plot:\n",
    "limg = img[:, :, 2]\n",
    "imgplot = plt.imshow( limg, cmap = 'RdYlBu' )\n",
    "plt.colorbar()\n"
   ]
  },
  {
   "cell_type": "markdown",
   "metadata": {},
   "source": [
    "#### Can you guess the difference? \n",
    "For a tutorial on other manipulations of an image see: https://matplotlib.org/3.1.1/tutorials/introductory/images.html#sphx-glr-tutorials-introductory-images-py "
   ]
  },
  {
   "cell_type": "code",
   "execution_count": null,
   "metadata": {},
   "outputs": [],
   "source": []
  },
  {
   "cell_type": "markdown",
   "metadata": {},
   "source": [
    "### Now let's try some more tricks we can do with plots. Let's go back to this one:"
   ]
  },
  {
   "cell_type": "code",
   "execution_count": null,
   "metadata": {},
   "outputs": [],
   "source": [
    "#### touching it up a bit:\n",
    "\n",
    "plt.figure( figsize = (15, 15 ) )\n",
    "plt.plot  ( x, y, color = 'red' , linestyle = '--', linewidth = 4) \n",
    "plt.xlabel( 't'                 , fontsize = 30 )\n",
    "plt.ylabel( 'Sin[ 2 $\\pi$ t ] ' , fontsize = 30 )\n",
    "plt.title( ' My first sin plot' , fontsize = 40 )\n",
    "plt.yticks( fontsize = 30 )\n",
    "plt.xticks( fontsize = 30 )\n",
    "plt.xlim( 10, 11 )\n",
    "\n",
    "plt.yticks( np.arange( -1.0, 1.2, step = 0.2 ) ,fontsize=30 ) \n",
    "plt.xticks( np.arange( 10, 11.1, 0.2 ) ,fontsize=30 )\n",
    "\n",
    "\n",
    "plt.tick_params(axis='both',which='major',length=12, width=4,direction='in')\n"
   ]
  },
  {
   "cell_type": "markdown",
   "metadata": {},
   "source": [
    "#### and you decide to add a text saying \"peak\" to the peak:"
   ]
  },
  {
   "cell_type": "code",
   "execution_count": null,
   "metadata": {},
   "outputs": [],
   "source": [
    "#### touching it up a bit with adding text 'Peak' @ x,y = 10.2, 1.05\n",
    "\n",
    "plt.figure( figsize = (15, 15 ) )\n",
    "plt.plot  ( x, y, color = 'red' , linestyle = '--', linewidth = 4) \n",
    "plt.xlabel( 't'                 , fontsize = 30 )\n",
    "plt.ylabel( 'Sin[ 2 $\\pi$ t ] ' , fontsize = 30 )\n",
    "plt.title( ' My first sin plot' , fontsize = 40 )\n",
    "plt.yticks( fontsize = 30 )\n",
    "plt.xticks( fontsize = 30 )\n",
    "plt.xlim( 10, 11 )\n",
    "\n",
    "plt.yticks( np.arange( -1.0, 1.3, step = 0.2 ) ,fontsize=30 ) \n",
    "plt.xticks( np.arange( 10, 11.1, 0.2 ) ,fontsize=30 )\n",
    "\n",
    "\n",
    "plt.tick_params(axis='both',which='major',length=12, width=4,direction='in')\n",
    "\n",
    "\n",
    "#add text:\n",
    "plt.text( 10.2 , 1.05, 'Peak',fontsize=30 )"
   ]
  },
  {
   "cell_type": "code",
   "execution_count": null,
   "metadata": {},
   "outputs": [],
   "source": [
    "#### touching it up a bit with adding text 'Peak' @ x,y = 10.2, 1.05\n",
    "\n",
    "#let's also annotate the trough \n",
    "\n",
    "plt.figure( figsize = (15, 15 ) )\n",
    "plt.plot  ( x, y, color = 'red' , linestyle = '--', linewidth = 4) \n",
    "plt.xlabel( 't'                 , fontsize = 30 )\n",
    "plt.ylabel( 'Sin[ 2 $\\pi$ t ] ' , fontsize = 30 )\n",
    "plt.title( ' My first sin plot' , fontsize = 40 )\n",
    "plt.yticks( fontsize = 30 )\n",
    "plt.xticks( fontsize = 30 )\n",
    "plt.xlim( 10, 11 )\n",
    "\n",
    "plt.yticks( np.arange( -1.0, 1.3, step = 0.2 ) ,fontsize=30 ) \n",
    "plt.xticks( np.arange( 10, 11.1, 0.2 ) ,fontsize=30 )\n",
    "\n",
    "\n",
    "plt.tick_params(axis='both',which='major',length=12, width=4,direction='in')\n",
    "\n",
    "\n",
    "#add text:\n",
    "plt.text( 10.2 , 1.05, 'Peak',fontsize=30 )\n",
    "\n",
    "# add arrow annotation:\n",
    "plt. annotate( 'trough', xy=(10.75, -.9 ), xytext=( 10.7 , -.6), fontsize = 30,\n",
    "            arrowprops=dict(facecolor='black', shrink=0.05),\n",
    "            )"
   ]
  },
  {
   "cell_type": "code",
   "execution_count": null,
   "metadata": {},
   "outputs": [],
   "source": [
    "plt.figure( figsize = (15, 15 ) )\n",
    "plt.plot  ( x, y, color = 'red' , linestyle = '--', linewidth = 4) \n",
    "plt.xlabel( 't'                 , fontsize = 30 )\n",
    "plt.ylabel( 'Sin[ 2 $\\pi$ t ] ' , fontsize = 30 )\n",
    "plt.title( ' My first sin plot' , fontsize = 40 )\n",
    "plt.yticks( fontsize = 30 )\n",
    "plt.xticks( fontsize = 30 )\n",
    "plt.xlim( 10, 11 )\n",
    "\n",
    "plt.yticks( np.arange( -1.0, 1.3, step = 0.2 ) ,fontsize=30 ) \n",
    "plt.xticks( np.arange( 10, 11.1, 0.2 ) ,fontsize=30 )\n",
    "\n",
    "\n",
    "plt.tick_params(axis='both',which='major',length=12, width=4,direction='in')\n",
    "\n",
    "\n",
    "#add text:\n",
    "plt.text( 10.2 , 1.05, 'Peak',fontsize=30 )\n",
    "\n",
    "# add arrow annotation:\n",
    "plt. annotate( 'trough', xy=(10.75, -.9 ), xytext=( 10.7 , -.6), fontsize = 30,\n",
    "            arrowprops=dict(facecolor='black', shrink=0.05),\n",
    "            )\n",
    "\n",
    "plt.text(\n",
    "    10.55, 0, \"Slope\", ha = \"center\", va = \"center\", rotation = -65, size = 30,\n",
    "    bbox = dict(boxstyle=\"darrow,pad=0.3\", fc=\"cyan\", ec = \"b\", lw = 2) )"
   ]
  },
  {
   "cell_type": "markdown",
   "metadata": {},
   "source": [
    "### You can find more option on how to annotate and upgrade your plots at matplotlib.org"
   ]
  },
  {
   "cell_type": "code",
   "execution_count": null,
   "metadata": {},
   "outputs": [],
   "source": []
  },
  {
   "cell_type": "markdown",
   "metadata": {},
   "source": [
    "### on Mar 22 we will see how you can make more advanced plots (subfigs, secondary x or y axis, multiple plots in one go etc). Stay tuned!"
   ]
  },
  {
   "cell_type": "code",
   "execution_count": null,
   "metadata": {},
   "outputs": [],
   "source": []
  },
  {
   "cell_type": "code",
   "execution_count": null,
   "metadata": {},
   "outputs": [],
   "source": []
  },
  {
   "cell_type": "code",
   "execution_count": null,
   "metadata": {},
   "outputs": [],
   "source": []
  },
  {
   "cell_type": "code",
   "execution_count": null,
   "metadata": {},
   "outputs": [],
   "source": []
  },
  {
   "cell_type": "code",
   "execution_count": null,
   "metadata": {},
   "outputs": [],
   "source": []
  },
  {
   "cell_type": "code",
   "execution_count": null,
   "metadata": {},
   "outputs": [],
   "source": []
  },
  {
   "cell_type": "code",
   "execution_count": null,
   "metadata": {},
   "outputs": [],
   "source": []
  },
  {
   "cell_type": "code",
   "execution_count": null,
   "metadata": {},
   "outputs": [],
   "source": []
  }
 ],
 "metadata": {
  "kernelspec": {
   "display_name": "Python 3 (ipykernel)",
   "language": "python",
   "name": "python3"
  },
  "language_info": {
   "codemirror_mode": {
    "name": "ipython",
    "version": 3
   },
   "file_extension": ".py",
   "mimetype": "text/x-python",
   "name": "python",
   "nbconvert_exporter": "python",
   "pygments_lexer": "ipython3",
   "version": "3.7.11"
  }
 },
 "nbformat": 4,
 "nbformat_minor": 2
}
