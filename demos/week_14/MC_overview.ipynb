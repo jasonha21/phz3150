{
 "cells": [
  {
   "cell_type": "markdown",
   "metadata": {},
   "source": [
    "# Reminders:\n",
    "\n",
    "## Tuesday no lecture: work on the project \n",
    "\n",
    "## Thursday 10am-12pm : work on the project in class. \n",
    "\n",
    "## Thursday 12pm final due; will discuss solutions in class 12-12:50pm. "
   ]
  },
  {
   "cell_type": "markdown",
   "metadata": {},
   "source": [
    "## -------------"
   ]
  },
  {
   "cell_type": "markdown",
   "metadata": {},
   "source": [
    "# Probabilities and Monte Carlo"
   ]
  },
  {
   "cell_type": "code",
   "execution_count": null,
   "metadata": {},
   "outputs": [],
   "source": []
  },
  {
   "cell_type": "code",
   "execution_count": 4,
   "metadata": {},
   "outputs": [],
   "source": [
    "import numpy as np\n",
    "import matplotlib.pyplot as plt\n",
    "import scipy\n",
    "from scipy.stats import norm\n",
    "from scipy.optimize import curve_fit"
   ]
  },
  {
   "cell_type": "markdown",
   "metadata": {},
   "source": [
    "## Monte Carlo (MC): repeated random sampling from your code to get a numerical result ; got its name from the casino of Monte Carlo\n",
    "\n"
   ]
  },
  {
   "cell_type": "markdown",
   "metadata": {},
   "source": [
    "### Traditional MC methods:\n",
    "- numerical integrations of functions that can be graphed and don’t have simple analytic solution \n",
    "- simulations of random variables using random samples from a uniform distribution \n",
    "- estimation of uncertainties in the best-fit parameters of analytical models used to fit data \n"
   ]
  },
  {
   "cell_type": "markdown",
   "metadata": {},
   "source": [
    "### The basic idea is that if you do repeated random sampling you can make numerical estimations of unknown parameters, like, e.g. :\n",
    "- you can use MC to calculate $\\pi$ (see below)\n",
    "- you can also use MC to do a numerical integration with random numbers (see below)\n",
    "- you can calculate the error bars for your best-fit model of a dataset (see below)"
   ]
  },
  {
   "cell_type": "markdown",
   "metadata": {},
   "source": [
    "### e.g., let's define the unit circle:\n"
   ]
  },
  {
   "cell_type": "code",
   "execution_count": 2,
   "metadata": {},
   "outputs": [],
   "source": [
    "R = 1 \n"
   ]
  },
  {
   "cell_type": "markdown",
   "metadata": {},
   "source": [
    "### draw a random 10,000,000 numbers for x and y in the range 0 to 1. Check if $x^2 + y^2 \\lesssim R^2$. If so, add one to your counter"
   ]
  },
  {
   "cell_type": "code",
   "execution_count": 5,
   "metadata": {},
   "outputs": [],
   "source": [
    "N = 10000000\n",
    "c = 0\n",
    "\n",
    "for i in range(0,N):\n",
    "    x = np.random.random()\n",
    "    y = np.random.random()\n",
    "    r = x ** 2 + y ** 2\n",
    "    if r<=1:\n",
    "        c+=1"
   ]
  },
  {
   "cell_type": "code",
   "execution_count": 6,
   "metadata": {},
   "outputs": [
    {
     "name": "stdout",
     "output_type": "stream",
     "text": [
      "7852904\n"
     ]
    }
   ],
   "source": [
    "# what is c?\n",
    "print( c )"
   ]
  },
  {
   "cell_type": "code",
   "execution_count": 7,
   "metadata": {},
   "outputs": [
    {
     "name": "stdout",
     "output_type": "stream",
     "text": [
      "0.7852904\n"
     ]
    }
   ],
   "source": [
    "# what is c/N?\n",
    "\n",
    "print( c / N )"
   ]
  },
  {
   "cell_type": "code",
   "execution_count": 8,
   "metadata": {},
   "outputs": [
    {
     "name": "stdout",
     "output_type": "stream",
     "text": [
      "3.1411616\n"
     ]
    }
   ],
   "source": [
    "# what is 4* c/N?\n",
    "print( 4 * c / N )"
   ]
  },
  {
   "cell_type": "markdown",
   "metadata": {},
   "source": [
    "### what happened here? Would it work with N = 100 or 1000? "
   ]
  },
  {
   "cell_type": "code",
   "execution_count": 9,
   "metadata": {},
   "outputs": [
    {
     "name": "stdout",
     "output_type": "stream",
     "text": [
      "3.28\n"
     ]
    }
   ],
   "source": [
    "N = 100\n",
    "c = 0\n",
    "\n",
    "for i in range(0,N):\n",
    "    x = np.random.random()\n",
    "    y = np.random.random()\n",
    "    r = x ** 2 + y ** 2\n",
    "    if r<=1:\n",
    "        c+=1\n",
    "        \n",
    "print( 4 * c / N )"
   ]
  },
  {
   "cell_type": "code",
   "execution_count": 10,
   "metadata": {},
   "outputs": [
    {
     "name": "stdout",
     "output_type": "stream",
     "text": [
      "3.156\n"
     ]
    }
   ],
   "source": [
    "N = 1000\n",
    "c = 0\n",
    "\n",
    "for i in range(0,N):\n",
    "    x = np.random.random()\n",
    "    y = np.random.random()\n",
    "    r = x ** 2 + y ** 2\n",
    "    if r<=1:\n",
    "        c+=1\n",
    "        \n",
    "print( 4 * c / N )"
   ]
  },
  {
   "cell_type": "markdown",
   "metadata": {},
   "source": [
    "### the larger the number of random points we sample the closer we are to the real value of $\\pi$"
   ]
  },
  {
   "cell_type": "code",
   "execution_count": null,
   "metadata": {},
   "outputs": [],
   "source": []
  },
  {
   "cell_type": "markdown",
   "metadata": {},
   "source": [
    "### We can also use MC for integration:"
   ]
  },
  {
   "cell_type": "markdown",
   "metadata": {},
   "source": [
    "### let's integrate $f(x) = \\int_0^1 e^x dx$"
   ]
  },
  {
   "cell_type": "markdown",
   "metadata": {},
   "source": [
    "### by hand you expect: $e^1 - e^0 =$"
   ]
  },
  {
   "cell_type": "code",
   "execution_count": 11,
   "metadata": {},
   "outputs": [
    {
     "name": "stdout",
     "output_type": "stream",
     "text": [
      "1.718281828459045\n"
     ]
    }
   ],
   "source": [
    "print( np.exp(1)- np.exp(0) )"
   ]
  },
  {
   "cell_type": "markdown",
   "metadata": {},
   "source": [
    "### I will use MC here; going for 5 different sample sizes in one go:"
   ]
  },
  {
   "cell_type": "code",
   "execution_count": 13,
   "metadata": {},
   "outputs": [
    {
     "name": "stdout",
     "output_type": "stream",
     "text": [
      "        10 1.629134\n",
      "       100 1.736439\n",
      "     10000 1.719656\n",
      "   1000000 1.718725\n",
      " 100000000 1.718217\n"
     ]
    }
   ],
   "source": [
    "for N in 10**np.array( [1, 2, 4, 6, 8 ] ):  #-->you can try to push it to a larger array; \n",
    "                                            # my laptop crashes (lack of RAM) after ~10^8\n",
    "\n",
    "    x = np.random.uniform( 0, 1, N )        #--> create an array of N random numbers between 0 and 1\n",
    "    \n",
    "    mean_val = np.mean( np.exp( x ) )         #--> get the mean value of the random  e^x\n",
    "    \n",
    "    print('%10d %.6f' % ( N, mean_val ) )"
   ]
  },
  {
   "cell_type": "markdown",
   "metadata": {},
   "source": [
    "### once again, the larger our random sample from which we draw is, the better our MC estimation for the integral"
   ]
  },
  {
   "cell_type": "code",
   "execution_count": null,
   "metadata": {},
   "outputs": [],
   "source": []
  },
  {
   "cell_type": "code",
   "execution_count": null,
   "metadata": {},
   "outputs": [],
   "source": []
  },
  {
   "cell_type": "markdown",
   "metadata": {},
   "source": [
    "### you can also use MC to approximate the Gaussian distribution:"
   ]
  },
  {
   "cell_type": "code",
   "execution_count": 14,
   "metadata": {},
   "outputs": [
    {
     "data": {
      "text/plain": [
       "[<matplotlib.lines.Line2D at 0x7f79380435d0>]"
      ]
     },
     "execution_count": 14,
     "metadata": {},
     "output_type": "execute_result"
    },
    {
     "data": {
      "image/png": "[encoded data removed]",
      "text/plain": [
       "<Figure size 864x576 with 1 Axes>"
      ]
     },
     "metadata": {
      "needs_background": "light"
     },
     "output_type": "display_data"
    }
   ],
   "source": [
    "# first make a real Gaussian for comparison:\n",
    "\n",
    "x = np.linspace(-1, 1, 1000 )\n",
    "\n",
    "mu    = 0.0\n",
    "sigma = 0.2\n",
    "\n",
    "\n",
    "# 1/sqrt(2*pi*sigma**2) * exp(-(x-mu)**2/(2*sigma**2))\n",
    "\n",
    "a1 = -( x - mu ) **2 / ( 2 * sigma **2 )\n",
    "a2 = 1 / np.sqrt(2 * np.pi * sigma**2 )\n",
    "\n",
    "\n",
    "plt.figure( figsize = (12 , 8) )\n",
    "plt.plot( x, a2 * np.exp( a1 ) )"
   ]
  },
  {
   "cell_type": "code",
   "execution_count": 15,
   "metadata": {},
   "outputs": [
    {
     "data": {
      "text/plain": [
       "[<matplotlib.lines.Line2D at 0x7f793864aa10>]"
      ]
     },
     "execution_count": 15,
     "metadata": {},
     "output_type": "execute_result"
    },
    {
     "data": {
      "image/png": "[encoded data removed]",
      "text/plain": [
       "<Figure size 864x576 with 1 Axes>"
      ]
     },
     "metadata": {
      "needs_background": "light"
     },
     "output_type": "display_data"
    }
   ],
   "source": [
    "#let's try with MC:\n",
    "\n",
    "data = np.random.normal(loc=mu, scale=sigma, size = 100) #--> experiment with small sample size; \n",
    "#the smaller (larger) it is  the further (close) you will be from (to) the real distrubution\n",
    "\n",
    "mean,std=norm.fit(data)\n",
    "\n",
    "plt.figure( figsize = ( 12, 8 ) )\n",
    "\n",
    "plt.hist(data, bins=30,  density=True, stacked=True)\n",
    "\n",
    "xmin, xmax = plt.xlim()\n",
    "\n",
    "x2 = np.linspace(xmin, xmax, 400)\n",
    "y = norm.pdf(x2, mean, std)\n",
    "plt.plot(x2, y, color = 'black', linewidth = 2)\n",
    "plt.plot(x, a2 * np.exp( a1 ),color = 'red',linestyle = '--', linewidth = 2)\n",
    "\n",
    "\n"
   ]
  },
  {
   "cell_type": "code",
   "execution_count": 16,
   "metadata": {},
   "outputs": [
    {
     "data": {
      "text/plain": [
       "[<matplotlib.lines.Line2D at 0x7f7938884390>]"
      ]
     },
     "execution_count": 16,
     "metadata": {},
     "output_type": "execute_result"
    },
    {
     "data": {
      "image/png": "[encoded data removed]",
      "text/plain": [
       "<Figure size 864x576 with 1 Axes>"
      ]
     },
     "metadata": {
      "needs_background": "light"
     },
     "output_type": "display_data"
    }
   ],
   "source": [
    "#let's try with MC:\n",
    "\n",
    "data = np.random.normal(loc=mu, scale=sigma, size = 800) #--> experiment with small sample size; \n",
    "#the smaller (larger) it is  the further (close) you will be from (to) the real distrubution\n",
    "\n",
    "mean,std=norm.fit(data)\n",
    "\n",
    "plt.figure( figsize = ( 12, 8 ) )\n",
    "\n",
    "plt.hist(data, bins=30, density=True, stacked=True)\n",
    "\n",
    "xmin, xmax = plt.xlim()\n",
    "\n",
    "x2 = np.linspace(xmin, xmax, 400)\n",
    "y = norm.pdf(x2, mean, std)\n",
    "plt.plot(x2, y, color = 'black', linewidth = 2)\n",
    "plt.plot(x, a2 * np.exp( a1 ),color = 'red',linestyle = '--', linewidth = 2)\n",
    "\n",
    "\n"
   ]
  },
  {
   "cell_type": "code",
   "execution_count": 18,
   "metadata": {},
   "outputs": [
    {
     "data": {
      "text/plain": [
       "[<matplotlib.lines.Line2D at 0x7f7938fa0750>]"
      ]
     },
     "execution_count": 18,
     "metadata": {},
     "output_type": "execute_result"
    },
    {
     "data": {
      "image/png": "[encoded data removed]",
      "text/plain": [
       "<Figure size 864x576 with 1 Axes>"
      ]
     },
     "metadata": {
      "needs_background": "light"
     },
     "output_type": "display_data"
    }
   ],
   "source": [
    "#let's try with MC:\n",
    "\n",
    "data = np.random.normal(loc=mu, scale=sigma, size = 10000) #--> experiment with small sample size; \n",
    "#the smaller (larger) it is  the further (close) you will be from (to) the real distrubution\n",
    "\n",
    "mean,std=norm.fit(data)\n",
    "\n",
    "plt.figure( figsize = ( 12, 8 ) )\n",
    "\n",
    "plt.hist(data, bins=30, density=True, stacked=True)\n",
    "\n",
    "xmin, xmax = plt.xlim()\n",
    "\n",
    "x2 = np.linspace(xmin, xmax, 400)\n",
    "y = norm.pdf(x2, mean, std)\n",
    "plt.plot(x2, y, color = 'black', linewidth = 2)\n",
    "plt.plot(x, a2 * np.exp( a1 ),color = 'red',linestyle = '--', linewidth = 2)\n",
    "\n",
    "\n"
   ]
  },
  {
   "cell_type": "markdown",
   "metadata": {},
   "source": [
    "### Now, assume we have some data we observed and we want to find our best-fit model like before, but also the uncertainty in our estimated best-fit parameters:\n",
    "- generate N synthetic \"observations\" based on your real observations \n",
    "- find best-fit parameters for your synth observations\n",
    "- find posterior distribution of your best-fit params ($a \\pm da$ )"
   ]
  },
  {
   "cell_type": "code",
   "execution_count": 19,
   "metadata": {},
   "outputs": [],
   "source": [
    "#dataset from our \"fitting_data\" class:\n",
    "t = np.arange(1,22,2)\n",
    "s = [ 11.80487185,  46.07654076 , 57.27329417 , 94.31029188, 146.48665845,\n",
    " 185.33660777, 236.5500788,  318.94164082, 388.45874659, 475.7783416,\n",
    " 555.86899163] "
   ]
  },
  {
   "cell_type": "code",
   "execution_count": 20,
   "metadata": {},
   "outputs": [],
   "source": [
    "def distance_with_acceleration_print(t, u, c, a):\n",
    "    \"\"\"Calculate the distance travelled with at a constant speed u for a known time\n",
    "    and constant acceleration a.\"\"\"\n",
    "    \n",
    "#    print (\"speed=\",u, \"acceleration=\",a, 'constant=',c)\n",
    "    return c + u* t + 0.5 * a * t**2 "
   ]
  },
  {
   "cell_type": "code",
   "execution_count": 21,
   "metadata": {},
   "outputs": [],
   "source": [
    "t2, v2 = curve_fit( distance_with_acceleration_print, t , s, \n",
    "                       absolute_sigma = True, sigma = np.zeros( len( t ) ) + 12 )\n"
   ]
  },
  {
   "cell_type": "code",
   "execution_count": 22,
   "metadata": {},
   "outputs": [
    {
     "data": {
      "text/plain": [
       "Text(0, 0.5, 'Distance')"
      ]
     },
     "execution_count": 22,
     "metadata": {},
     "output_type": "execute_result"
    },
    {
     "data": {
      "image/png": "[encoded data removed]",
      "text/plain": [
       "<Figure size 864x576 with 1 Axes>"
      ]
     },
     "metadata": {
      "needs_background": "light"
     },
     "output_type": "display_data"
    }
   ],
   "source": [
    "plt.figure( figsize = ( 12, 8 ) )\n",
    "\n",
    "plt.errorbar( t, s, yerr = 24., linestyle = 'none', marker='o', markersize = 8 )\n",
    "\n",
    "plt.plot( t, distance_with_acceleration_print( t, *t2), linestyle='-.', color='forestgreen',label ='scipy fit')\n",
    "\n",
    "plt.xticks(fontsize =20)\n",
    "plt.yticks(fontsize = 20)\n",
    "plt.legend(fontsize = 20)\n",
    "plt.xlabel('Time', fontsize = 24)\n",
    "plt.ylabel('Distance', fontsize = 24)\n",
    "\n"
   ]
  },
  {
   "cell_type": "code",
   "execution_count": 24,
   "metadata": {},
   "outputs": [
    {
     "name": "stdout",
     "output_type": "stream",
     "text": [
      "[ 5.22052118 10.93110039  1.99318001]\n"
     ]
    }
   ],
   "source": [
    "print( t2 )"
   ]
  },
  {
   "cell_type": "markdown",
   "metadata": {},
   "source": [
    "### good fit, but what are the uncertainties in our c, u and a?"
   ]
  },
  {
   "cell_type": "code",
   "execution_count": 25,
   "metadata": {},
   "outputs": [],
   "source": [
    "N_trials = 10000\n",
    "c_fits = np.array( [])"
   ]
  },
  {
   "cell_type": "code",
   "execution_count": 26,
   "metadata": {},
   "outputs": [],
   "source": [
    "for q in range( N_trials ):\n",
    "    x_test = np.random.uniform(1 , 22, len( t ))\n",
    "    y = 11. + 5.2 * x_test + 0.5 * 2. * x_test**2 \n",
    "    y_test = y + 0.3 * np.random.random( len (y ) ) \n",
    "    \n",
    "    try:\n",
    "        t3, v3 = curve_fit( distance_with_acceleration_print , \n",
    "                       x_test ,y_test ,absolute_sigma = True, sigma = np.zeros( len( t ) ) + 12) \n",
    "    #    print( [t1[0]] )\n",
    "    except:\n",
    "        continue\n",
    "    \n",
    "    if np.size( c_fits ) < 1:\n",
    "        c_fits = np.copy( t3 )\n",
    "    else:\n",
    "        c_fits = np.vstack(( c_fits, t3 ))\n",
    "#    u_fits = u_fits.extend( t1 [1] )\n",
    "#    a_fits = a_fits.extend( t1 [2] )"
   ]
  },
  {
   "cell_type": "code",
   "execution_count": 27,
   "metadata": {},
   "outputs": [
    {
     "data": {
      "text/plain": [
       "(10000, 3)"
      ]
     },
     "execution_count": 27,
     "metadata": {},
     "output_type": "execute_result"
    }
   ],
   "source": [
    "c_fits.shape"
   ]
  },
  {
   "cell_type": "code",
   "execution_count": 28,
   "metadata": {},
   "outputs": [
    {
     "name": "stdout",
     "output_type": "stream",
     "text": [
      "5.199989272314107 0.02577604456414913\n",
      "11.150099262237218 0.13940686153836548\n",
      "2.000000534017606 0.002187976579506431\n"
     ]
    }
   ],
   "source": [
    "print( np.mean( c_fits[ :, 0 ] ), np.std( c_fits[ :, 0 ] ) )\n",
    "print( np.mean( c_fits[ :, 1 ] ), np.std( c_fits[ :, 1 ] ) )\n",
    "print( np.mean( c_fits[ :, 2 ] ), np.std( c_fits[ :, 2 ] ) )"
   ]
  },
  {
   "cell_type": "code",
   "execution_count": 29,
   "metadata": {},
   "outputs": [
    {
     "data": {
      "text/plain": [
       "(array([   0.,  250.,  500.,  750., 1000., 1250., 1500., 1750., 2000.]),\n",
       " [Text(0, 0, ''),\n",
       "  Text(0, 0, ''),\n",
       "  Text(0, 0, ''),\n",
       "  Text(0, 0, ''),\n",
       "  Text(0, 0, ''),\n",
       "  Text(0, 0, ''),\n",
       "  Text(0, 0, ''),\n",
       "  Text(0, 0, ''),\n",
       "  Text(0, 0, '')])"
      ]
     },
     "execution_count": 29,
     "metadata": {},
     "output_type": "execute_result"
    },
    {
     "data": {
      "image/png": "[encoded data removed]",
      "text/plain": [
       "<Figure size 432x432 with 1 Axes>"
      ]
     },
     "metadata": {
      "needs_background": "light"
     },
     "output_type": "display_data"
    }
   ],
   "source": [
    "plt.figure( figsize = ( 6, 6 ) )\n",
    "plt.hist( c_fits[ :, 0 ], bins = 40 )\n",
    "plt.xlabel('u [ m/s ]', fontsize = 34 )\n",
    "plt.ylabel('N ', fontsize = 34 )\n",
    "plt.xticks( fontsize = 24 )\n",
    "plt.yticks( fontsize = 24 )"
   ]
  },
  {
   "cell_type": "code",
   "execution_count": 31,
   "metadata": {},
   "outputs": [
    {
     "data": {
      "text/plain": [
       "(array([   0.,  250.,  500.,  750., 1000., 1250., 1500., 1750., 2000.]),\n",
       " [Text(0, 0, ''),\n",
       "  Text(0, 0, ''),\n",
       "  Text(0, 0, ''),\n",
       "  Text(0, 0, ''),\n",
       "  Text(0, 0, ''),\n",
       "  Text(0, 0, ''),\n",
       "  Text(0, 0, ''),\n",
       "  Text(0, 0, ''),\n",
       "  Text(0, 0, '')])"
      ]
     },
     "execution_count": 31,
     "metadata": {},
     "output_type": "execute_result"
    },
    {
     "data": {
      "image/png": "[encoded data removed]",
      "text/plain": [
       "<Figure size 864x432 with 1 Axes>"
      ]
     },
     "metadata": {
      "needs_background": "light"
     },
     "output_type": "display_data"
    }
   ],
   "source": [
    "plt.figure( figsize = ( 12,6 ) )\n",
    "plt.hist( c_fits[ :, 2 ], bins = 40 )\n",
    "plt.xlabel('a [m/$s^2$]', fontsize = 34 )\n",
    "plt.ylabel('N ', fontsize = 34 )\n",
    "plt.xticks( fontsize = 24 )\n",
    "plt.yticks( fontsize = 24 )"
   ]
  },
  {
   "cell_type": "code",
   "execution_count": null,
   "metadata": {},
   "outputs": [],
   "source": []
  },
  {
   "cell_type": "code",
   "execution_count": null,
   "metadata": {},
   "outputs": [],
   "source": []
  },
  {
   "cell_type": "code",
   "execution_count": null,
   "metadata": {},
   "outputs": [],
   "source": []
  },
  {
   "cell_type": "code",
   "execution_count": null,
   "metadata": {},
   "outputs": [],
   "source": []
  },
  {
   "cell_type": "markdown",
   "metadata": {},
   "source": [
    "### Markov Chain Monte Carlo"
   ]
  },
  {
   "cell_type": "markdown",
   "metadata": {},
   "source": [
    "#### A very brief overview of MCMC\n",
    "- random walk/ change of a variable that you want to fit\n",
    "- allow a parameter to vary in a 'random' way but every step depends *only* on the step before and the ones that came before that\n",
    "- there is a probability that a given step can happen ; figure out which steps are visited not too often, which are happening all the time\n",
    "- try multiple starting points; make sure you have enough steps in your chain to lose info of the start *and* be able to explore enough parameter space for each variable\n",
    "- Bayesian priors & posterior distributions\n"
   ]
  },
  {
   "cell_type": "markdown",
   "metadata": {},
   "source": [
    "<img src=\"../plots/mcmc_corner.png\" width=350 height=150 />\n",
    "source: https://emcee.readthedocs.io/en/stable/tutorials/line/"
   ]
  },
  {
   "cell_type": "markdown",
   "metadata": {},
   "source": [
    "### if you want to delve into the topic UCF has courses you can follow (e.g., MAP6469 )"
   ]
  },
  {
   "cell_type": "markdown",
   "metadata": {},
   "source": [
    "# ----------------------------"
   ]
  },
  {
   "cell_type": "markdown",
   "metadata": {},
   "source": [
    "## Overview lecture"
   ]
  },
  {
   "cell_type": "code",
   "execution_count": null,
   "metadata": {},
   "outputs": [],
   "source": []
  },
  {
   "cell_type": "markdown",
   "metadata": {},
   "source": [
    "### A couple of highlights before we go in details:\n",
    "\n",
    "- Python is an intuitive language: most commands are exactly what you would say (list--> list; print--> print(); interpolate --> interp; etc)\n",
    "- Unlike other languages (e.g., C, FORTRAN) Python is interpreted (no compiler needed)\n",
    "- Has no declarations \n",
    "- Does the memory management under the hood \n",
    "- Widely used in science and industry, so it has a lot of already developed routines for numerical and science problems\n",
    "- It's free!\n",
    "- Can easily interact with modules from other languages (C/Fortran)\n",
    "- Can do network programming, encryption, databases, ML --> super useful in industry and science!\n",
    "- Python has a wealth of functions to do what you want (numpy, scipy ....)\n",
    "\n",
    "\n",
    "### Most of the things you want to do have probably already been done by someone. If you are stuck, don't try to reinvent the wheel: search python.org, numpy.org, scipy.org, matplolib.org, stackoverflow.com etc for a solution from someone else\n"
   ]
  },
  {
   "cell_type": "code",
   "execution_count": null,
   "metadata": {},
   "outputs": [],
   "source": []
  },
  {
   "cell_type": "markdown",
   "metadata": {},
   "source": [
    "### Import all the packages you need at the start of your code"
   ]
  },
  {
   "cell_type": "code",
   "execution_count": 29,
   "metadata": {},
   "outputs": [],
   "source": [
    "import numpy as np\n",
    "import matplotlib.pyplot as plt"
   ]
  },
  {
   "cell_type": "markdown",
   "metadata": {},
   "source": [
    "### sometimes you might not need the whole package, but one function out of it:"
   ]
  },
  {
   "cell_type": "code",
   "execution_count": 30,
   "metadata": {},
   "outputs": [],
   "source": [
    "from scipy.stats import chisquare"
   ]
  },
  {
   "cell_type": "markdown",
   "metadata": {},
   "source": [
    "### or you might want to import functions from a .py file you stored them in:"
   ]
  },
  {
   "cell_type": "code",
   "execution_count": 168,
   "metadata": {},
   "outputs": [],
   "source": [
    "from FtoC import FtoC\n",
    "# from my_supoort_functions import function1, function2\n",
    "# from hwN_support_funct import *"
   ]
  },
  {
   "cell_type": "code",
   "execution_count": null,
   "metadata": {},
   "outputs": [],
   "source": []
  },
  {
   "cell_type": "markdown",
   "metadata": {},
   "source": [
    "## A) Keeping a good work log is good practice. Also important for coding is to keep good comments in your code:"
   ]
  },
  {
   "cell_type": "markdown",
   "metadata": {},
   "source": [
    "### compare this:"
   ]
  },
  {
   "cell_type": "code",
   "execution_count": 32,
   "metadata": {},
   "outputs": [],
   "source": [
    "a = 5 * np.arange( 20 )\n",
    "b = 0.5 * a + np.arange( 20 )**2. * 1e-2\n",
    "c = 100.    + np.linspace( 1, 30, 100 )\n",
    "d = np.interp( c, a, b )"
   ]
  },
  {
   "cell_type": "markdown",
   "metadata": {},
   "source": [
    "### with this:"
   ]
  },
  {
   "cell_type": "code",
   "execution_count": 33,
   "metadata": {},
   "outputs": [],
   "source": [
    "# get the x and y observations:\n",
    "a = 5 * np.arange( 20 )\n",
    "b = 0.5 * a + np.arange( 20 )**2. * 1e-2\n",
    "\n",
    "# get the new x grid:\n",
    "c = 100.    + np.linspace( 1, 30, 100 )\n",
    "\n",
    "# interpolate y to the new x grid:\n",
    "d = np.interp( c, a, b )"
   ]
  },
  {
   "cell_type": "code",
   "execution_count": null,
   "metadata": {},
   "outputs": [],
   "source": []
  },
  {
   "cell_type": "markdown",
   "metadata": {},
   "source": [
    "## B) Python has objects that are mutable: lists, numpy arrays, dictionaries  ; \n",
    "###                                               and immutable: tuples, strings. "
   ]
  },
  {
   "cell_type": "markdown",
   "metadata": {},
   "source": [
    "### B1) numpy arrays:"
   ]
  },
  {
   "cell_type": "code",
   "execution_count": 34,
   "metadata": {},
   "outputs": [],
   "source": [
    "a = np.linspace( 2, 3, 10)\n",
    "\n",
    "b = np.arange( 2, 3, 0.2)\n",
    "\n",
    "c = np. zeros( 5 )\n",
    "\n",
    "d = np.zeros ( ( 2, 3) ) # remember, if we need 2D+ we need an extra ()"
   ]
  },
  {
   "cell_type": "code",
   "execution_count": 35,
   "metadata": {},
   "outputs": [
    {
     "name": "stdout",
     "output_type": "stream",
     "text": [
      "[2.         2.11111111 2.22222222 2.33333333 2.44444444 2.55555556\n",
      " 2.66666667 2.77777778 2.88888889 3.        ]\n"
     ]
    }
   ],
   "source": [
    "print( a )"
   ]
  },
  {
   "cell_type": "code",
   "execution_count": 36,
   "metadata": {},
   "outputs": [
    {
     "name": "stdout",
     "output_type": "stream",
     "text": [
      "[2.  2.2 2.4 2.6 2.8]\n"
     ]
    }
   ],
   "source": [
    "print( b )"
   ]
  },
  {
   "cell_type": "code",
   "execution_count": 37,
   "metadata": {},
   "outputs": [
    {
     "name": "stdout",
     "output_type": "stream",
     "text": [
      "[0. 0. 0. 0. 0.]\n"
     ]
    }
   ],
   "source": [
    "print( c )"
   ]
  },
  {
   "cell_type": "code",
   "execution_count": 38,
   "metadata": {},
   "outputs": [
    {
     "name": "stdout",
     "output_type": "stream",
     "text": [
      "[[0. 0. 0.]\n",
      " [0. 0. 0.]]\n"
     ]
    }
   ],
   "source": [
    "print( d )"
   ]
  },
  {
   "cell_type": "markdown",
   "metadata": {},
   "source": [
    "### what does it means that they are mutable?"
   ]
  },
  {
   "cell_type": "code",
   "execution_count": 41,
   "metadata": {},
   "outputs": [
    {
     "name": "stdout",
     "output_type": "stream",
     "text": [
      "[[1. 2. 3.]\n",
      " [1. 2. 3.]]\n"
     ]
    }
   ],
   "source": [
    "d[ :, 0 ] = 1\n",
    "d[ :, 1 ] = 2\n",
    "d[ :, 2 ] = 3\n",
    "print( d )"
   ]
  },
  {
   "cell_type": "code",
   "execution_count": null,
   "metadata": {},
   "outputs": [],
   "source": []
  },
  {
   "cell_type": "code",
   "execution_count": null,
   "metadata": {},
   "outputs": [],
   "source": []
  },
  {
   "cell_type": "markdown",
   "metadata": {},
   "source": [
    "### B2) lists:"
   ]
  },
  {
   "cell_type": "code",
   "execution_count": 50,
   "metadata": {},
   "outputs": [],
   "source": [
    "this_is_empty_list = []"
   ]
  },
  {
   "cell_type": "code",
   "execution_count": 51,
   "metadata": {},
   "outputs": [
    {
     "name": "stdout",
     "output_type": "stream",
     "text": [
      "140266253322912\n"
     ]
    }
   ],
   "source": [
    "this_is_another_list= [ 5 ]\n",
    "print( id( this_is_another_list ) )"
   ]
  },
  {
   "cell_type": "code",
   "execution_count": 52,
   "metadata": {},
   "outputs": [
    {
     "name": "stdout",
     "output_type": "stream",
     "text": [
      "[] [5]\n"
     ]
    }
   ],
   "source": [
    "print( this_is_empty_list, this_is_another_list )"
   ]
  },
  {
   "cell_type": "markdown",
   "metadata": {},
   "source": [
    "### now I want to start populating the empty list for locations i = 0 to 5 with i**2:"
   ]
  },
  {
   "cell_type": "code",
   "execution_count": 53,
   "metadata": {},
   "outputs": [],
   "source": [
    "for i in range( 6 ):\n",
    "    this_is_empty_list.append( i**2 )"
   ]
  },
  {
   "cell_type": "code",
   "execution_count": 54,
   "metadata": {},
   "outputs": [
    {
     "name": "stdout",
     "output_type": "stream",
     "text": [
      "[0, 1, 4, 9, 16, 25]\n"
     ]
    }
   ],
   "source": [
    "print( this_is_empty_list )"
   ]
  },
  {
   "cell_type": "markdown",
   "metadata": {},
   "source": [
    "### and I want to add this list as two elements to end of the another_list  [ 6, 7 ] :"
   ]
  },
  {
   "cell_type": "code",
   "execution_count": 55,
   "metadata": {},
   "outputs": [],
   "source": [
    "this_is_another_list.extend( [ 6,7 ] )"
   ]
  },
  {
   "cell_type": "code",
   "execution_count": 56,
   "metadata": {},
   "outputs": [
    {
     "name": "stdout",
     "output_type": "stream",
     "text": [
      "140266253322912\n"
     ]
    }
   ],
   "source": [
    "print( id( this_is_another_list ) )"
   ]
  },
  {
   "cell_type": "code",
   "execution_count": null,
   "metadata": {},
   "outputs": [],
   "source": []
  },
  {
   "cell_type": "markdown",
   "metadata": {},
   "source": [
    "### B3) dictionaries:"
   ]
  },
  {
   "cell_type": "code",
   "execution_count": 62,
   "metadata": {},
   "outputs": [],
   "source": [
    "my_empty_dict = {}"
   ]
  },
  {
   "cell_type": "code",
   "execution_count": 63,
   "metadata": {},
   "outputs": [],
   "source": [
    "my_other_dict = {'Mary': 2 }"
   ]
  },
  {
   "cell_type": "code",
   "execution_count": 64,
   "metadata": {},
   "outputs": [
    {
     "name": "stdout",
     "output_type": "stream",
     "text": [
      "140266260167728\n",
      "{}\n",
      "{'test 1': 5.0, 'test 2': 10.0}\n",
      "140266260167728\n"
     ]
    }
   ],
   "source": [
    "print( id( my_empty_dict ) )\n",
    "print( my_empty_dict )\n",
    "\n",
    "my_empty_dict['test 1']  = 5.\n",
    "my_empty_dict['test 2']  = 10.\n",
    "\n",
    "print( my_empty_dict )\n",
    "print( id( my_empty_dict ) )"
   ]
  },
  {
   "cell_type": "code",
   "execution_count": 65,
   "metadata": {},
   "outputs": [
    {
     "name": "stdout",
     "output_type": "stream",
     "text": [
      "{'Mary': 2, 'George': 7}\n"
     ]
    }
   ],
   "source": [
    "my_other_dict[ 'George' ] = 7\n",
    "\n",
    "print( my_other_dict )"
   ]
  },
  {
   "cell_type": "markdown",
   "metadata": {},
   "source": [
    "### What if I want to loop over the elements of the dictionary using their key words?"
   ]
  },
  {
   "cell_type": "code",
   "execution_count": 67,
   "metadata": {},
   "outputs": [
    {
     "name": "stdout",
     "output_type": "stream",
     "text": [
      "Mary 2\n",
      "George 7\n"
     ]
    }
   ],
   "source": [
    "for key in my_other_dict:\n",
    "    print( key, my_other_dict[ key ] )"
   ]
  },
  {
   "cell_type": "code",
   "execution_count": 69,
   "metadata": {},
   "outputs": [
    {
     "name": "stdout",
     "output_type": "stream",
     "text": [
      "test 1 5.0\n",
      "test 2 10.0\n"
     ]
    }
   ],
   "source": [
    "for key, value in my_empty_dict.items():\n",
    "    print( key, value )"
   ]
  },
  {
   "cell_type": "code",
   "execution_count": 71,
   "metadata": {},
   "outputs": [
    {
     "name": "stdout",
     "output_type": "stream",
     "text": [
      "dict_values([5.0, 10.0])\n"
     ]
    }
   ],
   "source": [
    "print( my_empty_dict.values( ) )"
   ]
  },
  {
   "cell_type": "code",
   "execution_count": 72,
   "metadata": {},
   "outputs": [
    {
     "name": "stdout",
     "output_type": "stream",
     "text": [
      "dict_keys(['test 1', 'test 2'])\n"
     ]
    }
   ],
   "source": [
    "print( my_empty_dict.keys( ) )"
   ]
  },
  {
   "cell_type": "code",
   "execution_count": 70,
   "metadata": {},
   "outputs": [
    {
     "name": "stdout",
     "output_type": "stream",
     "text": [
      "dict_items([('test 1', 5.0), ('test 2', 10.0)])\n"
     ]
    }
   ],
   "source": [
    "print( my_empty_dict.items( ) )"
   ]
  },
  {
   "cell_type": "markdown",
   "metadata": {},
   "source": [
    "### What if I have a list of names, and I want to check if the corresponding value exists in my dictionary?"
   ]
  },
  {
   "cell_type": "code",
   "execution_count": 74,
   "metadata": {},
   "outputs": [
    {
     "name": "stdout",
     "output_type": "stream",
     "text": [
      "Mary 2\n"
     ]
    }
   ],
   "source": [
    "person = [ 'Mike', 'Mary', 'Peter' ]\n",
    "\n",
    "for i in person:\n",
    "    for key in my_other_dict:\n",
    "        if key == i:\n",
    "            print( key, my_other_dict[ key ] )"
   ]
  },
  {
   "cell_type": "code",
   "execution_count": null,
   "metadata": {},
   "outputs": [],
   "source": []
  },
  {
   "cell_type": "markdown",
   "metadata": {},
   "source": [
    "### B4) tuples:"
   ]
  },
  {
   "cell_type": "code",
   "execution_count": 79,
   "metadata": {},
   "outputs": [],
   "source": [
    "my_empty_tuple = ()"
   ]
  },
  {
   "cell_type": "code",
   "execution_count": 80,
   "metadata": {},
   "outputs": [],
   "source": [
    "my_tuple = ( 3, 2, 1 )"
   ]
  },
  {
   "cell_type": "code",
   "execution_count": 81,
   "metadata": {},
   "outputs": [
    {
     "name": "stdout",
     "output_type": "stream",
     "text": [
      "140267808206928\n",
      "140266266121936\n"
     ]
    }
   ],
   "source": [
    "print( id( my_empty_tuple) )\n",
    "\n",
    "my_empty_tuple = ( 5, )\n",
    "\n",
    "print( id( my_empty_tuple ) )"
   ]
  },
  {
   "cell_type": "code",
   "execution_count": 82,
   "metadata": {},
   "outputs": [
    {
     "name": "stdout",
     "output_type": "stream",
     "text": [
      "(5,)\n"
     ]
    }
   ],
   "source": [
    "print( my_empty_tuple )"
   ]
  },
  {
   "cell_type": "code",
   "execution_count": 83,
   "metadata": {},
   "outputs": [
    {
     "ename": "TypeError",
     "evalue": "'tuple' object does not support item assignment",
     "output_type": "error",
     "traceback": [
      "\u001b[0;31m---------------------------------------------------------------------------\u001b[0m",
      "\u001b[0;31mTypeError\u001b[0m                                 Traceback (most recent call last)",
      "\u001b[0;32m/var/folders/vk/lzczn8j541jbb03xcymwp9640000gn/T/ipykernel_7169/1411697431.py\u001b[0m in \u001b[0;36m<module>\u001b[0;34m\u001b[0m\n\u001b[0;32m----> 1\u001b[0;31m \u001b[0mmy_tuple\u001b[0m\u001b[0;34m[\u001b[0m \u001b[0;36m2\u001b[0m \u001b[0;34m]\u001b[0m \u001b[0;34m=\u001b[0m \u001b[0;34m-\u001b[0m\u001b[0;36m3\u001b[0m\u001b[0;34m\u001b[0m\u001b[0;34m\u001b[0m\u001b[0m\n\u001b[0m",
      "\u001b[0;31mTypeError\u001b[0m: 'tuple' object does not support item assignment"
     ]
    }
   ],
   "source": [
    "my_tuple[ 2 ] = -3 "
   ]
  },
  {
   "cell_type": "code",
   "execution_count": null,
   "metadata": {},
   "outputs": [],
   "source": []
  },
  {
   "cell_type": "markdown",
   "metadata": {},
   "source": [
    "### B5) strings:"
   ]
  },
  {
   "cell_type": "code",
   "execution_count": 75,
   "metadata": {},
   "outputs": [],
   "source": [
    "my_string = 'my oh my'"
   ]
  },
  {
   "cell_type": "code",
   "execution_count": 76,
   "metadata": {},
   "outputs": [
    {
     "name": "stdout",
     "output_type": "stream",
     "text": [
      "my oh my\n",
      "140266260630896\n"
     ]
    }
   ],
   "source": [
    "print( my_string ) \n",
    "print( id( my_string ) )"
   ]
  },
  {
   "cell_type": "code",
   "execution_count": 77,
   "metadata": {},
   "outputs": [
    {
     "name": "stdout",
     "output_type": "stream",
     "text": [
      "my oh my, what a day!\n",
      "140266254643968\n"
     ]
    }
   ],
   "source": [
    "my_string = my_string + ', what a day!'\n",
    "\n",
    "print( my_string ) \n",
    "print( id( my_string ) )"
   ]
  },
  {
   "cell_type": "markdown",
   "metadata": {},
   "source": [
    "#### but, I can still slice it:"
   ]
  },
  {
   "cell_type": "code",
   "execution_count": 78,
   "metadata": {},
   "outputs": [
    {
     "data": {
      "text/plain": [
       "'my oh'"
      ]
     },
     "execution_count": 78,
     "metadata": {},
     "output_type": "execute_result"
    }
   ],
   "source": [
    "my_string[ : 5 ]"
   ]
  },
  {
   "cell_type": "code",
   "execution_count": null,
   "metadata": {},
   "outputs": [],
   "source": []
  },
  {
   "cell_type": "markdown",
   "metadata": {},
   "source": [
    "## C) Slicing"
   ]
  },
  {
   "cell_type": "markdown",
   "metadata": {},
   "source": [
    "### Every time you want to access part of your array, list, tuple etc you are slicing your array,....\n",
    "\n",
    "### Important to remember: \n",
    "- Python starts counting from 0!\n",
    "- when slicing you START_AT : UP_TO_AND_NOT_INCLUDING: WITH_A_STEP_OF\n",
    "- if you leave the START or UP_TO empty it is going from start, or to end of array/list/.."
   ]
  },
  {
   "cell_type": "markdown",
   "metadata": {},
   "source": [
    "### 1D/ 2D/3D/ND cases:\n",
    "\n",
    " - 1D case"
   ]
  },
  {
   "cell_type": "code",
   "execution_count": 56,
   "metadata": {},
   "outputs": [],
   "source": [
    "my_list = [ 1, 2, 3, 4, 10, 12, 14, 16 ]"
   ]
  },
  {
   "cell_type": "code",
   "execution_count": 57,
   "metadata": {},
   "outputs": [
    {
     "name": "stdout",
     "output_type": "stream",
     "text": [
      "[3, 4, 10]\n",
      "16\n"
     ]
    }
   ],
   "source": [
    "# get elements 3, 4, 10 ; then get element 16:\n",
    "\n",
    "print( my_list[ 2: 5 ]  )\n",
    "print( my_list[ 7 ] )"
   ]
  },
  {
   "cell_type": "code",
   "execution_count": 58,
   "metadata": {},
   "outputs": [
    {
     "name": "stdout",
     "output_type": "stream",
     "text": [
      "[2, 4, 12, 16]\n"
     ]
    }
   ],
   "source": [
    "# get elements starting from 2, with a step of 2:\n",
    "\n",
    "print( my_list[ 1: : 2 ])"
   ]
  },
  {
   "cell_type": "code",
   "execution_count": null,
   "metadata": {},
   "outputs": [],
   "source": []
  },
  {
   "cell_type": "markdown",
   "metadata": {},
   "source": [
    " - 2D case"
   ]
  },
  {
   "cell_type": "code",
   "execution_count": null,
   "metadata": {},
   "outputs": [],
   "source": []
  },
  {
   "cell_type": "code",
   "execution_count": 3,
   "metadata": {},
   "outputs": [],
   "source": [
    "twodim_array = np.reshape( np.linspace( 1, 10, 24 ), (4,6) )"
   ]
  },
  {
   "cell_type": "code",
   "execution_count": 4,
   "metadata": {},
   "outputs": [
    {
     "name": "stdout",
     "output_type": "stream",
     "text": [
      "[[ 1.          1.39130435  1.7826087   2.17391304  2.56521739  2.95652174]\n",
      " [ 3.34782609  3.73913043  4.13043478  4.52173913  4.91304348  5.30434783]\n",
      " [ 5.69565217  6.08695652  6.47826087  6.86956522  7.26086957  7.65217391]\n",
      " [ 8.04347826  8.43478261  8.82608696  9.2173913   9.60869565 10.        ]]\n"
     ]
    }
   ],
   "source": [
    "print( twodim_array )"
   ]
  },
  {
   "cell_type": "markdown",
   "metadata": {},
   "source": [
    "#### let's slice 2D the array"
   ]
  },
  {
   "cell_type": "code",
   "execution_count": 5,
   "metadata": {},
   "outputs": [
    {
     "name": "stdout",
     "output_type": "stream",
     "text": [
      "[1.         1.39130435 1.7826087  2.17391304 2.56521739 2.95652174]\n"
     ]
    }
   ],
   "source": [
    "# get the data of the first line :\n",
    "\n",
    "print( twodim_array[ 0, : ] )"
   ]
  },
  {
   "cell_type": "code",
   "execution_count": 6,
   "metadata": {},
   "outputs": [
    {
     "name": "stdout",
     "output_type": "stream",
     "text": [
      "[1.39130435 3.73913043 6.08695652 8.43478261]\n"
     ]
    }
   ],
   "source": [
    "# get the data of the second column:\n",
    "\n",
    "print( twodim_array[ :, 1 ] )"
   ]
  },
  {
   "cell_type": "code",
   "execution_count": 7,
   "metadata": {
    "scrolled": true
   },
   "outputs": [
    {
     "name": "stdout",
     "output_type": "stream",
     "text": [
      "[[3.73913043 4.13043478 4.52173913]\n",
      " [6.08695652 6.47826087 6.86956522]]\n"
     ]
    }
   ],
   "source": [
    "# get the data :\n",
    "# 3.73913043  4.13043478  4.52173913\n",
    "# 6.08695652  6.47826087  6.86956522\n",
    "\n",
    "print( twodim_array[ 1:3, 1:4 ] )"
   ]
  },
  {
   "cell_type": "code",
   "execution_count": null,
   "metadata": {},
   "outputs": [],
   "source": []
  },
  {
   "cell_type": "markdown",
   "metadata": {},
   "source": [
    " - 3D case"
   ]
  },
  {
   "cell_type": "code",
   "execution_count": 69,
   "metadata": {},
   "outputs": [],
   "source": [
    "threedim_array = np.reshape( np.linspace( 1, 10, 36 ), (3, 4, 3 ) )"
   ]
  },
  {
   "cell_type": "code",
   "execution_count": 70,
   "metadata": {},
   "outputs": [
    {
     "data": {
      "text/plain": [
       "(3, 4, 3)"
      ]
     },
     "execution_count": 70,
     "metadata": {},
     "output_type": "execute_result"
    }
   ],
   "source": [
    "threedim_array.shape"
   ]
  },
  {
   "cell_type": "markdown",
   "metadata": {},
   "source": [
    "#### let's get all data for x = 0 ; what shape do you expect it to have?"
   ]
  },
  {
   "cell_type": "code",
   "execution_count": 71,
   "metadata": {},
   "outputs": [
    {
     "name": "stdout",
     "output_type": "stream",
     "text": [
      "[[1.         1.25714286 1.51428571]\n",
      " [1.77142857 2.02857143 2.28571429]\n",
      " [2.54285714 2.8        3.05714286]\n",
      " [3.31428571 3.57142857 3.82857143]]\n",
      "(4, 3)\n"
     ]
    }
   ],
   "source": [
    "cut1 = threedim_array[ 0, :, : ] \n",
    "print( cut1 )\n",
    "print( cut1.shape )"
   ]
  },
  {
   "cell_type": "markdown",
   "metadata": {},
   "source": [
    "#### let's get all data for x = 1  ; y = 1 to 3 and z = 2 ; what shape do you expect it to have?"
   ]
  },
  {
   "cell_type": "code",
   "execution_count": 72,
   "metadata": {},
   "outputs": [
    {
     "name": "stdout",
     "output_type": "stream",
     "text": [
      "[5.37142857 6.14285714]\n"
     ]
    }
   ],
   "source": [
    "print( threedim_array[ 1, 1:3, 2 ] )"
   ]
  },
  {
   "cell_type": "code",
   "execution_count": null,
   "metadata": {},
   "outputs": [],
   "source": []
  },
  {
   "cell_type": "markdown",
   "metadata": {},
   "source": [
    " - ND case (similar to all other cases...let's assume 5D)"
   ]
  },
  {
   "cell_type": "code",
   "execution_count": 73,
   "metadata": {},
   "outputs": [],
   "source": [
    "ndim_array = np.reshape( np.linspace( 1, 1025, 1024 ), (4, 4, 4, 4, 4 ) )"
   ]
  },
  {
   "cell_type": "markdown",
   "metadata": {},
   "source": [
    "#### our array has dimensions (x, y, z, u, v)\n",
    "#### let's get element 1 from dimension x, element 3 from dimension z and all elements from y, u and v; what shape do you expect it to have?"
   ]
  },
  {
   "cell_type": "code",
   "execution_count": 75,
   "metadata": {},
   "outputs": [],
   "source": [
    "slice1 = ndim_array[ 1, :, 3, :, : ]"
   ]
  },
  {
   "cell_type": "code",
   "execution_count": 77,
   "metadata": {},
   "outputs": [
    {
     "name": "stdout",
     "output_type": "stream",
     "text": [
      "[[[305.2971652  306.29814272 307.29912023 308.30009775]\n",
      "  [309.30107527 310.30205279 311.3030303  312.30400782]\n",
      "  [313.30498534 314.30596285 315.30694037 316.30791789]\n",
      "  [317.30889541 318.30987292 319.31085044 320.31182796]]\n",
      "\n",
      " [[369.3597263  370.36070381 371.36168133 372.36265885]\n",
      "  [373.36363636 374.36461388 375.3655914  376.36656891]\n",
      "  [377.36754643 378.36852395 379.36950147 380.37047898]\n",
      "  [381.3714565  382.37243402 383.37341153 384.37438905]]\n",
      "\n",
      " [[433.42228739 434.42326491 435.42424242 436.42521994]\n",
      "  [437.42619746 438.42717498 439.42815249 440.42913001]\n",
      "  [441.43010753 442.43108504 443.43206256 444.43304008]\n",
      "  [445.4340176  446.43499511 447.43597263 448.43695015]]\n",
      "\n",
      " [[497.48484848 498.485826   499.48680352 500.48778104]\n",
      "  [501.48875855 502.48973607 503.49071359 504.4916911 ]\n",
      "  [505.49266862 506.49364614 507.49462366 508.49560117]\n",
      "  [509.49657869 510.49755621 511.49853372 512.49951124]]]\n",
      "(4, 4, 4)\n"
     ]
    }
   ],
   "source": [
    "print( slice1 )\n",
    "print( slice1.shape )"
   ]
  },
  {
   "cell_type": "markdown",
   "metadata": {},
   "source": [
    "#### finally, let's get element 2 from dimension x, elements 1 up to and including 3 from dimension y, elements 0 up to and including 1 from z and all elements from u and v; what shape do you expect it to have?"
   ]
  },
  {
   "cell_type": "code",
   "execution_count": 78,
   "metadata": {},
   "outputs": [],
   "source": [
    "slice2 = ndim_array[ 2, 1:4, 0:2, :, : ]"
   ]
  },
  {
   "cell_type": "code",
   "execution_count": 79,
   "metadata": {},
   "outputs": [
    {
     "name": "stdout",
     "output_type": "stream",
     "text": [
      "[[[[577.56304985 578.56402737 579.56500489 580.5659824 ]\n",
      "   [581.56695992 582.56793744 583.56891496 584.56989247]\n",
      "   [585.57086999 586.57184751 587.57282502 588.57380254]\n",
      "   [589.57478006 590.57575758 591.57673509 592.57771261]]\n",
      "\n",
      "  [[593.57869013 594.57966764 595.58064516 596.58162268]\n",
      "   [597.5826002  598.58357771 599.58455523 600.58553275]\n",
      "   [601.58651026 602.58748778 603.5884653  604.58944282]\n",
      "   [605.59042033 606.59139785 607.59237537 608.59335288]]]\n",
      "\n",
      "\n",
      " [[[641.62561095 642.62658847 643.62756598 644.6285435 ]\n",
      "   [645.62952102 646.63049853 647.63147605 648.63245357]\n",
      "   [649.63343109 650.6344086  651.63538612 652.63636364]\n",
      "   [653.63734115 654.63831867 655.63929619 656.6402737 ]]\n",
      "\n",
      "  [[657.64125122 658.64222874 659.64320626 660.64418377]\n",
      "   [661.64516129 662.64613881 663.64711632 664.64809384]\n",
      "   [665.64907136 666.65004888 667.65102639 668.65200391]\n",
      "   [669.65298143 670.65395894 671.65493646 672.65591398]]]\n",
      "\n",
      "\n",
      " [[[705.68817204 706.68914956 707.69012708 708.69110459]\n",
      "   [709.69208211 710.69305963 711.69403715 712.69501466]\n",
      "   [713.69599218 714.6969697  715.69794721 716.69892473]\n",
      "   [717.69990225 718.70087977 719.70185728 720.7028348 ]]\n",
      "\n",
      "  [[721.70381232 722.70478983 723.70576735 724.70674487]\n",
      "   [725.70772239 726.7086999  727.70967742 728.71065494]\n",
      "   [729.71163245 730.71260997 731.71358749 732.714565  ]\n",
      "   [733.71554252 734.71652004 735.71749756 736.71847507]]]]\n",
      "(3, 2, 4, 4)\n"
     ]
    }
   ],
   "source": [
    "print( slice2 )\n",
    "print( slice2.shape )"
   ]
  },
  {
   "cell_type": "code",
   "execution_count": null,
   "metadata": {},
   "outputs": [],
   "source": []
  },
  {
   "cell_type": "markdown",
   "metadata": {},
   "source": [
    "## D) For things that you want to do repeatedly you can create your own functions. You can store them in a .py file if you will use them more often. \n",
    "\n",
    "### Modules are packages of functions."
   ]
  },
  {
   "cell_type": "code",
   "execution_count": 84,
   "metadata": {},
   "outputs": [],
   "source": [
    "def my_function( a, b ):\n",
    "    \"\"\"Writting an informative docstring is super important. It will help you later on to \n",
    "    remember what your function is supposed to be doing. \n",
    "    Input: a, b parameters\n",
    "    Output: parameter c \"\"\"\n",
    "    \n",
    "    q = np.log( a ) + b\n",
    "    \n",
    "    return q"
   ]
  },
  {
   "cell_type": "markdown",
   "metadata": {},
   "source": [
    "### the variable names you use in your main code can be different from the ones in the funct; just make sure that you keep the consistent in either block of code "
   ]
  },
  {
   "cell_type": "code",
   "execution_count": 86,
   "metadata": {},
   "outputs": [
    {
     "name": "stdout",
     "output_type": "stream",
     "text": [
      "[17.38629436 19.16611951 21.03208419 22.98442138 25.02333298 27.14899508\n",
      " 29.36156223 31.66117076 34.04794156 36.52198233 39.08338944 41.73224944\n",
      " 44.46864037 47.29263284 50.20429092 53.20367297 56.29083225 59.46581753\n",
      " 62.72867357 66.07944154]\n"
     ]
    }
   ],
   "source": [
    "a1 = np.linspace( 4, 8, 20 )\n",
    "a2 = a1 ** 2\n",
    "\n",
    "s = my_function( a1, a2 )\n",
    "\n",
    "print( s )"
   ]
  },
  {
   "cell_type": "markdown",
   "metadata": {},
   "source": [
    "### remember, if you forget what a function does you can get its docstring to figure it out:"
   ]
  },
  {
   "cell_type": "code",
   "execution_count": 87,
   "metadata": {},
   "outputs": [
    {
     "name": "stdout",
     "output_type": "stream",
     "text": [
      "Writting an informative docstring is super important. It will help you later on to \n",
      "    remember what your function is supposed to be doing. \n",
      "    Input: a, b parameters\n",
      "    Output: parameter c \n"
     ]
    }
   ],
   "source": [
    "print( my_function.__doc__ )"
   ]
  },
  {
   "cell_type": "code",
   "execution_count": 88,
   "metadata": {
    "scrolled": false
   },
   "outputs": [
    {
     "name": "stdout",
     "output_type": "stream",
     "text": [
      "Help on function amin in module numpy:\n",
      "\n",
      "amin(a, axis=None, out=None, keepdims=<no value>, initial=<no value>, where=<no value>)\n",
      "    Return the minimum of an array or minimum along an axis.\n",
      "    \n",
      "    Parameters\n",
      "    ----------\n",
      "    a : array_like\n",
      "        Input data.\n",
      "    axis : None or int or tuple of ints, optional\n",
      "        Axis or axes along which to operate.  By default, flattened input is\n",
      "        used.\n",
      "    \n",
      "        .. versionadded:: 1.7.0\n",
      "    \n",
      "        If this is a tuple of ints, the minimum is selected over multiple axes,\n",
      "        instead of a single axis or all the axes as before.\n",
      "    out : ndarray, optional\n",
      "        Alternative output array in which to place the result.  Must\n",
      "        be of the same shape and buffer length as the expected output.\n",
      "        See :ref:`ufuncs-output-type` for more details.\n",
      "    \n",
      "    keepdims : bool, optional\n",
      "        If this is set to True, the axes which are reduced are left\n",
      "        in the result as dimensions with size one. With this option,\n",
      "        the result will broadcast correctly against the input array.\n",
      "    \n",
      "        If the default value is passed, then `keepdims` will not be\n",
      "        passed through to the `amin` method of sub-classes of\n",
      "        `ndarray`, however any non-default value will be.  If the\n",
      "        sub-class' method does not implement `keepdims` any\n",
      "        exceptions will be raised.\n",
      "    \n",
      "    initial : scalar, optional\n",
      "        The maximum value of an output element. Must be present to allow\n",
      "        computation on empty slice. See `~numpy.ufunc.reduce` for details.\n",
      "    \n",
      "        .. versionadded:: 1.15.0\n",
      "    \n",
      "    where : array_like of bool, optional\n",
      "        Elements to compare for the minimum. See `~numpy.ufunc.reduce`\n",
      "        for details.\n",
      "    \n",
      "        .. versionadded:: 1.17.0\n",
      "    \n",
      "    Returns\n",
      "    -------\n",
      "    amin : ndarray or scalar\n",
      "        Minimum of `a`. If `axis` is None, the result is a scalar value.\n",
      "        If `axis` is given, the result is an array of dimension\n",
      "        ``a.ndim - 1``.\n",
      "    \n",
      "    See Also\n",
      "    --------\n",
      "    amax :\n",
      "        The maximum value of an array along a given axis, propagating any NaNs.\n",
      "    nanmin :\n",
      "        The minimum value of an array along a given axis, ignoring any NaNs.\n",
      "    minimum :\n",
      "        Element-wise minimum of two arrays, propagating any NaNs.\n",
      "    fmin :\n",
      "        Element-wise minimum of two arrays, ignoring any NaNs.\n",
      "    argmin :\n",
      "        Return the indices of the minimum values.\n",
      "    \n",
      "    nanmax, maximum, fmax\n",
      "    \n",
      "    Notes\n",
      "    -----\n",
      "    NaN values are propagated, that is if at least one item is NaN, the\n",
      "    corresponding min value will be NaN as well. To ignore NaN values\n",
      "    (MATLAB behavior), please use nanmin.\n",
      "    \n",
      "    Don't use `amin` for element-wise comparison of 2 arrays; when\n",
      "    ``a.shape[0]`` is 2, ``minimum(a[0], a[1])`` is faster than\n",
      "    ``amin(a, axis=0)``.\n",
      "    \n",
      "    Examples\n",
      "    --------\n",
      "    >>> a = np.arange(4).reshape((2,2))\n",
      "    >>> a\n",
      "    array([[0, 1],\n",
      "           [2, 3]])\n",
      "    >>> np.amin(a)           # Minimum of the flattened array\n",
      "    0\n",
      "    >>> np.amin(a, axis=0)   # Minima along the first axis\n",
      "    array([0, 1])\n",
      "    >>> np.amin(a, axis=1)   # Minima along the second axis\n",
      "    array([0, 2])\n",
      "    >>> np.amin(a, where=[False, True], initial=10, axis=0)\n",
      "    array([10,  1])\n",
      "    \n",
      "    >>> b = np.arange(5, dtype=float)\n",
      "    >>> b[2] = np.NaN\n",
      "    >>> np.amin(b)\n",
      "    nan\n",
      "    >>> np.amin(b, where=~np.isnan(b), initial=10)\n",
      "    0.0\n",
      "    >>> np.nanmin(b)\n",
      "    0.0\n",
      "    \n",
      "    >>> np.min([[-50], [10]], axis=-1, initial=0)\n",
      "    array([-50,   0])\n",
      "    \n",
      "    Notice that the initial value is used as one of the elements for which the\n",
      "    minimum is determined, unlike for the default argument Python's max\n",
      "    function, which is only used for empty iterables.\n",
      "    \n",
      "    Notice that this isn't the same as Python's ``default`` argument.\n",
      "    \n",
      "    >>> np.min([6], initial=5)\n",
      "    5\n",
      "    >>> min([6], default=5)\n",
      "    6\n",
      "\n"
     ]
    }
   ],
   "source": [
    "help( np.min )"
   ]
  },
  {
   "cell_type": "code",
   "execution_count": null,
   "metadata": {},
   "outputs": [],
   "source": []
  },
  {
   "cell_type": "markdown",
   "metadata": {},
   "source": [
    "## E) If, For and While statements are powerful for controlling the flow of data in your program. "
   ]
  },
  {
   "cell_type": "code",
   "execution_count": null,
   "metadata": {},
   "outputs": [],
   "source": []
  },
  {
   "cell_type": "markdown",
   "metadata": {},
   "source": [
    "### For: for things that you want to do in a repetitive pattern (e.g., go through every element of list and multiply it by 2)"
   ]
  },
  {
   "cell_type": "code",
   "execution_count": 11,
   "metadata": {},
   "outputs": [
    {
     "name": "stdout",
     "output_type": "stream",
     "text": [
      "[4, 8, 10, 16, 22, 24, 28, 32, 42, 48]\n"
     ]
    }
   ],
   "source": [
    "a = [ 2, 4, 5,  8, 11, 12, 14, 16, 21, 24 ]\n",
    "\n",
    "for i in range( len( a ) ):\n",
    "    a[ i ] = a[ i ] * 2\n",
    "    \n",
    "print( a )"
   ]
  },
  {
   "cell_type": "code",
   "execution_count": 12,
   "metadata": {},
   "outputs": [
    {
     "name": "stdout",
     "output_type": "stream",
     "text": [
      "4\n",
      "8\n",
      "10\n",
      "16\n",
      "22\n",
      "24\n",
      "28\n",
      "32\n",
      "42\n",
      "48\n"
     ]
    }
   ],
   "source": [
    "# you can scan directly the list with:\n",
    "for i in a:\n",
    "    print( i )\n"
   ]
  },
  {
   "cell_type": "code",
   "execution_count": 13,
   "metadata": {},
   "outputs": [
    {
     "name": "stdout",
     "output_type": "stream",
     "text": [
      "22\n",
      "42\n"
     ]
    },
    {
     "ename": "IndexError",
     "evalue": "list index out of range",
     "output_type": "error",
     "traceback": [
      "\u001b[0;31m---------------------------------------------------------------------------\u001b[0m",
      "\u001b[0;31mIndexError\u001b[0m                                Traceback (most recent call last)",
      "\u001b[0;32m/var/folders/vk/lzczn8j541jbb03xcymwp9640000gn/T/ipykernel_13563/1652112649.py\u001b[0m in \u001b[0;36m<module>\u001b[0;34m\u001b[0m\n\u001b[1;32m      1\u001b[0m \u001b[0;31m#but this will crash:\u001b[0m\u001b[0;34m\u001b[0m\u001b[0;34m\u001b[0m\u001b[0;34m\u001b[0m\u001b[0m\n\u001b[1;32m      2\u001b[0m \u001b[0;32mfor\u001b[0m \u001b[0mi\u001b[0m \u001b[0;32min\u001b[0m \u001b[0ma\u001b[0m\u001b[0;34m:\u001b[0m\u001b[0;34m\u001b[0m\u001b[0;34m\u001b[0m\u001b[0m\n\u001b[0;32m----> 3\u001b[0;31m     \u001b[0mprint\u001b[0m\u001b[0;34m(\u001b[0m \u001b[0ma\u001b[0m\u001b[0;34m[\u001b[0m \u001b[0mi\u001b[0m \u001b[0;34m]\u001b[0m \u001b[0;34m)\u001b[0m\u001b[0;34m\u001b[0m\u001b[0;34m\u001b[0m\u001b[0m\n\u001b[0m\u001b[1;32m      4\u001b[0m \u001b[0;31m#why?\u001b[0m\u001b[0;34m\u001b[0m\u001b[0;34m\u001b[0m\u001b[0;34m\u001b[0m\u001b[0m\n",
      "\u001b[0;31mIndexError\u001b[0m: list index out of range"
     ]
    }
   ],
   "source": [
    "#but this will crash:\n",
    "for i in a:\n",
    "    print( a[ i ] )\n",
    "#why?"
   ]
  },
  {
   "cell_type": "code",
   "execution_count": 14,
   "metadata": {},
   "outputs": [
    {
     "name": "stdout",
     "output_type": "stream",
     "text": [
      "4\n",
      "8\n",
      "10\n",
      "16\n",
      "22\n",
      "24\n",
      "28\n",
      "32\n",
      "42\n",
      "48\n"
     ]
    }
   ],
   "source": [
    "for i in range( len( a ) ):\n",
    "    print( a[ i ] )"
   ]
  },
  {
   "cell_type": "code",
   "execution_count": 15,
   "metadata": {},
   "outputs": [
    {
     "name": "stdout",
     "output_type": "stream",
     "text": [
      "4  is even\n",
      "8  is even\n",
      "10  is even\n",
      "16  is even\n",
      "22  is even\n",
      "24  is even\n",
      "28  is even\n",
      "32  is even\n",
      "42  is even\n",
      "48  is even\n"
     ]
    }
   ],
   "source": [
    "for i in a:\n",
    "    if i % 2 == 0 :\n",
    "        print( i, ' is even' )\n",
    "    else: \n",
    "        print( i, ' is odd')\n",
    "    "
   ]
  },
  {
   "cell_type": "code",
   "execution_count": 16,
   "metadata": {},
   "outputs": [
    {
     "name": "stdout",
     "output_type": "stream",
     "text": [
      "2\n",
      "4\n",
      "5\n",
      "8\n",
      "11\n",
      "12\n"
     ]
    }
   ],
   "source": [
    "b = [ 2, 4, 5,  8, 11, 12, -4, 14, 16, 21, 24 ]\n",
    "\n",
    "i = 0\n",
    "\n",
    "while b[ i ] > 0 :\n",
    "    print( b[ i ] )\n",
    "    i+=1"
   ]
  },
  {
   "cell_type": "markdown",
   "metadata": {},
   "source": [
    "### remember that numpy may not need FOR loops!"
   ]
  },
  {
   "cell_type": "code",
   "execution_count": 80,
   "metadata": {},
   "outputs": [],
   "source": [
    "# get two numpy arrays and multiply them element by element:\n",
    "n1 = np.arange( 1, 10, 2 )\n",
    "n2 = np.arange( 20, 21, 2 )\n",
    "\n",
    "#we don't need FOR, numpy is smart enough to do it for us!\n",
    "n3 = n2 * n1"
   ]
  },
  {
   "cell_type": "code",
   "execution_count": 81,
   "metadata": {},
   "outputs": [
    {
     "name": "stdout",
     "output_type": "stream",
     "text": [
      "[ 20  60 100 140 180]\n"
     ]
    }
   ],
   "source": [
    "print( n3 )"
   ]
  },
  {
   "cell_type": "code",
   "execution_count": null,
   "metadata": {},
   "outputs": [],
   "source": []
  },
  {
   "cell_type": "markdown",
   "metadata": {},
   "source": [
    "### IF: for conditional things (e.g., only need to multiply elements of a list by 2  IF they are odd, and if they are even and NOT zero multiply by 3)"
   ]
  },
  {
   "cell_type": "code",
   "execution_count": 82,
   "metadata": {},
   "outputs": [],
   "source": [
    "list1 = [ 0, 1, 2, 3, 4, 5, 6, 7, 8]"
   ]
  },
  {
   "cell_type": "code",
   "execution_count": 83,
   "metadata": {},
   "outputs": [],
   "source": [
    "#it's a repetitive thing, so I start with a for:\n",
    "for i in range( len( list1) ):\n",
    "    #now comes the condition:\n",
    "    if list1[ i ] % 2 == 1:\n",
    "        list1[ i ] = list1[ i ] * 2\n",
    "    #then I have another condition:\n",
    "    elif (list1[ i ] % 2 == 0) & ( list1[ i ] != 0 ) :\n",
    "        list1[ i ] = list1[ i ] * 3\n",
    "    #if I have other elements they would go to the else; in this case it just stays as is :\n",
    "    else:\n",
    "        list1[ i ] = list1[ i ]\n"
   ]
  },
  {
   "cell_type": "code",
   "execution_count": 84,
   "metadata": {},
   "outputs": [
    {
     "name": "stdout",
     "output_type": "stream",
     "text": [
      "[0, 2, 6, 6, 12, 10, 18, 14, 24]\n"
     ]
    }
   ],
   "source": [
    "print( list1 )"
   ]
  },
  {
   "cell_type": "code",
   "execution_count": null,
   "metadata": {},
   "outputs": [],
   "source": []
  },
  {
   "cell_type": "markdown",
   "metadata": {},
   "source": [
    "## F) Bugs are an inevitability, but you can use some tricks to make your life easier:\n",
    "- When creating your code make sure you test it often and with different test cases. Smaller batches are much easier to debug than larger ones.\n",
    "- Once you see there is a bug, debug: print() variables or use Python's debugger: breakpoint()"
   ]
  },
  {
   "cell_type": "markdown",
   "metadata": {},
   "source": [
    "### sometimes bugs will make your code seem to run as it should, but results don't make sense:"
   ]
  },
  {
   "cell_type": "code",
   "execution_count": 94,
   "metadata": {},
   "outputs": [
    {
     "name": "stdout",
     "output_type": "stream",
     "text": [
      "<function volume at 0x7f9248b4f440>\n",
      "Give me a number:10\n",
      "the number is 10 or 1\n"
     ]
    }
   ],
   "source": [
    "# e.g., we saw how a typo can be a bug:\n",
    "def volume(radius):\n",
    "    \"\"\"Calculates the volume of a sphere of radius R  \n",
    "    Input: R (m)\n",
    "    Output: V (m$^3$)\"\"\"\n",
    "\n",
    "    \n",
    "    volumee = (4./3.) * np.pi * (radius**3)   #----typo!\n",
    "    \n",
    "    return(volume)\n",
    "\n",
    "print( volume( 10 ) )\n",
    "\n",
    "# or how an accidental omission can make the code appear to work, whike it doesnt:\n",
    "\n",
    "num = int(input(\"Give me a number:\"))\n",
    "\n",
    "if num == 10 or 1:\n",
    "    print('the number is 10 or 1')\n",
    "else:\n",
    "    print('the number is not 10 or 1')\n"
   ]
  },
  {
   "cell_type": "markdown",
   "metadata": {},
   "source": [
    "### sometimes bugs will make your code crash:"
   ]
  },
  {
   "cell_type": "code",
   "execution_count": 95,
   "metadata": {},
   "outputs": [
    {
     "ename": "SyntaxError",
     "evalue": "EOL while scanning string literal (729909075.py, line 9)",
     "output_type": "error",
     "traceback": [
      "\u001b[0;36m  File \u001b[0;32m\"/var/folders/vk/lzczn8j541jbb03xcymwp9640000gn/T/ipykernel_7169/729909075.py\"\u001b[0;36m, line \u001b[0;32m9\u001b[0m\n\u001b[0;31m    print( 'the volume is, volume )\u001b[0m\n\u001b[0m                                   ^\u001b[0m\n\u001b[0;31mSyntaxError\u001b[0m\u001b[0;31m:\u001b[0m EOL while scanning string literal\n"
     ]
    }
   ],
   "source": [
    "def volume(radius):\n",
    "    \"\"\"Calculates the volume of a sphere of radius R  \n",
    "    Input: R (m)\n",
    "    Output: V (m$^3$)\"\"\"\n",
    "\n",
    "    \n",
    "    volume = (4./3.) * np.pi * (radius**3)   #----typo!\n",
    "    \n",
    "    print( 'the volume is, volume )\n",
    "    \n",
    "    return(volume)\n"
   ]
  },
  {
   "cell_type": "markdown",
   "metadata": {},
   "source": [
    "### often bugs can be associated with the indentation of your code:"
   ]
  },
  {
   "cell_type": "code",
   "execution_count": 99,
   "metadata": {},
   "outputs": [
    {
     "name": "stdout",
     "output_type": "stream",
     "text": [
      "[ 1.          1.57894737  2.15789474  2.73684211  3.31578947  3.89473684\n",
      "  4.47368421  5.05263158  5.63157895  6.21052632  6.78947368  7.36842105\n",
      "  7.94736842  8.52631579  9.10526316  9.68421053 10.26315789 10.84210526\n",
      " 11.42105263 12.        ]\n"
     ]
    }
   ],
   "source": [
    "# make code that scans array F and prints the last value at each step \n",
    "# and the mean of the array up to that point:\n",
    "\n",
    "F = np.linspace( 1, 12, 20)\n",
    "print( F )"
   ]
  },
  {
   "cell_type": "code",
   "execution_count": 102,
   "metadata": {},
   "outputs": [
    {
     "name": "stdout",
     "output_type": "stream",
     "text": [
      "1.0\n",
      "1.5789473684210527\n",
      "2.1578947368421053\n",
      "2.736842105263158\n",
      "3.3157894736842106\n",
      "3.8947368421052633\n",
      "4.473684210526316\n",
      "5.052631578947368\n",
      "5.631578947368421\n",
      "6.210526315789474\n",
      "6.7894736842105265\n",
      "7.368421052631579\n",
      "7.947368421052632\n",
      "8.526315789473685\n",
      "9.105263157894736\n",
      "9.68421052631579\n",
      "10.263157894736842\n",
      "10.842105263157896\n",
      "11.421052631578949\n",
      "12.0\n",
      "6.5\n"
     ]
    }
   ],
   "source": [
    "for i in range( len( F ) ):\n",
    "    print( F[ i ] )\n",
    "print( np.mean( F[ : i +1 ] ) )"
   ]
  },
  {
   "cell_type": "code",
   "execution_count": null,
   "metadata": {},
   "outputs": [],
   "source": []
  },
  {
   "cell_type": "markdown",
   "metadata": {},
   "source": [
    "### F2) While we are at the topic, when you design a code you want to make sure than you make it such that it doesn't crash when someone else runs it. Not only making it bug-free, but also making sure that 'accidental bugs' in runtime can be diagnosed and treated.\n",
    "\n",
    "- use 'try:', raise custome made exceptions and errors that will report an issue, but let the code run \n",
    "- use a log to record your warnings, errors and critical/ fatal bugs every time the code runs"
   ]
  },
  {
   "cell_type": "code",
   "execution_count": 97,
   "metadata": {},
   "outputs": [
    {
     "name": "stdout",
     "output_type": "stream",
     "text": [
      " Opened file  emma.txt\n",
      " Opened file  first_data_read_plot.dat\n",
      "File Iamnothere.txt not there\n",
      " Opened file  distances_midterm.dat\n"
     ]
    }
   ],
   "source": [
    "names = [ 'emma.txt', 'first_data_read_plot.dat', 'Iamnothere.txt', 'distances_midterm.dat' ]\n",
    "\n",
    "# scan all names\n",
    "for nm in names:           \n",
    "    \n",
    "    # try to open the file:\n",
    "    try:\n",
    "        fin = open( '../all_data/'+ nm )\n",
    "        print( ' Opened file ', nm )\n",
    "        \n",
    "    # if file is not there print an error message but do continue to next file:\n",
    "    except:\n",
    "        print( 'File', nm, 'not there' )"
   ]
  },
  {
   "cell_type": "code",
   "execution_count": null,
   "metadata": {},
   "outputs": [],
   "source": []
  },
  {
   "cell_type": "markdown",
   "metadata": {},
   "source": [
    "## G) speaking of opening files: remember that I/O can be a bottleneck in your code; but you will need inevitably to read in data at some point"
   ]
  },
  {
   "cell_type": "markdown",
   "metadata": {},
   "source": [
    "### G1) we have seen how to read text from a file in different ways:"
   ]
  },
  {
   "cell_type": "code",
   "execution_count": 104,
   "metadata": {},
   "outputs": [],
   "source": [
    "f = open( '../all_data/emma.txt' , 'r')  # remember the letter you use is important!\n",
    "\n",
    "emma_text = f.read()\n",
    "\n",
    "f.close()\n"
   ]
  },
  {
   "cell_type": "code",
   "execution_count": 107,
   "metadata": {},
   "outputs": [
    {
     "name": "stdout",
     "output_type": "stream",
     "text": [
      "******The Project Gutenberg Etext of Emma, by Jane Austen******\n",
      "\n",
      "Please take a look at the important information in this header.\n",
      "We encourage you to keep this file on your own disk, keeping an\n",
      "electronic path open for the next readers.  Do not remove this.\n",
      "\n",
      "\n",
      "**Welcome To The World of Free Plain Vanilla Electronic Texts**\n",
      "\n",
      "**Etexts Readable By Both Humans and By Computers, Since 1971**\n",
      "\n",
      "*These Etexts Prepared By Hundreds of Volunteers and Donations*\n",
      "\n",
      "Information on contacting Project Gutenberg to\n"
     ]
    }
   ],
   "source": [
    "print( emma_text [ : 500] )"
   ]
  },
  {
   "cell_type": "code",
   "execution_count": 117,
   "metadata": {},
   "outputs": [
    {
     "name": "stdout",
     "output_type": "stream",
     "text": [
      "******The Project Gutenberg Etext of Emma, by Jane Austen******\n",
      "\n",
      "\n",
      "\n",
      "Please take a look at the important information in this header.\n",
      "\n",
      "We encourage you to keep this file on your own disk, keeping an\n",
      "\n"
     ]
    }
   ],
   "source": [
    "with open( '../all_data/emma.txt') as f:\n",
    "    print( f.readline() )\n",
    "    print( f.readline() )\n",
    "    print( f.readline() )\n",
    "    print( f.readline() )"
   ]
  },
  {
   "cell_type": "code",
   "execution_count": 118,
   "metadata": {},
   "outputs": [
    {
     "name": "stdout",
     "output_type": "stream",
     "text": [
      "******The Project Gutenberg Etext of Emma, by Jane Austen******\n",
      "\n",
      "\n",
      "\n",
      "Please take a look at the important information in this header.\n",
      "\n",
      "We encourage you to keep this file on your own disk, keeping an\n",
      "\n"
     ]
    }
   ],
   "source": [
    "with open( '../all_data/emma.txt') as f:\n",
    "    for q in range( 4 ):\n",
    "        print( f.readline() )\n",
    "    "
   ]
  },
  {
   "cell_type": "code",
   "execution_count": 116,
   "metadata": {},
   "outputs": [
    {
     "name": "stdout",
     "output_type": "stream",
     "text": [
      "******The Project Gutenberg Etext of Emma, by Jane Austen******\n",
      "\n",
      "\n",
      "\n",
      "Please take a look at the important information in this header.\n",
      "\n",
      "We encourage you to keep this file on your own disk, keeping an\n",
      "\n"
     ]
    }
   ],
   "source": [
    "m = 0\n",
    "\n",
    "with open( '../all_data/emma.txt') as f:\n",
    "    for line in f:\n",
    "        print( line )\n",
    "        m = m + 1\n",
    "        \n",
    "        if m == 4:\n",
    "            break"
   ]
  },
  {
   "cell_type": "markdown",
   "metadata": {},
   "source": [
    "### remember that break, pass etc can be useful for breaking loops or only doing things when you want:"
   ]
  },
  {
   "cell_type": "code",
   "execution_count": 129,
   "metadata": {
    "scrolled": false
   },
   "outputs": [
    {
     "name": "stdout",
     "output_type": "stream",
     "text": [
      "0\n",
      "******The Project Gutenberg Etext of Emma, by Jane Austen******\n",
      "\n",
      "1\n",
      "0\n",
      "Please take a look at the important information in this header.\n",
      "\n",
      "1\n",
      "0\n",
      "electronic path open for the next readers.  Do not remove this.\n",
      "\n",
      "1\n",
      "0\n",
      "Welcome To The World of Free Plain Vanilla Electronic Texts\n",
      "\n",
      "1\n",
      "0\n",
      "Etexts Readable By Both Humans and By Computers, Since 1971**\n",
      "\n",
      "1\n",
      "0\n",
      "These Etexts Prepared By Hundreds of Volunteers and Donations*\n",
      "\n",
      "1\n"
     ]
    }
   ],
   "source": [
    "m = 0 \n",
    "with open( '../all_data/emma.txt') as f:\n",
    "    for line in f:\n",
    "        \n",
    "        print( m % 2 )\n",
    "        if m % 2 == 0:\n",
    "            print( line )\n",
    "        else:\n",
    "            pass \n",
    "            \n",
    "        m = m + 1\n",
    "        if m >= 12:\n",
    "            break"
   ]
  },
  {
   "cell_type": "markdown",
   "metadata": {},
   "source": [
    "### G2) When you read (small) data numpy is your best friend (for big data look at csv, pandas etc) :"
   ]
  },
  {
   "cell_type": "code",
   "execution_count": 85,
   "metadata": {},
   "outputs": [],
   "source": [
    "a = np.loadtxt( '../all_data/first_data_read_plot.dat' )\n",
    "\n",
    "b = np.genfromtxt( '../all_data/first_data_read_plot.dat' )"
   ]
  },
  {
   "cell_type": "code",
   "execution_count": null,
   "metadata": {},
   "outputs": [],
   "source": []
  },
  {
   "cell_type": "code",
   "execution_count": null,
   "metadata": {},
   "outputs": [],
   "source": []
  },
  {
   "cell_type": "markdown",
   "metadata": {},
   "source": [
    "## H) When you are interested in doing numerical or scientific computations you have numpy and scipy at your disposal. "
   ]
  },
  {
   "cell_type": "code",
   "execution_count": 131,
   "metadata": {},
   "outputs": [],
   "source": [
    "# slice the data array and assign each column to a named variable:\n",
    "wav = a[ :, 0 ]\n",
    "f1  = a[ :, 1 ]\n",
    "f2  = a[ :, 2 ]"
   ]
  },
  {
   "cell_type": "code",
   "execution_count": 132,
   "metadata": {},
   "outputs": [
    {
     "name": "stdout",
     "output_type": "stream",
     "text": [
      "[1.1  1.11 1.11 1.11 1.12 1.12 1.13 1.13 1.14 1.14 1.14 1.15 1.15 1.16\n",
      " 1.16 1.17 1.17 1.17 1.18 1.18 1.19 1.19 1.19 1.2  1.2  1.21 1.21 1.22\n",
      " 1.22 1.22 1.23 1.23 1.24 1.24 1.25 1.25 1.26 1.26 1.26 1.27 1.27 1.28\n",
      " 1.28 1.29 1.29 1.29 1.3  1.3  1.31 1.31 1.32 1.32 1.32 1.33 1.33 1.34\n",
      " 1.34 1.35 1.35 1.35 1.36 1.36 1.37 1.37 1.38 1.38 1.38 1.39 1.39 1.4\n",
      " 1.4  1.41 1.41 1.41 1.42 1.42 1.43 1.43 1.44 1.44 1.44 1.45 1.45 1.46\n",
      " 1.46 1.47 1.47 1.47 1.48 1.48 1.49 1.49 1.49 1.5  1.5  1.51 1.51 1.52\n",
      " 1.52 1.52 1.53 1.53 1.54 1.54 1.54 1.55 1.55 1.56 1.56 1.56 1.57 1.57\n",
      " 1.58 1.58 1.59 1.59 1.59 1.6  1.6  1.61 1.61 1.61 1.62 1.62 1.63 1.63\n",
      " 1.63 1.64 1.64 1.65 1.65 1.65 1.66 1.66 1.66 1.67 1.67 1.68 1.68 1.68\n",
      " 1.69 1.69 1.7  1.7 ] [0.72 0.73 0.69 0.68 0.66 0.69 0.66 0.63 0.63 0.63 0.65 0.69 0.69 0.67\n",
      " 0.66 0.66 0.65 0.64 0.67 0.74 0.78 0.8  0.81 0.82 0.83 0.87 0.9  0.93\n",
      " 0.94 0.98 0.98 0.97 0.97 0.99 0.96 1.   1.04 1.09 1.08 1.09 1.07 1.08\n",
      " 1.04 1.08 1.06 1.08 1.07 1.07 1.06 1.06 1.04 1.02 0.93 0.83 0.64 0.51\n",
      " 0.42 0.42 0.4  0.43 0.36 0.34 0.27 0.31 0.39 0.36 0.37 0.33 0.34 0.33\n",
      " 0.3  0.29 0.3  0.26 0.28 0.29 0.3  0.29 0.31 0.32 0.32 0.35 0.37 0.41\n",
      " 0.43 0.44 0.41 0.44 0.43 0.47 0.46 0.49 0.5  0.52 0.54 0.58 0.58 0.61\n",
      " 0.63 0.66 0.67 0.7  0.7  0.74 0.76 0.79 0.8  0.82 0.81 0.85 0.86 0.89\n",
      " 0.86 0.88 0.88 0.88 0.89 0.91 0.89 0.89 0.88 0.86 0.84 0.87 0.84 0.84\n",
      " 0.82 0.83 0.82 0.86 0.85 0.85 0.85 0.85 0.82 0.82 0.79 0.8  0.8  0.81\n",
      " 0.81 0.81 0.79 0.8 ]\n",
      "0.6500000000000001\n"
     ]
    }
   ],
   "source": [
    "# you can now do all shorts of things to your data:\n",
    "print( wav,  f1 )\n",
    "print( 3 * f2[ 10 ] - 2 * f1[ 10 ] )"
   ]
  },
  {
   "cell_type": "code",
   "execution_count": 133,
   "metadata": {},
   "outputs": [],
   "source": [
    "b = np.array( [ [ 2, 3 ], [ 5, 4 ] ])\n",
    "\n",
    "c = np.linspace(1, 16, 6).reshape((3, 2))"
   ]
  },
  {
   "cell_type": "code",
   "execution_count": 134,
   "metadata": {},
   "outputs": [
    {
     "name": "stdout",
     "output_type": "stream",
     "text": [
      "[[2 3]\n",
      " [5 4]]\n",
      "[[ 1.  4.]\n",
      " [ 7. 10.]\n",
      " [13. 16.]]\n"
     ]
    }
   ],
   "source": [
    "print( b )\n",
    "\n",
    "print( c )"
   ]
  },
  {
   "cell_type": "code",
   "execution_count": null,
   "metadata": {},
   "outputs": [],
   "source": [
    "## you can even fit models to data:"
   ]
  },
  {
   "cell_type": "code",
   "execution_count": 135,
   "metadata": {},
   "outputs": [],
   "source": [
    "# you have observations:\n",
    "\n",
    "x = np.linspace( 1, 16, 6 )\n",
    "y = 5 * x  + 2.1\n",
    "\n",
    "\n",
    "#what is the best fit model a * x + b ?\n",
    "\n",
    "\n",
    "from scipy.optimize import curve_fit\n",
    "\n"
   ]
  },
  {
   "cell_type": "code",
   "execution_count": 136,
   "metadata": {},
   "outputs": [
    {
     "name": "stdout",
     "output_type": "stream",
     "text": [
      "[5.  2.1]\n"
     ]
    }
   ],
   "source": [
    "def myfunct( x, a, b ):\n",
    "    \"\"\"fits your function\"\"\"\n",
    "    \n",
    "    return a * x + b\n",
    "\n",
    "s1, v1 = curve_fit( myfunct, x, y, absolute_sigma = True, sigma = np.zeros( len( x ) ) + 2 )\n",
    "print( s1 )"
   ]
  },
  {
   "cell_type": "code",
   "execution_count": 137,
   "metadata": {},
   "outputs": [
    {
     "name": "stdout",
     "output_type": "stream",
     "text": [
      "[5.] [2.1]\n"
     ]
    }
   ],
   "source": [
    "# or if you want to do it manually:\n",
    "\n",
    "a1 = np.arange( 1, 10, 0.5 )\n",
    "a2 = np.arange( 1, 3, .1 )\n",
    "\n",
    "chs = np.zeros( ( len( a1 ), len( a2 ) ) )\n",
    "\n",
    "for i in range( len( a1 ) ):\n",
    "    for j in range( len( a2 ) ):\n",
    "        ym = a1[ i ] * x + a2[ j ]\n",
    "        chs[ i, j ] = np.sum( ( ym - y ) ** 2. / ym**2 )\n",
    "\n",
    "\n",
    "mn = np.where( chs == np.min( chs ) )\n",
    "\n",
    "print( a1[ mn[ 0 ] ], a2[ mn[ 1 ] ] )\n"
   ]
  },
  {
   "cell_type": "code",
   "execution_count": null,
   "metadata": {},
   "outputs": [],
   "source": []
  },
  {
   "cell_type": "markdown",
   "metadata": {},
   "source": [
    "## I) Good plots are important to show your results and convey your mesage to your audience"
   ]
  },
  {
   "cell_type": "markdown",
   "metadata": {},
   "source": [
    "### For most plots the basic plt will work just fine."
   ]
  },
  {
   "cell_type": "code",
   "execution_count": 156,
   "metadata": {},
   "outputs": [
    {
     "data": {
      "image/png": "[encoded data removed]",
      "text/plain": [
       "<Figure size 576x576 with 1 Axes>"
      ]
     },
     "metadata": {
      "needs_background": "light"
     },
     "output_type": "display_data"
    }
   ],
   "source": [
    "# you have observations \n",
    "x = np.linspace( 1, 16, 26 )\n",
    "y = 5 * x  + 2.1\n",
    "\n",
    "# you now have another observation at different x points\n",
    "x2 = np.linspace( 2, 16, 42 )\n",
    "y2 = 5 * x2  + 2.1\n",
    "\n",
    "# and you want to test if they are coming from the same distribution\n",
    "\n",
    "#first interpolate y from the x to the x2 grid so that we compare apples to apples:\n",
    "yb = np.interp( x2, x, y)\n",
    "\n",
    "\n",
    "#then plot to compare:\n",
    "\n",
    "plt.figure( figsize = ( 8, 8 ) )\n",
    "plt.plot( x, y , color = 'blue' , marker = 'o', markersize = 8 , label = 'data')\n",
    "plt.plot( x2, y2, color = 'red' , marker = '*', markersize = 10, label = 'fit 1' )\n",
    "\n",
    "plt.plot( x2, yb, color = 'magenta', linestyle = '--', label = 'fit 2')\n",
    "\n",
    "plt.xlabel( 'X axis', fontsize = 20 )\n",
    "plt.ylabel( 'Y axis', fontsize = 20 )\n",
    "plt.legend( fontsize = 20 , loc = 'lower right' )\n",
    "\n",
    "plt.xticks( fontsize = 20 , color = 'red'     )\n",
    "plt.yticks( fontsize = 20 , color = 'magenta' )\n",
    "plt.title( 'A random fit', fontsize = 23, color = 'forestgreen' )\n",
    "\n",
    "plt.tick_params( which = 'both', direction = 'in' , width = 2, length = 10 )"
   ]
  },
  {
   "cell_type": "markdown",
   "metadata": {},
   "source": [
    "### If you want more complex plots (side by side, one on top of another, double x or y axis etc) you need to use the advanced plotting method with ax"
   ]
  },
  {
   "cell_type": "code",
   "execution_count": 88,
   "metadata": {},
   "outputs": [
    {
     "data": {
      "text/plain": [
       "Text(0, 0.5, '$\\\\sqrt{X}$ ')"
      ]
     },
     "execution_count": 88,
     "metadata": {},
     "output_type": "execute_result"
    },
    {
     "data": {
      "image/png": "[encoded data removed]",
      "text/plain": [
       "<Figure size 1152x576 with 2 Axes>"
      ]
     },
     "metadata": {
      "needs_background": "light"
     },
     "output_type": "display_data"
    }
   ],
   "source": [
    "fig, ( ax1, ax2 ) = plt.subplots( 1, 2 , figsize = (16, 8 ) )\n",
    "\n",
    "ax1.plot( np.arange( 10 ) , np.arange( 10 )**2, color = 'green', linestyle = '--' , linewidth = 4 )\n",
    "ax1.tick_params( axis ='both', which ='both', length = 7 , direction = 'in' , labelsize = 16 )\n",
    "ax1.set_xlabel( 'Random X ' , fontsize = 24 )\n",
    "ax1.set_ylabel( 'X $^2$ ' , fontsize = 24 )\n",
    "\n",
    "ax2.plot( np.arange( 10 ) , np.arange( 10 )**0.5, color = 'magenta', linestyle = '-.' , linewidth = 7 )\n",
    "ax2.tick_params( axis ='both', which ='both', length = 7 , direction = 'in' , labelsize = 16 )\n",
    "ax2.set_xlabel( 'Random X ' , fontsize = 24 )\n",
    "ax2.set_ylabel( '$\\\\sqrt{X}$ ' , fontsize = 24 )\n"
   ]
  },
  {
   "cell_type": "code",
   "execution_count": null,
   "metadata": {},
   "outputs": [],
   "source": []
  },
  {
   "cell_type": "code",
   "execution_count": null,
   "metadata": {},
   "outputs": [],
   "source": []
  },
  {
   "cell_type": "code",
   "execution_count": null,
   "metadata": {},
   "outputs": [],
   "source": []
  },
  {
   "cell_type": "markdown",
   "metadata": {},
   "source": [
    "### You can also use interactive plotting with %matplotlib"
   ]
  },
  {
   "cell_type": "code",
   "execution_count": 22,
   "metadata": {},
   "outputs": [
    {
     "name": "stdout",
     "output_type": "stream",
     "text": [
      "Using matplotlib backend: MacOSX\n"
     ]
    }
   ],
   "source": [
    "%matplotlib"
   ]
  },
  {
   "cell_type": "code",
   "execution_count": 89,
   "metadata": {},
   "outputs": [],
   "source": [
    "from mpl_toolkits.mplot3d import Axes3D "
   ]
  },
  {
   "cell_type": "code",
   "execution_count": 90,
   "metadata": {},
   "outputs": [
    {
     "data": {
      "image/png": "[encoded data removed]",
      "text/plain": [
       "<Figure size 432x288 with 1 Axes>"
      ]
     },
     "metadata": {
      "needs_background": "light"
     },
     "output_type": "display_data"
    }
   ],
   "source": [
    "#from https://matplotlib.org/stable/gallery/mplot3d/voxels.html\n",
    "\n",
    "# prepare some coordinates\n",
    "x, y, z = np.indices((8, 8, 8))\n",
    "\n",
    "# draw cuboids in the top left and bottom right corners, and a link between\n",
    "# them\n",
    "cube1 = (x < 3) & (y < 3) & (z < 3)\n",
    "cube2 = (x >= 5) & (y >= 5) & (z >= 5)\n",
    "link = abs(x - y) + abs(y - z) + abs(z - x) <= 2\n",
    "\n",
    "# combine the objects into a single boolean array\n",
    "voxelarray = cube1 | cube2 | link\n",
    "\n",
    "# set the colors of each object\n",
    "colors = np.empty(voxelarray.shape, dtype=object)\n",
    "colors[link] = 'red'\n",
    "colors[cube1] = 'blue'\n",
    "colors[cube2] = 'green'\n",
    "\n",
    "# and plot everything\n",
    "ax = plt.figure().add_subplot(projection='3d')\n",
    "ax.voxels(voxelarray, facecolors=colors, edgecolor='k')\n",
    "\n",
    "plt.show()"
   ]
  },
  {
   "cell_type": "code",
   "execution_count": null,
   "metadata": {},
   "outputs": [],
   "source": []
  },
  {
   "cell_type": "code",
   "execution_count": 91,
   "metadata": {},
   "outputs": [
    {
     "name": "stderr",
     "output_type": "stream",
     "text": [
      "/Users/theodora_karalidi/anaconda3/lib/python3.7/site-packages/ipykernel_launcher.py:31: MatplotlibDeprecationWarning: Calling gca() with keyword arguments was deprecated in Matplotlib 3.4. Starting two minor releases later, gca() will take no keyword arguments. The gca() function should only be used to get the current axes, or if no axes exist, create new axes with default keyword arguments. To create a new axes with non-default arguments, use plt.axes() or plt.subplot().\n"
     ]
    },
    {
     "data": {
      "text/plain": [
       "<mpl_toolkits.mplot3d.art3d.Poly3DCollection at 0x7f817eb3f7d0>"
      ]
     },
     "execution_count": 91,
     "metadata": {},
     "output_type": "execute_result"
    },
    {
     "data": {
      "image/png": "[encoded data removed]",
      "text/plain": [
       "<Figure size 432x288 with 1 Axes>"
      ]
     },
     "metadata": {
      "needs_background": "light"
     },
     "output_type": "display_data"
    }
   ],
   "source": [
    "'''\n",
    "======================\n",
    "Triangular 3D surfaces\n",
    "======================\n",
    "\n",
    "Plot a 3D surface with a triangular mesh.\n",
    "From https://matplotlib.org/2.0.2/mpl_examples/mplot3d/trisurf3d_demo.py\n",
    "'''\n",
    "\n",
    "\n",
    "n_radii = 8\n",
    "n_angles = 36\n",
    "\n",
    "# Make radii and angles spaces (radius r=0 omitted to eliminate duplication).\n",
    "radii = np.linspace(0.125, 1.0, n_radii)\n",
    "angles = np.linspace(0, 2*np.pi, n_angles, endpoint=False)\n",
    "\n",
    "# Repeat all angles for each radius.\n",
    "angles = np.repeat(angles[..., np.newaxis], n_radii, axis=1)\n",
    "\n",
    "# Convert polar (radii, angles) coords to cartesian (x, y) coords.\n",
    "# (0, 0) is manually added at this stage,  so there will be no duplicate\n",
    "# points in the (x, y) plane.\n",
    "x = np.append(0, (radii*np.cos(angles)).flatten())\n",
    "y = np.append(0, (radii*np.sin(angles)).flatten())\n",
    "\n",
    "# Compute z to make the pringle surface.\n",
    "z = np.sin(-x*y)\n",
    "\n",
    "fig = plt.figure()\n",
    "ax = fig.gca(projection='3d')\n",
    "\n",
    "ax.plot_trisurf(x, y, z, linewidth=0.2, antialiased=True)\n"
   ]
  },
  {
   "cell_type": "code",
   "execution_count": 53,
   "metadata": {},
   "outputs": [],
   "source": [
    "dat = np.loadtxt( 'a_scatter_plot.dat' )\n",
    "x = dat[:, 0]\n",
    "y = dat[:, 1]\n",
    "z = dat[:, 2]"
   ]
  },
  {
   "cell_type": "code",
   "execution_count": 55,
   "metadata": {},
   "outputs": [
    {
     "data": {
      "text/plain": [
       "<mpl_toolkits.mplot3d.art3d.Path3DCollection at 0x7f817cd5c550>"
      ]
     },
     "execution_count": 55,
     "metadata": {},
     "output_type": "execute_result"
    },
    {
     "data": {
      "image/png": "[encoded data removed]",
      "text/plain": [
       "<Figure size 432x432 with 1 Axes>"
      ]
     },
     "metadata": {
      "needs_background": "light"
     },
     "output_type": "display_data"
    }
   ],
   "source": [
    "fig = plt.figure( figsize=(6,6) )\n",
    "ax = plt.subplot(111, projection='3d')\n",
    "\n",
    "\n",
    "ax.scatter(x,y,z , c='r', marker='s')  \n",
    "\n",
    "\n",
    "\n"
   ]
  },
  {
   "cell_type": "code",
   "execution_count": null,
   "metadata": {},
   "outputs": [],
   "source": []
  },
  {
   "cell_type": "markdown",
   "metadata": {},
   "source": [
    "### Remember to turn back to non-interactive mode with:"
   ]
  },
  {
   "cell_type": "code",
   "execution_count": 25,
   "metadata": {},
   "outputs": [],
   "source": [
    "%matplotlib inline"
   ]
  },
  {
   "cell_type": "markdown",
   "metadata": {},
   "source": [
    "### Sometimes you will have data that you want to contour plot (2D + 1D in color). "
   ]
  },
  {
   "cell_type": "code",
   "execution_count": 19,
   "metadata": {},
   "outputs": [],
   "source": [
    "data = np.loadtxt('../all_data/whatsinthefile.dat')\n",
    "data = np.flip( data, 0)"
   ]
  },
  {
   "cell_type": "code",
   "execution_count": 21,
   "metadata": {},
   "outputs": [
    {
     "data": {
      "text/plain": [
       "<matplotlib.contour.QuadContourSet at 0x7fe29944d690>"
      ]
     },
     "execution_count": 21,
     "metadata": {},
     "output_type": "execute_result"
    },
    {
     "data": {
      "image/png": "[encoded data removed]",
      "text/plain": [
       "<Figure size 576x576 with 1 Axes>"
      ]
     },
     "metadata": {
      "needs_background": "light"
     },
     "output_type": "display_data"
    }
   ],
   "source": [
    "plt.figure( figsize = (8,8) )\n",
    "plt.contour( data ,cmap = 'seismic')\n"
   ]
  },
  {
   "cell_type": "code",
   "execution_count": null,
   "metadata": {},
   "outputs": [],
   "source": []
  },
  {
   "cell_type": "markdown",
   "metadata": {},
   "source": [
    "## J) Last, but not least, you will often need to fit data with models. Python offers premade functions to do this such as curvefit, leastsq, polyfit (for polynomials). You can also do a brute-force parametric scan."
   ]
  },
  {
   "cell_type": "code",
   "execution_count": 32,
   "metadata": {},
   "outputs": [],
   "source": [
    "#x = np.linspace( 0.1, 124, 85)\n",
    "#y = 5* x**2 + 1.2 *x "
   ]
  },
  {
   "cell_type": "code",
   "execution_count": 34,
   "metadata": {},
   "outputs": [],
   "source": [
    "x = np.array([1.00000e-01, 1.57500e+00, 3.05000e+00, 4.52500e+00, 6.00000e+00,\n",
    "       7.47500e+00, 8.95000e+00, 1.04250e+01, 1.19000e+01, 1.33750e+01,\n",
    "       1.48500e+01, 1.63250e+01, 1.78000e+01, 1.92750e+01, 2.07500e+01,\n",
    "       2.22250e+01, 2.37000e+01, 2.51750e+01, 2.66500e+01, 2.81250e+01,\n",
    "       2.96000e+01, 3.10750e+01, 3.25500e+01, 3.40250e+01, 3.55000e+01,\n",
    "       3.69750e+01, 3.84500e+01, 3.99250e+01, 4.14000e+01, 4.28750e+01,\n",
    "       4.43500e+01, 4.58250e+01, 4.73000e+01, 4.87750e+01, 5.02500e+01,\n",
    "       5.17250e+01, 5.32000e+01, 5.46750e+01, 5.61500e+01, 5.76250e+01,\n",
    "       5.91000e+01, 6.05750e+01, 6.20500e+01, 6.35250e+01, 6.50000e+01,\n",
    "       6.64750e+01, 6.79500e+01, 6.94250e+01, 7.09000e+01, 7.23750e+01,\n",
    "       7.38500e+01, 7.53250e+01, 7.68000e+01, 7.82750e+01, 7.97500e+01,\n",
    "       8.12250e+01, 8.27000e+01, 8.41750e+01, 8.56500e+01, 8.71250e+01,\n",
    "       8.86000e+01, 9.00750e+01, 9.15500e+01, 9.30250e+01, 9.45000e+01,\n",
    "       9.59750e+01, 9.74500e+01, 9.89250e+01, 1.00400e+02, 1.01875e+02,\n",
    "       1.03350e+02, 1.04825e+02, 1.06300e+02, 1.07775e+02, 1.09250e+02,\n",
    "       1.10725e+02, 1.12200e+02, 1.13675e+02, 1.15150e+02, 1.16625e+02,\n",
    "       1.18100e+02, 1.19575e+02, 1.21050e+02, 1.22525e+02, 1.24000e+02])\n",
    "y = np.array([1.70000000e-01, 1.42931250e+01, 5.01725000e+01, 1.07808125e+02,\n",
    "       1.87200000e+02, 2.88348125e+02, 4.11252500e+02, 5.55913125e+02,\n",
    "       7.22330000e+02, 9.10503125e+02, 1.12043250e+03, 1.35211812e+03,\n",
    "       1.60556000e+03, 1.88075812e+03, 2.17771250e+03, 2.49642313e+03,\n",
    "       2.83689000e+03, 3.19911312e+03, 3.58309250e+03, 3.98882812e+03,\n",
    "       4.41632000e+03, 4.86556812e+03, 5.33657250e+03, 5.82933312e+03,\n",
    "       6.34385000e+03, 6.88012313e+03, 7.43815250e+03, 8.01793812e+03,\n",
    "       8.61948000e+03, 9.24277813e+03, 9.88783250e+03, 1.05546431e+04,\n",
    "       1.12432100e+04, 1.19535331e+04, 1.26856125e+04, 1.34394481e+04,\n",
    "       1.42150400e+04, 1.50123881e+04, 1.58314925e+04, 1.66723531e+04,\n",
    "       1.75349700e+04, 1.84193431e+04, 1.93254725e+04, 2.02533581e+04,\n",
    "       2.12030000e+04, 2.21743981e+04, 2.31675525e+04, 2.41824631e+04,\n",
    "       2.52191300e+04, 2.62775531e+04, 2.73577325e+04, 2.84596681e+04,\n",
    "       2.95833600e+04, 3.07288081e+04, 3.18960125e+04, 3.30849731e+04,\n",
    "       3.42956900e+04, 3.55281631e+04, 3.67823925e+04, 3.80583781e+04,\n",
    "       3.93561200e+04, 4.06756181e+04, 4.20168725e+04, 4.33798831e+04,\n",
    "       4.47646500e+04, 4.61711731e+04, 4.75994525e+04, 4.90494881e+04,\n",
    "       5.05212800e+04, 5.20148281e+04, 5.35301325e+04, 5.50671931e+04,\n",
    "       5.66260100e+04, 5.82065831e+04, 5.98089125e+04, 6.14329981e+04,\n",
    "       6.30788400e+04, 6.47464381e+04, 6.64357925e+04, 6.81469031e+04,\n",
    "       6.98797700e+04, 7.16343931e+04, 7.34107725e+04, 7.52089081e+04,\n",
    "       7.70288000e+04])"
   ]
  },
  {
   "cell_type": "code",
   "execution_count": 35,
   "metadata": {},
   "outputs": [
    {
     "data": {
      "text/plain": [
       "[<matplotlib.lines.Line2D at 0x7f817afae510>]"
      ]
     },
     "execution_count": 35,
     "metadata": {},
     "output_type": "execute_result"
    },
    {
     "data": {
      "image/png": "[encoded data removed]",
      "text/plain": [
       "<Figure size 432x288 with 1 Axes>"
      ]
     },
     "metadata": {
      "needs_background": "light"
     },
     "output_type": "display_data"
    }
   ],
   "source": [
    "plt.plot( x,y, marker = 'o', linestyle ='none')"
   ]
  },
  {
   "cell_type": "markdown",
   "metadata": {},
   "source": [
    "### We know that the underlying model is of the form: $a * x**2 + b *x +c $   \n",
    "### Let's do a brute-force fit limiting $a\\in [ 1, 6)$  with a step of 0.5, $b\\in[1, 4)$ with a step of 0.1 and $c\\in[0, 1.5) $ with a step of 0.1:"
   ]
  },
  {
   "cell_type": "markdown",
   "metadata": {},
   "source": [
    "<img src=\"chi_sq_min.png\" width=300 height=200 />"
   ]
  },
  {
   "cell_type": "code",
   "execution_count": 47,
   "metadata": {},
   "outputs": [],
   "source": [
    "a = np.arange( 1, 6, 0.5 )\n",
    "b = np.arange( 1, 4 , 0.1 )\n",
    "c = np.arange( 0., 1.5, 0.1 )\n",
    "\n",
    "r2 = np.zeros( (len( a ), len( b ), len( c ) ) )\n",
    "\n",
    "\n",
    "for i in range( len(a ) ):\n",
    "    for j in range( len( b ) ):\n",
    "        for k in range( len( c ) ):\n",
    "            model = a[ i ] * x**2 + b[ j ]* x + c[ k ]\n",
    "            r2[ i, j, k ] = np.sum( (y-model)**2/model )   \n",
    "            #or if I had errors I could do chisq: np.sum( (y-model)**2/sigma**2 )\n",
    "\n"
   ]
  },
  {
   "cell_type": "code",
   "execution_count": 48,
   "metadata": {},
   "outputs": [
    {
     "name": "stdout",
     "output_type": "stream",
     "text": [
      "6.858867241561913e-13\n",
      "(array([8]), array([2]), array([0]))\n"
     ]
    }
   ],
   "source": [
    "print( np.min( r2 ))\n",
    "min_loc = np.where( r2 == np.min( r2 ) )\n",
    "print( min_loc )"
   ]
  },
  {
   "cell_type": "code",
   "execution_count": 49,
   "metadata": {},
   "outputs": [
    {
     "name": "stdout",
     "output_type": "stream",
     "text": [
      "The best model is:  [5.] *x$^2$ + [1.2] *x +  [0.] .\n"
     ]
    }
   ],
   "source": [
    "print( 'The best model is: ', a[ min_loc[ 0 ] ] , '*x$^2$ +', b[ min_loc[1] ] , '*x + ', c[ min_loc[2]] , '.')"
   ]
  },
  {
   "cell_type": "code",
   "execution_count": 50,
   "metadata": {},
   "outputs": [
    {
     "data": {
      "text/plain": [
       "[<matplotlib.lines.Line2D at 0x7f817c4a8f50>]"
      ]
     },
     "execution_count": 50,
     "metadata": {},
     "output_type": "execute_result"
    },
    {
     "data": {
      "image/png": "[encoded data removed]",
      "text/plain": [
       "<Figure size 432x288 with 1 Axes>"
      ]
     },
     "metadata": {
      "needs_background": "light"
     },
     "output_type": "display_data"
    }
   ],
   "source": [
    "plt.plot( x,y, marker = 'o', linestyle ='none')\n",
    "plt.plot( x, a[ min_loc[ 0 ] ]* x**2 + b[ min_loc[ 1 ] ] *x  + c[ min_loc[ 1 ] ] , color = 'red')"
   ]
  },
  {
   "cell_type": "markdown",
   "metadata": {},
   "source": [
    "### or using curvefit:"
   ]
  },
  {
   "cell_type": "code",
   "execution_count": 51,
   "metadata": {},
   "outputs": [],
   "source": [
    "def fit_my_curve( x, a, b, c ):\n",
    "    \n",
    "    print( 'a=', a, 'b=', b, 'c=', c)\n",
    "    \n",
    "    return a*x**2 + b *x + c"
   ]
  },
  {
   "cell_type": "code",
   "execution_count": 52,
   "metadata": {},
   "outputs": [
    {
     "name": "stdout",
     "output_type": "stream",
     "text": [
      "a= 1.0 b= 1.0 c= 1.0\n",
      "a= 1.0 b= 1.0 c= 1.0\n",
      "a= 1.0 b= 1.0 c= 1.0\n",
      "a= 1.0000000149011612 b= 1.0 c= 1.0\n",
      "a= 1.0 b= 1.0000000149011612 c= 1.0\n",
      "a= 1.0 b= 1.0 c= 1.0000000149011612\n",
      "a= 5.000000055948894 b= 1.1999942126499539 c= 5.271888042013284e-05\n",
      "a= 5.000000130454701 b= 1.1999942126499539 c= 5.271888042013284e-05\n",
      "a= 5.000000055948894 b= 1.199994230531261 c= 5.271888042013284e-05\n",
      "a= 5.000000055948894 b= 1.1999942126499539 c= 5.2718881205705376e-05\n",
      "a= 5.000000007985708 b= 1.1999985247494311 c= 2.774259422339112e-05\n",
      "a= 5.000000082491514 b= 1.1999985247494311 c= 2.774259422339112e-05\n",
      "a= 5.000000007985708 b= 1.1999985426308026 c= 2.774259422339112e-05\n",
      "a= 5.000000007985708 b= 1.1999985247494311 c= 2.774259463678799e-05\n",
      "a= 5.00000000590947 b= 1.1999989933492217 c= 2.603462115602091e-05\n"
     ]
    }
   ],
   "source": [
    "x1, x2 = curve_fit( fit_my_curve, x, y, sigma = np.ones( len( x )) * 10 )"
   ]
  },
  {
   "cell_type": "code",
   "execution_count": null,
   "metadata": {},
   "outputs": [],
   "source": []
  },
  {
   "cell_type": "code",
   "execution_count": null,
   "metadata": {},
   "outputs": [],
   "source": []
  },
  {
   "cell_type": "markdown",
   "metadata": {},
   "source": [
    "## Practice makes perfect! "
   ]
  },
  {
   "cell_type": "markdown",
   "metadata": {},
   "source": [
    "- familiarize yourself with more than one language, but especially Python if you want to work on ML\n",
    "- familiarize with statistical techniques (especially if interested in ML/data science)\n",
    "- familiarize with data visualization techniques \n",
    "\n",
    "\n",
    "- get comfortable with presenting your work (see also the 3/1 lecture for Overleaf/Latex intro; \n",
    "   https://www.overleaf.com/read/kbgmssxspcvw will be active forever)\n",
    "- think of ways/projects that show you are \n",
    "    - good with collaborations\n",
    "    - good with learning new things\n",
    "\n",
    "\n",
    "- work on some projects ( research/ internships and join competitions) \n",
    "- create a portofolio of projects  \n",
    "\n",
    "\n",
    "\n"
   ]
  },
  {
   "cell_type": "markdown",
   "metadata": {},
   "source": [
    "https://www.kaggle.com/\n",
    "\n",
    "UCF Data Analytics and Visualization Boot Camp (https://bootcamp.ce.ucf.edu/data/online/landing/?s=Google-Unbranded&dki=Become%20a%20Data%20Scientist&msg_cv_scta=4&msg_cv_stbn=1&msg_cv_fcta=1&pkw=how%20to%20data%20scientist&pcrid=458645039223&pmt=e&utm_source=google&utm_medium=cpc&utm_campaign=GGL%7CUCF%7CSEM%7CDATA%7C-%7CONL%7CTIER-1%7CALL%7CNBD-G%7CEXACT%7CCore%7CExploratory&utm_term=how%20to%20data%20scientist&s=google&k=how%20to%20data%20scientist&utm_adgroupid=110879426601&utm_locationphysicalms=9011804&utm_matchtype=e&utm_network=g&utm_device=c&utm_content=458645039223&utm_placement=&gclid=Cj0KCQjw1PSDBhDbARIsAPeTqrdDObxPmycETFrUDHdrwYchO0fBEpnyCZ9TnjJ5dImRYpzomF1nOwYaAuwuEALw_wcB&gclsrc=aw.ds)"
   ]
  },
  {
   "cell_type": "code",
   "execution_count": null,
   "metadata": {},
   "outputs": [],
   "source": []
  }
 ],
 "metadata": {
  "kernelspec": {
   "display_name": "Python 3 (ipykernel)",
   "language": "python",
   "name": "python3"
  },
  "language_info": {
   "codemirror_mode": {
    "name": "ipython",
    "version": 3
   },
   "file_extension": ".py",
   "mimetype": "text/x-python",
   "name": "python",
   "nbconvert_exporter": "python",
   "pygments_lexer": "ipython3",
   "version": "3.7.11"
  }
 },
 "nbformat": 4,
 "nbformat_minor": 2
}
